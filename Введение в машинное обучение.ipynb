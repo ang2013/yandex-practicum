{
 "cells": [
  {
   "cell_type": "markdown",
   "metadata": {},
   "source": [
    "# Прогноз вероятности оттока клиентов для фитнес-центра"
   ]
  },
  {
   "cell_type": "markdown",
   "metadata": {},
   "source": [
    "## Описание проекта "
   ]
  },
  {
   "cell_type": "markdown",
   "metadata": {},
   "source": [
    "Сеть фитнес-центров «Культурист-датасаентист» разрабатывает стратегию взаимодействия с клиентами на основе аналитических данных. Распространённая проблема фитнес-клубов и других сервисов — отток клиентов. Как понять, что клиент больше не с вами?"
   ]
  },
  {
   "cell_type": "markdown",
   "metadata": {},
   "source": [
    "Чтобы бороться с оттоком, отдел по работе с клиентами «Культуриста-датасаентиста» перевёл в электронный вид множество клиентских анкет. Наша задача — провести анализ и подготовить план действий по удержанию клиентов."
   ]
  },
  {
   "cell_type": "markdown",
   "metadata": {},
   "source": [
    "### Задача"
   ]
  },
  {
   "cell_type": "markdown",
   "metadata": {},
   "source": [
    "Для разработки стратегии взаимодействия с клиентами на основе аналитических данных для сети фитнес-центров «Культурист-датасаентист необходимо:\n",
    "\n",
    "- научиться прогнозировать вероятность оттока (на уровне следующего месяца) для каждого клиента\n",
    "- сформировать типичные портреты клиентов: выделить несколько наиболее ярких целевых групп и охарактеризовать их основные свойства\n",
    "- проанализировать основные признаки, наиболее сильно влияющие на отток;\n",
    "- сформулировать основные выводы и разработать рекомендации по повышению качества работы с клиентами и снижению оттока"
   ]
  },
  {
   "cell_type": "markdown",
   "metadata": {},
   "source": [
    "## Загрузим и проверим данные"
   ]
  },
  {
   "cell_type": "markdown",
   "metadata": {},
   "source": [
    "Заказчик подготовил данные, которые содержат данные на месяц до оттока и факт оттока на определённый месяц. Загрузим библиотеки и данные датасета."
   ]
  },
  {
   "cell_type": "code",
   "execution_count": 1,
   "metadata": {},
   "outputs": [],
   "source": [
    "import pandas as pd\n",
    "import seaborn as sns\n",
    "import matplotlib.pyplot as plt\n",
    "import itertools\n",
    "\n",
    "from sklearn.preprocessing import StandardScaler\n",
    "from sklearn.model_selection import train_test_split\n",
    "from sklearn.linear_model import Lasso, Ridge\n",
    "from sklearn.tree import DecisionTreeRegressor\n",
    "from sklearn.linear_model import LogisticRegression\n",
    "from sklearn.ensemble import RandomForestClassifier\n",
    "from sklearn.metrics import mean_absolute_error, mean_squared_error, r2_score\n",
    "from sklearn.metrics import accuracy_score, precision_score, recall_score, f1_score\n",
    "from sklearn.cluster import KMeans\n",
    "from scipy.cluster.hierarchy import dendrogram, linkage "
   ]
  },
  {
   "cell_type": "code",
   "execution_count": 2,
   "metadata": {},
   "outputs": [
    {
     "data": {
      "text/html": [
       "<div>\n",
       "<style scoped>\n",
       "    .dataframe tbody tr th:only-of-type {\n",
       "        vertical-align: middle;\n",
       "    }\n",
       "\n",
       "    .dataframe tbody tr th {\n",
       "        vertical-align: top;\n",
       "    }\n",
       "\n",
       "    .dataframe thead th {\n",
       "        text-align: right;\n",
       "    }\n",
       "</style>\n",
       "<table border=\"1\" class=\"dataframe\">\n",
       "  <thead>\n",
       "    <tr style=\"text-align: right;\">\n",
       "      <th></th>\n",
       "      <th>gender</th>\n",
       "      <th>Near_Location</th>\n",
       "      <th>Partner</th>\n",
       "      <th>Promo_friends</th>\n",
       "      <th>Phone</th>\n",
       "      <th>Contract_period</th>\n",
       "      <th>Group_visits</th>\n",
       "      <th>Age</th>\n",
       "      <th>Avg_additional_charges_total</th>\n",
       "      <th>Month_to_end_contract</th>\n",
       "      <th>Lifetime</th>\n",
       "      <th>Avg_class_frequency_total</th>\n",
       "      <th>Avg_class_frequency_current_month</th>\n",
       "      <th>Churn</th>\n",
       "    </tr>\n",
       "  </thead>\n",
       "  <tbody>\n",
       "    <tr>\n",
       "      <th>0</th>\n",
       "      <td>1</td>\n",
       "      <td>1</td>\n",
       "      <td>1</td>\n",
       "      <td>1</td>\n",
       "      <td>0</td>\n",
       "      <td>6</td>\n",
       "      <td>1</td>\n",
       "      <td>29</td>\n",
       "      <td>14.227470</td>\n",
       "      <td>5.0</td>\n",
       "      <td>3</td>\n",
       "      <td>0.020398</td>\n",
       "      <td>0.000000</td>\n",
       "      <td>0</td>\n",
       "    </tr>\n",
       "    <tr>\n",
       "      <th>1</th>\n",
       "      <td>0</td>\n",
       "      <td>1</td>\n",
       "      <td>0</td>\n",
       "      <td>0</td>\n",
       "      <td>1</td>\n",
       "      <td>12</td>\n",
       "      <td>1</td>\n",
       "      <td>31</td>\n",
       "      <td>113.202938</td>\n",
       "      <td>12.0</td>\n",
       "      <td>7</td>\n",
       "      <td>1.922936</td>\n",
       "      <td>1.910244</td>\n",
       "      <td>0</td>\n",
       "    </tr>\n",
       "    <tr>\n",
       "      <th>2</th>\n",
       "      <td>0</td>\n",
       "      <td>1</td>\n",
       "      <td>1</td>\n",
       "      <td>0</td>\n",
       "      <td>1</td>\n",
       "      <td>1</td>\n",
       "      <td>0</td>\n",
       "      <td>28</td>\n",
       "      <td>129.448479</td>\n",
       "      <td>1.0</td>\n",
       "      <td>2</td>\n",
       "      <td>1.859098</td>\n",
       "      <td>1.736502</td>\n",
       "      <td>0</td>\n",
       "    </tr>\n",
       "    <tr>\n",
       "      <th>3</th>\n",
       "      <td>0</td>\n",
       "      <td>1</td>\n",
       "      <td>1</td>\n",
       "      <td>1</td>\n",
       "      <td>1</td>\n",
       "      <td>12</td>\n",
       "      <td>1</td>\n",
       "      <td>33</td>\n",
       "      <td>62.669863</td>\n",
       "      <td>12.0</td>\n",
       "      <td>2</td>\n",
       "      <td>3.205633</td>\n",
       "      <td>3.357215</td>\n",
       "      <td>0</td>\n",
       "    </tr>\n",
       "    <tr>\n",
       "      <th>4</th>\n",
       "      <td>1</td>\n",
       "      <td>1</td>\n",
       "      <td>1</td>\n",
       "      <td>1</td>\n",
       "      <td>1</td>\n",
       "      <td>1</td>\n",
       "      <td>0</td>\n",
       "      <td>26</td>\n",
       "      <td>198.362265</td>\n",
       "      <td>1.0</td>\n",
       "      <td>3</td>\n",
       "      <td>1.113884</td>\n",
       "      <td>1.120078</td>\n",
       "      <td>0</td>\n",
       "    </tr>\n",
       "  </tbody>\n",
       "</table>\n",
       "</div>"
      ],
      "text/plain": [
       "   gender  Near_Location  Partner  Promo_friends  Phone  Contract_period  \\\n",
       "0       1              1        1              1      0                6   \n",
       "1       0              1        0              0      1               12   \n",
       "2       0              1        1              0      1                1   \n",
       "3       0              1        1              1      1               12   \n",
       "4       1              1        1              1      1                1   \n",
       "\n",
       "   Group_visits  Age  Avg_additional_charges_total  Month_to_end_contract  \\\n",
       "0             1   29                     14.227470                    5.0   \n",
       "1             1   31                    113.202938                   12.0   \n",
       "2             0   28                    129.448479                    1.0   \n",
       "3             1   33                     62.669863                   12.0   \n",
       "4             0   26                    198.362265                    1.0   \n",
       "\n",
       "   Lifetime  Avg_class_frequency_total  Avg_class_frequency_current_month  \\\n",
       "0         3                   0.020398                           0.000000   \n",
       "1         7                   1.922936                           1.910244   \n",
       "2         2                   1.859098                           1.736502   \n",
       "3         2                   3.205633                           3.357215   \n",
       "4         3                   1.113884                           1.120078   \n",
       "\n",
       "   Churn  \n",
       "0      0  \n",
       "1      0  \n",
       "2      0  \n",
       "3      0  \n",
       "4      0  "
      ]
     },
     "execution_count": 2,
     "metadata": {},
     "output_type": "execute_result"
    }
   ],
   "source": [
    "# прочитаем из csv-файла данные о клиентских признаках\n",
    "df = pd.read_csv('/datasets/gym_churn.csv')\n",
    "df.head()"
   ]
  },
  {
   "cell_type": "markdown",
   "metadata": {},
   "source": [
    "## Проведем исследовательский анализ данных (EDA)"
   ]
  },
  {
   "cell_type": "markdown",
   "metadata": {},
   "source": [
    "Изучим датасет: есть ли в нем отсутствующие признаки, посмотрим средние значения и стандартные отклонения."
   ]
  },
  {
   "cell_type": "code",
   "execution_count": 3,
   "metadata": {},
   "outputs": [
    {
     "name": "stdout",
     "output_type": "stream",
     "text": [
      "<class 'pandas.core.frame.DataFrame'>\n",
      "RangeIndex: 4000 entries, 0 to 3999\n",
      "Data columns (total 14 columns):\n",
      " #   Column                             Non-Null Count  Dtype  \n",
      "---  ------                             --------------  -----  \n",
      " 0   gender                             4000 non-null   int64  \n",
      " 1   Near_Location                      4000 non-null   int64  \n",
      " 2   Partner                            4000 non-null   int64  \n",
      " 3   Promo_friends                      4000 non-null   int64  \n",
      " 4   Phone                              4000 non-null   int64  \n",
      " 5   Contract_period                    4000 non-null   int64  \n",
      " 6   Group_visits                       4000 non-null   int64  \n",
      " 7   Age                                4000 non-null   int64  \n",
      " 8   Avg_additional_charges_total       4000 non-null   float64\n",
      " 9   Month_to_end_contract              4000 non-null   float64\n",
      " 10  Lifetime                           4000 non-null   int64  \n",
      " 11  Avg_class_frequency_total          4000 non-null   float64\n",
      " 12  Avg_class_frequency_current_month  4000 non-null   float64\n",
      " 13  Churn                              4000 non-null   int64  \n",
      "dtypes: float64(4), int64(10)\n",
      "memory usage: 437.6 KB\n"
     ]
    }
   ],
   "source": [
    "df.info()"
   ]
  },
  {
   "cell_type": "code",
   "execution_count": 4,
   "metadata": {},
   "outputs": [
    {
     "data": {
      "text/html": [
       "<div>\n",
       "<style scoped>\n",
       "    .dataframe tbody tr th:only-of-type {\n",
       "        vertical-align: middle;\n",
       "    }\n",
       "\n",
       "    .dataframe tbody tr th {\n",
       "        vertical-align: top;\n",
       "    }\n",
       "\n",
       "    .dataframe thead th {\n",
       "        text-align: right;\n",
       "    }\n",
       "</style>\n",
       "<table border=\"1\" class=\"dataframe\">\n",
       "  <thead>\n",
       "    <tr style=\"text-align: right;\">\n",
       "      <th></th>\n",
       "      <th>count</th>\n",
       "      <th>mean</th>\n",
       "      <th>std</th>\n",
       "      <th>min</th>\n",
       "      <th>25%</th>\n",
       "      <th>50%</th>\n",
       "      <th>75%</th>\n",
       "      <th>max</th>\n",
       "    </tr>\n",
       "  </thead>\n",
       "  <tbody>\n",
       "    <tr>\n",
       "      <th>gender</th>\n",
       "      <td>4000.0</td>\n",
       "      <td>0.510250</td>\n",
       "      <td>0.499957</td>\n",
       "      <td>0.000000</td>\n",
       "      <td>0.000000</td>\n",
       "      <td>1.000000</td>\n",
       "      <td>1.000000</td>\n",
       "      <td>1.000000</td>\n",
       "    </tr>\n",
       "    <tr>\n",
       "      <th>Near_Location</th>\n",
       "      <td>4000.0</td>\n",
       "      <td>0.845250</td>\n",
       "      <td>0.361711</td>\n",
       "      <td>0.000000</td>\n",
       "      <td>1.000000</td>\n",
       "      <td>1.000000</td>\n",
       "      <td>1.000000</td>\n",
       "      <td>1.000000</td>\n",
       "    </tr>\n",
       "    <tr>\n",
       "      <th>Partner</th>\n",
       "      <td>4000.0</td>\n",
       "      <td>0.486750</td>\n",
       "      <td>0.499887</td>\n",
       "      <td>0.000000</td>\n",
       "      <td>0.000000</td>\n",
       "      <td>0.000000</td>\n",
       "      <td>1.000000</td>\n",
       "      <td>1.000000</td>\n",
       "    </tr>\n",
       "    <tr>\n",
       "      <th>Promo_friends</th>\n",
       "      <td>4000.0</td>\n",
       "      <td>0.308500</td>\n",
       "      <td>0.461932</td>\n",
       "      <td>0.000000</td>\n",
       "      <td>0.000000</td>\n",
       "      <td>0.000000</td>\n",
       "      <td>1.000000</td>\n",
       "      <td>1.000000</td>\n",
       "    </tr>\n",
       "    <tr>\n",
       "      <th>Phone</th>\n",
       "      <td>4000.0</td>\n",
       "      <td>0.903500</td>\n",
       "      <td>0.295313</td>\n",
       "      <td>0.000000</td>\n",
       "      <td>1.000000</td>\n",
       "      <td>1.000000</td>\n",
       "      <td>1.000000</td>\n",
       "      <td>1.000000</td>\n",
       "    </tr>\n",
       "    <tr>\n",
       "      <th>Contract_period</th>\n",
       "      <td>4000.0</td>\n",
       "      <td>4.681250</td>\n",
       "      <td>4.549706</td>\n",
       "      <td>1.000000</td>\n",
       "      <td>1.000000</td>\n",
       "      <td>1.000000</td>\n",
       "      <td>6.000000</td>\n",
       "      <td>12.000000</td>\n",
       "    </tr>\n",
       "    <tr>\n",
       "      <th>Group_visits</th>\n",
       "      <td>4000.0</td>\n",
       "      <td>0.412250</td>\n",
       "      <td>0.492301</td>\n",
       "      <td>0.000000</td>\n",
       "      <td>0.000000</td>\n",
       "      <td>0.000000</td>\n",
       "      <td>1.000000</td>\n",
       "      <td>1.000000</td>\n",
       "    </tr>\n",
       "    <tr>\n",
       "      <th>Age</th>\n",
       "      <td>4000.0</td>\n",
       "      <td>29.184250</td>\n",
       "      <td>3.258367</td>\n",
       "      <td>18.000000</td>\n",
       "      <td>27.000000</td>\n",
       "      <td>29.000000</td>\n",
       "      <td>31.000000</td>\n",
       "      <td>41.000000</td>\n",
       "    </tr>\n",
       "    <tr>\n",
       "      <th>Avg_additional_charges_total</th>\n",
       "      <td>4000.0</td>\n",
       "      <td>146.943728</td>\n",
       "      <td>96.355602</td>\n",
       "      <td>0.148205</td>\n",
       "      <td>68.868830</td>\n",
       "      <td>136.220159</td>\n",
       "      <td>210.949625</td>\n",
       "      <td>552.590740</td>\n",
       "    </tr>\n",
       "    <tr>\n",
       "      <th>Month_to_end_contract</th>\n",
       "      <td>4000.0</td>\n",
       "      <td>4.322750</td>\n",
       "      <td>4.191297</td>\n",
       "      <td>1.000000</td>\n",
       "      <td>1.000000</td>\n",
       "      <td>1.000000</td>\n",
       "      <td>6.000000</td>\n",
       "      <td>12.000000</td>\n",
       "    </tr>\n",
       "    <tr>\n",
       "      <th>Lifetime</th>\n",
       "      <td>4000.0</td>\n",
       "      <td>3.724750</td>\n",
       "      <td>3.749267</td>\n",
       "      <td>0.000000</td>\n",
       "      <td>1.000000</td>\n",
       "      <td>3.000000</td>\n",
       "      <td>5.000000</td>\n",
       "      <td>31.000000</td>\n",
       "    </tr>\n",
       "    <tr>\n",
       "      <th>Avg_class_frequency_total</th>\n",
       "      <td>4000.0</td>\n",
       "      <td>1.879020</td>\n",
       "      <td>0.972245</td>\n",
       "      <td>0.000000</td>\n",
       "      <td>1.180875</td>\n",
       "      <td>1.832768</td>\n",
       "      <td>2.536078</td>\n",
       "      <td>6.023668</td>\n",
       "    </tr>\n",
       "    <tr>\n",
       "      <th>Avg_class_frequency_current_month</th>\n",
       "      <td>4000.0</td>\n",
       "      <td>1.767052</td>\n",
       "      <td>1.052906</td>\n",
       "      <td>0.000000</td>\n",
       "      <td>0.963003</td>\n",
       "      <td>1.719574</td>\n",
       "      <td>2.510336</td>\n",
       "      <td>6.146783</td>\n",
       "    </tr>\n",
       "    <tr>\n",
       "      <th>Churn</th>\n",
       "      <td>4000.0</td>\n",
       "      <td>0.265250</td>\n",
       "      <td>0.441521</td>\n",
       "      <td>0.000000</td>\n",
       "      <td>0.000000</td>\n",
       "      <td>0.000000</td>\n",
       "      <td>1.000000</td>\n",
       "      <td>1.000000</td>\n",
       "    </tr>\n",
       "  </tbody>\n",
       "</table>\n",
       "</div>"
      ],
      "text/plain": [
       "                                    count        mean        std        min  \\\n",
       "gender                             4000.0    0.510250   0.499957   0.000000   \n",
       "Near_Location                      4000.0    0.845250   0.361711   0.000000   \n",
       "Partner                            4000.0    0.486750   0.499887   0.000000   \n",
       "Promo_friends                      4000.0    0.308500   0.461932   0.000000   \n",
       "Phone                              4000.0    0.903500   0.295313   0.000000   \n",
       "Contract_period                    4000.0    4.681250   4.549706   1.000000   \n",
       "Group_visits                       4000.0    0.412250   0.492301   0.000000   \n",
       "Age                                4000.0   29.184250   3.258367  18.000000   \n",
       "Avg_additional_charges_total       4000.0  146.943728  96.355602   0.148205   \n",
       "Month_to_end_contract              4000.0    4.322750   4.191297   1.000000   \n",
       "Lifetime                           4000.0    3.724750   3.749267   0.000000   \n",
       "Avg_class_frequency_total          4000.0    1.879020   0.972245   0.000000   \n",
       "Avg_class_frequency_current_month  4000.0    1.767052   1.052906   0.000000   \n",
       "Churn                              4000.0    0.265250   0.441521   0.000000   \n",
       "\n",
       "                                         25%         50%         75%  \\\n",
       "gender                              0.000000    1.000000    1.000000   \n",
       "Near_Location                       1.000000    1.000000    1.000000   \n",
       "Partner                             0.000000    0.000000    1.000000   \n",
       "Promo_friends                       0.000000    0.000000    1.000000   \n",
       "Phone                               1.000000    1.000000    1.000000   \n",
       "Contract_period                     1.000000    1.000000    6.000000   \n",
       "Group_visits                        0.000000    0.000000    1.000000   \n",
       "Age                                27.000000   29.000000   31.000000   \n",
       "Avg_additional_charges_total       68.868830  136.220159  210.949625   \n",
       "Month_to_end_contract               1.000000    1.000000    6.000000   \n",
       "Lifetime                            1.000000    3.000000    5.000000   \n",
       "Avg_class_frequency_total           1.180875    1.832768    2.536078   \n",
       "Avg_class_frequency_current_month   0.963003    1.719574    2.510336   \n",
       "Churn                               0.000000    0.000000    1.000000   \n",
       "\n",
       "                                          max  \n",
       "gender                               1.000000  \n",
       "Near_Location                        1.000000  \n",
       "Partner                              1.000000  \n",
       "Promo_friends                        1.000000  \n",
       "Phone                                1.000000  \n",
       "Contract_period                     12.000000  \n",
       "Group_visits                         1.000000  \n",
       "Age                                 41.000000  \n",
       "Avg_additional_charges_total       552.590740  \n",
       "Month_to_end_contract               12.000000  \n",
       "Lifetime                            31.000000  \n",
       "Avg_class_frequency_total            6.023668  \n",
       "Avg_class_frequency_current_month    6.146783  \n",
       "Churn                                1.000000  "
      ]
     },
     "execution_count": 4,
     "metadata": {},
     "output_type": "execute_result"
    }
   ],
   "source": [
    "df.describe().T"
   ]
  },
  {
   "cell_type": "code",
   "execution_count": 5,
   "metadata": {},
   "outputs": [
    {
     "data": {
      "text/plain": [
       "0"
      ]
     },
     "execution_count": 5,
     "metadata": {},
     "output_type": "execute_result"
    }
   ],
   "source": [
    "df.duplicated().sum()"
   ]
  },
  {
   "cell_type": "code",
   "execution_count": 6,
   "metadata": {},
   "outputs": [
    {
     "data": {
      "text/plain": [
       "(4000, 14)"
      ]
     },
     "execution_count": 6,
     "metadata": {},
     "output_type": "execute_result"
    }
   ],
   "source": [
    "df.shape"
   ]
  },
  {
   "cell_type": "markdown",
   "metadata": {},
   "source": [
    "Пропусков нет, дубликатов не обнаружено, данные приведены к нужному типу."
   ]
  },
  {
   "cell_type": "markdown",
   "metadata": {},
   "source": [
    "Посмотрим на средние значения признаков в двух группах — тех, кто ушел в отток и тех, кто остался."
   ]
  },
  {
   "cell_type": "markdown",
   "metadata": {},
   "source": [
    "Для удобства представления признаков на графиках переведем величину Avg_additional_charges_total в формат сотен "
   ]
  },
  {
   "cell_type": "code",
   "execution_count": 7,
   "metadata": {},
   "outputs": [],
   "source": [
    "df['Avg_additional_charges_total'] = df['Avg_additional_charges_total']/100"
   ]
  },
  {
   "cell_type": "code",
   "execution_count": 8,
   "metadata": {},
   "outputs": [
    {
     "data": {
      "text/html": [
       "<div>\n",
       "<style scoped>\n",
       "    .dataframe tbody tr th:only-of-type {\n",
       "        vertical-align: middle;\n",
       "    }\n",
       "\n",
       "    .dataframe tbody tr th {\n",
       "        vertical-align: top;\n",
       "    }\n",
       "\n",
       "    .dataframe thead th {\n",
       "        text-align: right;\n",
       "    }\n",
       "</style>\n",
       "<table border=\"1\" class=\"dataframe\">\n",
       "  <thead>\n",
       "    <tr style=\"text-align: right;\">\n",
       "      <th>Churn</th>\n",
       "      <th>0</th>\n",
       "      <th>1</th>\n",
       "    </tr>\n",
       "  </thead>\n",
       "  <tbody>\n",
       "    <tr>\n",
       "      <th>gender</th>\n",
       "      <td>0.510037</td>\n",
       "      <td>0.510839</td>\n",
       "    </tr>\n",
       "    <tr>\n",
       "      <th>Near_Location</th>\n",
       "      <td>0.873086</td>\n",
       "      <td>0.768143</td>\n",
       "    </tr>\n",
       "    <tr>\n",
       "      <th>Partner</th>\n",
       "      <td>0.534195</td>\n",
       "      <td>0.355325</td>\n",
       "    </tr>\n",
       "    <tr>\n",
       "      <th>Promo_friends</th>\n",
       "      <td>0.353522</td>\n",
       "      <td>0.183789</td>\n",
       "    </tr>\n",
       "    <tr>\n",
       "      <th>Phone</th>\n",
       "      <td>0.903709</td>\n",
       "      <td>0.902922</td>\n",
       "    </tr>\n",
       "    <tr>\n",
       "      <th>Contract_period</th>\n",
       "      <td>5.747193</td>\n",
       "      <td>1.728558</td>\n",
       "    </tr>\n",
       "    <tr>\n",
       "      <th>Group_visits</th>\n",
       "      <td>0.464103</td>\n",
       "      <td>0.268615</td>\n",
       "    </tr>\n",
       "    <tr>\n",
       "      <th>Age</th>\n",
       "      <td>29.976523</td>\n",
       "      <td>26.989632</td>\n",
       "    </tr>\n",
       "    <tr>\n",
       "      <th>Avg_additional_charges_total</th>\n",
       "      <td>1.584457</td>\n",
       "      <td>1.150829</td>\n",
       "    </tr>\n",
       "    <tr>\n",
       "      <th>Month_to_end_contract</th>\n",
       "      <td>5.283089</td>\n",
       "      <td>1.662582</td>\n",
       "    </tr>\n",
       "    <tr>\n",
       "      <th>Lifetime</th>\n",
       "      <td>4.711807</td>\n",
       "      <td>0.990575</td>\n",
       "    </tr>\n",
       "    <tr>\n",
       "      <th>Avg_class_frequency_total</th>\n",
       "      <td>2.024876</td>\n",
       "      <td>1.474995</td>\n",
       "    </tr>\n",
       "    <tr>\n",
       "      <th>Avg_class_frequency_current_month</th>\n",
       "      <td>2.027882</td>\n",
       "      <td>1.044546</td>\n",
       "    </tr>\n",
       "  </tbody>\n",
       "</table>\n",
       "</div>"
      ],
      "text/plain": [
       "Churn                                      0          1\n",
       "gender                              0.510037   0.510839\n",
       "Near_Location                       0.873086   0.768143\n",
       "Partner                             0.534195   0.355325\n",
       "Promo_friends                       0.353522   0.183789\n",
       "Phone                               0.903709   0.902922\n",
       "Contract_period                     5.747193   1.728558\n",
       "Group_visits                        0.464103   0.268615\n",
       "Age                                29.976523  26.989632\n",
       "Avg_additional_charges_total        1.584457   1.150829\n",
       "Month_to_end_contract               5.283089   1.662582\n",
       "Lifetime                            4.711807   0.990575\n",
       "Avg_class_frequency_total           2.024876   1.474995\n",
       "Avg_class_frequency_current_month   2.027882   1.044546"
      ]
     },
     "execution_count": 8,
     "metadata": {},
     "output_type": "execute_result"
    }
   ],
   "source": [
    "mean_churn_df = df.groupby(by = 'Churn').mean().T\n",
    "mean_churn_df"
   ]
  },
  {
   "cell_type": "markdown",
   "metadata": {},
   "source": [
    "По гендерному признаку величины распределены равномерно. По возрасту: средний возраст уходящих в отток клиентов на 3 года ниже, чем у клиентов кто остается: 27 лет и 30 лет соответсвенно."
   ]
  },
  {
   "cell_type": "markdown",
   "metadata": {},
   "source": [
    "Построим столбчатые гистограммы и распределения признаков для тех, кто ушёл (отток) и тех, кто остался."
   ]
  },
  {
   "cell_type": "code",
   "execution_count": 9,
   "metadata": {},
   "outputs": [],
   "source": [
    "mean_churn_df = mean_churn_df.drop(index=['Age'])\n",
    "mean_churn_df.columns = ['остался', 'отток']"
   ]
  },
  {
   "cell_type": "code",
   "execution_count": 10,
   "metadata": {},
   "outputs": [
    {
     "data": {
      "image/png": "[encoded data removed]",
      "text/plain": [
       "<Figure size 720x720 with 1 Axes>"
      ]
     },
     "metadata": {
      "needs_background": "light"
     },
     "output_type": "display_data"
    }
   ],
   "source": [
    "mean_churn_df.plot(kind='barh',figsize=(10, 10))\n",
    "plt.title('Распределения признаков ушедших в отток клиентов и тех кто остался.')\n",
    "plt.show()"
   ]
  },
  {
   "cell_type": "code",
   "execution_count": 11,
   "metadata": {},
   "outputs": [
    {
     "data": {
      "image/png": "[encoded data removed]",
      "text/plain": [
       "<Figure size 936x720 with 2 Axes>"
      ]
     },
     "metadata": {
      "needs_background": "light"
     },
     "output_type": "display_data"
    }
   ],
   "source": [
    "corr = df.corr()\n",
    "plt.figure(figsize=(13, 10))\n",
    "sns.heatmap(corr,  annot = True, fmt = '0.2f', linewidths= 1,  )\n",
    "plt.show()"
   ]
  },
  {
   "cell_type": "markdown",
   "metadata": {},
   "source": [
    "Можно сделать следующие выводы:\n",
    "    \n",
    "- клиенты уходящие в отток имеют низкую среднюю частоту посещений в неделю, и в последний месяц этот показатель снижается. клиенты которые остаются в среднем посещают фитнес-центр 2 раза в неделю.\n",
    "\n",
    "- клиенты уходящие в отток имеют низкий уровень lifetime, т.е покупка абонимента для них была быстрым и спонтанным решением (менее 1 месяца на обдумывание покупки). Клиенты, которые остаются, основательно подходят к решению о покупке абонимента, средний lifetime 4,7 месяца.\n",
    "\n",
    "- клиенты уходящие в отток имеют 1,6 мес до конца абонимента.\n",
    "\n",
    "- у клиентов уходящих в отток - корокие абонименты. ( до 2х месяцев в среднем)"
   ]
  },
  {
   "cell_type": "markdown",
   "metadata": {},
   "source": [
    "Признаки Month_to_end_contract и Contract_period cильно коррелируют, значения corr 0,97.\n",
    "\n",
    "Avg_class_frequency_total и Avg_class_frequency_current_month являются схожими показателями и имеют тоже высокий уровень корреляции 0,95.\n",
    "\n",
    "Возомжно один из пары данных признаков стоит удалить перед обучением модели, так как они линейно-зависимы.\n"
   ]
  },
  {
   "cell_type": "code",
   "execution_count": 12,
   "metadata": {},
   "outputs": [
    {
     "data": {
      "text/plain": [
       "(4000, 12)"
      ]
     },
     "execution_count": 12,
     "metadata": {},
     "output_type": "execute_result"
    }
   ],
   "source": [
    "#удалим по одному из пары мультилоллинеарных признаков\n",
    "df.drop('Avg_class_frequency_current_month', axis = 1, inplace = True)\n",
    "df.drop('Month_to_end_contract', axis = 1, inplace = True)\n",
    "df.shape"
   ]
  },
  {
   "cell_type": "markdown",
   "metadata": {},
   "source": [
    "## Модель прогнозирования оттока клиентов."
   ]
  },
  {
   "cell_type": "markdown",
   "metadata": {},
   "source": [
    "Построим модель бинарной классификации клиентов, где целевой признак — факт оттока клиента в следующем месяце."
   ]
  },
  {
   "cell_type": "code",
   "execution_count": 13,
   "metadata": {},
   "outputs": [],
   "source": [
    "# разделим данные на признаки (матрица X) и целевую переменную (y)\n",
    "X = df.drop('Churn', axis = 1)\n",
    "y = df['Churn']"
   ]
  },
  {
   "cell_type": "code",
   "execution_count": 14,
   "metadata": {},
   "outputs": [
    {
     "data": {
      "text/html": [
       "<div>\n",
       "<style scoped>\n",
       "    .dataframe tbody tr th:only-of-type {\n",
       "        vertical-align: middle;\n",
       "    }\n",
       "\n",
       "    .dataframe tbody tr th {\n",
       "        vertical-align: top;\n",
       "    }\n",
       "\n",
       "    .dataframe thead th {\n",
       "        text-align: right;\n",
       "    }\n",
       "</style>\n",
       "<table border=\"1\" class=\"dataframe\">\n",
       "  <thead>\n",
       "    <tr style=\"text-align: right;\">\n",
       "      <th></th>\n",
       "      <th>gender</th>\n",
       "      <th>Near_Location</th>\n",
       "      <th>Partner</th>\n",
       "      <th>Promo_friends</th>\n",
       "      <th>Phone</th>\n",
       "      <th>Contract_period</th>\n",
       "      <th>Group_visits</th>\n",
       "      <th>Age</th>\n",
       "      <th>Avg_additional_charges_total</th>\n",
       "      <th>Lifetime</th>\n",
       "      <th>Avg_class_frequency_total</th>\n",
       "    </tr>\n",
       "  </thead>\n",
       "  <tbody>\n",
       "    <tr>\n",
       "      <th>0</th>\n",
       "      <td>1</td>\n",
       "      <td>1</td>\n",
       "      <td>1</td>\n",
       "      <td>1</td>\n",
       "      <td>0</td>\n",
       "      <td>6</td>\n",
       "      <td>1</td>\n",
       "      <td>29</td>\n",
       "      <td>0.142275</td>\n",
       "      <td>3</td>\n",
       "      <td>0.020398</td>\n",
       "    </tr>\n",
       "    <tr>\n",
       "      <th>1</th>\n",
       "      <td>0</td>\n",
       "      <td>1</td>\n",
       "      <td>0</td>\n",
       "      <td>0</td>\n",
       "      <td>1</td>\n",
       "      <td>12</td>\n",
       "      <td>1</td>\n",
       "      <td>31</td>\n",
       "      <td>1.132029</td>\n",
       "      <td>7</td>\n",
       "      <td>1.922936</td>\n",
       "    </tr>\n",
       "    <tr>\n",
       "      <th>2</th>\n",
       "      <td>0</td>\n",
       "      <td>1</td>\n",
       "      <td>1</td>\n",
       "      <td>0</td>\n",
       "      <td>1</td>\n",
       "      <td>1</td>\n",
       "      <td>0</td>\n",
       "      <td>28</td>\n",
       "      <td>1.294485</td>\n",
       "      <td>2</td>\n",
       "      <td>1.859098</td>\n",
       "    </tr>\n",
       "    <tr>\n",
       "      <th>3</th>\n",
       "      <td>0</td>\n",
       "      <td>1</td>\n",
       "      <td>1</td>\n",
       "      <td>1</td>\n",
       "      <td>1</td>\n",
       "      <td>12</td>\n",
       "      <td>1</td>\n",
       "      <td>33</td>\n",
       "      <td>0.626699</td>\n",
       "      <td>2</td>\n",
       "      <td>3.205633</td>\n",
       "    </tr>\n",
       "    <tr>\n",
       "      <th>4</th>\n",
       "      <td>1</td>\n",
       "      <td>1</td>\n",
       "      <td>1</td>\n",
       "      <td>1</td>\n",
       "      <td>1</td>\n",
       "      <td>1</td>\n",
       "      <td>0</td>\n",
       "      <td>26</td>\n",
       "      <td>1.983623</td>\n",
       "      <td>3</td>\n",
       "      <td>1.113884</td>\n",
       "    </tr>\n",
       "    <tr>\n",
       "      <th>...</th>\n",
       "      <td>...</td>\n",
       "      <td>...</td>\n",
       "      <td>...</td>\n",
       "      <td>...</td>\n",
       "      <td>...</td>\n",
       "      <td>...</td>\n",
       "      <td>...</td>\n",
       "      <td>...</td>\n",
       "      <td>...</td>\n",
       "      <td>...</td>\n",
       "      <td>...</td>\n",
       "    </tr>\n",
       "    <tr>\n",
       "      <th>3995</th>\n",
       "      <td>1</td>\n",
       "      <td>1</td>\n",
       "      <td>1</td>\n",
       "      <td>0</td>\n",
       "      <td>1</td>\n",
       "      <td>12</td>\n",
       "      <td>0</td>\n",
       "      <td>33</td>\n",
       "      <td>0.024060</td>\n",
       "      <td>8</td>\n",
       "      <td>2.284497</td>\n",
       "    </tr>\n",
       "    <tr>\n",
       "      <th>3996</th>\n",
       "      <td>0</td>\n",
       "      <td>1</td>\n",
       "      <td>0</td>\n",
       "      <td>0</td>\n",
       "      <td>1</td>\n",
       "      <td>1</td>\n",
       "      <td>1</td>\n",
       "      <td>29</td>\n",
       "      <td>0.688838</td>\n",
       "      <td>1</td>\n",
       "      <td>1.277168</td>\n",
       "    </tr>\n",
       "    <tr>\n",
       "      <th>3997</th>\n",
       "      <td>1</td>\n",
       "      <td>1</td>\n",
       "      <td>1</td>\n",
       "      <td>1</td>\n",
       "      <td>1</td>\n",
       "      <td>12</td>\n",
       "      <td>0</td>\n",
       "      <td>28</td>\n",
       "      <td>0.782505</td>\n",
       "      <td>2</td>\n",
       "      <td>2.786146</td>\n",
       "    </tr>\n",
       "    <tr>\n",
       "      <th>3998</th>\n",
       "      <td>0</td>\n",
       "      <td>1</td>\n",
       "      <td>1</td>\n",
       "      <td>1</td>\n",
       "      <td>1</td>\n",
       "      <td>6</td>\n",
       "      <td>0</td>\n",
       "      <td>32</td>\n",
       "      <td>0.619127</td>\n",
       "      <td>3</td>\n",
       "      <td>1.630108</td>\n",
       "    </tr>\n",
       "    <tr>\n",
       "      <th>3999</th>\n",
       "      <td>1</td>\n",
       "      <td>0</td>\n",
       "      <td>1</td>\n",
       "      <td>0</td>\n",
       "      <td>0</td>\n",
       "      <td>12</td>\n",
       "      <td>1</td>\n",
       "      <td>30</td>\n",
       "      <td>1.788618</td>\n",
       "      <td>1</td>\n",
       "      <td>1.101832</td>\n",
       "    </tr>\n",
       "  </tbody>\n",
       "</table>\n",
       "<p>4000 rows × 11 columns</p>\n",
       "</div>"
      ],
      "text/plain": [
       "      gender  Near_Location  Partner  Promo_friends  Phone  Contract_period  \\\n",
       "0          1              1        1              1      0                6   \n",
       "1          0              1        0              0      1               12   \n",
       "2          0              1        1              0      1                1   \n",
       "3          0              1        1              1      1               12   \n",
       "4          1              1        1              1      1                1   \n",
       "...      ...            ...      ...            ...    ...              ...   \n",
       "3995       1              1        1              0      1               12   \n",
       "3996       0              1        0              0      1                1   \n",
       "3997       1              1        1              1      1               12   \n",
       "3998       0              1        1              1      1                6   \n",
       "3999       1              0        1              0      0               12   \n",
       "\n",
       "      Group_visits  Age  Avg_additional_charges_total  Lifetime  \\\n",
       "0                1   29                      0.142275         3   \n",
       "1                1   31                      1.132029         7   \n",
       "2                0   28                      1.294485         2   \n",
       "3                1   33                      0.626699         2   \n",
       "4                0   26                      1.983623         3   \n",
       "...            ...  ...                           ...       ...   \n",
       "3995             0   33                      0.024060         8   \n",
       "3996             1   29                      0.688838         1   \n",
       "3997             0   28                      0.782505         2   \n",
       "3998             0   32                      0.619127         3   \n",
       "3999             1   30                      1.788618         1   \n",
       "\n",
       "      Avg_class_frequency_total  \n",
       "0                      0.020398  \n",
       "1                      1.922936  \n",
       "2                      1.859098  \n",
       "3                      3.205633  \n",
       "4                      1.113884  \n",
       "...                         ...  \n",
       "3995                   2.284497  \n",
       "3996                   1.277168  \n",
       "3997                   2.786146  \n",
       "3998                   1.630108  \n",
       "3999                   1.101832  \n",
       "\n",
       "[4000 rows x 11 columns]"
      ]
     },
     "execution_count": 14,
     "metadata": {},
     "output_type": "execute_result"
    }
   ],
   "source": [
    "X"
   ]
  },
  {
   "cell_type": "markdown",
   "metadata": {},
   "source": [
    "Разделим данные на обучающую и валидационную выборку функцией *train_test_split*"
   ]
  },
  {
   "cell_type": "code",
   "execution_count": 15,
   "metadata": {},
   "outputs": [],
   "source": [
    "# разделим модель на обучающую и валидационную выборку\n",
    "X_train, X_test, y_train, y_test = train_test_split(X, y, test_size=0.2, random_state=0, stratify = y)"
   ]
  },
  {
   "cell_type": "code",
   "execution_count": 16,
   "metadata": {},
   "outputs": [
    {
     "data": {
      "text/plain": [
       "StandardScaler()"
      ]
     },
     "execution_count": 16,
     "metadata": {},
     "output_type": "execute_result"
    }
   ],
   "source": [
    "scaler = StandardScaler()\n",
    "scaler.fit(X_train)"
   ]
  },
  {
   "cell_type": "code",
   "execution_count": 17,
   "metadata": {},
   "outputs": [],
   "source": [
    "# Преобразуем обучающие и валидационные наборы данных\n",
    "X_train_st = scaler.transform(X_train)\n",
    "X_test_st = scaler.transform(X_test)"
   ]
  },
  {
   "cell_type": "markdown",
   "metadata": {},
   "source": [
    "Обучим модель на train-выборке двумя способами логистической регрессией и случайным лесом."
   ]
  },
  {
   "cell_type": "code",
   "execution_count": 18,
   "metadata": {},
   "outputs": [],
   "source": [
    "# зададим алгоритм для модели логистической регрессии\n",
    "lr_model = LogisticRegression(random_state=0)\n",
    "lr_model.fit(X_train_st, y_train)\n",
    "lr_predictions = lr_model.predict(X_test_st)\n",
    "lr_probabilities = lr_model.predict_proba(X_test_st)[:, 1]"
   ]
  },
  {
   "cell_type": "code",
   "execution_count": 19,
   "metadata": {},
   "outputs": [],
   "source": [
    "# зададим алгоритм для модели на основе алгоритма случайного леса\n",
    "rf_model = RandomForestClassifier (n_estimators = 100, random_state = 0)\n",
    "rf_model.fit(X_train_st, y_train)\n",
    "rf_predictions = rf_model.predict(X_test_st)\n",
    "rf_probabilities = rf_model.predict_proba(X_test_st)[:, 1]"
   ]
  },
  {
   "cell_type": "code",
   "execution_count": 20,
   "metadata": {},
   "outputs": [],
   "source": [
    "# определим функцию, которая будет выводить наши метрики\n",
    "def print_all_metrics(y_true, y_pred, y_proba, title='Метрики классификации'):\n",
    "    print(title)\n",
    "    print('\\tAccuracy: {:.2f}'.format(accuracy_score(y_true, y_pred)))\n",
    "    print('\\tPrecision: {:.2f}'.format(precision_score(y_true, y_pred)))\n",
    "    print('\\tRecall: {:.2f}'.format(recall_score(y_true, y_pred)))"
   ]
  },
  {
   "cell_type": "code",
   "execution_count": 21,
   "metadata": {},
   "outputs": [
    {
     "name": "stdout",
     "output_type": "stream",
     "text": [
      "Метрики для модели случайного леса:\n",
      "\tAccuracy: 0.89\n",
      "\tPrecision: 0.81\n",
      "\tRecall: 0.79\n"
     ]
    }
   ],
   "source": [
    "print_all_metrics(y_test, rf_predictions, rf_probabilities, title='Метрики для модели случайного леса:')"
   ]
  },
  {
   "cell_type": "code",
   "execution_count": 22,
   "metadata": {},
   "outputs": [
    {
     "name": "stdout",
     "output_type": "stream",
     "text": [
      "Метрики для модели логистической регрессии:\n",
      "\tAccuracy: 0.91\n",
      "\tPrecision: 0.83\n",
      "\tRecall: 0.83\n"
     ]
    }
   ],
   "source": [
    "print_all_metrics(y_test, lr_predictions, lr_probabilities, title='Метрики для модели логистической регрессии:')"
   ]
  },
  {
   "cell_type": "markdown",
   "metadata": {},
   "source": [
    "Оценив метрики accuracy, precision и recall для обеих моделей на валидационной выборке, можно сделать вывод, что модель логистической регрессии имеет лучшие показатели."
   ]
  },
  {
   "cell_type": "markdown",
   "metadata": {},
   "source": [
    "## Кластеризация клиентов."
   ]
  },
  {
   "cell_type": "markdown",
   "metadata": {},
   "source": [
    "Проведем кластеризацию клиентов."
   ]
  },
  {
   "cell_type": "code",
   "execution_count": 23,
   "metadata": {},
   "outputs": [],
   "source": [
    "# обязательная стандартизация данных перед работой с алгоритмами\n",
    "# обучаем нормализатор и преобразуем набор данных\n",
    "X_sc = scaler.fit_transform(X)"
   ]
  },
  {
   "cell_type": "code",
   "execution_count": 24,
   "metadata": {},
   "outputs": [],
   "source": [
    "linked = linkage(X_sc, method = 'ward') "
   ]
  },
  {
   "cell_type": "code",
   "execution_count": 25,
   "metadata": {},
   "outputs": [
    {
     "data": {
      "image/png": "[encoded data removed]",
      "text/plain": [
       "<Figure size 720x720 with 1 Axes>"
      ]
     },
     "metadata": {
      "needs_background": "light"
     },
     "output_type": "display_data"
    }
   ],
   "source": [
    "plt.figure(figsize=(10, 10))  \n",
    "dendrogram(linked, orientation='top')\n",
    "plt.title('Hierarchial clustering for GYM')\n",
    "plt.show() "
   ]
  },
  {
   "cell_type": "code",
   "execution_count": 26,
   "metadata": {},
   "outputs": [],
   "source": [
    "# задаём число кластеров, равное 5, и фиксируем значение random_state для воспроизводимости результата\n",
    "km = KMeans(n_clusters=5, random_state=0) \n",
    "# применяем алгоритм к данным и формируем вектор кластеров\n",
    "labels = km.fit_predict(X_sc)"
   ]
  },
  {
   "cell_type": "code",
   "execution_count": 27,
   "metadata": {},
   "outputs": [],
   "source": [
    "# сохраняем метки кластера в поле нашего датасета\n",
    "df['cluster'] = labels"
   ]
  },
  {
   "cell_type": "markdown",
   "metadata": {},
   "source": [
    "Посмотрим на средние значения признаков для кластеров."
   ]
  },
  {
   "cell_type": "code",
   "execution_count": 28,
   "metadata": {},
   "outputs": [
    {
     "data": {
      "text/html": [
       "<div>\n",
       "<style scoped>\n",
       "    .dataframe tbody tr th:only-of-type {\n",
       "        vertical-align: middle;\n",
       "    }\n",
       "\n",
       "    .dataframe tbody tr th {\n",
       "        vertical-align: top;\n",
       "    }\n",
       "\n",
       "    .dataframe thead th {\n",
       "        text-align: right;\n",
       "    }\n",
       "</style>\n",
       "<table border=\"1\" class=\"dataframe\">\n",
       "  <thead>\n",
       "    <tr style=\"text-align: right;\">\n",
       "      <th>cluster</th>\n",
       "      <th>0</th>\n",
       "      <th>1</th>\n",
       "      <th>2</th>\n",
       "      <th>3</th>\n",
       "      <th>4</th>\n",
       "    </tr>\n",
       "  </thead>\n",
       "  <tbody>\n",
       "    <tr>\n",
       "      <th>gender</th>\n",
       "      <td>0.499109</td>\n",
       "      <td>0.488571</td>\n",
       "      <td>0.505300</td>\n",
       "      <td>0.544202</td>\n",
       "      <td>0.523316</td>\n",
       "    </tr>\n",
       "    <tr>\n",
       "      <th>Near_Location</th>\n",
       "      <td>0.000000</td>\n",
       "      <td>0.995238</td>\n",
       "      <td>1.000000</td>\n",
       "      <td>1.000000</td>\n",
       "      <td>0.862694</td>\n",
       "    </tr>\n",
       "    <tr>\n",
       "      <th>Partner</th>\n",
       "      <td>0.488414</td>\n",
       "      <td>0.955238</td>\n",
       "      <td>0.238516</td>\n",
       "      <td>0.250287</td>\n",
       "      <td>0.471503</td>\n",
       "    </tr>\n",
       "    <tr>\n",
       "      <th>Promo_friends</th>\n",
       "      <td>0.076649</td>\n",
       "      <td>0.892381</td>\n",
       "      <td>0.059187</td>\n",
       "      <td>0.079219</td>\n",
       "      <td>0.305699</td>\n",
       "    </tr>\n",
       "    <tr>\n",
       "      <th>Phone</th>\n",
       "      <td>1.000000</td>\n",
       "      <td>1.000000</td>\n",
       "      <td>1.000000</td>\n",
       "      <td>1.000000</td>\n",
       "      <td>0.000000</td>\n",
       "    </tr>\n",
       "    <tr>\n",
       "      <th>Contract_period</th>\n",
       "      <td>3.032086</td>\n",
       "      <td>7.660952</td>\n",
       "      <td>2.819788</td>\n",
       "      <td>4.528129</td>\n",
       "      <td>4.777202</td>\n",
       "    </tr>\n",
       "    <tr>\n",
       "      <th>Group_visits</th>\n",
       "      <td>0.235294</td>\n",
       "      <td>0.458095</td>\n",
       "      <td>0.000000</td>\n",
       "      <td>1.000000</td>\n",
       "      <td>0.427461</td>\n",
       "    </tr>\n",
       "    <tr>\n",
       "      <th>Age</th>\n",
       "      <td>28.721925</td>\n",
       "      <td>29.543810</td>\n",
       "      <td>28.770318</td>\n",
       "      <td>29.536165</td>\n",
       "      <td>29.297927</td>\n",
       "    </tr>\n",
       "    <tr>\n",
       "      <th>Avg_additional_charges_total</th>\n",
       "      <td>1.375400</td>\n",
       "      <td>1.558614</td>\n",
       "      <td>1.433840</td>\n",
       "      <td>1.480889</td>\n",
       "      <td>1.442082</td>\n",
       "    </tr>\n",
       "    <tr>\n",
       "      <th>Lifetime</th>\n",
       "      <td>3.060606</td>\n",
       "      <td>4.380952</td>\n",
       "      <td>3.343640</td>\n",
       "      <td>3.761194</td>\n",
       "      <td>3.940415</td>\n",
       "    </tr>\n",
       "    <tr>\n",
       "      <th>Avg_class_frequency_total</th>\n",
       "      <td>1.770413</td>\n",
       "      <td>1.978963</td>\n",
       "      <td>1.800647</td>\n",
       "      <td>1.941342</td>\n",
       "      <td>1.854211</td>\n",
       "    </tr>\n",
       "    <tr>\n",
       "      <th>Churn</th>\n",
       "      <td>0.399287</td>\n",
       "      <td>0.120952</td>\n",
       "      <td>0.381625</td>\n",
       "      <td>0.200918</td>\n",
       "      <td>0.266839</td>\n",
       "    </tr>\n",
       "  </tbody>\n",
       "</table>\n",
       "</div>"
      ],
      "text/plain": [
       "cluster                               0          1          2          3  \\\n",
       "gender                         0.499109   0.488571   0.505300   0.544202   \n",
       "Near_Location                  0.000000   0.995238   1.000000   1.000000   \n",
       "Partner                        0.488414   0.955238   0.238516   0.250287   \n",
       "Promo_friends                  0.076649   0.892381   0.059187   0.079219   \n",
       "Phone                          1.000000   1.000000   1.000000   1.000000   \n",
       "Contract_period                3.032086   7.660952   2.819788   4.528129   \n",
       "Group_visits                   0.235294   0.458095   0.000000   1.000000   \n",
       "Age                           28.721925  29.543810  28.770318  29.536165   \n",
       "Avg_additional_charges_total   1.375400   1.558614   1.433840   1.480889   \n",
       "Lifetime                       3.060606   4.380952   3.343640   3.761194   \n",
       "Avg_class_frequency_total      1.770413   1.978963   1.800647   1.941342   \n",
       "Churn                          0.399287   0.120952   0.381625   0.200918   \n",
       "\n",
       "cluster                               4  \n",
       "gender                         0.523316  \n",
       "Near_Location                  0.862694  \n",
       "Partner                        0.471503  \n",
       "Promo_friends                  0.305699  \n",
       "Phone                          0.000000  \n",
       "Contract_period                4.777202  \n",
       "Group_visits                   0.427461  \n",
       "Age                           29.297927  \n",
       "Avg_additional_charges_total   1.442082  \n",
       "Lifetime                       3.940415  \n",
       "Avg_class_frequency_total      1.854211  \n",
       "Churn                          0.266839  "
      ]
     },
     "execution_count": 28,
     "metadata": {},
     "output_type": "execute_result"
    }
   ],
   "source": [
    "dfm = df.groupby(['cluster']).mean()\n",
    "df.groupby(['cluster']).mean().T"
   ]
  },
  {
   "cell_type": "markdown",
   "metadata": {},
   "source": [
    "Можно сразу заметить что пол и возраст никак не влияют на разбиение по кластерам и долю оттока. На долю оттока и кластеризацию влияют такие признаки, как близость локации, партнерская программа или промо от друга, а также период договора - на сколько месяцев куплен абонимент. Клиенты посещающие групповые тренировки также реже подвержены оттоку. В основном отток происходит у клиентов, которые брали абонимент на короткий период ( 2-3 мес. в среднем), при этом не посещали групповые тренировки и посещали зал реже других клиентов, покупали в среднем меньше дополнительных услуг, чем другие клиенты."
   ]
  },
  {
   "cell_type": "markdown",
   "metadata": {},
   "source": [
    "Пострим на графики распределения признаков для кластеров."
   ]
  },
  {
   "cell_type": "code",
   "execution_count": 29,
   "metadata": {},
   "outputs": [
    {
     "data": {
      "text/plain": [
       "<AxesSubplot:xlabel='cluster'>"
      ]
     },
     "execution_count": 29,
     "metadata": {},
     "output_type": "execute_result"
    },
    {
     "data": {
      "image/png": "[encoded data removed]",
      "text/plain": [
       "<Figure size 1080x504 with 1 Axes>"
      ]
     },
     "metadata": {
      "needs_background": "light"
     },
     "output_type": "display_data"
    }
   ],
   "source": [
    "dfm.plot(kind= 'bar', figsize = (15,7), y = ['Partner', 'Promo_friends', 'Phone', 'Near_Location', 'Group_visits'])"
   ]
  },
  {
   "cell_type": "code",
   "execution_count": 30,
   "metadata": {},
   "outputs": [
    {
     "data": {
      "text/plain": [
       "cluster\n",
       "1    0.120952\n",
       "3    0.200918\n",
       "4    0.266839\n",
       "2    0.381625\n",
       "0    0.399287\n",
       "Name: Churn, dtype: float64"
      ]
     },
     "execution_count": 30,
     "metadata": {},
     "output_type": "execute_result"
    }
   ],
   "source": [
    "# выводим статистику по средним значениям наших признаков по кластеру\n",
    "df.groupby(['cluster'])['Churn'].mean().sort_values()"
   ]
  },
  {
   "cell_type": "markdown",
   "metadata": {},
   "source": [
    "Первый кластер имеет 12% оттока. Мы можем сказать что это самые стабильные клиенты, которые пришли по партнерской программе (от работы) и  воспользовались промо от друга. Эти клиенты находятся в территориальной близости от зала. Они почти всегда оставляют телефон, и в половине случаев посещают групповые тренировки. Они имеют  самый высокий lifetime свыше 4 мес и наиболее продолжительные абонименты (более 6 мес)."
   ]
  },
  {
   "cell_type": "markdown",
   "metadata": {},
   "source": [
    "Третий класстер имеет 20% оттока. Это клиенты которые живут рядом, всегда оставляют телефон. Отличительная особенность кластера - это любители групповых тренировкок. У них ниже средний уровень lifetime = 4,5 мес и contract period 3,7 мес"
   ]
  },
  {
   "cell_type": "markdown",
   "metadata": {},
   "source": [
    "Клиентов четвертого кластера можно вычислить по тому, что они никогда не оставляют свой телефон. У них 26% оттока. Они иногда могут прийти от друга, но чаще нет, в половине случаев возможно от партнерской программы. У них средний уровень lifetime = 4,7 мес и contract period 3,9 мес"
   ]
  },
  {
   "cell_type": "markdown",
   "metadata": {},
   "source": [
    "Во второй класс вошли клиенты с уровнем оттока 38%. Эти клиенты живут территориально близко, но редко приходят от работы или друга. Они совсем не посещают групповые тренировки. Низкий уровень lifetime 3,3 мес. и непродолжительные абонименты 2,8 мес"
   ]
  },
  {
   "cell_type": "markdown",
   "metadata": {},
   "source": [
    "Нулевой кластер, это тоже клиенты с самым высоким процентом оттока - 39%. Эти клиенты живут далеко. Near location = 0. В половине случаев они пришли от работы. Они нечасто посещают групповыетренировки. lifetime и contract period примерно равны 3 мес. "
   ]
  },
  {
   "cell_type": "markdown",
   "metadata": {},
   "source": [
    "<div class=\"alert alert-success\">\n",
    "✔️ Очень хорошо и понятно описаны отличительные признаки надежных и ненадежных кластеров"
   ]
  },
  {
   "cell_type": "code",
   "execution_count": 31,
   "metadata": {},
   "outputs": [
    {
     "data": {
      "text/plain": [
       "<AxesSubplot:xlabel='cluster'>"
      ]
     },
     "execution_count": 31,
     "metadata": {},
     "output_type": "execute_result"
    },
    {
     "data": {
      "image/png": "[encoded data removed]",
      "text/plain": [
       "<Figure size 1080x504 with 1 Axes>"
      ]
     },
     "metadata": {
      "needs_background": "light"
     },
     "output_type": "display_data"
    }
   ],
   "source": [
    "dfm.plot(kind= 'bar', figsize = (15,7), y = ['Contract_period', 'Avg_additional_charges_total', 'Lifetime', 'Avg_class_frequency_total'])"
   ]
  },
  {
   "cell_type": "markdown",
   "metadata": {},
   "source": [
    "## Выводы и рекомендации по работе с клиентами.\n",
    "\n",
    "В качестве рекомендации для стратегии взаимодействия с клиентами и их удержания выделим 3-4 важных принципов и примеров их реализации в виде определённых маркетинговых действий."
   ]
  },
  {
   "cell_type": "markdown",
   "metadata": {},
   "source": [
    "- Привлечение новых клиентов по партнерской программе  и программе приведи друга в районе расположения фитнес-центра.\n",
    "\n",
    "- Маркетинговые и рекламные мероприятия направленные на увеличение срока контракта (покупку годовых абониментов).\n",
    "\n",
    "- Повышение вовлеченности к посещению фитнес-центра и групповых программ, поощрение посещения (особенно важно для 3 кластера), достижение и поддержание у клиентов уровня Avg_class_frequency_total >2 "
   ]
  }
 ],
 "metadata": {
  "ExecuteTimeLog": [
   {
    "duration": 327,
    "start_time": "2022-08-25T06:33:37.160Z"
   },
   {
    "duration": 66,
    "start_time": "2022-08-25T06:33:37.489Z"
   },
   {
    "duration": 165,
    "start_time": "2022-08-25T06:33:46.059Z"
   },
   {
    "duration": 27,
    "start_time": "2022-08-25T06:33:48.979Z"
   },
   {
    "duration": 44,
    "start_time": "2022-08-25T06:53:06.602Z"
   },
   {
    "duration": 10,
    "start_time": "2022-08-25T06:53:15.611Z"
   },
   {
    "duration": 4,
    "start_time": "2022-08-25T06:55:27.083Z"
   },
   {
    "duration": 15,
    "start_time": "2022-08-25T06:55:38.035Z"
   },
   {
    "duration": 7,
    "start_time": "2022-08-25T06:57:30.393Z"
   },
   {
    "duration": 17,
    "start_time": "2022-08-25T06:57:34.658Z"
   },
   {
    "duration": 1404,
    "start_time": "2022-08-25T06:57:44.273Z"
   },
   {
    "duration": 22,
    "start_time": "2022-08-25T06:58:15.128Z"
   },
   {
    "duration": 17,
    "start_time": "2022-08-25T06:58:42.034Z"
   },
   {
    "duration": 16,
    "start_time": "2022-08-25T08:17:30.749Z"
   },
   {
    "duration": 17,
    "start_time": "2022-08-25T08:24:30.675Z"
   },
   {
    "duration": 10,
    "start_time": "2022-08-25T08:24:38.083Z"
   },
   {
    "duration": 688,
    "start_time": "2022-08-25T08:29:24.427Z"
   },
   {
    "duration": 49,
    "start_time": "2022-08-25T08:30:38.666Z"
   },
   {
    "duration": 8,
    "start_time": "2022-08-25T08:30:42.691Z"
   },
   {
    "duration": 4,
    "start_time": "2022-08-25T08:30:55.449Z"
   },
   {
    "duration": 19,
    "start_time": "2022-08-25T08:31:10.720Z"
   },
   {
    "duration": 2,
    "start_time": "2022-08-25T08:31:24.021Z"
   },
   {
    "duration": 34,
    "start_time": "2022-08-25T08:31:24.029Z"
   },
   {
    "duration": 47,
    "start_time": "2022-08-25T08:31:24.065Z"
   },
   {
    "duration": 11,
    "start_time": "2022-08-25T08:31:24.113Z"
   },
   {
    "duration": 15,
    "start_time": "2022-08-25T08:31:24.126Z"
   },
   {
    "duration": 17,
    "start_time": "2022-08-25T08:31:24.143Z"
   },
   {
    "duration": 4,
    "start_time": "2022-08-25T08:31:24.161Z"
   },
   {
    "duration": 52,
    "start_time": "2022-08-25T08:31:24.166Z"
   },
   {
    "duration": 5,
    "start_time": "2022-08-25T08:31:39.565Z"
   },
   {
    "duration": 10,
    "start_time": "2022-08-25T08:35:48.150Z"
   },
   {
    "duration": 57,
    "start_time": "2022-08-25T08:36:08.895Z"
   },
   {
    "duration": 6,
    "start_time": "2022-08-25T08:36:14.653Z"
   },
   {
    "duration": 12,
    "start_time": "2022-08-25T08:37:29.370Z"
   },
   {
    "duration": 8,
    "start_time": "2022-08-25T08:37:31.670Z"
   },
   {
    "duration": 3,
    "start_time": "2022-08-25T08:37:43.191Z"
   },
   {
    "duration": 2,
    "start_time": "2022-08-25T08:37:47.645Z"
   },
   {
    "duration": 11,
    "start_time": "2022-08-25T08:38:06.803Z"
   },
   {
    "duration": 742,
    "start_time": "2022-08-25T08:39:30.973Z"
   },
   {
    "duration": 2,
    "start_time": "2022-08-25T08:39:40.913Z"
   },
   {
    "duration": 13,
    "start_time": "2022-08-25T08:40:09.470Z"
   },
   {
    "duration": 2,
    "start_time": "2022-08-25T08:40:25.609Z"
   },
   {
    "duration": 38,
    "start_time": "2022-08-25T08:41:20.354Z"
   },
   {
    "duration": 41,
    "start_time": "2022-08-25T08:41:30.261Z"
   },
   {
    "duration": 16,
    "start_time": "2022-08-25T08:41:59.171Z"
   },
   {
    "duration": 4,
    "start_time": "2022-08-25T08:42:11.635Z"
   },
   {
    "duration": 7,
    "start_time": "2022-08-25T08:42:24.724Z"
   },
   {
    "duration": 2,
    "start_time": "2022-08-25T08:42:42.210Z"
   },
   {
    "duration": 22,
    "start_time": "2022-08-25T08:42:50.555Z"
   },
   {
    "duration": 15,
    "start_time": "2022-08-25T08:43:16.248Z"
   },
   {
    "duration": 11,
    "start_time": "2022-08-25T08:43:22.528Z"
   },
   {
    "duration": 4,
    "start_time": "2022-08-25T08:45:55.261Z"
   },
   {
    "duration": 3,
    "start_time": "2022-08-25T08:47:50.540Z"
   },
   {
    "duration": 3,
    "start_time": "2022-08-25T08:47:53.582Z"
   },
   {
    "duration": 4,
    "start_time": "2022-08-25T08:48:08.467Z"
   },
   {
    "duration": 4,
    "start_time": "2022-08-25T08:48:16.690Z"
   },
   {
    "duration": 3,
    "start_time": "2022-08-25T08:48:22.622Z"
   },
   {
    "duration": 22,
    "start_time": "2022-08-25T08:48:26.340Z"
   },
   {
    "duration": 9,
    "start_time": "2022-08-25T08:48:36.382Z"
   },
   {
    "duration": 9,
    "start_time": "2022-08-25T08:49:55.525Z"
   },
   {
    "duration": 4,
    "start_time": "2022-08-25T08:50:22.710Z"
   },
   {
    "duration": 3,
    "start_time": "2022-08-25T08:50:25.857Z"
   },
   {
    "duration": 8,
    "start_time": "2022-08-25T08:50:31.168Z"
   },
   {
    "duration": 8,
    "start_time": "2022-08-25T08:52:20.066Z"
   },
   {
    "duration": 4,
    "start_time": "2022-08-25T09:04:48.113Z"
   },
   {
    "duration": 592,
    "start_time": "2022-08-25T09:05:08.714Z"
   },
   {
    "duration": 10,
    "start_time": "2022-08-25T09:06:23.913Z"
   },
   {
    "duration": 3,
    "start_time": "2022-08-25T09:06:53.507Z"
   },
   {
    "duration": 21,
    "start_time": "2022-08-25T09:06:55.105Z"
   },
   {
    "duration": 20,
    "start_time": "2022-08-25T09:07:06.577Z"
   },
   {
    "duration": 8,
    "start_time": "2022-08-25T09:07:14.180Z"
   },
   {
    "duration": 11,
    "start_time": "2022-08-25T09:07:20.711Z"
   },
   {
    "duration": 6,
    "start_time": "2022-08-25T09:07:50.516Z"
   },
   {
    "duration": 8,
    "start_time": "2022-08-25T09:08:06.226Z"
   },
   {
    "duration": 8,
    "start_time": "2022-08-25T09:08:10.347Z"
   },
   {
    "duration": 1095,
    "start_time": "2022-08-25T09:11:45.719Z"
   },
   {
    "duration": 4,
    "start_time": "2022-08-25T09:12:04.539Z"
   },
   {
    "duration": 685,
    "start_time": "2022-08-25T09:12:10.044Z"
   },
   {
    "duration": 4,
    "start_time": "2022-08-25T09:13:10.428Z"
   },
   {
    "duration": 7,
    "start_time": "2022-08-25T09:13:34.225Z"
   },
   {
    "duration": 6,
    "start_time": "2022-08-25T09:13:51.967Z"
   },
   {
    "duration": 9,
    "start_time": "2022-08-25T09:14:12.216Z"
   },
   {
    "duration": 7,
    "start_time": "2022-08-25T09:14:14.980Z"
   },
   {
    "duration": 7,
    "start_time": "2022-08-25T09:14:29.496Z"
   },
   {
    "duration": 155,
    "start_time": "2022-08-25T09:14:51.053Z"
   },
   {
    "duration": 352,
    "start_time": "2022-08-25T09:15:03.331Z"
   },
   {
    "duration": 364,
    "start_time": "2022-08-25T09:15:12.053Z"
   },
   {
    "duration": 4,
    "start_time": "2022-08-25T09:15:46.697Z"
   },
   {
    "duration": 38,
    "start_time": "2022-08-25T09:15:46.705Z"
   },
   {
    "duration": 47,
    "start_time": "2022-08-25T09:15:46.745Z"
   },
   {
    "duration": 13,
    "start_time": "2022-08-25T09:15:46.794Z"
   },
   {
    "duration": 16,
    "start_time": "2022-08-25T09:15:46.809Z"
   },
   {
    "duration": 3,
    "start_time": "2022-08-25T09:15:46.827Z"
   },
   {
    "duration": 6,
    "start_time": "2022-08-25T09:15:46.832Z"
   },
   {
    "duration": 7,
    "start_time": "2022-08-25T09:15:46.839Z"
   },
   {
    "duration": 8,
    "start_time": "2022-08-25T09:15:46.847Z"
   },
   {
    "duration": 153,
    "start_time": "2022-08-25T09:15:46.857Z"
   },
   {
    "duration": 516,
    "start_time": "2022-08-25T09:15:47.013Z"
   },
   {
    "duration": 3,
    "start_time": "2022-08-25T09:15:47.530Z"
   },
   {
    "duration": 12,
    "start_time": "2022-08-25T09:15:47.534Z"
   },
   {
    "duration": 6,
    "start_time": "2022-08-25T09:15:47.548Z"
   },
   {
    "duration": 4,
    "start_time": "2022-08-25T09:16:15.837Z"
   },
   {
    "duration": 4,
    "start_time": "2022-08-25T09:16:18.593Z"
   },
   {
    "duration": 40,
    "start_time": "2022-08-25T09:16:18.600Z"
   },
   {
    "duration": 41,
    "start_time": "2022-08-25T09:16:18.642Z"
   },
   {
    "duration": 10,
    "start_time": "2022-08-25T09:16:18.685Z"
   },
   {
    "duration": 14,
    "start_time": "2022-08-25T09:16:18.697Z"
   },
   {
    "duration": 3,
    "start_time": "2022-08-25T09:16:18.712Z"
   },
   {
    "duration": 6,
    "start_time": "2022-08-25T09:16:18.717Z"
   },
   {
    "duration": 6,
    "start_time": "2022-08-25T09:16:18.724Z"
   },
   {
    "duration": 7,
    "start_time": "2022-08-25T09:16:18.731Z"
   },
   {
    "duration": 73,
    "start_time": "2022-08-25T09:16:18.740Z"
   },
   {
    "duration": 507,
    "start_time": "2022-08-25T09:16:18.818Z"
   },
   {
    "duration": 3,
    "start_time": "2022-08-25T09:16:19.327Z"
   },
   {
    "duration": 9,
    "start_time": "2022-08-25T09:16:19.332Z"
   },
   {
    "duration": 7,
    "start_time": "2022-08-25T09:16:19.342Z"
   },
   {
    "duration": 9,
    "start_time": "2022-08-25T09:29:47.476Z"
   },
   {
    "duration": 20,
    "start_time": "2022-08-25T09:30:36.594Z"
   },
   {
    "duration": 7,
    "start_time": "2022-08-25T09:54:24.820Z"
   },
   {
    "duration": 4,
    "start_time": "2022-08-25T09:55:36.623Z"
   },
   {
    "duration": 545,
    "start_time": "2022-08-25T09:55:58.827Z"
   },
   {
    "duration": 1072,
    "start_time": "2022-08-25T09:56:02.334Z"
   },
   {
    "duration": 104492,
    "start_time": "2022-08-25T09:56:18.514Z"
   },
   {
    "duration": 3,
    "start_time": "2022-08-25T09:58:03.008Z"
   },
   {
    "duration": 106464,
    "start_time": "2022-08-25T10:00:13.988Z"
   },
   {
    "duration": 1058,
    "start_time": "2022-08-25T10:02:00.454Z"
   },
   {
    "duration": 3,
    "start_time": "2022-08-25T10:02:21.225Z"
   },
   {
    "duration": 17,
    "start_time": "2022-08-25T10:02:23.630Z"
   },
   {
    "duration": 11,
    "start_time": "2022-08-25T10:02:45.544Z"
   },
   {
    "duration": 13,
    "start_time": "2022-08-25T10:02:50.256Z"
   },
   {
    "duration": 10,
    "start_time": "2022-08-25T10:02:54.813Z"
   },
   {
    "duration": 12,
    "start_time": "2022-08-25T10:03:55.072Z"
   },
   {
    "duration": 12,
    "start_time": "2022-08-25T10:04:10.800Z"
   },
   {
    "duration": 16,
    "start_time": "2022-08-25T10:04:22.947Z"
   },
   {
    "duration": 13,
    "start_time": "2022-08-25T10:04:32.887Z"
   },
   {
    "duration": 93,
    "start_time": "2022-08-25T10:04:48.334Z"
   },
   {
    "duration": 6,
    "start_time": "2022-08-25T10:05:01.447Z"
   },
   {
    "duration": 7,
    "start_time": "2022-08-25T10:05:21.070Z"
   },
   {
    "duration": 9,
    "start_time": "2022-08-25T10:05:38.295Z"
   },
   {
    "duration": 17,
    "start_time": "2022-08-25T10:08:51.681Z"
   },
   {
    "duration": 4,
    "start_time": "2022-08-25T10:11:26.369Z"
   },
   {
    "duration": 5,
    "start_time": "2022-08-25T10:11:29.333Z"
   },
   {
    "duration": 3,
    "start_time": "2022-08-25T10:11:36.976Z"
   },
   {
    "duration": 33494,
    "start_time": "2022-08-25T10:11:58.681Z"
   },
   {
    "duration": 292,
    "start_time": "2022-08-25T10:36:55.164Z"
   },
   {
    "duration": 389,
    "start_time": "2022-08-25T10:39:27.420Z"
   },
   {
    "duration": 392,
    "start_time": "2022-08-25T10:39:45.069Z"
   },
   {
    "duration": 5,
    "start_time": "2022-08-25T10:44:27.742Z"
   },
   {
    "duration": 16,
    "start_time": "2022-08-25T10:44:31.001Z"
   },
   {
    "duration": 4,
    "start_time": "2022-08-25T10:45:04.088Z"
   },
   {
    "duration": 10,
    "start_time": "2022-08-25T10:45:21.612Z"
   },
   {
    "duration": 1211,
    "start_time": "2022-08-25T10:45:25.438Z"
   },
   {
    "duration": 671,
    "start_time": "2022-08-25T10:46:02.560Z"
   },
   {
    "duration": 128,
    "start_time": "2022-08-25T10:50:04.270Z"
   },
   {
    "duration": 6,
    "start_time": "2022-08-25T10:51:11.336Z"
   },
   {
    "duration": 16,
    "start_time": "2022-08-25T10:51:14.801Z"
   },
   {
    "duration": 268,
    "start_time": "2022-08-25T10:52:28.282Z"
   },
   {
    "duration": 433,
    "start_time": "2022-08-25T10:53:49.046Z"
   },
   {
    "duration": 331,
    "start_time": "2022-08-25T10:54:54.366Z"
   },
   {
    "duration": 3,
    "start_time": "2022-08-25T10:55:37.747Z"
   },
   {
    "duration": 351,
    "start_time": "2022-08-25T10:55:39.841Z"
   },
   {
    "duration": 4,
    "start_time": "2022-08-25T10:55:47.217Z"
   },
   {
    "duration": 311,
    "start_time": "2022-08-25T10:55:49.139Z"
   },
   {
    "duration": 5,
    "start_time": "2022-08-25T10:56:30.691Z"
   },
   {
    "duration": 292,
    "start_time": "2022-08-25T10:56:32.505Z"
   },
   {
    "duration": 311,
    "start_time": "2022-08-25T10:56:59.126Z"
   },
   {
    "duration": 412,
    "start_time": "2022-08-25T10:57:05.335Z"
   },
   {
    "duration": 292,
    "start_time": "2022-08-25T10:57:10.763Z"
   },
   {
    "duration": 322,
    "start_time": "2022-08-25T10:57:25.468Z"
   },
   {
    "duration": 14,
    "start_time": "2022-08-25T10:57:59.276Z"
   },
   {
    "duration": 3,
    "start_time": "2022-08-25T10:58:12.997Z"
   },
   {
    "duration": 60,
    "start_time": "2022-08-25T10:58:13.004Z"
   },
   {
    "duration": 40,
    "start_time": "2022-08-25T10:58:13.066Z"
   },
   {
    "duration": 9,
    "start_time": "2022-08-25T10:58:13.107Z"
   },
   {
    "duration": 22,
    "start_time": "2022-08-25T10:58:13.118Z"
   },
   {
    "duration": 14,
    "start_time": "2022-08-25T10:58:13.142Z"
   },
   {
    "duration": 24,
    "start_time": "2022-08-25T10:58:13.158Z"
   },
   {
    "duration": 23,
    "start_time": "2022-08-25T10:58:13.183Z"
   },
   {
    "duration": 20,
    "start_time": "2022-08-25T10:58:13.208Z"
   },
   {
    "duration": 84,
    "start_time": "2022-08-25T10:58:13.230Z"
   },
   {
    "duration": 513,
    "start_time": "2022-08-25T10:58:13.317Z"
   },
   {
    "duration": 4,
    "start_time": "2022-08-25T10:58:13.832Z"
   },
   {
    "duration": 28,
    "start_time": "2022-08-25T10:58:13.837Z"
   },
   {
    "duration": 9,
    "start_time": "2022-08-25T10:58:13.866Z"
   },
   {
    "duration": 19,
    "start_time": "2022-08-25T10:58:13.876Z"
   },
   {
    "duration": 480,
    "start_time": "2022-08-25T10:58:13.896Z"
   },
   {
    "duration": 100266,
    "start_time": "2022-08-25T10:58:14.378Z"
   },
   {
    "duration": 1161,
    "start_time": "2022-08-25T10:59:54.645Z"
   },
   {
    "duration": 4,
    "start_time": "2022-08-25T10:59:55.808Z"
   },
   {
    "duration": 108,
    "start_time": "2022-08-25T10:59:55.813Z"
   },
   {
    "duration": 5,
    "start_time": "2022-08-25T10:59:55.922Z"
   },
   {
    "duration": 395,
    "start_time": "2022-08-25T10:59:55.928Z"
   },
   {
    "duration": 7,
    "start_time": "2022-08-25T10:59:56.324Z"
   },
   {
    "duration": 1742,
    "start_time": "2022-08-25T11:04:46.565Z"
   },
   {
    "duration": 147,
    "start_time": "2022-08-25T11:05:10.131Z"
   },
   {
    "duration": 199,
    "start_time": "2022-08-25T11:06:13.762Z"
   },
   {
    "duration": 201,
    "start_time": "2022-08-25T11:06:17.644Z"
   },
   {
    "duration": 6,
    "start_time": "2022-08-25T11:10:09.602Z"
   },
   {
    "duration": 222,
    "start_time": "2022-08-25T11:21:42.336Z"
   },
   {
    "duration": 208,
    "start_time": "2022-08-25T11:22:19.043Z"
   },
   {
    "duration": 213,
    "start_time": "2022-08-25T11:22:50.922Z"
   },
   {
    "duration": 4,
    "start_time": "2022-08-25T11:36:04.860Z"
   },
   {
    "duration": 1786,
    "start_time": "2022-08-26T07:15:18.402Z"
   },
   {
    "duration": 244,
    "start_time": "2022-08-26T07:15:20.190Z"
   },
   {
    "duration": 58,
    "start_time": "2022-08-26T07:15:20.436Z"
   },
   {
    "duration": 13,
    "start_time": "2022-08-26T07:15:20.496Z"
   },
   {
    "duration": 19,
    "start_time": "2022-08-26T07:15:20.510Z"
   },
   {
    "duration": 3,
    "start_time": "2022-08-26T07:15:20.531Z"
   },
   {
    "duration": 1698,
    "start_time": "2022-08-26T07:15:20.535Z"
   },
   {
    "duration": 4,
    "start_time": "2022-08-26T07:15:22.235Z"
   },
   {
    "duration": 8,
    "start_time": "2022-08-26T07:15:22.241Z"
   },
   {
    "duration": 117,
    "start_time": "2022-08-26T07:15:22.252Z"
   },
   {
    "duration": 0,
    "start_time": "2022-08-26T07:15:22.371Z"
   },
   {
    "duration": 0,
    "start_time": "2022-08-26T07:15:22.373Z"
   },
   {
    "duration": 0,
    "start_time": "2022-08-26T07:15:22.374Z"
   },
   {
    "duration": 0,
    "start_time": "2022-08-26T07:15:22.375Z"
   },
   {
    "duration": 0,
    "start_time": "2022-08-26T07:15:22.377Z"
   },
   {
    "duration": 0,
    "start_time": "2022-08-26T07:15:22.378Z"
   },
   {
    "duration": 0,
    "start_time": "2022-08-26T07:15:22.379Z"
   },
   {
    "duration": 0,
    "start_time": "2022-08-26T07:15:22.381Z"
   },
   {
    "duration": 0,
    "start_time": "2022-08-26T07:15:22.382Z"
   },
   {
    "duration": 0,
    "start_time": "2022-08-26T07:15:22.383Z"
   },
   {
    "duration": 0,
    "start_time": "2022-08-26T07:15:22.384Z"
   },
   {
    "duration": 0,
    "start_time": "2022-08-26T07:15:22.386Z"
   },
   {
    "duration": 0,
    "start_time": "2022-08-26T07:15:22.387Z"
   },
   {
    "duration": 0,
    "start_time": "2022-08-26T07:15:22.388Z"
   },
   {
    "duration": 0,
    "start_time": "2022-08-26T07:15:22.389Z"
   },
   {
    "duration": 4,
    "start_time": "2022-08-26T07:18:17.913Z"
   },
   {
    "duration": 37,
    "start_time": "2022-08-26T07:18:17.919Z"
   },
   {
    "duration": 55,
    "start_time": "2022-08-26T07:18:17.958Z"
   },
   {
    "duration": 11,
    "start_time": "2022-08-26T07:18:18.014Z"
   },
   {
    "duration": 41,
    "start_time": "2022-08-26T07:18:18.027Z"
   },
   {
    "duration": 6,
    "start_time": "2022-08-26T07:18:18.070Z"
   },
   {
    "duration": 1582,
    "start_time": "2022-08-26T07:18:18.077Z"
   },
   {
    "duration": 6,
    "start_time": "2022-08-26T07:18:19.667Z"
   },
   {
    "duration": 16,
    "start_time": "2022-08-26T07:18:19.675Z"
   },
   {
    "duration": 6,
    "start_time": "2022-08-26T07:18:19.692Z"
   },
   {
    "duration": 21,
    "start_time": "2022-08-26T07:18:19.701Z"
   },
   {
    "duration": 0,
    "start_time": "2022-08-26T07:18:19.724Z"
   },
   {
    "duration": 0,
    "start_time": "2022-08-26T07:18:19.725Z"
   },
   {
    "duration": 0,
    "start_time": "2022-08-26T07:18:19.725Z"
   },
   {
    "duration": 0,
    "start_time": "2022-08-26T07:18:19.726Z"
   },
   {
    "duration": 0,
    "start_time": "2022-08-26T07:18:19.727Z"
   },
   {
    "duration": 0,
    "start_time": "2022-08-26T07:18:19.728Z"
   },
   {
    "duration": 0,
    "start_time": "2022-08-26T07:18:19.729Z"
   },
   {
    "duration": 0,
    "start_time": "2022-08-26T07:18:19.730Z"
   },
   {
    "duration": 0,
    "start_time": "2022-08-26T07:18:19.731Z"
   },
   {
    "duration": 0,
    "start_time": "2022-08-26T07:18:19.732Z"
   },
   {
    "duration": 0,
    "start_time": "2022-08-26T07:18:19.733Z"
   },
   {
    "duration": 0,
    "start_time": "2022-08-26T07:18:19.734Z"
   },
   {
    "duration": 0,
    "start_time": "2022-08-26T07:18:19.736Z"
   },
   {
    "duration": 0,
    "start_time": "2022-08-26T07:18:19.737Z"
   },
   {
    "duration": 0,
    "start_time": "2022-08-26T07:18:19.738Z"
   },
   {
    "duration": 8,
    "start_time": "2022-08-26T07:20:35.037Z"
   },
   {
    "duration": 7,
    "start_time": "2022-08-26T07:20:37.146Z"
   },
   {
    "duration": 5,
    "start_time": "2022-08-26T07:20:40.122Z"
   },
   {
    "duration": 60,
    "start_time": "2022-08-26T07:20:40.129Z"
   },
   {
    "duration": 49,
    "start_time": "2022-08-26T07:20:40.191Z"
   },
   {
    "duration": 30,
    "start_time": "2022-08-26T07:20:40.242Z"
   },
   {
    "duration": 33,
    "start_time": "2022-08-26T07:20:40.275Z"
   },
   {
    "duration": 4,
    "start_time": "2022-08-26T07:20:40.309Z"
   },
   {
    "duration": 1646,
    "start_time": "2022-08-26T07:20:40.315Z"
   },
   {
    "duration": 5,
    "start_time": "2022-08-26T07:20:41.963Z"
   },
   {
    "duration": 36,
    "start_time": "2022-08-26T07:20:41.970Z"
   },
   {
    "duration": 15,
    "start_time": "2022-08-26T07:20:42.007Z"
   },
   {
    "duration": 30,
    "start_time": "2022-08-26T07:20:42.024Z"
   },
   {
    "duration": 215,
    "start_time": "2022-08-26T07:20:42.055Z"
   },
   {
    "duration": 580,
    "start_time": "2022-08-26T07:20:42.276Z"
   },
   {
    "duration": 4,
    "start_time": "2022-08-26T07:20:42.858Z"
   },
   {
    "duration": 17,
    "start_time": "2022-08-26T07:20:42.863Z"
   },
   {
    "duration": 27,
    "start_time": "2022-08-26T07:20:42.882Z"
   },
   {
    "duration": 30,
    "start_time": "2022-08-26T07:20:42.911Z"
   },
   {
    "duration": 639,
    "start_time": "2022-08-26T07:20:42.943Z"
   },
   {
    "duration": 122730,
    "start_time": "2022-08-26T07:20:43.584Z"
   },
   {
    "duration": 961,
    "start_time": "2022-08-26T07:22:46.316Z"
   },
   {
    "duration": 86,
    "start_time": "2022-08-26T07:22:47.283Z"
   },
   {
    "duration": 26,
    "start_time": "2022-08-26T07:22:47.371Z"
   },
   {
    "duration": 8,
    "start_time": "2022-08-26T07:22:47.399Z"
   },
   {
    "duration": 280,
    "start_time": "2022-08-26T07:22:47.409Z"
   },
   {
    "duration": 7,
    "start_time": "2022-08-26T07:22:47.691Z"
   },
   {
    "duration": 270,
    "start_time": "2022-08-26T07:22:47.700Z"
   },
   {
    "duration": 5,
    "start_time": "2022-08-26T07:23:16.832Z"
   },
   {
    "duration": 47,
    "start_time": "2022-08-26T07:23:16.840Z"
   },
   {
    "duration": 290,
    "start_time": "2022-08-26T07:23:16.890Z"
   },
   {
    "duration": 12,
    "start_time": "2022-08-26T07:23:17.182Z"
   },
   {
    "duration": 19,
    "start_time": "2022-08-26T07:23:17.197Z"
   },
   {
    "duration": 7,
    "start_time": "2022-08-26T07:23:17.218Z"
   },
   {
    "duration": 1578,
    "start_time": "2022-08-26T07:23:17.227Z"
   },
   {
    "duration": 4,
    "start_time": "2022-08-26T07:23:18.807Z"
   },
   {
    "duration": 14,
    "start_time": "2022-08-26T07:23:18.812Z"
   },
   {
    "duration": 6,
    "start_time": "2022-08-26T07:23:18.828Z"
   },
   {
    "duration": 7,
    "start_time": "2022-08-26T07:23:18.837Z"
   },
   {
    "duration": 226,
    "start_time": "2022-08-26T07:23:18.845Z"
   },
   {
    "duration": 569,
    "start_time": "2022-08-26T07:23:19.073Z"
   },
   {
    "duration": 3,
    "start_time": "2022-08-26T07:23:19.644Z"
   },
   {
    "duration": 12,
    "start_time": "2022-08-26T07:23:19.649Z"
   },
   {
    "duration": 8,
    "start_time": "2022-08-26T07:23:19.667Z"
   },
   {
    "duration": 10,
    "start_time": "2022-08-26T07:23:19.677Z"
   },
   {
    "duration": 623,
    "start_time": "2022-08-26T07:23:19.689Z"
   },
   {
    "duration": 121948,
    "start_time": "2022-08-26T07:23:20.313Z"
   },
   {
    "duration": 1027,
    "start_time": "2022-08-26T07:25:22.263Z"
   },
   {
    "duration": 8,
    "start_time": "2022-08-26T07:25:23.368Z"
   },
   {
    "duration": 122,
    "start_time": "2022-08-26T07:25:23.378Z"
   },
   {
    "duration": 7,
    "start_time": "2022-08-26T07:25:23.501Z"
   },
   {
    "duration": 236,
    "start_time": "2022-08-26T07:25:23.510Z"
   },
   {
    "duration": 7,
    "start_time": "2022-08-26T07:25:23.747Z"
   },
   {
    "duration": 265,
    "start_time": "2022-08-26T07:25:23.756Z"
   },
   {
    "duration": 19,
    "start_time": "2022-08-26T07:25:52.071Z"
   },
   {
    "duration": 18,
    "start_time": "2022-08-26T07:25:54.231Z"
   },
   {
    "duration": 123,
    "start_time": "2022-08-26T07:36:52.468Z"
   },
   {
    "duration": 1765,
    "start_time": "2022-08-26T07:37:52.779Z"
   },
   {
    "duration": 1923,
    "start_time": "2022-08-26T07:37:57.998Z"
   },
   {
    "duration": 1667,
    "start_time": "2022-08-26T07:38:04.991Z"
   },
   {
    "duration": 1738,
    "start_time": "2022-08-26T07:38:14.051Z"
   },
   {
    "duration": 1591,
    "start_time": "2022-08-26T07:38:31.970Z"
   },
   {
    "duration": 1854,
    "start_time": "2022-08-26T07:38:43.061Z"
   },
   {
    "duration": 1759,
    "start_time": "2022-08-26T07:38:50.838Z"
   },
   {
    "duration": 502,
    "start_time": "2022-08-26T07:39:15.190Z"
   },
   {
    "duration": 1627,
    "start_time": "2022-08-26T07:39:38.288Z"
   },
   {
    "duration": 1716,
    "start_time": "2022-08-26T07:39:51.984Z"
   },
   {
    "duration": 12,
    "start_time": "2022-08-26T07:40:47.188Z"
   },
   {
    "duration": 51,
    "start_time": "2022-08-27T05:47:51.093Z"
   },
   {
    "duration": 1782,
    "start_time": "2022-08-27T05:47:54.673Z"
   },
   {
    "duration": 153,
    "start_time": "2022-08-27T05:47:56.457Z"
   },
   {
    "duration": 51,
    "start_time": "2022-08-27T05:47:56.611Z"
   },
   {
    "duration": 28,
    "start_time": "2022-08-27T05:47:56.665Z"
   },
   {
    "duration": 14,
    "start_time": "2022-08-27T05:47:56.696Z"
   },
   {
    "duration": 5,
    "start_time": "2022-08-27T05:47:56.712Z"
   },
   {
    "duration": 1664,
    "start_time": "2022-08-27T05:47:56.719Z"
   },
   {
    "duration": 4,
    "start_time": "2022-08-27T05:47:58.385Z"
   },
   {
    "duration": 13,
    "start_time": "2022-08-27T05:47:58.391Z"
   },
   {
    "duration": 8,
    "start_time": "2022-08-27T05:47:58.407Z"
   },
   {
    "duration": 6,
    "start_time": "2022-08-27T05:47:58.417Z"
   },
   {
    "duration": 175,
    "start_time": "2022-08-27T05:47:58.425Z"
   },
   {
    "duration": 497,
    "start_time": "2022-08-27T05:47:58.694Z"
   },
   {
    "duration": 4,
    "start_time": "2022-08-27T05:47:59.192Z"
   },
   {
    "duration": 13,
    "start_time": "2022-08-27T05:47:59.198Z"
   },
   {
    "duration": 8,
    "start_time": "2022-08-27T05:47:59.213Z"
   },
   {
    "duration": 10,
    "start_time": "2022-08-27T05:47:59.222Z"
   },
   {
    "duration": 605,
    "start_time": "2022-08-27T05:47:59.234Z"
   },
   {
    "duration": 116981,
    "start_time": "2022-08-27T05:47:59.840Z"
   },
   {
    "duration": 1575,
    "start_time": "2022-08-27T05:49:56.823Z"
   },
   {
    "duration": 91,
    "start_time": "2022-08-27T05:49:58.402Z"
   },
   {
    "duration": 25,
    "start_time": "2022-08-27T05:49:58.495Z"
   },
   {
    "duration": 37,
    "start_time": "2022-08-27T05:49:58.522Z"
   },
   {
    "duration": 262,
    "start_time": "2022-08-27T05:49:58.561Z"
   },
   {
    "duration": 9,
    "start_time": "2022-08-27T05:49:58.825Z"
   },
   {
    "duration": 279,
    "start_time": "2022-08-27T05:49:58.836Z"
   },
   {
    "duration": 10,
    "start_time": "2022-08-27T05:50:08.883Z"
   },
   {
    "duration": 55,
    "start_time": "2022-08-27T05:50:50.650Z"
   },
   {
    "duration": 44,
    "start_time": "2022-08-27T05:51:00.596Z"
   },
   {
    "duration": 71,
    "start_time": "2022-08-27T05:51:16.514Z"
   },
   {
    "duration": 42,
    "start_time": "2022-08-27T05:51:19.213Z"
   },
   {
    "duration": 5,
    "start_time": "2022-08-27T05:51:53.163Z"
   },
   {
    "duration": 59,
    "start_time": "2022-08-27T05:51:53.170Z"
   },
   {
    "duration": 45,
    "start_time": "2022-08-27T05:51:53.231Z"
   },
   {
    "duration": 15,
    "start_time": "2022-08-27T05:51:53.280Z"
   },
   {
    "duration": 8,
    "start_time": "2022-08-27T05:51:53.297Z"
   },
   {
    "duration": 13,
    "start_time": "2022-08-27T05:51:53.307Z"
   },
   {
    "duration": 3,
    "start_time": "2022-08-27T05:51:53.322Z"
   },
   {
    "duration": 1580,
    "start_time": "2022-08-27T05:51:53.327Z"
   },
   {
    "duration": 5,
    "start_time": "2022-08-27T05:51:54.909Z"
   },
   {
    "duration": 13,
    "start_time": "2022-08-27T05:51:54.916Z"
   },
   {
    "duration": 8,
    "start_time": "2022-08-27T05:51:54.932Z"
   },
   {
    "duration": 9,
    "start_time": "2022-08-27T05:51:54.942Z"
   },
   {
    "duration": 246,
    "start_time": "2022-08-27T05:51:54.953Z"
   },
   {
    "duration": 501,
    "start_time": "2022-08-27T05:51:55.291Z"
   },
   {
    "duration": 6,
    "start_time": "2022-08-27T05:51:55.794Z"
   },
   {
    "duration": 17,
    "start_time": "2022-08-27T05:51:55.802Z"
   },
   {
    "duration": 12,
    "start_time": "2022-08-27T05:51:55.820Z"
   },
   {
    "duration": 12,
    "start_time": "2022-08-27T05:51:55.834Z"
   },
   {
    "duration": 584,
    "start_time": "2022-08-27T05:51:55.848Z"
   },
   {
    "duration": 120035,
    "start_time": "2022-08-27T05:51:56.433Z"
   },
   {
    "duration": 1426,
    "start_time": "2022-08-27T05:53:56.470Z"
   },
   {
    "duration": 94,
    "start_time": "2022-08-27T05:53:57.899Z"
   },
   {
    "duration": 35,
    "start_time": "2022-08-27T05:53:57.994Z"
   },
   {
    "duration": 26,
    "start_time": "2022-08-27T05:53:58.031Z"
   },
   {
    "duration": 258,
    "start_time": "2022-08-27T05:53:58.059Z"
   },
   {
    "duration": 7,
    "start_time": "2022-08-27T05:53:58.319Z"
   },
   {
    "duration": 266,
    "start_time": "2022-08-27T05:53:58.328Z"
   },
   {
    "duration": 52,
    "start_time": "2022-08-27T05:53:58.597Z"
   },
   {
    "duration": 3,
    "start_time": "2022-08-27T05:53:58.651Z"
   },
   {
    "duration": 44,
    "start_time": "2022-08-27T05:54:28.832Z"
   },
   {
    "duration": 47,
    "start_time": "2022-08-27T05:54:42.147Z"
   },
   {
    "duration": 45,
    "start_time": "2022-08-27T05:54:54.567Z"
   },
   {
    "duration": 13,
    "start_time": "2022-08-27T05:55:54.733Z"
   },
   {
    "duration": 11,
    "start_time": "2022-08-27T05:56:04.129Z"
   },
   {
    "duration": 4,
    "start_time": "2022-08-27T05:57:38.655Z"
   },
   {
    "duration": 10,
    "start_time": "2022-08-27T05:57:40.203Z"
   },
   {
    "duration": 7,
    "start_time": "2022-08-27T06:00:07.983Z"
   },
   {
    "duration": 14,
    "start_time": "2022-08-27T06:00:12.049Z"
   },
   {
    "duration": 283,
    "start_time": "2022-08-27T06:00:43.480Z"
   },
   {
    "duration": 299,
    "start_time": "2022-08-27T06:00:54.086Z"
   },
   {
    "duration": 936,
    "start_time": "2022-08-27T06:01:58.312Z"
   },
   {
    "duration": 12,
    "start_time": "2022-08-27T06:04:15.493Z"
   },
   {
    "duration": 5,
    "start_time": "2022-08-27T06:06:28.535Z"
   },
   {
    "duration": 12,
    "start_time": "2022-08-27T06:06:30.003Z"
   },
   {
    "duration": 261,
    "start_time": "2022-08-27T06:06:48.484Z"
   },
   {
    "duration": 256,
    "start_time": "2022-08-27T06:06:53.357Z"
   },
   {
    "duration": 12,
    "start_time": "2022-08-27T06:06:59.377Z"
   },
   {
    "duration": 480,
    "start_time": "2022-08-27T06:07:04.283Z"
   },
   {
    "duration": 21,
    "start_time": "2022-08-27T06:11:22.662Z"
   },
   {
    "duration": 20,
    "start_time": "2022-08-27T06:11:36.783Z"
   },
   {
    "duration": 18,
    "start_time": "2022-08-27T06:12:08.528Z"
   },
   {
    "duration": 5,
    "start_time": "2022-08-27T06:12:13.475Z"
   },
   {
    "duration": 42,
    "start_time": "2022-08-27T06:12:13.485Z"
   },
   {
    "duration": 11,
    "start_time": "2022-08-27T06:12:13.529Z"
   },
   {
    "duration": 51,
    "start_time": "2022-08-27T06:12:13.541Z"
   },
   {
    "duration": 8,
    "start_time": "2022-08-27T06:12:13.594Z"
   },
   {
    "duration": 4,
    "start_time": "2022-08-27T06:12:13.603Z"
   },
   {
    "duration": 6,
    "start_time": "2022-08-27T06:12:13.609Z"
   },
   {
    "duration": 19,
    "start_time": "2022-08-27T06:12:13.617Z"
   },
   {
    "duration": 0,
    "start_time": "2022-08-27T06:12:13.638Z"
   },
   {
    "duration": 0,
    "start_time": "2022-08-27T06:12:13.639Z"
   },
   {
    "duration": 0,
    "start_time": "2022-08-27T06:12:13.640Z"
   },
   {
    "duration": 0,
    "start_time": "2022-08-27T06:12:13.641Z"
   },
   {
    "duration": 0,
    "start_time": "2022-08-27T06:12:13.642Z"
   },
   {
    "duration": 1,
    "start_time": "2022-08-27T06:12:13.643Z"
   },
   {
    "duration": 0,
    "start_time": "2022-08-27T06:12:13.644Z"
   },
   {
    "duration": 0,
    "start_time": "2022-08-27T06:12:13.645Z"
   },
   {
    "duration": 0,
    "start_time": "2022-08-27T06:12:13.647Z"
   },
   {
    "duration": 0,
    "start_time": "2022-08-27T06:12:13.648Z"
   },
   {
    "duration": 0,
    "start_time": "2022-08-27T06:12:13.692Z"
   },
   {
    "duration": 0,
    "start_time": "2022-08-27T06:12:13.693Z"
   },
   {
    "duration": 0,
    "start_time": "2022-08-27T06:12:13.694Z"
   },
   {
    "duration": 0,
    "start_time": "2022-08-27T06:12:13.695Z"
   },
   {
    "duration": 1501,
    "start_time": "2022-08-27T06:12:13.698Z"
   },
   {
    "duration": 91,
    "start_time": "2022-08-27T06:12:15.201Z"
   },
   {
    "duration": 40,
    "start_time": "2022-08-27T06:12:15.295Z"
   },
   {
    "duration": 6,
    "start_time": "2022-08-27T06:12:15.337Z"
   },
   {
    "duration": 262,
    "start_time": "2022-08-27T06:12:15.345Z"
   },
   {
    "duration": 9,
    "start_time": "2022-08-27T06:12:15.609Z"
   },
   {
    "duration": 265,
    "start_time": "2022-08-27T06:12:15.620Z"
   },
   {
    "duration": 8,
    "start_time": "2022-08-27T06:12:28.880Z"
   },
   {
    "duration": 4,
    "start_time": "2022-08-27T06:12:46.848Z"
   },
   {
    "duration": 50,
    "start_time": "2022-08-27T06:12:46.855Z"
   },
   {
    "duration": 11,
    "start_time": "2022-08-27T06:12:46.907Z"
   },
   {
    "duration": 48,
    "start_time": "2022-08-27T06:12:46.920Z"
   },
   {
    "duration": 28,
    "start_time": "2022-08-27T06:12:46.970Z"
   },
   {
    "duration": 16,
    "start_time": "2022-08-27T06:12:47.000Z"
   },
   {
    "duration": 12,
    "start_time": "2022-08-27T06:12:47.018Z"
   },
   {
    "duration": 11,
    "start_time": "2022-08-27T06:12:47.032Z"
   },
   {
    "duration": 280,
    "start_time": "2022-08-27T06:12:47.045Z"
   },
   {
    "duration": 1506,
    "start_time": "2022-08-27T06:12:47.326Z"
   },
   {
    "duration": 4,
    "start_time": "2022-08-27T06:12:48.835Z"
   },
   {
    "duration": 14,
    "start_time": "2022-08-27T06:12:48.841Z"
   },
   {
    "duration": 8,
    "start_time": "2022-08-27T06:12:48.856Z"
   },
   {
    "duration": 26,
    "start_time": "2022-08-27T06:12:48.866Z"
   },
   {
    "duration": 103,
    "start_time": "2022-08-27T06:12:48.894Z"
   },
   {
    "duration": 607,
    "start_time": "2022-08-27T06:12:48.999Z"
   },
   {
    "duration": 4,
    "start_time": "2022-08-27T06:12:49.607Z"
   },
   {
    "duration": 11,
    "start_time": "2022-08-27T06:12:49.613Z"
   },
   {
    "duration": 7,
    "start_time": "2022-08-27T06:12:49.626Z"
   },
   {
    "duration": 8,
    "start_time": "2022-08-27T06:12:49.634Z"
   },
   {
    "duration": 614,
    "start_time": "2022-08-27T06:12:49.644Z"
   },
   {
    "duration": 119289,
    "start_time": "2022-08-27T06:12:50.260Z"
   },
   {
    "duration": 1448,
    "start_time": "2022-08-27T06:14:49.551Z"
   },
   {
    "duration": 4,
    "start_time": "2022-08-27T06:14:51.091Z"
   },
   {
    "duration": 46,
    "start_time": "2022-08-27T06:14:51.097Z"
   },
   {
    "duration": 93,
    "start_time": "2022-08-27T06:14:51.145Z"
   },
   {
    "duration": 262,
    "start_time": "2022-08-27T06:14:51.240Z"
   },
   {
    "duration": 8,
    "start_time": "2022-08-27T06:14:51.503Z"
   },
   {
    "duration": 285,
    "start_time": "2022-08-27T06:14:51.514Z"
   },
   {
    "duration": 7,
    "start_time": "2022-08-27T06:14:51.802Z"
   },
   {
    "duration": 14,
    "start_time": "2022-08-27T06:17:28.470Z"
   },
   {
    "duration": 80,
    "start_time": "2022-08-27T06:18:48.902Z"
   },
   {
    "duration": 871,
    "start_time": "2022-08-27T06:18:57.347Z"
   },
   {
    "duration": 909,
    "start_time": "2022-08-27T06:19:22.004Z"
   },
   {
    "duration": 925,
    "start_time": "2022-08-27T06:23:20.848Z"
   },
   {
    "duration": 15,
    "start_time": "2022-08-27T06:23:32.936Z"
   },
   {
    "duration": 14,
    "start_time": "2022-08-27T06:24:03.315Z"
   },
   {
    "duration": 4,
    "start_time": "2022-08-27T06:24:06.183Z"
   },
   {
    "duration": 13,
    "start_time": "2022-08-27T06:24:11.355Z"
   },
   {
    "duration": 270,
    "start_time": "2022-08-27T06:24:54.710Z"
   },
   {
    "duration": 5,
    "start_time": "2022-08-27T06:25:57.766Z"
   },
   {
    "duration": 45,
    "start_time": "2022-08-27T06:25:57.774Z"
   },
   {
    "duration": 12,
    "start_time": "2022-08-27T06:25:57.821Z"
   },
   {
    "duration": 57,
    "start_time": "2022-08-27T06:25:57.835Z"
   },
   {
    "duration": 7,
    "start_time": "2022-08-27T06:25:57.894Z"
   },
   {
    "duration": 5,
    "start_time": "2022-08-27T06:25:57.903Z"
   },
   {
    "duration": 4,
    "start_time": "2022-08-27T06:25:57.910Z"
   },
   {
    "duration": 18,
    "start_time": "2022-08-27T06:25:57.916Z"
   },
   {
    "duration": 313,
    "start_time": "2022-08-27T06:25:57.936Z"
   },
   {
    "duration": 1599,
    "start_time": "2022-08-27T06:25:58.251Z"
   },
   {
    "duration": 4,
    "start_time": "2022-08-27T06:25:59.853Z"
   },
   {
    "duration": 13,
    "start_time": "2022-08-27T06:25:59.858Z"
   },
   {
    "duration": 21,
    "start_time": "2022-08-27T06:25:59.873Z"
   },
   {
    "duration": 8,
    "start_time": "2022-08-27T06:25:59.895Z"
   },
   {
    "duration": 293,
    "start_time": "2022-08-27T06:25:59.904Z"
   },
   {
    "duration": 584,
    "start_time": "2022-08-27T06:26:00.199Z"
   },
   {
    "duration": 3,
    "start_time": "2022-08-27T06:26:00.785Z"
   },
   {
    "duration": 7,
    "start_time": "2022-08-27T06:26:00.790Z"
   },
   {
    "duration": 22,
    "start_time": "2022-08-27T06:26:00.799Z"
   },
   {
    "duration": 25,
    "start_time": "2022-08-27T06:26:00.822Z"
   },
   {
    "duration": 579,
    "start_time": "2022-08-27T06:26:00.849Z"
   },
   {
    "duration": 3,
    "start_time": "2022-08-27T06:26:01.430Z"
   },
   {
    "duration": 1463,
    "start_time": "2022-08-27T06:26:01.435Z"
   },
   {
    "duration": 93,
    "start_time": "2022-08-27T06:26:02.900Z"
   },
   {
    "duration": 19,
    "start_time": "2022-08-27T06:26:02.995Z"
   },
   {
    "duration": 8,
    "start_time": "2022-08-27T06:26:03.016Z"
   },
   {
    "duration": 254,
    "start_time": "2022-08-27T06:26:03.026Z"
   },
   {
    "duration": 14,
    "start_time": "2022-08-27T06:26:03.282Z"
   },
   {
    "duration": 262,
    "start_time": "2022-08-27T06:26:03.300Z"
   },
   {
    "duration": 4,
    "start_time": "2022-08-27T06:28:42.805Z"
   },
   {
    "duration": 253,
    "start_time": "2022-08-27T06:28:44.656Z"
   },
   {
    "duration": 14,
    "start_time": "2022-08-27T06:30:21.130Z"
   },
   {
    "duration": 5,
    "start_time": "2022-08-27T06:30:30.735Z"
   },
   {
    "duration": 74,
    "start_time": "2022-08-27T06:30:30.744Z"
   },
   {
    "duration": 13,
    "start_time": "2022-08-27T06:30:30.820Z"
   },
   {
    "duration": 58,
    "start_time": "2022-08-27T06:30:30.835Z"
   },
   {
    "duration": 8,
    "start_time": "2022-08-27T06:30:30.895Z"
   },
   {
    "duration": 18,
    "start_time": "2022-08-27T06:30:30.905Z"
   },
   {
    "duration": 30,
    "start_time": "2022-08-27T06:30:30.925Z"
   },
   {
    "duration": 37,
    "start_time": "2022-08-27T06:30:30.957Z"
   },
   {
    "duration": 24,
    "start_time": "2022-08-27T06:30:30.996Z"
   },
   {
    "duration": 254,
    "start_time": "2022-08-27T06:30:31.022Z"
   },
   {
    "duration": 1918,
    "start_time": "2022-08-27T06:30:31.280Z"
   },
   {
    "duration": 5,
    "start_time": "2022-08-27T06:30:33.200Z"
   },
   {
    "duration": 17,
    "start_time": "2022-08-27T06:30:33.207Z"
   },
   {
    "duration": 10,
    "start_time": "2022-08-27T06:30:33.226Z"
   },
   {
    "duration": 12,
    "start_time": "2022-08-27T06:30:33.238Z"
   },
   {
    "duration": 242,
    "start_time": "2022-08-27T06:30:33.252Z"
   },
   {
    "duration": 597,
    "start_time": "2022-08-27T06:30:33.500Z"
   },
   {
    "duration": 4,
    "start_time": "2022-08-27T06:30:34.099Z"
   },
   {
    "duration": 32,
    "start_time": "2022-08-27T06:30:34.106Z"
   },
   {
    "duration": 22,
    "start_time": "2022-08-27T06:30:34.140Z"
   },
   {
    "duration": 26,
    "start_time": "2022-08-27T06:30:34.163Z"
   },
   {
    "duration": 636,
    "start_time": "2022-08-27T06:30:34.191Z"
   },
   {
    "duration": 2,
    "start_time": "2022-08-27T06:30:34.829Z"
   },
   {
    "duration": 1468,
    "start_time": "2022-08-27T06:30:34.833Z"
   },
   {
    "duration": 4,
    "start_time": "2022-08-27T06:30:36.392Z"
   },
   {
    "duration": 25,
    "start_time": "2022-08-27T06:30:36.397Z"
   },
   {
    "duration": 6,
    "start_time": "2022-08-27T06:30:36.424Z"
   },
   {
    "duration": 253,
    "start_time": "2022-08-27T06:30:36.431Z"
   },
   {
    "duration": 7,
    "start_time": "2022-08-27T06:30:36.691Z"
   },
   {
    "duration": 275,
    "start_time": "2022-08-27T06:30:36.699Z"
   },
   {
    "duration": 259,
    "start_time": "2022-08-27T06:32:00.860Z"
   },
   {
    "duration": 1747,
    "start_time": "2022-08-27T06:41:19.746Z"
   },
   {
    "duration": 4,
    "start_time": "2022-08-27T06:41:46.387Z"
   },
   {
    "duration": 54,
    "start_time": "2022-08-27T06:41:46.395Z"
   },
   {
    "duration": 12,
    "start_time": "2022-08-27T06:41:46.451Z"
   },
   {
    "duration": 48,
    "start_time": "2022-08-27T06:41:46.465Z"
   },
   {
    "duration": 8,
    "start_time": "2022-08-27T06:41:46.515Z"
   },
   {
    "duration": 5,
    "start_time": "2022-08-27T06:41:46.525Z"
   },
   {
    "duration": 15,
    "start_time": "2022-08-27T06:41:46.532Z"
   },
   {
    "duration": 21,
    "start_time": "2022-08-27T06:41:46.548Z"
   },
   {
    "duration": 4,
    "start_time": "2022-08-27T06:41:46.571Z"
   },
   {
    "duration": 274,
    "start_time": "2022-08-27T06:41:46.592Z"
   },
   {
    "duration": 1731,
    "start_time": "2022-08-27T06:41:46.868Z"
   },
   {
    "duration": 4,
    "start_time": "2022-08-27T06:41:48.601Z"
   },
   {
    "duration": 16,
    "start_time": "2022-08-27T06:41:48.607Z"
   },
   {
    "duration": 11,
    "start_time": "2022-08-27T06:41:48.625Z"
   },
   {
    "duration": 8,
    "start_time": "2022-08-27T06:41:48.638Z"
   },
   {
    "duration": 252,
    "start_time": "2022-08-27T06:41:48.648Z"
   },
   {
    "duration": 635,
    "start_time": "2022-08-27T06:41:48.903Z"
   },
   {
    "duration": 5,
    "start_time": "2022-08-27T06:41:49.539Z"
   },
   {
    "duration": 12,
    "start_time": "2022-08-27T06:41:49.546Z"
   },
   {
    "duration": 10,
    "start_time": "2022-08-27T06:41:49.560Z"
   },
   {
    "duration": 24,
    "start_time": "2022-08-27T06:41:49.572Z"
   },
   {
    "duration": 769,
    "start_time": "2022-08-27T06:41:49.599Z"
   },
   {
    "duration": 2,
    "start_time": "2022-08-27T06:41:50.371Z"
   },
   {
    "duration": 1427,
    "start_time": "2022-08-27T06:41:50.375Z"
   },
   {
    "duration": 83,
    "start_time": "2022-08-27T06:41:51.809Z"
   },
   {
    "duration": 37,
    "start_time": "2022-08-27T06:41:51.895Z"
   },
   {
    "duration": 8,
    "start_time": "2022-08-27T06:41:51.934Z"
   },
   {
    "duration": 317,
    "start_time": "2022-08-27T06:41:51.944Z"
   },
   {
    "duration": 10,
    "start_time": "2022-08-27T06:41:52.265Z"
   },
   {
    "duration": 307,
    "start_time": "2022-08-27T06:41:52.277Z"
   },
   {
    "duration": 41,
    "start_time": "2022-08-28T09:56:17.373Z"
   },
   {
    "duration": 1517,
    "start_time": "2022-08-28T09:56:21.728Z"
   },
   {
    "duration": 137,
    "start_time": "2022-08-28T09:56:23.247Z"
   },
   {
    "duration": 11,
    "start_time": "2022-08-28T09:56:23.385Z"
   },
   {
    "duration": 39,
    "start_time": "2022-08-28T09:56:23.398Z"
   },
   {
    "duration": 6,
    "start_time": "2022-08-28T09:56:23.439Z"
   },
   {
    "duration": 4,
    "start_time": "2022-08-28T09:56:23.446Z"
   },
   {
    "duration": 5,
    "start_time": "2022-08-28T09:56:23.451Z"
   },
   {
    "duration": 10,
    "start_time": "2022-08-28T09:56:23.457Z"
   },
   {
    "duration": 3,
    "start_time": "2022-08-28T09:56:23.469Z"
   },
   {
    "duration": 243,
    "start_time": "2022-08-28T09:56:23.474Z"
   },
   {
    "duration": 1299,
    "start_time": "2022-08-28T09:56:23.718Z"
   },
   {
    "duration": 4,
    "start_time": "2022-08-28T09:56:25.019Z"
   },
   {
    "duration": 9,
    "start_time": "2022-08-28T09:56:25.024Z"
   },
   {
    "duration": 6,
    "start_time": "2022-08-28T09:56:25.035Z"
   },
   {
    "duration": 7,
    "start_time": "2022-08-28T09:56:25.042Z"
   },
   {
    "duration": 260,
    "start_time": "2022-08-28T09:56:25.050Z"
   },
   {
    "duration": 500,
    "start_time": "2022-08-28T09:56:25.312Z"
   },
   {
    "duration": 3,
    "start_time": "2022-08-28T09:56:25.813Z"
   },
   {
    "duration": 10,
    "start_time": "2022-08-28T09:56:25.817Z"
   },
   {
    "duration": 5,
    "start_time": "2022-08-28T09:56:25.828Z"
   },
   {
    "duration": 6,
    "start_time": "2022-08-28T09:56:25.835Z"
   },
   {
    "duration": 585,
    "start_time": "2022-08-28T09:56:25.843Z"
   },
   {
    "duration": 98336,
    "start_time": "2022-08-28T09:56:26.430Z"
   },
   {
    "duration": 1039,
    "start_time": "2022-08-28T09:58:04.767Z"
   },
   {
    "duration": 3,
    "start_time": "2022-08-28T09:58:05.808Z"
   },
   {
    "duration": 104,
    "start_time": "2022-08-28T09:58:05.813Z"
   },
   {
    "duration": 4,
    "start_time": "2022-08-28T09:58:05.919Z"
   },
   {
    "duration": 229,
    "start_time": "2022-08-28T09:58:05.927Z"
   },
   {
    "duration": 8,
    "start_time": "2022-08-28T09:58:06.157Z"
   },
   {
    "duration": 250,
    "start_time": "2022-08-28T09:58:06.167Z"
   },
   {
    "duration": 1582,
    "start_time": "2022-08-28T10:40:22.018Z"
   },
   {
    "duration": 42,
    "start_time": "2022-08-28T10:40:23.602Z"
   },
   {
    "duration": 10,
    "start_time": "2022-08-28T10:40:23.646Z"
   },
   {
    "duration": 44,
    "start_time": "2022-08-28T10:40:23.658Z"
   },
   {
    "duration": 6,
    "start_time": "2022-08-28T10:40:23.705Z"
   },
   {
    "duration": 3,
    "start_time": "2022-08-28T10:40:23.713Z"
   },
   {
    "duration": 25,
    "start_time": "2022-08-28T10:40:23.718Z"
   },
   {
    "duration": 15,
    "start_time": "2022-08-28T10:40:23.744Z"
   },
   {
    "duration": 7,
    "start_time": "2022-08-28T10:40:23.760Z"
   },
   {
    "duration": 239,
    "start_time": "2022-08-28T10:40:23.768Z"
   },
   {
    "duration": 1287,
    "start_time": "2022-08-28T10:40:24.008Z"
   },
   {
    "duration": 4,
    "start_time": "2022-08-28T10:40:25.297Z"
   },
   {
    "duration": 19,
    "start_time": "2022-08-28T10:40:25.303Z"
   },
   {
    "duration": 24,
    "start_time": "2022-08-28T10:40:25.325Z"
   },
   {
    "duration": 43,
    "start_time": "2022-08-28T10:40:25.350Z"
   },
   {
    "duration": 321,
    "start_time": "2022-08-28T10:40:25.395Z"
   },
   {
    "duration": 555,
    "start_time": "2022-08-28T10:40:25.718Z"
   },
   {
    "duration": 5,
    "start_time": "2022-08-28T10:40:26.274Z"
   },
   {
    "duration": 9,
    "start_time": "2022-08-28T10:40:26.280Z"
   },
   {
    "duration": 21,
    "start_time": "2022-08-28T10:40:26.290Z"
   },
   {
    "duration": 8,
    "start_time": "2022-08-28T10:40:26.313Z"
   },
   {
    "duration": 453,
    "start_time": "2022-08-28T10:40:26.322Z"
   },
   {
    "duration": 90470,
    "start_time": "2022-08-28T10:40:26.776Z"
   },
   {
    "duration": 1164,
    "start_time": "2022-08-28T10:41:57.248Z"
   },
   {
    "duration": 3,
    "start_time": "2022-08-28T10:41:58.414Z"
   },
   {
    "duration": 22,
    "start_time": "2022-08-28T10:41:58.418Z"
   },
   {
    "duration": 5,
    "start_time": "2022-08-28T10:41:58.441Z"
   },
   {
    "duration": 210,
    "start_time": "2022-08-28T10:41:58.448Z"
   },
   {
    "duration": 7,
    "start_time": "2022-08-28T10:41:58.659Z"
   },
   {
    "duration": 216,
    "start_time": "2022-08-28T10:41:58.667Z"
   },
   {
    "duration": 56,
    "start_time": "2022-08-29T05:01:18.258Z"
   },
   {
    "duration": 1605,
    "start_time": "2022-08-29T05:01:21.825Z"
   },
   {
    "duration": 91,
    "start_time": "2022-08-29T05:01:23.431Z"
   },
   {
    "duration": 10,
    "start_time": "2022-08-29T05:01:23.523Z"
   },
   {
    "duration": 36,
    "start_time": "2022-08-29T05:01:23.535Z"
   },
   {
    "duration": 8,
    "start_time": "2022-08-29T05:01:23.573Z"
   },
   {
    "duration": 3,
    "start_time": "2022-08-29T05:01:23.598Z"
   },
   {
    "duration": 13,
    "start_time": "2022-08-29T05:01:23.603Z"
   },
   {
    "duration": 13,
    "start_time": "2022-08-29T05:01:23.617Z"
   },
   {
    "duration": 3,
    "start_time": "2022-08-29T05:01:23.632Z"
   },
   {
    "duration": 227,
    "start_time": "2022-08-29T05:01:23.637Z"
   },
   {
    "duration": 1391,
    "start_time": "2022-08-29T05:01:23.866Z"
   },
   {
    "duration": 4,
    "start_time": "2022-08-29T05:01:25.259Z"
   },
   {
    "duration": 10,
    "start_time": "2022-08-29T05:01:25.264Z"
   },
   {
    "duration": 7,
    "start_time": "2022-08-29T05:01:25.275Z"
   },
   {
    "duration": 7,
    "start_time": "2022-08-29T05:01:25.283Z"
   },
   {
    "duration": 207,
    "start_time": "2022-08-29T05:01:25.291Z"
   },
   {
    "duration": 436,
    "start_time": "2022-08-29T05:01:25.500Z"
   },
   {
    "duration": 3,
    "start_time": "2022-08-29T05:01:25.938Z"
   },
   {
    "duration": 9,
    "start_time": "2022-08-29T05:01:25.942Z"
   },
   {
    "duration": 11,
    "start_time": "2022-08-29T05:01:25.953Z"
   },
   {
    "duration": 11,
    "start_time": "2022-08-29T05:01:25.966Z"
   },
   {
    "duration": 436,
    "start_time": "2022-08-29T05:01:25.979Z"
   },
   {
    "duration": 89469,
    "start_time": "2022-08-29T05:01:26.417Z"
   },
   {
    "duration": 1111,
    "start_time": "2022-08-29T05:02:55.887Z"
   },
   {
    "duration": 3,
    "start_time": "2022-08-29T05:02:57.000Z"
   },
   {
    "duration": 105,
    "start_time": "2022-08-29T05:02:57.005Z"
   },
   {
    "duration": 4,
    "start_time": "2022-08-29T05:02:57.112Z"
   },
   {
    "duration": 206,
    "start_time": "2022-08-29T05:02:57.119Z"
   },
   {
    "duration": 5,
    "start_time": "2022-08-29T05:02:57.327Z"
   },
   {
    "duration": 208,
    "start_time": "2022-08-29T05:02:57.334Z"
   },
   {
    "duration": 38,
    "start_time": "2022-08-29T05:02:57.543Z"
   },
   {
    "duration": 1698,
    "start_time": "2022-08-30T02:54:00.751Z"
   },
   {
    "duration": 146,
    "start_time": "2022-08-30T02:54:02.451Z"
   },
   {
    "duration": 12,
    "start_time": "2022-08-30T02:54:02.598Z"
   },
   {
    "duration": 43,
    "start_time": "2022-08-30T02:54:02.612Z"
   },
   {
    "duration": 7,
    "start_time": "2022-08-30T02:54:02.656Z"
   },
   {
    "duration": 4,
    "start_time": "2022-08-30T02:54:02.664Z"
   },
   {
    "duration": 4,
    "start_time": "2022-08-30T02:54:02.691Z"
   },
   {
    "duration": 12,
    "start_time": "2022-08-30T02:54:02.697Z"
   },
   {
    "duration": 3,
    "start_time": "2022-08-30T02:54:02.711Z"
   },
   {
    "duration": 269,
    "start_time": "2022-08-30T02:54:02.716Z"
   },
   {
    "duration": 1509,
    "start_time": "2022-08-30T02:54:02.986Z"
   },
   {
    "duration": 116,
    "start_time": "2022-08-30T02:54:04.497Z"
   },
   {
    "duration": 0,
    "start_time": "2022-08-30T02:54:04.614Z"
   },
   {
    "duration": 0,
    "start_time": "2022-08-30T02:54:04.615Z"
   },
   {
    "duration": 0,
    "start_time": "2022-08-30T02:54:04.616Z"
   },
   {
    "duration": 0,
    "start_time": "2022-08-30T02:54:04.618Z"
   },
   {
    "duration": 0,
    "start_time": "2022-08-30T02:54:04.619Z"
   },
   {
    "duration": 0,
    "start_time": "2022-08-30T02:54:04.620Z"
   },
   {
    "duration": 0,
    "start_time": "2022-08-30T02:54:04.621Z"
   },
   {
    "duration": 0,
    "start_time": "2022-08-30T02:54:04.622Z"
   },
   {
    "duration": 0,
    "start_time": "2022-08-30T02:54:04.623Z"
   },
   {
    "duration": 0,
    "start_time": "2022-08-30T02:54:04.624Z"
   },
   {
    "duration": 0,
    "start_time": "2022-08-30T02:54:04.625Z"
   },
   {
    "duration": 0,
    "start_time": "2022-08-30T02:54:04.626Z"
   },
   {
    "duration": 0,
    "start_time": "2022-08-30T02:54:04.627Z"
   },
   {
    "duration": 0,
    "start_time": "2022-08-30T02:54:04.628Z"
   },
   {
    "duration": 0,
    "start_time": "2022-08-30T02:54:04.737Z"
   },
   {
    "duration": 0,
    "start_time": "2022-08-30T02:54:04.739Z"
   },
   {
    "duration": 0,
    "start_time": "2022-08-30T02:54:04.740Z"
   },
   {
    "duration": 0,
    "start_time": "2022-08-30T02:54:04.741Z"
   },
   {
    "duration": 0,
    "start_time": "2022-08-30T02:54:04.742Z"
   },
   {
    "duration": 18,
    "start_time": "2022-08-30T02:54:29.221Z"
   },
   {
    "duration": 14,
    "start_time": "2022-08-30T02:54:33.695Z"
   },
   {
    "duration": 4,
    "start_time": "2022-08-30T02:54:43.181Z"
   },
   {
    "duration": 46,
    "start_time": "2022-08-30T02:54:43.187Z"
   },
   {
    "duration": 12,
    "start_time": "2022-08-30T02:54:43.235Z"
   },
   {
    "duration": 51,
    "start_time": "2022-08-30T02:54:43.249Z"
   },
   {
    "duration": 6,
    "start_time": "2022-08-30T02:54:43.302Z"
   },
   {
    "duration": 3,
    "start_time": "2022-08-30T02:54:43.310Z"
   },
   {
    "duration": 5,
    "start_time": "2022-08-30T02:54:43.315Z"
   },
   {
    "duration": 13,
    "start_time": "2022-08-30T02:54:43.321Z"
   },
   {
    "duration": 4,
    "start_time": "2022-08-30T02:54:43.335Z"
   },
   {
    "duration": 281,
    "start_time": "2022-08-30T02:54:43.341Z"
   },
   {
    "duration": 1449,
    "start_time": "2022-08-30T02:54:43.626Z"
   },
   {
    "duration": 24,
    "start_time": "2022-08-30T02:54:45.077Z"
   },
   {
    "duration": 0,
    "start_time": "2022-08-30T02:54:45.102Z"
   },
   {
    "duration": 0,
    "start_time": "2022-08-30T02:54:45.104Z"
   },
   {
    "duration": 0,
    "start_time": "2022-08-30T02:54:45.105Z"
   },
   {
    "duration": 0,
    "start_time": "2022-08-30T02:54:45.107Z"
   },
   {
    "duration": 0,
    "start_time": "2022-08-30T02:54:45.108Z"
   },
   {
    "duration": 0,
    "start_time": "2022-08-30T02:54:45.109Z"
   },
   {
    "duration": 0,
    "start_time": "2022-08-30T02:54:45.111Z"
   },
   {
    "duration": 0,
    "start_time": "2022-08-30T02:54:45.112Z"
   },
   {
    "duration": 0,
    "start_time": "2022-08-30T02:54:45.113Z"
   },
   {
    "duration": 0,
    "start_time": "2022-08-30T02:54:45.114Z"
   },
   {
    "duration": 0,
    "start_time": "2022-08-30T02:54:45.115Z"
   },
   {
    "duration": 0,
    "start_time": "2022-08-30T02:54:45.116Z"
   },
   {
    "duration": 0,
    "start_time": "2022-08-30T02:54:45.118Z"
   },
   {
    "duration": 0,
    "start_time": "2022-08-30T02:54:45.119Z"
   },
   {
    "duration": 0,
    "start_time": "2022-08-30T02:54:45.120Z"
   },
   {
    "duration": 0,
    "start_time": "2022-08-30T02:54:45.121Z"
   },
   {
    "duration": 0,
    "start_time": "2022-08-30T02:54:45.122Z"
   },
   {
    "duration": 0,
    "start_time": "2022-08-30T02:54:45.123Z"
   },
   {
    "duration": 1,
    "start_time": "2022-08-30T02:54:45.124Z"
   },
   {
    "duration": 6,
    "start_time": "2022-08-30T02:55:24.294Z"
   },
   {
    "duration": 48,
    "start_time": "2022-08-30T02:55:24.304Z"
   },
   {
    "duration": 10,
    "start_time": "2022-08-30T02:55:24.353Z"
   },
   {
    "duration": 45,
    "start_time": "2022-08-30T02:55:24.365Z"
   },
   {
    "duration": 7,
    "start_time": "2022-08-30T02:55:24.412Z"
   },
   {
    "duration": 4,
    "start_time": "2022-08-30T02:55:24.421Z"
   },
   {
    "duration": 4,
    "start_time": "2022-08-30T02:55:24.427Z"
   },
   {
    "duration": 13,
    "start_time": "2022-08-30T02:55:24.432Z"
   },
   {
    "duration": 4,
    "start_time": "2022-08-30T02:55:24.447Z"
   },
   {
    "duration": 316,
    "start_time": "2022-08-30T02:55:24.453Z"
   },
   {
    "duration": 1560,
    "start_time": "2022-08-30T02:55:24.772Z"
   },
   {
    "duration": 11,
    "start_time": "2022-08-30T02:55:26.334Z"
   },
   {
    "duration": 0,
    "start_time": "2022-08-30T02:55:26.347Z"
   },
   {
    "duration": 0,
    "start_time": "2022-08-30T02:55:26.349Z"
   },
   {
    "duration": 0,
    "start_time": "2022-08-30T02:55:26.350Z"
   },
   {
    "duration": 0,
    "start_time": "2022-08-30T02:55:26.351Z"
   },
   {
    "duration": 0,
    "start_time": "2022-08-30T02:55:26.352Z"
   },
   {
    "duration": 0,
    "start_time": "2022-08-30T02:55:26.354Z"
   },
   {
    "duration": 0,
    "start_time": "2022-08-30T02:55:26.356Z"
   },
   {
    "duration": 0,
    "start_time": "2022-08-30T02:55:26.357Z"
   },
   {
    "duration": 0,
    "start_time": "2022-08-30T02:55:26.358Z"
   },
   {
    "duration": 0,
    "start_time": "2022-08-30T02:55:26.360Z"
   },
   {
    "duration": 0,
    "start_time": "2022-08-30T02:55:26.361Z"
   },
   {
    "duration": 0,
    "start_time": "2022-08-30T02:55:26.392Z"
   },
   {
    "duration": 0,
    "start_time": "2022-08-30T02:55:26.394Z"
   },
   {
    "duration": 0,
    "start_time": "2022-08-30T02:55:26.395Z"
   },
   {
    "duration": 0,
    "start_time": "2022-08-30T02:55:26.397Z"
   },
   {
    "duration": 0,
    "start_time": "2022-08-30T02:55:26.398Z"
   },
   {
    "duration": 0,
    "start_time": "2022-08-30T02:55:26.400Z"
   },
   {
    "duration": 0,
    "start_time": "2022-08-30T02:55:26.402Z"
   },
   {
    "duration": 0,
    "start_time": "2022-08-30T02:55:26.403Z"
   },
   {
    "duration": 4,
    "start_time": "2022-08-30T02:56:17.591Z"
   },
   {
    "duration": 48,
    "start_time": "2022-08-30T02:56:17.600Z"
   },
   {
    "duration": 11,
    "start_time": "2022-08-30T02:56:17.650Z"
   },
   {
    "duration": 47,
    "start_time": "2022-08-30T02:56:17.663Z"
   },
   {
    "duration": 7,
    "start_time": "2022-08-30T02:56:17.712Z"
   },
   {
    "duration": 4,
    "start_time": "2022-08-30T02:56:17.721Z"
   },
   {
    "duration": 6,
    "start_time": "2022-08-30T02:56:17.726Z"
   },
   {
    "duration": 14,
    "start_time": "2022-08-30T02:56:17.734Z"
   },
   {
    "duration": 4,
    "start_time": "2022-08-30T02:56:17.749Z"
   },
   {
    "duration": 296,
    "start_time": "2022-08-30T02:56:17.754Z"
   },
   {
    "duration": 1595,
    "start_time": "2022-08-30T02:56:18.053Z"
   },
   {
    "duration": 19,
    "start_time": "2022-08-30T02:56:19.650Z"
   },
   {
    "duration": 6,
    "start_time": "2022-08-30T02:56:19.671Z"
   },
   {
    "duration": 15,
    "start_time": "2022-08-30T02:56:19.678Z"
   },
   {
    "duration": 14,
    "start_time": "2022-08-30T02:56:19.695Z"
   },
   {
    "duration": 9,
    "start_time": "2022-08-30T02:56:19.711Z"
   },
   {
    "duration": 9,
    "start_time": "2022-08-30T02:56:19.722Z"
   },
   {
    "duration": 367,
    "start_time": "2022-08-30T02:56:19.733Z"
   },
   {
    "duration": 552,
    "start_time": "2022-08-30T02:56:20.191Z"
   },
   {
    "duration": 4,
    "start_time": "2022-08-30T02:56:20.744Z"
   },
   {
    "duration": 13,
    "start_time": "2022-08-30T02:56:20.750Z"
   },
   {
    "duration": 8,
    "start_time": "2022-08-30T02:56:20.764Z"
   },
   {
    "duration": 20,
    "start_time": "2022-08-30T02:56:20.773Z"
   },
   {
    "duration": 595,
    "start_time": "2022-08-30T02:56:20.795Z"
   },
   {
    "duration": 12,
    "start_time": "2022-08-30T02:58:17.566Z"
   },
   {
    "duration": 51,
    "start_time": "2022-08-30T02:58:17.580Z"
   },
   {
    "duration": 12,
    "start_time": "2022-08-30T02:58:17.632Z"
   },
   {
    "duration": 46,
    "start_time": "2022-08-30T02:58:17.646Z"
   },
   {
    "duration": 9,
    "start_time": "2022-08-30T02:58:17.694Z"
   },
   {
    "duration": 5,
    "start_time": "2022-08-30T02:58:17.704Z"
   },
   {
    "duration": 5,
    "start_time": "2022-08-30T02:58:17.711Z"
   },
   {
    "duration": 12,
    "start_time": "2022-08-30T02:58:17.718Z"
   },
   {
    "duration": 6,
    "start_time": "2022-08-30T02:58:17.732Z"
   },
   {
    "duration": 281,
    "start_time": "2022-08-30T02:58:17.739Z"
   },
   {
    "duration": 1485,
    "start_time": "2022-08-30T02:58:18.022Z"
   },
   {
    "duration": 6,
    "start_time": "2022-08-30T02:58:19.509Z"
   },
   {
    "duration": 6,
    "start_time": "2022-08-30T02:58:19.517Z"
   },
   {
    "duration": 25,
    "start_time": "2022-08-30T02:58:19.524Z"
   },
   {
    "duration": 12,
    "start_time": "2022-08-30T02:58:19.550Z"
   },
   {
    "duration": 8,
    "start_time": "2022-08-30T02:58:19.564Z"
   },
   {
    "duration": 121,
    "start_time": "2022-08-30T02:58:19.573Z"
   },
   {
    "duration": 580,
    "start_time": "2022-08-30T02:58:19.696Z"
   },
   {
    "duration": 4,
    "start_time": "2022-08-30T02:58:20.278Z"
   },
   {
    "duration": 13,
    "start_time": "2022-08-30T02:58:20.284Z"
   },
   {
    "duration": 10,
    "start_time": "2022-08-30T02:58:20.299Z"
   },
   {
    "duration": 10,
    "start_time": "2022-08-30T02:58:20.311Z"
   },
   {
    "duration": 600,
    "start_time": "2022-08-30T02:58:20.323Z"
   },
   {
    "duration": 116710,
    "start_time": "2022-08-30T02:58:20.925Z"
   },
   {
    "duration": 1555,
    "start_time": "2022-08-30T03:00:17.638Z"
   },
   {
    "duration": 3,
    "start_time": "2022-08-30T03:00:19.195Z"
   },
   {
    "duration": 23,
    "start_time": "2022-08-30T03:00:19.200Z"
   },
   {
    "duration": 6,
    "start_time": "2022-08-30T03:00:19.224Z"
   },
   {
    "duration": 248,
    "start_time": "2022-08-30T03:00:19.231Z"
   },
   {
    "duration": 13,
    "start_time": "2022-08-30T03:00:19.480Z"
   },
   {
    "duration": 16,
    "start_time": "2022-08-30T03:00:19.494Z"
   },
   {
    "duration": 4,
    "start_time": "2022-08-30T03:15:37.333Z"
   },
   {
    "duration": 46,
    "start_time": "2022-08-30T03:15:37.342Z"
   },
   {
    "duration": 12,
    "start_time": "2022-08-30T03:15:37.389Z"
   },
   {
    "duration": 49,
    "start_time": "2022-08-30T03:15:37.402Z"
   },
   {
    "duration": 7,
    "start_time": "2022-08-30T03:15:37.453Z"
   },
   {
    "duration": 31,
    "start_time": "2022-08-30T03:15:37.462Z"
   },
   {
    "duration": 5,
    "start_time": "2022-08-30T03:15:37.494Z"
   },
   {
    "duration": 18,
    "start_time": "2022-08-30T03:15:37.501Z"
   },
   {
    "duration": 4,
    "start_time": "2022-08-30T03:15:37.521Z"
   },
   {
    "duration": 286,
    "start_time": "2022-08-30T03:15:37.526Z"
   },
   {
    "duration": 1462,
    "start_time": "2022-08-30T03:15:37.814Z"
   },
   {
    "duration": 15,
    "start_time": "2022-08-30T03:15:39.278Z"
   },
   {
    "duration": 6,
    "start_time": "2022-08-30T03:15:39.295Z"
   },
   {
    "duration": 8,
    "start_time": "2022-08-30T03:15:39.303Z"
   },
   {
    "duration": 6,
    "start_time": "2022-08-30T03:15:39.313Z"
   },
   {
    "duration": 8,
    "start_time": "2022-08-30T03:15:39.321Z"
   },
   {
    "duration": 160,
    "start_time": "2022-08-30T03:15:39.331Z"
   },
   {
    "duration": 476,
    "start_time": "2022-08-30T03:15:39.495Z"
   },
   {
    "duration": 5,
    "start_time": "2022-08-30T03:15:39.973Z"
   },
   {
    "duration": 18,
    "start_time": "2022-08-30T03:15:39.979Z"
   },
   {
    "duration": 10,
    "start_time": "2022-08-30T03:15:39.999Z"
   },
   {
    "duration": 8,
    "start_time": "2022-08-30T03:15:40.011Z"
   },
   {
    "duration": 640,
    "start_time": "2022-08-30T03:15:40.020Z"
   },
   {
    "duration": 117615,
    "start_time": "2022-08-30T03:15:40.662Z"
   },
   {
    "duration": 1716,
    "start_time": "2022-08-30T03:17:38.278Z"
   },
   {
    "duration": 3,
    "start_time": "2022-08-30T03:17:39.996Z"
   },
   {
    "duration": 24,
    "start_time": "2022-08-30T03:17:40.000Z"
   },
   {
    "duration": 5,
    "start_time": "2022-08-30T03:17:40.026Z"
   },
   {
    "duration": 248,
    "start_time": "2022-08-30T03:17:40.034Z"
   },
   {
    "duration": 9,
    "start_time": "2022-08-30T03:17:40.283Z"
   },
   {
    "duration": 19,
    "start_time": "2022-08-30T03:17:40.294Z"
   },
   {
    "duration": 208,
    "start_time": "2022-08-30T03:18:38.129Z"
   },
   {
    "duration": 16,
    "start_time": "2022-08-30T03:22:34.074Z"
   },
   {
    "duration": 4,
    "start_time": "2022-08-30T03:22:34.092Z"
   },
   {
    "duration": 84686,
    "start_time": "2022-08-30T03:22:34.097Z"
   },
   {
    "duration": 11,
    "start_time": "2022-08-30T03:23:58.785Z"
   },
   {
    "duration": 75095,
    "start_time": "2022-08-30T03:23:58.798Z"
   },
   {
    "duration": 15,
    "start_time": "2022-08-30T03:25:13.895Z"
   },
   {
    "duration": 86997,
    "start_time": "2022-08-30T03:26:30.079Z"
   },
   {
    "duration": 16,
    "start_time": "2022-08-30T03:28:04.150Z"
   },
   {
    "duration": 3,
    "start_time": "2022-08-30T03:28:23.069Z"
   },
   {
    "duration": 16,
    "start_time": "2022-08-30T03:28:25.554Z"
   },
   {
    "duration": 15,
    "start_time": "2022-08-30T03:28:31.145Z"
   },
   {
    "duration": 229,
    "start_time": "2022-08-30T03:28:39.767Z"
   },
   {
    "duration": 8,
    "start_time": "2022-08-30T03:29:20.048Z"
   },
   {
    "duration": 5,
    "start_time": "2022-08-30T03:30:20.150Z"
   },
   {
    "duration": 43,
    "start_time": "2022-08-30T03:30:20.161Z"
   },
   {
    "duration": 12,
    "start_time": "2022-08-30T03:30:20.206Z"
   },
   {
    "duration": 47,
    "start_time": "2022-08-30T03:30:20.219Z"
   },
   {
    "duration": 27,
    "start_time": "2022-08-30T03:30:20.269Z"
   },
   {
    "duration": 4,
    "start_time": "2022-08-30T03:30:20.298Z"
   },
   {
    "duration": 6,
    "start_time": "2022-08-30T03:30:20.304Z"
   },
   {
    "duration": 16,
    "start_time": "2022-08-30T03:30:20.312Z"
   },
   {
    "duration": 4,
    "start_time": "2022-08-30T03:30:20.330Z"
   },
   {
    "duration": 296,
    "start_time": "2022-08-30T03:30:20.336Z"
   },
   {
    "duration": 1531,
    "start_time": "2022-08-30T03:30:20.635Z"
   },
   {
    "duration": 8,
    "start_time": "2022-08-30T03:30:22.168Z"
   },
   {
    "duration": 14,
    "start_time": "2022-08-30T03:30:22.178Z"
   },
   {
    "duration": 8,
    "start_time": "2022-08-30T03:30:22.193Z"
   },
   {
    "duration": 6,
    "start_time": "2022-08-30T03:30:22.203Z"
   },
   {
    "duration": 9,
    "start_time": "2022-08-30T03:30:22.211Z"
   },
   {
    "duration": 80,
    "start_time": "2022-08-30T03:30:22.221Z"
   },
   {
    "duration": 458,
    "start_time": "2022-08-30T03:30:22.393Z"
   },
   {
    "duration": 4,
    "start_time": "2022-08-30T03:30:22.853Z"
   },
   {
    "duration": 13,
    "start_time": "2022-08-30T03:30:22.859Z"
   },
   {
    "duration": 18,
    "start_time": "2022-08-30T03:30:22.874Z"
   },
   {
    "duration": 8,
    "start_time": "2022-08-30T03:30:22.894Z"
   },
   {
    "duration": 609,
    "start_time": "2022-08-30T03:30:22.903Z"
   },
   {
    "duration": 3,
    "start_time": "2022-08-30T03:30:23.513Z"
   },
   {
    "duration": 1575,
    "start_time": "2022-08-30T03:30:23.518Z"
   },
   {
    "duration": 3,
    "start_time": "2022-08-30T03:30:25.095Z"
   },
   {
    "duration": 34,
    "start_time": "2022-08-30T03:30:25.100Z"
   },
   {
    "duration": 14,
    "start_time": "2022-08-30T03:30:25.137Z"
   },
   {
    "duration": 249,
    "start_time": "2022-08-30T03:30:25.153Z"
   },
   {
    "duration": 8,
    "start_time": "2022-08-30T03:30:25.404Z"
   },
   {
    "duration": 242,
    "start_time": "2022-08-30T03:30:25.414Z"
   },
   {
    "duration": 301,
    "start_time": "2022-08-30T03:38:45.775Z"
   },
   {
    "duration": 7,
    "start_time": "2022-08-30T03:38:56.638Z"
   },
   {
    "duration": 233,
    "start_time": "2022-08-30T03:40:54.079Z"
   },
   {
    "duration": 223,
    "start_time": "2022-08-30T03:41:20.088Z"
   },
   {
    "duration": 75,
    "start_time": "2022-08-30T03:50:21.124Z"
   },
   {
    "duration": 71,
    "start_time": "2022-08-30T03:50:25.940Z"
   },
   {
    "duration": 76,
    "start_time": "2022-08-30T03:50:32.268Z"
   },
   {
    "duration": 4,
    "start_time": "2022-08-30T04:10:25.728Z"
   },
   {
    "duration": 47,
    "start_time": "2022-08-30T04:10:25.737Z"
   },
   {
    "duration": 12,
    "start_time": "2022-08-30T04:10:25.787Z"
   },
   {
    "duration": 48,
    "start_time": "2022-08-30T04:10:25.800Z"
   },
   {
    "duration": 9,
    "start_time": "2022-08-30T04:10:25.851Z"
   },
   {
    "duration": 31,
    "start_time": "2022-08-30T04:10:25.861Z"
   },
   {
    "duration": 4,
    "start_time": "2022-08-30T04:10:25.894Z"
   },
   {
    "duration": 18,
    "start_time": "2022-08-30T04:10:25.900Z"
   },
   {
    "duration": 4,
    "start_time": "2022-08-30T04:10:25.920Z"
   },
   {
    "duration": 328,
    "start_time": "2022-08-30T04:10:25.925Z"
   },
   {
    "duration": 1571,
    "start_time": "2022-08-30T04:10:26.256Z"
   },
   {
    "duration": 8,
    "start_time": "2022-08-30T04:10:27.829Z"
   },
   {
    "duration": 10,
    "start_time": "2022-08-30T04:10:27.839Z"
   },
   {
    "duration": 10,
    "start_time": "2022-08-30T04:10:27.851Z"
   },
   {
    "duration": 7,
    "start_time": "2022-08-30T04:10:27.863Z"
   },
   {
    "duration": 8,
    "start_time": "2022-08-30T04:10:27.891Z"
   },
   {
    "duration": 94,
    "start_time": "2022-08-30T04:10:27.900Z"
   },
   {
    "duration": 503,
    "start_time": "2022-08-30T04:10:27.997Z"
   },
   {
    "duration": 4,
    "start_time": "2022-08-30T04:10:28.502Z"
   },
   {
    "duration": 18,
    "start_time": "2022-08-30T04:10:28.508Z"
   },
   {
    "duration": 9,
    "start_time": "2022-08-30T04:10:28.528Z"
   },
   {
    "duration": 9,
    "start_time": "2022-08-30T04:10:28.541Z"
   },
   {
    "duration": 778,
    "start_time": "2022-08-30T04:10:28.553Z"
   },
   {
    "duration": 121081,
    "start_time": "2022-08-30T04:10:29.334Z"
   },
   {
    "duration": 1575,
    "start_time": "2022-08-30T04:12:30.417Z"
   },
   {
    "duration": 5,
    "start_time": "2022-08-30T04:12:31.994Z"
   },
   {
    "duration": 33,
    "start_time": "2022-08-30T04:12:32.001Z"
   },
   {
    "duration": 273,
    "start_time": "2022-08-30T04:12:32.036Z"
   },
   {
    "duration": 8,
    "start_time": "2022-08-30T04:12:32.312Z"
   },
   {
    "duration": 227,
    "start_time": "2022-08-30T04:12:32.321Z"
   },
   {
    "duration": 1677,
    "start_time": "2022-08-30T08:02:44.520Z"
   },
   {
    "duration": 84,
    "start_time": "2022-08-30T08:02:46.198Z"
   },
   {
    "duration": 11,
    "start_time": "2022-08-30T08:02:46.283Z"
   },
   {
    "duration": 37,
    "start_time": "2022-08-30T08:02:46.296Z"
   },
   {
    "duration": 7,
    "start_time": "2022-08-30T08:02:46.334Z"
   },
   {
    "duration": 8,
    "start_time": "2022-08-30T08:02:46.342Z"
   },
   {
    "duration": 5,
    "start_time": "2022-08-30T08:02:46.352Z"
   },
   {
    "duration": 12,
    "start_time": "2022-08-30T08:02:46.358Z"
   },
   {
    "duration": 4,
    "start_time": "2022-08-30T08:02:46.371Z"
   },
   {
    "duration": 254,
    "start_time": "2022-08-30T08:02:46.376Z"
   },
   {
    "duration": 1348,
    "start_time": "2022-08-30T08:02:46.631Z"
   },
   {
    "duration": 6,
    "start_time": "2022-08-30T08:02:47.981Z"
   },
   {
    "duration": 6,
    "start_time": "2022-08-30T08:02:47.988Z"
   },
   {
    "duration": 7,
    "start_time": "2022-08-30T08:02:47.995Z"
   },
   {
    "duration": 9,
    "start_time": "2022-08-30T08:02:48.004Z"
   },
   {
    "duration": 7,
    "start_time": "2022-08-30T08:02:48.014Z"
   },
   {
    "duration": 94,
    "start_time": "2022-08-30T08:02:48.023Z"
   },
   {
    "duration": 538,
    "start_time": "2022-08-30T08:02:48.120Z"
   },
   {
    "duration": 3,
    "start_time": "2022-08-30T08:02:48.660Z"
   },
   {
    "duration": 14,
    "start_time": "2022-08-30T08:02:48.665Z"
   },
   {
    "duration": 8,
    "start_time": "2022-08-30T08:02:48.680Z"
   },
   {
    "duration": 12,
    "start_time": "2022-08-30T08:02:48.689Z"
   },
   {
    "duration": 452,
    "start_time": "2022-08-30T08:02:48.703Z"
   },
   {
    "duration": 94318,
    "start_time": "2022-08-30T08:02:49.156Z"
   },
   {
    "duration": 941,
    "start_time": "2022-08-30T08:04:23.475Z"
   },
   {
    "duration": 4,
    "start_time": "2022-08-30T08:04:24.417Z"
   },
   {
    "duration": 24,
    "start_time": "2022-08-30T08:04:24.512Z"
   },
   {
    "duration": 210,
    "start_time": "2022-08-30T08:04:24.539Z"
   },
   {
    "duration": 6,
    "start_time": "2022-08-30T08:04:24.750Z"
   },
   {
    "duration": 196,
    "start_time": "2022-08-30T08:04:24.758Z"
   },
   {
    "duration": 44,
    "start_time": "2022-09-10T04:59:00.384Z"
   },
   {
    "duration": 1651,
    "start_time": "2022-09-11T05:05:32.216Z"
   },
   {
    "duration": 259,
    "start_time": "2022-09-11T05:05:33.869Z"
   },
   {
    "duration": 11,
    "start_time": "2022-09-11T05:05:34.130Z"
   },
   {
    "duration": 45,
    "start_time": "2022-09-11T05:05:34.143Z"
   },
   {
    "duration": 7,
    "start_time": "2022-09-11T05:05:34.190Z"
   },
   {
    "duration": 9,
    "start_time": "2022-09-11T05:05:34.198Z"
   },
   {
    "duration": 8,
    "start_time": "2022-09-11T05:05:34.209Z"
   },
   {
    "duration": 12,
    "start_time": "2022-09-11T05:05:34.219Z"
   },
   {
    "duration": 3,
    "start_time": "2022-09-11T05:05:34.233Z"
   },
   {
    "duration": 277,
    "start_time": "2022-09-11T05:05:34.239Z"
   },
   {
    "duration": 1606,
    "start_time": "2022-09-11T05:05:34.518Z"
   },
   {
    "duration": 6,
    "start_time": "2022-09-11T05:05:36.126Z"
   },
   {
    "duration": 16,
    "start_time": "2022-09-11T05:05:36.134Z"
   },
   {
    "duration": 32,
    "start_time": "2022-09-11T05:05:36.152Z"
   },
   {
    "duration": 25,
    "start_time": "2022-09-11T05:05:36.186Z"
   },
   {
    "duration": 18,
    "start_time": "2022-09-11T05:05:36.213Z"
   },
   {
    "duration": 159,
    "start_time": "2022-09-11T05:05:36.233Z"
   },
   {
    "duration": 482,
    "start_time": "2022-09-11T05:05:36.394Z"
   },
   {
    "duration": 4,
    "start_time": "2022-09-11T05:05:36.878Z"
   },
   {
    "duration": 39,
    "start_time": "2022-09-11T05:05:36.884Z"
   },
   {
    "duration": 8,
    "start_time": "2022-09-11T05:05:36.925Z"
   },
   {
    "duration": 10,
    "start_time": "2022-09-11T05:05:36.935Z"
   },
   {
    "duration": 590,
    "start_time": "2022-09-11T05:05:36.946Z"
   },
   {
    "duration": 16,
    "start_time": "2022-09-11T05:12:11.038Z"
   },
   {
    "duration": 1494,
    "start_time": "2022-10-04T07:35:59.369Z"
   },
   {
    "duration": 83,
    "start_time": "2022-10-04T07:36:00.865Z"
   },
   {
    "duration": 11,
    "start_time": "2022-10-04T07:36:00.950Z"
   },
   {
    "duration": 52,
    "start_time": "2022-10-04T07:36:00.963Z"
   },
   {
    "duration": 8,
    "start_time": "2022-10-04T07:36:01.016Z"
   },
   {
    "duration": 11,
    "start_time": "2022-10-04T07:36:01.026Z"
   },
   {
    "duration": 42,
    "start_time": "2022-10-04T07:36:01.039Z"
   },
   {
    "duration": 38,
    "start_time": "2022-10-04T07:36:01.083Z"
   },
   {
    "duration": 15,
    "start_time": "2022-10-04T07:36:01.123Z"
   },
   {
    "duration": 259,
    "start_time": "2022-10-04T07:36:01.141Z"
   },
   {
    "duration": 1299,
    "start_time": "2022-10-04T07:36:01.401Z"
   },
   {
    "duration": 5,
    "start_time": "2022-10-04T07:36:02.702Z"
   },
   {
    "duration": 25,
    "start_time": "2022-10-04T07:36:02.709Z"
   },
   {
    "duration": 33,
    "start_time": "2022-10-04T07:36:02.736Z"
   },
   {
    "duration": 21,
    "start_time": "2022-10-04T07:36:02.770Z"
   },
   {
    "duration": 102,
    "start_time": "2022-10-04T07:36:02.792Z"
   },
   {
    "duration": 5,
    "start_time": "2022-10-04T07:36:02.896Z"
   },
   {
    "duration": 30,
    "start_time": "2022-10-04T07:36:02.902Z"
   },
   {
    "duration": 525,
    "start_time": "2022-10-04T07:36:02.933Z"
   },
   {
    "duration": 4,
    "start_time": "2022-10-04T07:36:03.459Z"
   },
   {
    "duration": 45,
    "start_time": "2022-10-04T07:36:03.464Z"
   },
   {
    "duration": 33,
    "start_time": "2022-10-04T07:36:03.510Z"
   },
   {
    "duration": 33,
    "start_time": "2022-10-04T07:36:03.544Z"
   },
   {
    "duration": 455,
    "start_time": "2022-10-04T07:36:03.578Z"
   },
   {
    "duration": 91581,
    "start_time": "2022-10-04T07:36:04.035Z"
   },
   {
    "duration": 1095,
    "start_time": "2022-10-04T07:37:35.618Z"
   },
   {
    "duration": 3,
    "start_time": "2022-10-04T07:37:36.715Z"
   },
   {
    "duration": 14,
    "start_time": "2022-10-04T07:37:36.811Z"
   },
   {
    "duration": 211,
    "start_time": "2022-10-04T07:37:36.827Z"
   },
   {
    "duration": 7,
    "start_time": "2022-10-04T07:37:37.040Z"
   },
   {
    "duration": 211,
    "start_time": "2022-10-04T07:37:37.048Z"
   }
  ],
  "kernelspec": {
   "display_name": "Python 3 (ipykernel)",
   "language": "python",
   "name": "python3"
  },
  "language_info": {
   "codemirror_mode": {
    "name": "ipython",
    "version": 3
   },
   "file_extension": ".py",
   "mimetype": "text/x-python",
   "name": "python",
   "nbconvert_exporter": "python",
   "pygments_lexer": "ipython3",
   "version": "3.9.7"
  },
  "toc": {
   "base_numbering": 1,
   "nav_menu": {},
   "number_sections": true,
   "sideBar": true,
   "skip_h1_title": true,
   "title_cell": "Table of Contents",
   "title_sidebar": "Contents",
   "toc_cell": false,
   "toc_position": {},
   "toc_section_display": true,
   "toc_window_display": false
  }
 },
 "nbformat": 4,
 "nbformat_minor": 2
}
