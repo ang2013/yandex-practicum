{
 "cells": [
  {
   "cell_type": "markdown",
   "metadata": {},
   "source": [
    "# Аналитика интернет-магазина."
   ]
  },
  {
   "cell_type": "markdown",
   "metadata": {},
   "source": [
    "Мы анализируем деятельность крупного интернет-магазина. Вместе с отделом маркетинга  подготовлен список гипотез для увеличения выручки. Цели исследования:\n",
    "- приоритизация  гипотез\n",
    "- анализ результатов A/B-тестирования"
   ]
  },
  {
   "cell_type": "markdown",
   "metadata": {},
   "source": [
    "Загрузим библиотеки и откроем файлы."
   ]
  },
  {
   "cell_type": "code",
   "execution_count": 1,
   "metadata": {},
   "outputs": [],
   "source": [
    "import pandas as pd\n",
    "import datetime as dt\n",
    "import numpy as np\n",
    "import matplotlib.pyplot as plt\n",
    "import scipy.stats as stats"
   ]
  },
  {
   "cell_type": "markdown",
   "metadata": {},
   "source": [
    "## Приоритизация гипотез."
   ]
  },
  {
   "cell_type": "markdown",
   "metadata": {},
   "source": [
    "Загрузим данные о гипотезах."
   ]
  },
  {
   "cell_type": "code",
   "execution_count": 2,
   "metadata": {},
   "outputs": [],
   "source": [
    "hp = pd.read_csv ('/datasets/hypothesis.csv')"
   ]
  },
  {
   "cell_type": "code",
   "execution_count": 3,
   "metadata": {
    "scrolled": true
   },
   "outputs": [
    {
     "data": {
      "text/html": [
       "<div>\n",
       "<style scoped>\n",
       "    .dataframe tbody tr th:only-of-type {\n",
       "        vertical-align: middle;\n",
       "    }\n",
       "\n",
       "    .dataframe tbody tr th {\n",
       "        vertical-align: top;\n",
       "    }\n",
       "\n",
       "    .dataframe thead th {\n",
       "        text-align: right;\n",
       "    }\n",
       "</style>\n",
       "<table border=\"1\" class=\"dataframe\">\n",
       "  <thead>\n",
       "    <tr style=\"text-align: right;\">\n",
       "      <th></th>\n",
       "      <th>Hypothesis</th>\n",
       "      <th>Reach</th>\n",
       "      <th>Impact</th>\n",
       "      <th>Confidence</th>\n",
       "      <th>Efforts</th>\n",
       "    </tr>\n",
       "  </thead>\n",
       "  <tbody>\n",
       "    <tr>\n",
       "      <th>0</th>\n",
       "      <td>Добавить два новых канала привлечения трафика,...</td>\n",
       "      <td>3</td>\n",
       "      <td>10</td>\n",
       "      <td>8</td>\n",
       "      <td>6</td>\n",
       "    </tr>\n",
       "    <tr>\n",
       "      <th>1</th>\n",
       "      <td>Запустить собственную службу доставки, что сок...</td>\n",
       "      <td>2</td>\n",
       "      <td>5</td>\n",
       "      <td>4</td>\n",
       "      <td>10</td>\n",
       "    </tr>\n",
       "    <tr>\n",
       "      <th>2</th>\n",
       "      <td>Добавить блоки рекомендаций товаров на сайт ин...</td>\n",
       "      <td>8</td>\n",
       "      <td>3</td>\n",
       "      <td>7</td>\n",
       "      <td>3</td>\n",
       "    </tr>\n",
       "    <tr>\n",
       "      <th>3</th>\n",
       "      <td>Изменить структура категорий, что увеличит кон...</td>\n",
       "      <td>8</td>\n",
       "      <td>3</td>\n",
       "      <td>3</td>\n",
       "      <td>8</td>\n",
       "    </tr>\n",
       "    <tr>\n",
       "      <th>4</th>\n",
       "      <td>Изменить цвет фона главной страницы, чтобы уве...</td>\n",
       "      <td>3</td>\n",
       "      <td>1</td>\n",
       "      <td>1</td>\n",
       "      <td>1</td>\n",
       "    </tr>\n",
       "    <tr>\n",
       "      <th>5</th>\n",
       "      <td>Добавить страницу отзывов клиентов о магазине,...</td>\n",
       "      <td>3</td>\n",
       "      <td>2</td>\n",
       "      <td>2</td>\n",
       "      <td>3</td>\n",
       "    </tr>\n",
       "    <tr>\n",
       "      <th>6</th>\n",
       "      <td>Показать на главной странице баннеры с актуаль...</td>\n",
       "      <td>5</td>\n",
       "      <td>3</td>\n",
       "      <td>8</td>\n",
       "      <td>3</td>\n",
       "    </tr>\n",
       "    <tr>\n",
       "      <th>7</th>\n",
       "      <td>Добавить форму подписки на все основные страни...</td>\n",
       "      <td>10</td>\n",
       "      <td>7</td>\n",
       "      <td>8</td>\n",
       "      <td>5</td>\n",
       "    </tr>\n",
       "    <tr>\n",
       "      <th>8</th>\n",
       "      <td>Запустить акцию, дающую скидку на товар в день...</td>\n",
       "      <td>1</td>\n",
       "      <td>9</td>\n",
       "      <td>9</td>\n",
       "      <td>5</td>\n",
       "    </tr>\n",
       "  </tbody>\n",
       "</table>\n",
       "</div>"
      ],
      "text/plain": [
       "                                          Hypothesis  Reach  Impact  \\\n",
       "0  Добавить два новых канала привлечения трафика,...      3      10   \n",
       "1  Запустить собственную службу доставки, что сок...      2       5   \n",
       "2  Добавить блоки рекомендаций товаров на сайт ин...      8       3   \n",
       "3  Изменить структура категорий, что увеличит кон...      8       3   \n",
       "4  Изменить цвет фона главной страницы, чтобы уве...      3       1   \n",
       "5  Добавить страницу отзывов клиентов о магазине,...      3       2   \n",
       "6  Показать на главной странице баннеры с актуаль...      5       3   \n",
       "7  Добавить форму подписки на все основные страни...     10       7   \n",
       "8  Запустить акцию, дающую скидку на товар в день...      1       9   \n",
       "\n",
       "   Confidence  Efforts  \n",
       "0           8        6  \n",
       "1           4       10  \n",
       "2           7        3  \n",
       "3           3        8  \n",
       "4           1        1  \n",
       "5           2        3  \n",
       "6           8        3  \n",
       "7           8        5  \n",
       "8           9        5  "
      ]
     },
     "execution_count": 3,
     "metadata": {},
     "output_type": "execute_result"
    }
   ],
   "source": [
    "hp"
   ]
  },
  {
   "cell_type": "markdown",
   "metadata": {},
   "source": [
    "Применим фреймворк ICE для приоритизации гипотез."
   ]
  },
  {
   "cell_type": "code",
   "execution_count": 4,
   "metadata": {},
   "outputs": [],
   "source": [
    "hp ['Ice'] = (hp ['Impact'] * hp ['Confidence'] ) / hp ['Efforts']"
   ]
  },
  {
   "cell_type": "code",
   "execution_count": 5,
   "metadata": {},
   "outputs": [
    {
     "data": {
      "text/html": [
       "<div>\n",
       "<style scoped>\n",
       "    .dataframe tbody tr th:only-of-type {\n",
       "        vertical-align: middle;\n",
       "    }\n",
       "\n",
       "    .dataframe tbody tr th {\n",
       "        vertical-align: top;\n",
       "    }\n",
       "\n",
       "    .dataframe thead th {\n",
       "        text-align: right;\n",
       "    }\n",
       "</style>\n",
       "<table border=\"1\" class=\"dataframe\">\n",
       "  <thead>\n",
       "    <tr style=\"text-align: right;\">\n",
       "      <th></th>\n",
       "      <th>Hypothesis</th>\n",
       "      <th>Reach</th>\n",
       "      <th>Impact</th>\n",
       "      <th>Confidence</th>\n",
       "      <th>Efforts</th>\n",
       "      <th>Ice</th>\n",
       "    </tr>\n",
       "  </thead>\n",
       "  <tbody>\n",
       "    <tr>\n",
       "      <th>8</th>\n",
       "      <td>Запустить акцию, дающую скидку на товар в день...</td>\n",
       "      <td>1</td>\n",
       "      <td>9</td>\n",
       "      <td>9</td>\n",
       "      <td>5</td>\n",
       "      <td>16.2</td>\n",
       "    </tr>\n",
       "    <tr>\n",
       "      <th>0</th>\n",
       "      <td>Добавить два новых канала привлечения трафика,...</td>\n",
       "      <td>3</td>\n",
       "      <td>10</td>\n",
       "      <td>8</td>\n",
       "      <td>6</td>\n",
       "      <td>13.3</td>\n",
       "    </tr>\n",
       "    <tr>\n",
       "      <th>7</th>\n",
       "      <td>Добавить форму подписки на все основные страни...</td>\n",
       "      <td>10</td>\n",
       "      <td>7</td>\n",
       "      <td>8</td>\n",
       "      <td>5</td>\n",
       "      <td>11.2</td>\n",
       "    </tr>\n",
       "    <tr>\n",
       "      <th>6</th>\n",
       "      <td>Показать на главной странице баннеры с актуаль...</td>\n",
       "      <td>5</td>\n",
       "      <td>3</td>\n",
       "      <td>8</td>\n",
       "      <td>3</td>\n",
       "      <td>8.0</td>\n",
       "    </tr>\n",
       "    <tr>\n",
       "      <th>2</th>\n",
       "      <td>Добавить блоки рекомендаций товаров на сайт ин...</td>\n",
       "      <td>8</td>\n",
       "      <td>3</td>\n",
       "      <td>7</td>\n",
       "      <td>3</td>\n",
       "      <td>7.0</td>\n",
       "    </tr>\n",
       "    <tr>\n",
       "      <th>1</th>\n",
       "      <td>Запустить собственную службу доставки, что сок...</td>\n",
       "      <td>2</td>\n",
       "      <td>5</td>\n",
       "      <td>4</td>\n",
       "      <td>10</td>\n",
       "      <td>2.0</td>\n",
       "    </tr>\n",
       "    <tr>\n",
       "      <th>5</th>\n",
       "      <td>Добавить страницу отзывов клиентов о магазине,...</td>\n",
       "      <td>3</td>\n",
       "      <td>2</td>\n",
       "      <td>2</td>\n",
       "      <td>3</td>\n",
       "      <td>1.3</td>\n",
       "    </tr>\n",
       "    <tr>\n",
       "      <th>3</th>\n",
       "      <td>Изменить структура категорий, что увеличит кон...</td>\n",
       "      <td>8</td>\n",
       "      <td>3</td>\n",
       "      <td>3</td>\n",
       "      <td>8</td>\n",
       "      <td>1.1</td>\n",
       "    </tr>\n",
       "    <tr>\n",
       "      <th>4</th>\n",
       "      <td>Изменить цвет фона главной страницы, чтобы уве...</td>\n",
       "      <td>3</td>\n",
       "      <td>1</td>\n",
       "      <td>1</td>\n",
       "      <td>1</td>\n",
       "      <td>1.0</td>\n",
       "    </tr>\n",
       "  </tbody>\n",
       "</table>\n",
       "</div>"
      ],
      "text/plain": [
       "                                          Hypothesis  Reach  Impact  \\\n",
       "8  Запустить акцию, дающую скидку на товар в день...      1       9   \n",
       "0  Добавить два новых канала привлечения трафика,...      3      10   \n",
       "7  Добавить форму подписки на все основные страни...     10       7   \n",
       "6  Показать на главной странице баннеры с актуаль...      5       3   \n",
       "2  Добавить блоки рекомендаций товаров на сайт ин...      8       3   \n",
       "1  Запустить собственную службу доставки, что сок...      2       5   \n",
       "5  Добавить страницу отзывов клиентов о магазине,...      3       2   \n",
       "3  Изменить структура категорий, что увеличит кон...      8       3   \n",
       "4  Изменить цвет фона главной страницы, чтобы уве...      3       1   \n",
       "\n",
       "   Confidence  Efforts   Ice  \n",
       "8           9        5  16.2  \n",
       "0           8        6  13.3  \n",
       "7           8        5  11.2  \n",
       "6           8        3   8.0  \n",
       "2           7        3   7.0  \n",
       "1           4       10   2.0  \n",
       "5           2        3   1.3  \n",
       "3           3        8   1.1  \n",
       "4           1        1   1.0  "
      ]
     },
     "execution_count": 5,
     "metadata": {},
     "output_type": "execute_result"
    }
   ],
   "source": [
    "hp = hp.sort_values ('Ice', ascending = False).round(1)\n",
    "hp"
   ]
  },
  {
   "cell_type": "markdown",
   "metadata": {},
   "source": [
    "Применим фреймворк RICE для приоритизации гипотез. "
   ]
  },
  {
   "cell_type": "markdown",
   "metadata": {},
   "source": [
    "Фреймворк RICE состоит из четырёх компонент: (Reach * Impact * Confidence) / Efforts "
   ]
  },
  {
   "cell_type": "code",
   "execution_count": 6,
   "metadata": {},
   "outputs": [],
   "source": [
    "hp ['Rice'] = (hp ['Reach'] * hp ['Impact'] * hp ['Confidence'] ) / hp ['Efforts']"
   ]
  },
  {
   "cell_type": "code",
   "execution_count": 7,
   "metadata": {},
   "outputs": [
    {
     "data": {
      "text/html": [
       "<div>\n",
       "<style scoped>\n",
       "    .dataframe tbody tr th:only-of-type {\n",
       "        vertical-align: middle;\n",
       "    }\n",
       "\n",
       "    .dataframe tbody tr th {\n",
       "        vertical-align: top;\n",
       "    }\n",
       "\n",
       "    .dataframe thead th {\n",
       "        text-align: right;\n",
       "    }\n",
       "</style>\n",
       "<table border=\"1\" class=\"dataframe\">\n",
       "  <thead>\n",
       "    <tr style=\"text-align: right;\">\n",
       "      <th></th>\n",
       "      <th>Hypothesis</th>\n",
       "      <th>Reach</th>\n",
       "      <th>Impact</th>\n",
       "      <th>Confidence</th>\n",
       "      <th>Efforts</th>\n",
       "      <th>Ice</th>\n",
       "      <th>Rice</th>\n",
       "    </tr>\n",
       "  </thead>\n",
       "  <tbody>\n",
       "    <tr>\n",
       "      <th>7</th>\n",
       "      <td>Добавить форму подписки на все основные страни...</td>\n",
       "      <td>10</td>\n",
       "      <td>7</td>\n",
       "      <td>8</td>\n",
       "      <td>5</td>\n",
       "      <td>11.2</td>\n",
       "      <td>112.0</td>\n",
       "    </tr>\n",
       "    <tr>\n",
       "      <th>2</th>\n",
       "      <td>Добавить блоки рекомендаций товаров на сайт ин...</td>\n",
       "      <td>8</td>\n",
       "      <td>3</td>\n",
       "      <td>7</td>\n",
       "      <td>3</td>\n",
       "      <td>7.0</td>\n",
       "      <td>56.0</td>\n",
       "    </tr>\n",
       "    <tr>\n",
       "      <th>0</th>\n",
       "      <td>Добавить два новых канала привлечения трафика,...</td>\n",
       "      <td>3</td>\n",
       "      <td>10</td>\n",
       "      <td>8</td>\n",
       "      <td>6</td>\n",
       "      <td>13.3</td>\n",
       "      <td>40.0</td>\n",
       "    </tr>\n",
       "    <tr>\n",
       "      <th>6</th>\n",
       "      <td>Показать на главной странице баннеры с актуаль...</td>\n",
       "      <td>5</td>\n",
       "      <td>3</td>\n",
       "      <td>8</td>\n",
       "      <td>3</td>\n",
       "      <td>8.0</td>\n",
       "      <td>40.0</td>\n",
       "    </tr>\n",
       "    <tr>\n",
       "      <th>8</th>\n",
       "      <td>Запустить акцию, дающую скидку на товар в день...</td>\n",
       "      <td>1</td>\n",
       "      <td>9</td>\n",
       "      <td>9</td>\n",
       "      <td>5</td>\n",
       "      <td>16.2</td>\n",
       "      <td>16.2</td>\n",
       "    </tr>\n",
       "    <tr>\n",
       "      <th>3</th>\n",
       "      <td>Изменить структура категорий, что увеличит кон...</td>\n",
       "      <td>8</td>\n",
       "      <td>3</td>\n",
       "      <td>3</td>\n",
       "      <td>8</td>\n",
       "      <td>1.1</td>\n",
       "      <td>9.0</td>\n",
       "    </tr>\n",
       "    <tr>\n",
       "      <th>1</th>\n",
       "      <td>Запустить собственную службу доставки, что сок...</td>\n",
       "      <td>2</td>\n",
       "      <td>5</td>\n",
       "      <td>4</td>\n",
       "      <td>10</td>\n",
       "      <td>2.0</td>\n",
       "      <td>4.0</td>\n",
       "    </tr>\n",
       "    <tr>\n",
       "      <th>5</th>\n",
       "      <td>Добавить страницу отзывов клиентов о магазине,...</td>\n",
       "      <td>3</td>\n",
       "      <td>2</td>\n",
       "      <td>2</td>\n",
       "      <td>3</td>\n",
       "      <td>1.3</td>\n",
       "      <td>4.0</td>\n",
       "    </tr>\n",
       "    <tr>\n",
       "      <th>4</th>\n",
       "      <td>Изменить цвет фона главной страницы, чтобы уве...</td>\n",
       "      <td>3</td>\n",
       "      <td>1</td>\n",
       "      <td>1</td>\n",
       "      <td>1</td>\n",
       "      <td>1.0</td>\n",
       "      <td>3.0</td>\n",
       "    </tr>\n",
       "  </tbody>\n",
       "</table>\n",
       "</div>"
      ],
      "text/plain": [
       "                                          Hypothesis  Reach  Impact  \\\n",
       "7  Добавить форму подписки на все основные страни...     10       7   \n",
       "2  Добавить блоки рекомендаций товаров на сайт ин...      8       3   \n",
       "0  Добавить два новых канала привлечения трафика,...      3      10   \n",
       "6  Показать на главной странице баннеры с актуаль...      5       3   \n",
       "8  Запустить акцию, дающую скидку на товар в день...      1       9   \n",
       "3  Изменить структура категорий, что увеличит кон...      8       3   \n",
       "1  Запустить собственную службу доставки, что сок...      2       5   \n",
       "5  Добавить страницу отзывов клиентов о магазине,...      3       2   \n",
       "4  Изменить цвет фона главной страницы, чтобы уве...      3       1   \n",
       "\n",
       "   Confidence  Efforts   Ice   Rice  \n",
       "7           8        5  11.2  112.0  \n",
       "2           7        3   7.0   56.0  \n",
       "0           8        6  13.3   40.0  \n",
       "6           8        3   8.0   40.0  \n",
       "8           9        5  16.2   16.2  \n",
       "3           3        8   1.1    9.0  \n",
       "1           4       10   2.0    4.0  \n",
       "5           2        3   1.3    4.0  \n",
       "4           1        1   1.0    3.0  "
      ]
     },
     "execution_count": 7,
     "metadata": {},
     "output_type": "execute_result"
    }
   ],
   "source": [
    "hp = hp.sort_values ('Rice', ascending = False)\n",
    "hp"
   ]
  },
  {
   "cell_type": "markdown",
   "metadata": {},
   "source": [
    "После применения метода RICE, приоритезация гипотез изменилась. Это произошло потому что, некоторые важные гипотезы, в которых мы уверены не охватывают большого количества пользователей. Например акция дающая скидку на день рождения очень важна и мы в ней очень уверены, но она охватывает лишь очень малое количество покупателей. Метод RICE позовляет сосредоточится на гипотезах, охватывающих набольшее количество пользователей."
   ]
  },
  {
   "cell_type": "markdown",
   "metadata": {},
   "source": [
    "## Анализ A/B-теста\n"
   ]
  },
  {
   "cell_type": "markdown",
   "metadata": {},
   "source": [
    "Загрузим датафреймы с данными о покупках и пользователях в группах A/B-теста."
   ]
  },
  {
   "cell_type": "code",
   "execution_count": 8,
   "metadata": {},
   "outputs": [],
   "source": [
    "orders = pd.read_csv ('/datasets/orders.csv')\n",
    "orders['date'] = orders['date'].map(\n",
    "    lambda x: dt.datetime.strptime(x, '%Y-%m-%d'))"
   ]
  },
  {
   "cell_type": "code",
   "execution_count": 9,
   "metadata": {},
   "outputs": [
    {
     "data": {
      "text/html": [
       "<div>\n",
       "<style scoped>\n",
       "    .dataframe tbody tr th:only-of-type {\n",
       "        vertical-align: middle;\n",
       "    }\n",
       "\n",
       "    .dataframe tbody tr th {\n",
       "        vertical-align: top;\n",
       "    }\n",
       "\n",
       "    .dataframe thead th {\n",
       "        text-align: right;\n",
       "    }\n",
       "</style>\n",
       "<table border=\"1\" class=\"dataframe\">\n",
       "  <thead>\n",
       "    <tr style=\"text-align: right;\">\n",
       "      <th></th>\n",
       "      <th>transactionId</th>\n",
       "      <th>visitorId</th>\n",
       "      <th>date</th>\n",
       "      <th>revenue</th>\n",
       "      <th>group</th>\n",
       "    </tr>\n",
       "  </thead>\n",
       "  <tbody>\n",
       "    <tr>\n",
       "      <th>0</th>\n",
       "      <td>3667963787</td>\n",
       "      <td>3312258926</td>\n",
       "      <td>2019-08-15</td>\n",
       "      <td>1650</td>\n",
       "      <td>B</td>\n",
       "    </tr>\n",
       "    <tr>\n",
       "      <th>1</th>\n",
       "      <td>2804400009</td>\n",
       "      <td>3642806036</td>\n",
       "      <td>2019-08-15</td>\n",
       "      <td>730</td>\n",
       "      <td>B</td>\n",
       "    </tr>\n",
       "    <tr>\n",
       "      <th>2</th>\n",
       "      <td>2961555356</td>\n",
       "      <td>4069496402</td>\n",
       "      <td>2019-08-15</td>\n",
       "      <td>400</td>\n",
       "      <td>A</td>\n",
       "    </tr>\n",
       "    <tr>\n",
       "      <th>3</th>\n",
       "      <td>3797467345</td>\n",
       "      <td>1196621759</td>\n",
       "      <td>2019-08-15</td>\n",
       "      <td>9759</td>\n",
       "      <td>B</td>\n",
       "    </tr>\n",
       "    <tr>\n",
       "      <th>4</th>\n",
       "      <td>2282983706</td>\n",
       "      <td>2322279887</td>\n",
       "      <td>2019-08-15</td>\n",
       "      <td>2308</td>\n",
       "      <td>B</td>\n",
       "    </tr>\n",
       "  </tbody>\n",
       "</table>\n",
       "</div>"
      ],
      "text/plain": [
       "   transactionId   visitorId       date  revenue group\n",
       "0     3667963787  3312258926 2019-08-15     1650     B\n",
       "1     2804400009  3642806036 2019-08-15      730     B\n",
       "2     2961555356  4069496402 2019-08-15      400     A\n",
       "3     3797467345  1196621759 2019-08-15     9759     B\n",
       "4     2282983706  2322279887 2019-08-15     2308     B"
      ]
     },
     "execution_count": 9,
     "metadata": {},
     "output_type": "execute_result"
    }
   ],
   "source": [
    "orders.head(5)"
   ]
  },
  {
   "cell_type": "code",
   "execution_count": 10,
   "metadata": {},
   "outputs": [
    {
     "name": "stdout",
     "output_type": "stream",
     "text": [
      "<class 'pandas.core.frame.DataFrame'>\n",
      "RangeIndex: 1197 entries, 0 to 1196\n",
      "Data columns (total 5 columns):\n",
      " #   Column         Non-Null Count  Dtype         \n",
      "---  ------         --------------  -----         \n",
      " 0   transactionId  1197 non-null   int64         \n",
      " 1   visitorId      1197 non-null   int64         \n",
      " 2   date           1197 non-null   datetime64[ns]\n",
      " 3   revenue        1197 non-null   int64         \n",
      " 4   group          1197 non-null   object        \n",
      "dtypes: datetime64[ns](1), int64(3), object(1)\n",
      "memory usage: 46.9+ KB\n"
     ]
    }
   ],
   "source": [
    "orders.info()"
   ]
  },
  {
   "cell_type": "markdown",
   "metadata": {},
   "source": [
    "Проверим датафрейм на количество пересекающихся пользователей, тех чей 'visitorId' попал и в группу A, и в группу В. Удалим таких пользователей из исследования."
   ]
  },
  {
   "cell_type": "code",
   "execution_count": 11,
   "metadata": {},
   "outputs": [],
   "source": [
    "countGroups = orders.groupby('visitorId')['group'].nunique()"
   ]
  },
  {
   "cell_type": "code",
   "execution_count": 12,
   "metadata": {},
   "outputs": [
    {
     "data": {
      "text/plain": [
       "58"
      ]
     },
     "execution_count": 12,
     "metadata": {},
     "output_type": "execute_result"
    }
   ],
   "source": [
    "orders = orders.merge(countGroups, on=['visitorId', 'visitorId'])\n",
    "orders[orders['group_y'] == 2]['visitorId'].nunique()"
   ]
  },
  {
   "cell_type": "code",
   "execution_count": 13,
   "metadata": {},
   "outputs": [],
   "source": [
    "orders = orders[orders['group_y'] == 1].drop('group_y', 1).rename(columns={'group_x': 'group'})"
   ]
  },
  {
   "cell_type": "code",
   "execution_count": 14,
   "metadata": {},
   "outputs": [],
   "source": [
    "visitors = pd.read_csv ('/datasets/visitors.csv')\n",
    "visitors['date'] = visitors['date'].map(\n",
    "    lambda x: dt.datetime.strptime(x, '%Y-%m-%d'))"
   ]
  },
  {
   "cell_type": "code",
   "execution_count": 15,
   "metadata": {},
   "outputs": [
    {
     "data": {
      "text/html": [
       "<div>\n",
       "<style scoped>\n",
       "    .dataframe tbody tr th:only-of-type {\n",
       "        vertical-align: middle;\n",
       "    }\n",
       "\n",
       "    .dataframe tbody tr th {\n",
       "        vertical-align: top;\n",
       "    }\n",
       "\n",
       "    .dataframe thead th {\n",
       "        text-align: right;\n",
       "    }\n",
       "</style>\n",
       "<table border=\"1\" class=\"dataframe\">\n",
       "  <thead>\n",
       "    <tr style=\"text-align: right;\">\n",
       "      <th></th>\n",
       "      <th>date</th>\n",
       "      <th>group</th>\n",
       "      <th>visitors</th>\n",
       "    </tr>\n",
       "  </thead>\n",
       "  <tbody>\n",
       "    <tr>\n",
       "      <th>0</th>\n",
       "      <td>2019-08-01</td>\n",
       "      <td>A</td>\n",
       "      <td>719</td>\n",
       "    </tr>\n",
       "    <tr>\n",
       "      <th>1</th>\n",
       "      <td>2019-08-02</td>\n",
       "      <td>A</td>\n",
       "      <td>619</td>\n",
       "    </tr>\n",
       "    <tr>\n",
       "      <th>2</th>\n",
       "      <td>2019-08-03</td>\n",
       "      <td>A</td>\n",
       "      <td>507</td>\n",
       "    </tr>\n",
       "    <tr>\n",
       "      <th>3</th>\n",
       "      <td>2019-08-04</td>\n",
       "      <td>A</td>\n",
       "      <td>717</td>\n",
       "    </tr>\n",
       "    <tr>\n",
       "      <th>4</th>\n",
       "      <td>2019-08-05</td>\n",
       "      <td>A</td>\n",
       "      <td>756</td>\n",
       "    </tr>\n",
       "  </tbody>\n",
       "</table>\n",
       "</div>"
      ],
      "text/plain": [
       "        date group  visitors\n",
       "0 2019-08-01     A       719\n",
       "1 2019-08-02     A       619\n",
       "2 2019-08-03     A       507\n",
       "3 2019-08-04     A       717\n",
       "4 2019-08-05     A       756"
      ]
     },
     "execution_count": 15,
     "metadata": {},
     "output_type": "execute_result"
    }
   ],
   "source": [
    "visitors.head(5)"
   ]
  },
  {
   "cell_type": "markdown",
   "metadata": {},
   "source": [
    "Чтобы отследить изменения результатов эксперимента **построим график кумулятивной выручки по группам.**"
   ]
  },
  {
   "cell_type": "code",
   "execution_count": 16,
   "metadata": {},
   "outputs": [],
   "source": [
    "datesGroups = orders[['date','group']].drop_duplicates() "
   ]
  },
  {
   "cell_type": "code",
   "execution_count": 17,
   "metadata": {},
   "outputs": [],
   "source": [
    "ordersAggregated = datesGroups.apply(lambda x: orders[np.logical_and(orders['date'] <= x['date'], orders['group'] == x['group'])]\\\n",
    ".agg({'date' : 'max', 'group' : 'max', 'transactionId' : 'nunique', 'visitorId' : 'nunique', 'revenue' : 'sum'}), axis=1).sort_values(by=['date','group'])"
   ]
  },
  {
   "cell_type": "code",
   "execution_count": 18,
   "metadata": {},
   "outputs": [],
   "source": [
    "visitorsAggregated = datesGroups.apply(lambda x: visitors[np.logical_and(visitors['date'] <= x['date'], visitors['group'] == x['group'])].agg({'date' : 'max', 'group' : 'max', 'visitors' : 'sum'}), axis=1).sort_values(by=['date','group'])"
   ]
  },
  {
   "cell_type": "code",
   "execution_count": 19,
   "metadata": {},
   "outputs": [
    {
     "name": "stdout",
     "output_type": "stream",
     "text": [
      "        date group  orders  buyers  revenue  visitors\n",
      "0 2019-08-01     A      23      19   142779       719\n",
      "1 2019-08-01     B      17      17    59758       713\n",
      "2 2019-08-02     A      42      36   234381      1338\n",
      "3 2019-08-02     B      40      39   221801      1294\n",
      "4 2019-08-03     A      66      60   346854      1845\n"
     ]
    }
   ],
   "source": [
    "# объединяем кумулятивные данные в одной таблице и присваиваем ее столбцам понятные названия\n",
    "cumulativeData = ordersAggregated.merge(visitorsAggregated, left_on=['date', 'group'], right_on=['date', 'group'])\n",
    "cumulativeData.columns = ['date', 'group', 'orders', 'buyers', 'revenue', 'visitors']\n",
    "\n",
    "print (cumulativeData.head(5))"
   ]
  },
  {
   "cell_type": "code",
   "execution_count": 20,
   "metadata": {},
   "outputs": [],
   "source": [
    "ordersAggregated = datesGroups.apply(\n",
    "    lambda x: orders[\n",
    "        np.logical_and(\n",
    "            orders['date'] <= x['date'], orders['group'] == x['group']\n",
    "        )\n",
    "    ].agg(\n",
    "        {\n",
    "            'date': 'max',\n",
    "            'group': 'max',\n",
    "            'transactionId': 'nunique',\n",
    "            'visitorId': 'nunique',\n",
    "            'revenue': 'sum',\n",
    "        }\n",
    "    ),\n",
    "    axis=1,\n",
    ").sort_values(by=['date', 'group'])"
   ]
  },
  {
   "cell_type": "code",
   "execution_count": 21,
   "metadata": {},
   "outputs": [],
   "source": [
    "visitorsAggregated = datesGroups.apply(\n",
    "    lambda x: visitors[\n",
    "        np.logical_and(\n",
    "            visitors['date'] <= x['date'], visitors['group'] == x['group']\n",
    "        )\n",
    "    ].agg({'date': 'max', 'group': 'max', 'visitors': 'sum'}),\n",
    "    axis=1,\n",
    ").sort_values(by=['date', 'group'])\n",
    "\n",
    "cumulativeData = ordersAggregated.merge(\n",
    "    visitorsAggregated, left_on=['date', 'group'], right_on=['date', 'group']\n",
    ")\n",
    "cumulativeData.columns = [\n",
    "    'date',\n",
    "    'group',\n",
    "    'orders',\n",
    "    'buyers',\n",
    "    'revenue',\n",
    "    'visitors',\n",
    "]"
   ]
  },
  {
   "cell_type": "markdown",
   "metadata": {},
   "source": [
    "В переменных cumulativeRevenueA и cumulativeRevenueB сохраним данные о датах, выручке и числе заказов в группах A и B."
   ]
  },
  {
   "cell_type": "code",
   "execution_count": 22,
   "metadata": {},
   "outputs": [
    {
     "data": {
      "image/png": "[encoded data removed]",
      "text/plain": [
       "<Figure size 432x288 with 1 Axes>"
      ]
     },
     "metadata": {
      "needs_background": "light"
     },
     "output_type": "display_data"
    }
   ],
   "source": [
    "# датафрейм с кумулятивным количеством заказов и кумулятивной выручкой по дням в группе А\n",
    "cumulativeRevenueA = cumulativeData[cumulativeData['group']=='A'][['date','revenue', 'orders']]\n",
    "\n",
    "# датафрейм с кумулятивным количеством заказов и кумулятивной выручкой по дням в группе B\n",
    "cumulativeRevenueB = cumulativeData[cumulativeData['group']=='B'][['date','revenue', 'orders']]\n",
    "\n",
    "# Строим график выручки группы А\n",
    "plt.plot(cumulativeRevenueA['date'], cumulativeRevenueA['revenue'], label='A')\n",
    "\n",
    "# Строим график выручки группы B\n",
    "plt.plot(cumulativeRevenueB['date'], cumulativeRevenueB['revenue'], label='B')\n",
    "plt.title('График кумулятивной выручки по группам')\n",
    "plt.xticks(rotation = 45)\n",
    "plt.legend()\n",
    "plt.show()"
   ]
  },
  {
   "cell_type": "markdown",
   "metadata": {},
   "source": [
    "Согласно графику кумулятивной выручки по группам, в середине теста сегмент В вырвался вперед и продолжал лидировать весь остаток теста."
   ]
  },
  {
   "cell_type": "markdown",
   "metadata": {},
   "source": [
    "**Построим график кумулятивного среднего чека по группам.**"
   ]
  },
  {
   "cell_type": "code",
   "execution_count": 23,
   "metadata": {},
   "outputs": [
    {
     "data": {
      "image/png": "[encoded data removed]",
      "text/plain": [
       "<Figure size 432x288 with 1 Axes>"
      ]
     },
     "metadata": {
      "needs_background": "light"
     },
     "output_type": "display_data"
    }
   ],
   "source": [
    "plt.plot(cumulativeRevenueA['date'], cumulativeRevenueA['revenue']/cumulativeRevenueA['orders'], label='A')\n",
    "plt.plot(cumulativeRevenueB['date'], cumulativeRevenueB['revenue']/cumulativeRevenueB['orders'], label='B')\n",
    "plt.xticks(rotation = 45)\n",
    "plt.title('График кумулятивного среднего чека по группам.')\n",
    "plt.legend()\n",
    "plt.show()"
   ]
  },
  {
   "cell_type": "markdown",
   "metadata": {},
   "source": [
    "Согласно графику, кумулятивное значение среднего чека колебалось первые 17 дней эксперимента, далее сегмент группы В значительно лидирует. "
   ]
  },
  {
   "cell_type": "markdown",
   "metadata": {},
   "source": [
    "**Построим график относительного изменения кумулятивного среднего чека группы B к группе A.**"
   ]
  },
  {
   "cell_type": "code",
   "execution_count": 24,
   "metadata": {},
   "outputs": [
    {
     "data": {
      "image/png": "[encoded data removed]",
      "text/plain": [
       "<Figure size 432x288 with 1 Axes>"
      ]
     },
     "metadata": {
      "needs_background": "light"
     },
     "output_type": "display_data"
    }
   ],
   "source": [
    "# собираем данные в одном датафрейме\n",
    "mergedCumulativeRevenue = cumulativeRevenueA.merge(cumulativeRevenueB, left_on='date', right_on='date', how='left', suffixes=['A', 'B'])\n",
    "\n",
    "# cтроим отношение средних чеков\n",
    "plt.plot(mergedCumulativeRevenue['date'], (mergedCumulativeRevenue['revenueB']/mergedCumulativeRevenue['ordersB'])/(mergedCumulativeRevenue['revenueA']/mergedCumulativeRevenue['ordersA'])-1)\n",
    "\n",
    "# добавляем ось X\n",
    "plt.xticks(rotation = 45)\n",
    "plt.axhline(y=0, color='black', linestyle='--')\n",
    "plt.title('График относительного изменения кумулятивного среднего чека группы B к группе A')\n",
    "plt.show()"
   ]
  },
  {
   "cell_type": "markdown",
   "metadata": {},
   "source": [
    "Согласно графику относительного различия в среднем чеке между группами, результаты теста значительно и резко меняются в разные даты. Вероятно в эти дни были совершены аномальные заказы."
   ]
  },
  {
   "cell_type": "markdown",
   "metadata": {},
   "source": [
    "**Построим график кумулятивной конверсии по группам.**"
   ]
  },
  {
   "cell_type": "code",
   "execution_count": 25,
   "metadata": {},
   "outputs": [
    {
     "data": {
      "image/png": "[encoded data removed]",
      "text/plain": [
       "<Figure size 432x288 with 1 Axes>"
      ]
     },
     "metadata": {
      "needs_background": "light"
     },
     "output_type": "display_data"
    }
   ],
   "source": [
    "# считаем кумулятивную конверсию\n",
    "cumulativeData['conversion'] = cumulativeData['orders']/cumulativeData['visitors']\n",
    "\n",
    "# отделяем данные по группе A\n",
    "cumulativeDataA = cumulativeData[cumulativeData['group']=='A']\n",
    "\n",
    "# отделяем данные по группе B\n",
    "cumulativeDataB = cumulativeData[cumulativeData['group']=='B']\n",
    "\n",
    "# строим графики\n",
    "plt.plot(cumulativeDataA['date'], cumulativeDataA['conversion'], label='A')\n",
    "plt.plot(cumulativeDataB['date'], cumulativeDataB['conversion'], label='B')\n",
    "plt.xticks(rotation = 45)\n",
    "plt.title('График кумулятивной конверсии по группам')\n",
    "plt.legend()\n",
    "plt.axis([dt.datetime(2019, 8, 1), dt.datetime(2019, 9, 1), 0, 0.05])\n",
    "plt.show()"
   ]
  },
  {
   "cell_type": "markdown",
   "metadata": {},
   "source": [
    " С первой недели теста и далее сегмент группы В выровнялся и зафиксировался примерно около одного значения, выше значения сегмента А. Тем самым сегмент В имеент бОльшую коверсию. Абсолютное значение колебания составило от 2% до 3%"
   ]
  },
  {
   "cell_type": "markdown",
   "metadata": {},
   "source": [
    "**Построим график относительного изменения кумулятивной конверсии группы B к группе A.**"
   ]
  },
  {
   "cell_type": "code",
   "execution_count": 26,
   "metadata": {},
   "outputs": [
    {
     "data": {
      "image/png": "[encoded data removed]",
      "text/plain": [
       "<Figure size 432x288 with 1 Axes>"
      ]
     },
     "metadata": {
      "needs_background": "light"
     },
     "output_type": "display_data"
    }
   ],
   "source": [
    "mergedCumulativeConversions = cumulativeDataA[['date','conversion']].merge(cumulativeDataB[['date','conversion']], left_on='date', right_on='date', how='left', suffixes=['A', 'B'])\n",
    "\n",
    "plt.plot(mergedCumulativeConversions['date'], mergedCumulativeConversions['conversionB']/mergedCumulativeConversions['conversionA']-1, label=\"Относительный прирост конверсии группы B относительно группы A\")\n",
    "plt.legend()\n",
    "plt.xticks(rotation = 45)\n",
    "plt.title('График относительного изменения кумулятивной конверсии группы B к группе A')\n",
    "plt.axhline(y=0, color='black', linestyle='--')\n",
    "plt.axhline(y= 0.2, color='grey', linestyle='--')\n",
    "plt.axis([dt.datetime(2019, 8, 1), dt.datetime(2019, 9, 1), -0.5, 0.5])\n",
    "plt.show()"
   ]
  },
  {
   "cell_type": "markdown",
   "metadata": {},
   "source": [
    "Почти с самого начала теста группа В лидирует по конверсии, максимум прироста достиг 20% и зафиксировался около прироста 17-18% относительно группы А."
   ]
  },
  {
   "cell_type": "markdown",
   "metadata": {},
   "source": [
    "**Построем точечный график количества заказов по пользователям.**"
   ]
  },
  {
   "cell_type": "markdown",
   "metadata": {},
   "source": [
    "Чтобы построить график найдем число заказов по пользователям — создадим датафрейм ordersByUsers."
   ]
  },
  {
   "cell_type": "code",
   "execution_count": 27,
   "metadata": {},
   "outputs": [
    {
     "name": "stdout",
     "output_type": "stream",
     "text": [
      "        visitor  orders\n",
      "908  3967698036       3\n",
      "55    249864742       3\n",
      "478  2108163459       3\n",
      "687  2988190573       3\n",
      "890  3908431265       3\n",
      "138   611059232       3\n",
      "632  2742574263       3\n",
      "157   678354126       2\n",
      "323  1404560065       2\n",
      "452  1985475298       2\n"
     ]
    }
   ],
   "source": [
    "ordersByUsers = (\n",
    "    orders.groupby('visitorId', as_index=False)\n",
    "    .agg({'transactionId': 'nunique'})\n",
    ")\n",
    "ordersByUsers.columns = ['visitor', 'orders']\n",
    "print(ordersByUsers.sort_values(by='orders', ascending=False).head(10))"
   ]
  },
  {
   "cell_type": "markdown",
   "metadata": {},
   "source": [
    "Построим точечную диаграмму."
   ]
  },
  {
   "cell_type": "code",
   "execution_count": 28,
   "metadata": {},
   "outputs": [
    {
     "data": {
      "image/png": "[encoded data removed]",
      "text/plain": [
       "<Figure size 432x288 with 1 Axes>"
      ]
     },
     "metadata": {
      "needs_background": "light"
     },
     "output_type": "display_data"
    }
   ],
   "source": [
    "# серия из чисел от 0 до количества наблюдений в ordersByUsers\n",
    "x_values = pd.Series(range(0, len(ordersByUsers)))\n",
    "plt.scatter(x_values, ordersByUsers['orders']) \n",
    "plt.title('График количества заказов по пользователям')\n",
    "plt.show()"
   ]
  },
  {
   "cell_type": "markdown",
   "metadata": {},
   "source": [
    "Пользователей сделавших заказ более 1-го раза совсем мало. Они вполне могут быть анормальными."
   ]
  },
  {
   "cell_type": "markdown",
   "metadata": {},
   "source": [
    "Посчитаем 95-й и 99-й перцентили количества заказов на пользователя. "
   ]
  },
  {
   "cell_type": "code",
   "execution_count": 29,
   "metadata": {},
   "outputs": [
    {
     "name": "stdout",
     "output_type": "stream",
     "text": [
      "[1. 1. 2.]\n"
     ]
    }
   ],
   "source": [
    "print(np.percentile(ordersByUsers['orders'], [90, 95, 99])) \n",
    "# Метод np.percentile('column', [percentile1, percentile2, percentile3]) находит перцентили./"
   ]
  },
  {
   "cell_type": "markdown",
   "metadata": {},
   "source": [
    "Не более 5% пользователей совершали более 1-го заказа, и не более 1% пользователей совершали более 2-х заказов."
   ]
  },
  {
   "cell_type": "markdown",
   "metadata": {},
   "source": [
    "Будем считать аномальными пользововтелей совершивших более 1-го заказа."
   ]
  },
  {
   "cell_type": "markdown",
   "metadata": {},
   "source": [
    "**Построим точечный график стоимостей заказов.**"
   ]
  },
  {
   "cell_type": "code",
   "execution_count": 30,
   "metadata": {},
   "outputs": [
    {
     "name": "stdout",
     "output_type": "stream",
     "text": [
      "      transactionId   visitorId       date  revenue group\n",
      "506       590470918  1920142716 2019-08-19  1294500     B\n",
      "1196     3936777065  2108080724 2019-08-15   202740     B\n",
      "1150      666610489  1307669133 2019-08-13    92550     A\n",
      "803      3668308183   888512513 2019-08-27    86620     B\n",
      "802      3603576309  4133034833 2019-08-09    67990     A\n",
      "1116     1348774318  1164614297 2019-08-12    66350     A\n",
      "1114      316924019   148427295 2019-08-12    65710     A\n",
      "989      1347999392   887908475 2019-08-21    60450     A\n",
      "981      2420050534  4003628586 2019-08-08    58550     B\n",
      "680      4071177889  3931967268 2019-08-07    53904     B\n"
     ]
    },
    {
     "data": {
      "image/png": "[encoded data removed]",
      "text/plain": [
       "<Figure size 432x288 with 1 Axes>"
      ]
     },
     "metadata": {
      "needs_background": "light"
     },
     "output_type": "display_data"
    }
   ],
   "source": [
    "print(orders.sort_values(by='revenue', ascending=False).head(10))\n",
    "\n",
    "x_values = pd.Series(range(0, len(orders['revenue'])))\n",
    "plt.scatter(x_values, orders['revenue'])\n",
    "plt.title('График стоимостей заказов по пользователям')\n",
    "plt.show()"
   ]
  },
  {
   "cell_type": "markdown",
   "metadata": {},
   "source": [
    "Основное распределение стоимостей заказов сосредоточено до 40.000-50.000 рублей. Есть единичные выбросы в районе 200 000 рублей и 1200 000 рублей."
   ]
  },
  {
   "cell_type": "markdown",
   "metadata": {},
   "source": [
    "Посчитаем 95-й и 99-й перцентили стоимости заказов."
   ]
  },
  {
   "cell_type": "code",
   "execution_count": 31,
   "metadata": {},
   "outputs": [
    {
     "name": "stdout",
     "output_type": "stream",
     "text": [
      "[17990. 26785. 53904.]\n"
     ]
    }
   ],
   "source": [
    "print(np.percentile(orders['revenue'], [90, 95, 99])) \n"
   ]
  },
  {
   "cell_type": "markdown",
   "metadata": {},
   "source": [
    "Не более чем 5% заказов дороже 26785 рублей и не более 1% заказов дороже 53904 рублей."
   ]
  },
  {
   "cell_type": "markdown",
   "metadata": {},
   "source": [
    "Заказы дороже 26785 рублей будем считать аномальными."
   ]
  },
  {
   "cell_type": "markdown",
   "metadata": {},
   "source": [
    "**Посчитаем статистическую значимость различий в конверсии между группами по «сырым» данным.**"
   ]
  },
  {
   "cell_type": "markdown",
   "metadata": {},
   "source": [
    "Посчитаем **статистическую значимость различий в среднем числе заказов на пользователя** между группами по «сырым» данным — без удаления аномальных пользователей.\n",
    "Сформулируем гипотезы. \n",
    "- Нулевая гипотеза, Н0: различий в среднем количестве заказов между группами нет. \n",
    "- Альтернативная гипотеза, Н1: различия в среднем между группами есть."
   ]
  },
  {
   "cell_type": "code",
   "execution_count": 32,
   "metadata": {
    "scrolled": true
   },
   "outputs": [
    {
     "name": "stdout",
     "output_type": "stream",
     "text": [
      "        date  ordersPerDateA  revenuePerDateA  ordersPerDateB  \\\n",
      "0 2019-08-01              23           142779              17   \n",
      "1 2019-08-02              19            91602              23   \n",
      "2 2019-08-03              24           112473              14   \n",
      "3 2019-08-04              11            41176              14   \n",
      "4 2019-08-05              22            86383              21   \n",
      "\n",
      "   revenuePerDateB  ordersCummulativeA  revenueCummulativeA  \\\n",
      "0            59758                  23               142779   \n",
      "1           162043                  42               234381   \n",
      "2            67049                  66               346854   \n",
      "3            96890                  77               388030   \n",
      "4            89908                  99               474413   \n",
      "\n",
      "   ordersCummulativeB  revenueCummulativeB  visitorsPerDateA  \\\n",
      "0                  17                59758               719   \n",
      "1                  40               221801               619   \n",
      "2                  54               288850               507   \n",
      "3                  68               385740               717   \n",
      "4                  89               475648               756   \n",
      "\n",
      "   visitorsPerDateB  visitorsCummulativeA  visitorsCummulativeB  \n",
      "0               713                   719                   713  \n",
      "1               581                  1338                  1294  \n",
      "2               509                  1845                  1803  \n",
      "3               770                  2562                  2573  \n",
      "4               707                  3318                  3280  \n"
     ]
    }
   ],
   "source": [
    "visitorsADaily = visitors[visitors['group'] == 'A'][['date', 'visitors']]\n",
    "visitorsADaily.columns = ['date', 'visitorsPerDateA']\n",
    "\n",
    "visitorsACummulative = visitorsADaily.apply(\n",
    "    lambda x: visitorsADaily[visitorsADaily['date'] <= x['date']].agg(\n",
    "        {'date': 'max', 'visitorsPerDateA': 'sum'}\n",
    "    ),\n",
    "    axis=1,\n",
    ")\n",
    "visitorsACummulative.columns = ['date', 'visitorsCummulativeA']\n",
    "\n",
    "visitorsBDaily = visitors[visitors['group'] == 'B'][['date', 'visitors']]\n",
    "visitorsBDaily.columns = ['date', 'visitorsPerDateB']\n",
    "\n",
    "visitorsBCummulative = visitorsBDaily.apply(\n",
    "    lambda x: visitorsBDaily[visitorsBDaily['date'] <= x['date']].agg(\n",
    "        {'date': 'max', 'visitorsPerDateB': 'sum'}\n",
    "    ),\n",
    "    axis=1,\n",
    ")\n",
    "visitorsBCummulative.columns = ['date', 'visitorsCummulativeB']\n",
    "\n",
    "ordersADaily = (\n",
    "    orders[orders['group'] == 'A'][['date', 'transactionId', 'visitorId', 'revenue']]\n",
    "    .groupby('date', as_index=False)\n",
    "    .agg({'transactionId': pd.Series.nunique, 'revenue': 'sum'})\n",
    ")\n",
    "ordersADaily.columns = ['date', 'ordersPerDateA', 'revenuePerDateA']\n",
    "\n",
    "ordersACummulative = ordersADaily.apply(\n",
    "    lambda x: ordersADaily[ordersADaily['date'] <= x['date']].agg(\n",
    "        {'date': 'max', 'ordersPerDateA': 'sum', 'revenuePerDateA': 'sum'}\n",
    "    ),\n",
    "    axis=1,\n",
    ").sort_values(by=['date'])\n",
    "ordersACummulative.columns = [\n",
    "    'date',\n",
    "    'ordersCummulativeA',\n",
    "    'revenueCummulativeA',\n",
    "]\n",
    "\n",
    "ordersBDaily = (\n",
    "    orders[orders['group'] == 'B'][['date', 'transactionId', 'visitorId', 'revenue']]\n",
    "    .groupby('date', as_index=False)\n",
    "    .agg({'transactionId': pd.Series.nunique, 'revenue': 'sum'})\n",
    ")\n",
    "ordersBDaily.columns = ['date', 'ordersPerDateB', 'revenuePerDateB']\n",
    "\n",
    "ordersBCummulative = ordersBDaily.apply(\n",
    "    lambda x: ordersBDaily[ordersBDaily['date'] <= x['date']].agg(\n",
    "        {'date': 'max', 'ordersPerDateB': 'sum', 'revenuePerDateB': 'sum'}\n",
    "    ),\n",
    "    axis=1,\n",
    ").sort_values(by=['date'])\n",
    "ordersBCummulative.columns = [\n",
    "    'date',\n",
    "    'ordersCummulativeB',\n",
    "    'revenueCummulativeB',\n",
    "]\n",
    "\n",
    "data = (\n",
    "    ordersADaily.merge(\n",
    "        ordersBDaily, left_on='date', right_on='date', how='left'\n",
    "    )\n",
    "    .merge(ordersACummulative, left_on='date', right_on='date', how='left')\n",
    "    .merge(ordersBCummulative, left_on='date', right_on='date', how='left')\n",
    "    .merge(visitorsADaily, left_on='date', right_on='date', how='left')\n",
    "    .merge(visitorsBDaily, left_on='date', right_on='date', how='left')\n",
    "    .merge(visitorsACummulative, left_on='date', right_on='date', how='left')\n",
    "    .merge(visitorsBCummulative, left_on='date', right_on='date', how='left')\n",
    ")\n",
    "\n",
    "print(data.head(5))"
   ]
  },
  {
   "cell_type": "markdown",
   "metadata": {},
   "source": [
    "- date — дата;\n",
    "- ordersPerDateA — количество заказов в выбранную дату в группе A;\n",
    "- revenuePerDateA — суммарная выручка в выбранную дату в группе A;\n",
    "- ordersPerDateB — количество заказов в выбранную дату в группе B;\n",
    "- revenuePerDateB — суммарная выручка в выбранную дату в группе B;\n",
    "- ordersCummulativeA — суммарное число заказов до выбранной даты включительно в группе A;\n",
    "- revenueCummulativeA — суммарная выручка до выбранной даты включительно в группе A;\n",
    "- ordersCummulativeB — суммарное количество заказов до выбранной даты включительно в группе B;\n",
    "- revenueCummulativeB — суммарная выручка до выбранной даты включительно в группе B;\n",
    "- visitorsPerDateA — количество пользователей в выбранную дату в группе A;\n",
    "- visitorsPerDateB — количество пользователей в выбранную дату в группе B;\n",
    "- visitorsCummulativeA — количество пользователей до выбранной даты включительно в группе A;\n",
    "- visitorsCummulativeB — количество пользователей до выбранной даты включительно в группе B."
   ]
  },
  {
   "cell_type": "markdown",
   "metadata": {},
   "source": [
    "Посчитаем статистическую значимость различия в среднем количестве заказов между группами.\n",
    "Создадим переменные ordersByUsersA и ordersByUsersB со столбцами ['userId', 'orders']. В них для пользователей, которые заказывали хотя бы 1 раз, укажем число совершённых заказов."
   ]
  },
  {
   "cell_type": "code",
   "execution_count": 33,
   "metadata": {},
   "outputs": [],
   "source": [
    "ordersByUsersA = (\n",
    "    orders[orders['group'] == 'A']\n",
    "    .groupby('visitorId', as_index=False)\n",
    "    .agg({'transactionId': pd.Series.nunique})\n",
    ")\n",
    "ordersByUsersA.columns = ['visitorId', 'orders']"
   ]
  },
  {
   "cell_type": "code",
   "execution_count": 34,
   "metadata": {},
   "outputs": [],
   "source": [
    "ordersByUsersB = (\n",
    "    orders[orders['group'] == 'B']\n",
    "    .groupby('visitorId', as_index=False)\n",
    "    .agg({'transactionId': pd.Series.nunique})\n",
    ")\n",
    "ordersByUsersB.columns = ['visitorId', 'orders']"
   ]
  },
  {
   "cell_type": "markdown",
   "metadata": {},
   "source": [
    "Объявим переменные sampleA и sampleB, в которых пользователям из разных групп будет соответствовать количество заказов. Тем, кто ничего не заказал, будут соответствовать нули. "
   ]
  },
  {
   "cell_type": "code",
   "execution_count": 35,
   "metadata": {},
   "outputs": [],
   "source": [
    "sampleA = pd.concat([ordersByUsersA['orders'],pd.Series(0, index=np.arange(data['visitorsPerDateA'].sum() - len(ordersByUsersA['orders'])), name='orders')],axis=0)\n",
    "\n",
    "sampleB = pd.concat([ordersByUsersB['orders'],pd.Series(0, index=np.arange(data['visitorsPerDateB'].sum() - len(ordersByUsersB['orders'])), name='orders')],axis=0)\n",
    "\n",
    "ordersByUsersA = (\n",
    "    orders[orders['group'] == 'A']\n",
    "    .groupby('visitorId', as_index=False)\n",
    "    .agg({'transactionId': pd.Series.nunique})\n",
    ")\n",
    "ordersByUsersA.columns = ['visitorId', 'orders']\n",
    "\n",
    "ordersByUsersB = (\n",
    "    orders[orders['group'] == 'B']\n",
    "    .groupby('visitorId', as_index=False)\n",
    "    .agg({'transactionId': pd.Series.nunique})\n",
    ")\n",
    "ordersByUsersB.columns = ['visitorId', 'orders']"
   ]
  },
  {
   "cell_type": "code",
   "execution_count": 36,
   "metadata": {},
   "outputs": [],
   "source": [
    "sampleA = pd.concat(\n",
    "    [\n",
    "        ordersByUsersA['orders'],\n",
    "        pd.Series(\n",
    "            0,\n",
    "            index=np.arange(\n",
    "                data['visitorsPerDateA'].sum() - len(ordersByUsersA['orders'])\n",
    "            ),\n",
    "            name='orders',\n",
    "        ),\n",
    "    ],\n",
    "    axis=0,\n",
    ")"
   ]
  },
  {
   "cell_type": "code",
   "execution_count": 37,
   "metadata": {},
   "outputs": [],
   "source": [
    "sampleB = pd.concat(\n",
    "    [\n",
    "        ordersByUsersB['orders'],\n",
    "        pd.Series(\n",
    "            0,\n",
    "            index=np.arange(\n",
    "                data['visitorsPerDateB'].sum() - len(ordersByUsersB['orders'])\n",
    "            ),\n",
    "            name='orders',\n",
    "        ),\n",
    "    ],\n",
    "    axis=0,\n",
    ")"
   ]
  },
  {
   "cell_type": "code",
   "execution_count": 38,
   "metadata": {},
   "outputs": [
    {
     "name": "stdout",
     "output_type": "stream",
     "text": [
      "0.01102\n",
      "0.160\n"
     ]
    }
   ],
   "source": [
    "print(\"{0:.5f}\".format(stats.mannwhitneyu(sampleA, sampleB)[1]))\n",
    "print(\"{0:.3f}\".format(sampleB.mean() / sampleA.mean() - 1))"
   ]
  },
  {
   "cell_type": "markdown",
   "metadata": {},
   "source": [
    "Вывод: По «сырым» данным различия в среднем числе заказов групп A и B есть.\n",
    "Первое число — p-value = 0.01102 меньше 0.05. Значит, нулевую гипотезу о том, что статистически значимых различий в среднем числе заказов между группами нет,  отвергаем. Относительное превосходство группы B равно 16% — второе число в выводе."
   ]
  },
  {
   "cell_type": "markdown",
   "metadata": {},
   "source": [
    "Теперь проверим **статистическую значимость различий в среднем чеке между сегментами** по «сырым» данным — без удаления аномальных пользователей . Сформулируем гипотезы:\n",
    "\n",
    "- Нулевая гипотеза, Н0: различий в среднем чеке между группами нет. \n",
    "- Альтернативная гипотеза,Н1: различия в среднем чеке между группами есть."
   ]
  },
  {
   "cell_type": "markdown",
   "metadata": {},
   "source": [
    "Чтобы рассчитать статистическую значимость различий в среднем чеке, передадим критерию mannwhitneyu() данные о выручке с заказов. Найдём относительные различия в среднем чеке между группами:"
   ]
  },
  {
   "cell_type": "code",
   "execution_count": 39,
   "metadata": {},
   "outputs": [
    {
     "name": "stdout",
     "output_type": "stream",
     "text": [
      "0.829\n",
      "0.287\n"
     ]
    }
   ],
   "source": [
    "print('{0:.3f}'.format(stats.mannwhitneyu(orders[orders['group']=='A']['revenue'], orders[orders['group']=='B']['revenue'])[1]))\n",
    "print('{0:.3f}'.format(orders[orders['group']=='B']['revenue'].mean()/orders[orders['group']=='A']['revenue'].mean()-1))"
   ]
  },
  {
   "cell_type": "markdown",
   "metadata": {},
   "source": [
    "P-value значительно больше 0.05. Значит, причин отвергать нулевую гипотезу и считать, что в среднем чеке различия есть, нет. Принимаем нулевую гипотезу: различий в среднем чеке между группами нет. Относительное превосходство среднего чека в сегменте В составляет 28.7%, перед сегментом А."
   ]
  },
  {
   "cell_type": "markdown",
   "metadata": {},
   "source": [
    "Напомним, что найденные 95-й перцентиль средних чеков равен 26785  рублей. А 95-й перцентиль количества заказов на одного пользователя равен 1-му заказу на пользователя.\n",
    "Примем за аномальных пользователей тех, кто совершил более 1-го заказа или совершал заказ дороже 26785  рублей. Так мы уберём 5% пользователей с наибольшим числом заказов и 5% пользователей с аномально дорогими заказами. Сделаем срезы пользователей с числом заказов больше 1 — usersWithManyOrders и пользователей, совершивших заказы дороже 26785  — usersWithExpensiveOrders. Объединим их в таблице abnormalUsers."
   ]
  },
  {
   "cell_type": "code",
   "execution_count": 40,
   "metadata": {},
   "outputs": [],
   "source": [
    "usersWithManyOrders = pd.concat(\n",
    "    [\n",
    "        ordersByUsersA[ordersByUsersA['orders'] > 1]['visitorId'],\n",
    "        ordersByUsersB[ordersByUsersB['orders'] > 1]['visitorId'],\n",
    "    ],\n",
    "    axis=0,\n",
    ")\n",
    "\n",
    "usersWithExpensiveOrders = orders[orders['revenue'] > 26785 ]['visitorId']"
   ]
  },
  {
   "cell_type": "code",
   "execution_count": 41,
   "metadata": {},
   "outputs": [
    {
     "name": "stdout",
     "output_type": "stream",
     "text": [
      "643     113298937\n",
      "1114    148427295\n",
      "971     204675465\n",
      "33      249864742\n",
      "751     358944393\n",
      "Name: visitorId, dtype: int64\n",
      "86\n"
     ]
    }
   ],
   "source": [
    "abnormalUsers = (\n",
    "    pd.concat([usersWithManyOrders, usersWithExpensiveOrders], axis=0)\n",
    "    .drop_duplicates()\n",
    "    .sort_values()\n",
    ")\n",
    "print(abnormalUsers.head(5))\n",
    "print(abnormalUsers.shape[0])"
   ]
  },
  {
   "cell_type": "markdown",
   "metadata": {},
   "source": [
    "Всего 86 аномальных пользователей.\n",
    "Узнаем, как их действия повлияли на результаты теста. Посчитаем статистическую значимость различий в среднем количестве заказов между группами теста по очищенным данным. Сначала подготовим выборки количества заказов по пользователям по группам теста:"
   ]
  },
  {
   "cell_type": "code",
   "execution_count": 42,
   "metadata": {},
   "outputs": [],
   "source": [
    "sampleAFiltered = pd.concat(\n",
    "    [\n",
    "        ordersByUsersA[\n",
    "            np.logical_not(ordersByUsersA['visitorId'].isin(abnormalUsers))\n",
    "        ]['orders'],\n",
    "        pd.Series(\n",
    "            0,\n",
    "            index=np.arange(\n",
    "                data['visitorsPerDateA'].sum() - len(ordersByUsersA['orders'])\n",
    "            ),\n",
    "            name='orders',\n",
    "        ),\n",
    "    ],\n",
    "    axis=0,\n",
    ")"
   ]
  },
  {
   "cell_type": "code",
   "execution_count": 43,
   "metadata": {},
   "outputs": [],
   "source": [
    "sampleBFiltered = pd.concat(\n",
    "    [\n",
    "        ordersByUsersB[\n",
    "            np.logical_not(ordersByUsersB['visitorId'].isin(abnormalUsers))\n",
    "        ]['orders'],\n",
    "        pd.Series(\n",
    "            0,\n",
    "            index=np.arange(\n",
    "                data['visitorsPerDateB'].sum() - len(ordersByUsersB['orders'])\n",
    "            ),\n",
    "            name='orders',\n",
    "        ),\n",
    "    ],\n",
    "    axis=0,\n",
    ")"
   ]
  },
  {
   "cell_type": "markdown",
   "metadata": {},
   "source": [
    "Сформулируем гипотезы для очищенных данных:\n",
    "\n",
    "- Нулевая гипотеза, Н0: различий в среднем количестве заказов между группами нет.\n",
    "- Альтернативная гипотеза, Н1: различия в среднем между группами есть."
   ]
  },
  {
   "cell_type": "markdown",
   "metadata": {},
   "source": [
    "Применим статистический критерий Манна-Уитни к полученным выборкам для проверки гипотез."
   ]
  },
  {
   "cell_type": "code",
   "execution_count": 44,
   "metadata": {},
   "outputs": [
    {
     "name": "stdout",
     "output_type": "stream",
     "text": [
      "0.016\n",
      "0.174\n"
     ]
    }
   ],
   "source": [
    "print('{0:.3f}'.format(stats.mannwhitneyu(sampleAFiltered, sampleBFiltered)[1]))\n",
    "print('{0:.3f}'.format(sampleBFiltered.mean()/sampleAFiltered.mean()-1))"
   ]
  },
  {
   "cell_type": "markdown",
   "metadata": {},
   "source": [
    "Первое число — p-value = 0.016 меньше 0.05. Значит, нулевую гипотезу о том, что статистически значимых различий в среднем числе заказов между группами нет, отвергаем. Относительное превосходство группы B по очищенным данным равно 17.4% — второе число в выводе. По очищенным данным различия в среднем числе заказов между группами A и B есть. Результаты по очищенным данным изменились незначительно, в сравнении с результатами по \"сырыми\" даным. "
   ]
  },
  {
   "cell_type": "markdown",
   "metadata": {},
   "source": [
    "Теперь проверим **статистическую значимость различий по среднему чеку между сегментами по очищенным данным**. Сформулируем гипотезы:\n",
    "\n",
    "- Нулевая гипотеза, Н0: различий в среднем чеке между группами нет. \n",
    "- Альтернативная гипотеза,Н1: различия в среднем чеке между группами есть."
   ]
  },
  {
   "cell_type": "code",
   "execution_count": 45,
   "metadata": {},
   "outputs": [
    {
     "name": "stdout",
     "output_type": "stream",
     "text": [
      "0.727\n",
      "-0.034\n"
     ]
    }
   ],
   "source": [
    "print(\n",
    "    '{0:.3f}'.format(\n",
    "        stats.mannwhitneyu(\n",
    "            orders[\n",
    "                np.logical_and(\n",
    "                    orders['group'] == 'A',\n",
    "                    np.logical_not(orders['visitorId'].isin(abnormalUsers)),\n",
    "                )\n",
    "            ]['revenue'],\n",
    "            orders[\n",
    "                np.logical_and(\n",
    "                    orders['group'] == 'B',\n",
    "                    np.logical_not(orders['visitorId'].isin(abnormalUsers)),\n",
    "                )\n",
    "            ]['revenue'],\n",
    "        )[1]\n",
    "    )\n",
    ")\n",
    "\n",
    "print(\n",
    "    \"{0:.3f}\".format(\n",
    "        orders[\n",
    "            np.logical_and(\n",
    "                orders['group'] == 'B',\n",
    "                np.logical_not(orders['visitorId'].isin(abnormalUsers)),\n",
    "            )\n",
    "        ]['revenue'].mean()\n",
    "        / orders[\n",
    "            np.logical_and(\n",
    "                orders['group'] == 'A',\n",
    "                np.logical_not(orders['visitorId'].isin(abnormalUsers)),\n",
    "            )\n",
    "        ]['revenue'].mean()\n",
    "        - 1\n",
    "    )\n",
    ")"
   ]
  },
  {
   "cell_type": "markdown",
   "metadata": {},
   "source": [
    "P-value почти не изменился и значительно больше 0.05. По очищенным данным также принимаем альтернативную гипотезу: различия в среднем чеке между группами нет. Средний чек группы B не отличается от среднего чека группы A по очищенным данным. Относительное различие между средними чеками сегментов А и В составляет  3,4%."
   ]
  },
  {
   "cell_type": "markdown",
   "metadata": {},
   "source": [
    "Исходя из обнаруженных фактов, тест следует остановить и признать его успешным. При имеющихся данных, сегмент группы B  лучше сегмента группы А. Несмотря на то, что мы не нашли статистически значимых различий в среднем чеке между сегментами, пользователи из группы В делают значительно большее количество заказов, чем пользователи группы А. Мы обнаружили статистически значимые различия по среднему числу заказов между группами А и В, что подтвердилось по \"сырым\" и очищенным данным. Количество заказов сказывается на общей конверсии, и мы видим, что с первой недели теста, группа В лидирует по конверсии относительно группы А в районе 15-20%."
   ]
  }
 ],
 "metadata": {
  "ExecuteTimeLog": [
   {
    "duration": 1314,
    "start_time": "2022-06-24T08:39:33.765Z"
   },
   {
    "duration": 3,
    "start_time": "2022-06-24T08:40:12.129Z"
   },
   {
    "duration": 129,
    "start_time": "2022-06-24T08:40:53.922Z"
   },
   {
    "duration": 3,
    "start_time": "2022-06-24T08:40:57.422Z"
   },
   {
    "duration": 16,
    "start_time": "2022-06-24T08:40:57.430Z"
   },
   {
    "duration": 49,
    "start_time": "2022-06-24T08:40:57.448Z"
   },
   {
    "duration": 54,
    "start_time": "2022-06-24T08:41:12.679Z"
   },
   {
    "duration": 12,
    "start_time": "2022-06-24T08:41:19.597Z"
   },
   {
    "duration": 43,
    "start_time": "2022-06-24T08:41:33.201Z"
   },
   {
    "duration": 44,
    "start_time": "2022-07-06T04:24:20.644Z"
   },
   {
    "duration": 1301,
    "start_time": "2022-07-06T04:24:23.878Z"
   },
   {
    "duration": 4,
    "start_time": "2022-07-06T04:24:25.182Z"
   },
   {
    "duration": 79,
    "start_time": "2022-07-06T04:24:25.187Z"
   },
   {
    "duration": 13,
    "start_time": "2022-07-06T04:24:25.268Z"
   },
   {
    "duration": 12,
    "start_time": "2022-07-06T04:24:25.283Z"
   },
   {
    "duration": 14,
    "start_time": "2022-07-06T04:24:32.572Z"
   },
   {
    "duration": 5,
    "start_time": "2022-07-06T04:25:09.950Z"
   },
   {
    "duration": 29,
    "start_time": "2022-07-06T04:25:19.529Z"
   },
   {
    "duration": 103,
    "start_time": "2022-07-06T04:26:35.636Z"
   },
   {
    "duration": 3,
    "start_time": "2022-07-06T04:26:40.588Z"
   },
   {
    "duration": 23,
    "start_time": "2022-07-06T04:26:40.595Z"
   },
   {
    "duration": 50,
    "start_time": "2022-07-06T04:26:40.620Z"
   },
   {
    "duration": 9,
    "start_time": "2022-07-06T04:26:40.671Z"
   },
   {
    "duration": 37,
    "start_time": "2022-07-06T04:26:40.681Z"
   },
   {
    "duration": 44,
    "start_time": "2022-07-06T04:26:40.727Z"
   },
   {
    "duration": 18,
    "start_time": "2022-07-06T04:26:40.773Z"
   },
   {
    "duration": 63,
    "start_time": "2022-07-06T04:26:40.793Z"
   },
   {
    "duration": 107,
    "start_time": "2022-07-06T04:26:40.858Z"
   },
   {
    "duration": 102,
    "start_time": "2022-07-06T04:27:28.560Z"
   },
   {
    "duration": 88,
    "start_time": "2022-07-06T04:27:53.282Z"
   },
   {
    "duration": 10,
    "start_time": "2022-07-06T04:28:10.032Z"
   },
   {
    "duration": 213,
    "start_time": "2022-07-06T04:28:19.378Z"
   },
   {
    "duration": 130,
    "start_time": "2022-07-06T04:28:27.940Z"
   },
   {
    "duration": 16,
    "start_time": "2022-07-06T04:28:38.037Z"
   },
   {
    "duration": 309,
    "start_time": "2022-07-06T04:28:53.042Z"
   },
   {
    "duration": 329,
    "start_time": "2022-07-06T04:29:09.196Z"
   },
   {
    "duration": 198,
    "start_time": "2022-07-06T04:29:24.320Z"
   },
   {
    "duration": 362,
    "start_time": "2022-07-06T04:29:39.102Z"
   },
   {
    "duration": 201,
    "start_time": "2022-07-06T04:29:54.264Z"
   },
   {
    "duration": 272,
    "start_time": "2022-07-06T04:30:16.739Z"
   },
   {
    "duration": 95,
    "start_time": "2022-07-06T04:30:31.771Z"
   },
   {
    "duration": 9,
    "start_time": "2022-07-06T04:30:45.879Z"
   },
   {
    "duration": 146,
    "start_time": "2022-07-06T04:31:11.182Z"
   },
   {
    "duration": 8,
    "start_time": "2022-07-06T04:31:34.944Z"
   },
   {
    "duration": 150,
    "start_time": "2022-07-06T04:31:52.144Z"
   },
   {
    "duration": 7,
    "start_time": "2022-07-06T04:32:16.799Z"
   },
   {
    "duration": 584,
    "start_time": "2022-07-06T04:33:02.458Z"
   },
   {
    "duration": 364,
    "start_time": "2022-07-06T04:47:43.574Z"
   },
   {
    "duration": 449,
    "start_time": "2022-07-06T04:47:51.586Z"
   },
   {
    "duration": 2,
    "start_time": "2022-07-06T04:50:32.162Z"
   },
   {
    "duration": 4,
    "start_time": "2022-07-06T04:50:35.958Z"
   },
   {
    "duration": 6,
    "start_time": "2022-07-06T04:50:35.964Z"
   },
   {
    "duration": 22,
    "start_time": "2022-07-06T04:50:35.972Z"
   },
   {
    "duration": 23,
    "start_time": "2022-07-06T04:50:35.996Z"
   },
   {
    "duration": 74,
    "start_time": "2022-07-06T04:50:36.022Z"
   },
   {
    "duration": 23,
    "start_time": "2022-07-06T04:50:36.098Z"
   },
   {
    "duration": 44,
    "start_time": "2022-07-06T04:50:36.122Z"
   },
   {
    "duration": 20,
    "start_time": "2022-07-06T04:50:36.168Z"
   },
   {
    "duration": 73,
    "start_time": "2022-07-06T04:50:36.189Z"
   },
   {
    "duration": 11,
    "start_time": "2022-07-06T04:50:36.263Z"
   },
   {
    "duration": 7,
    "start_time": "2022-07-06T04:50:36.276Z"
   },
   {
    "duration": 275,
    "start_time": "2022-07-06T04:50:36.285Z"
   },
   {
    "duration": 170,
    "start_time": "2022-07-06T04:50:36.564Z"
   },
   {
    "duration": 18,
    "start_time": "2022-07-06T04:50:36.741Z"
   },
   {
    "duration": 327,
    "start_time": "2022-07-06T04:50:36.761Z"
   },
   {
    "duration": 240,
    "start_time": "2022-07-06T04:50:37.090Z"
   },
   {
    "duration": 233,
    "start_time": "2022-07-06T04:50:37.331Z"
   },
   {
    "duration": 316,
    "start_time": "2022-07-06T04:50:37.566Z"
   },
   {
    "duration": 248,
    "start_time": "2022-07-06T04:50:37.885Z"
   },
   {
    "duration": 308,
    "start_time": "2022-07-06T04:50:38.137Z"
   },
   {
    "duration": 12,
    "start_time": "2022-07-06T04:50:38.453Z"
   },
   {
    "duration": 183,
    "start_time": "2022-07-06T04:50:38.467Z"
   },
   {
    "duration": 7,
    "start_time": "2022-07-06T04:50:38.655Z"
   },
   {
    "duration": 195,
    "start_time": "2022-07-06T04:50:38.666Z"
   },
   {
    "duration": 6,
    "start_time": "2022-07-06T04:50:38.866Z"
   },
   {
    "duration": 299,
    "start_time": "2022-07-06T04:50:38.877Z"
   },
   {
    "duration": 409,
    "start_time": "2022-07-06T04:50:39.179Z"
   },
   {
    "duration": 3,
    "start_time": "2022-07-06T04:51:22.366Z"
   },
   {
    "duration": 3,
    "start_time": "2022-07-06T04:51:22.380Z"
   },
   {
    "duration": 21,
    "start_time": "2022-07-06T04:51:22.434Z"
   },
   {
    "duration": 9,
    "start_time": "2022-07-06T04:51:22.457Z"
   },
   {
    "duration": 35,
    "start_time": "2022-07-06T04:51:22.468Z"
   },
   {
    "duration": 59,
    "start_time": "2022-07-06T04:51:22.509Z"
   },
   {
    "duration": 60,
    "start_time": "2022-07-06T04:51:22.570Z"
   },
   {
    "duration": 56,
    "start_time": "2022-07-06T04:51:22.642Z"
   },
   {
    "duration": 20,
    "start_time": "2022-07-06T04:51:22.700Z"
   },
   {
    "duration": 46,
    "start_time": "2022-07-06T04:51:22.722Z"
   },
   {
    "duration": 218,
    "start_time": "2022-07-06T04:51:22.770Z"
   },
   {
    "duration": 136,
    "start_time": "2022-07-06T04:51:22.989Z"
   },
   {
    "duration": 10,
    "start_time": "2022-07-06T04:51:23.127Z"
   },
   {
    "duration": 341,
    "start_time": "2022-07-06T04:51:23.138Z"
   },
   {
    "duration": 236,
    "start_time": "2022-07-06T04:51:23.481Z"
   },
   {
    "duration": 235,
    "start_time": "2022-07-06T04:51:23.722Z"
   },
   {
    "duration": 348,
    "start_time": "2022-07-06T04:51:23.962Z"
   },
   {
    "duration": 209,
    "start_time": "2022-07-06T04:51:24.312Z"
   },
   {
    "duration": 393,
    "start_time": "2022-07-06T04:51:24.526Z"
   },
   {
    "duration": 15,
    "start_time": "2022-07-06T04:51:24.923Z"
   },
   {
    "duration": 148,
    "start_time": "2022-07-06T04:51:24.942Z"
   },
   {
    "duration": 19,
    "start_time": "2022-07-06T04:51:25.092Z"
   },
   {
    "duration": 231,
    "start_time": "2022-07-06T04:51:25.112Z"
   },
   {
    "duration": 11,
    "start_time": "2022-07-06T04:51:25.346Z"
   },
   {
    "duration": 311,
    "start_time": "2022-07-06T04:51:25.359Z"
   },
   {
    "duration": 359,
    "start_time": "2022-07-06T04:51:25.672Z"
   },
   {
    "duration": 4,
    "start_time": "2022-07-06T04:52:03.984Z"
   },
   {
    "duration": 68,
    "start_time": "2022-07-06T04:52:03.990Z"
   },
   {
    "duration": 14,
    "start_time": "2022-07-06T04:52:04.060Z"
   },
   {
    "duration": 21,
    "start_time": "2022-07-06T04:52:04.076Z"
   },
   {
    "duration": 60,
    "start_time": "2022-07-06T04:52:04.100Z"
   },
   {
    "duration": 18,
    "start_time": "2022-07-06T04:52:04.161Z"
   },
   {
    "duration": 7,
    "start_time": "2022-07-06T04:52:04.181Z"
   },
   {
    "duration": 24,
    "start_time": "2022-07-06T04:52:04.189Z"
   },
   {
    "duration": 59,
    "start_time": "2022-07-06T04:52:04.219Z"
   },
   {
    "duration": 13,
    "start_time": "2022-07-06T04:52:04.280Z"
   },
   {
    "duration": 8,
    "start_time": "2022-07-06T04:52:04.296Z"
   },
   {
    "duration": 239,
    "start_time": "2022-07-06T04:52:04.306Z"
   },
   {
    "duration": 158,
    "start_time": "2022-07-06T04:52:04.551Z"
   },
   {
    "duration": 58,
    "start_time": "2022-07-06T04:52:04.714Z"
   },
   {
    "duration": 327,
    "start_time": "2022-07-06T04:52:04.774Z"
   },
   {
    "duration": 272,
    "start_time": "2022-07-06T04:52:05.103Z"
   },
   {
    "duration": 278,
    "start_time": "2022-07-06T04:52:05.382Z"
   },
   {
    "duration": 340,
    "start_time": "2022-07-06T04:52:05.663Z"
   },
   {
    "duration": 238,
    "start_time": "2022-07-06T04:52:06.010Z"
   },
   {
    "duration": 292,
    "start_time": "2022-07-06T04:52:06.249Z"
   },
   {
    "duration": 12,
    "start_time": "2022-07-06T04:52:06.543Z"
   },
   {
    "duration": 166,
    "start_time": "2022-07-06T04:52:06.559Z"
   },
   {
    "duration": 3,
    "start_time": "2022-07-06T04:52:06.727Z"
   },
   {
    "duration": 284,
    "start_time": "2022-07-06T04:52:06.732Z"
   },
   {
    "duration": 12,
    "start_time": "2022-07-06T04:52:07.023Z"
   },
   {
    "duration": 381,
    "start_time": "2022-07-06T04:52:07.037Z"
   },
   {
    "duration": 447,
    "start_time": "2022-07-06T04:52:07.424Z"
   },
   {
    "duration": 3,
    "start_time": "2022-07-06T04:52:38.388Z"
   },
   {
    "duration": 71,
    "start_time": "2022-07-06T04:52:38.393Z"
   },
   {
    "duration": 15,
    "start_time": "2022-07-06T04:52:38.468Z"
   },
   {
    "duration": 18,
    "start_time": "2022-07-06T04:52:38.485Z"
   },
   {
    "duration": 64,
    "start_time": "2022-07-06T04:52:38.506Z"
   },
   {
    "duration": 19,
    "start_time": "2022-07-06T04:52:38.572Z"
   },
   {
    "duration": 6,
    "start_time": "2022-07-06T04:52:38.593Z"
   },
   {
    "duration": 74,
    "start_time": "2022-07-06T04:52:38.606Z"
   },
   {
    "duration": 79,
    "start_time": "2022-07-06T04:52:38.682Z"
   },
   {
    "duration": 12,
    "start_time": "2022-07-06T04:52:38.764Z"
   },
   {
    "duration": 7,
    "start_time": "2022-07-06T04:52:38.778Z"
   },
   {
    "duration": 288,
    "start_time": "2022-07-06T04:52:38.788Z"
   },
   {
    "duration": 178,
    "start_time": "2022-07-06T04:52:39.079Z"
   },
   {
    "duration": 10,
    "start_time": "2022-07-06T04:52:39.262Z"
   },
   {
    "duration": 343,
    "start_time": "2022-07-06T04:52:39.274Z"
   },
   {
    "duration": 287,
    "start_time": "2022-07-06T04:52:39.619Z"
   },
   {
    "duration": 231,
    "start_time": "2022-07-06T04:52:39.908Z"
   },
   {
    "duration": 284,
    "start_time": "2022-07-06T04:52:40.141Z"
   },
   {
    "duration": 355,
    "start_time": "2022-07-06T04:52:40.429Z"
   },
   {
    "duration": 376,
    "start_time": "2022-07-06T04:52:40.787Z"
   },
   {
    "duration": 10,
    "start_time": "2022-07-06T04:52:41.169Z"
   },
   {
    "duration": 156,
    "start_time": "2022-07-06T04:52:41.181Z"
   },
   {
    "duration": 5,
    "start_time": "2022-07-06T04:52:41.339Z"
   },
   {
    "duration": 187,
    "start_time": "2022-07-06T04:52:41.346Z"
   },
   {
    "duration": 34,
    "start_time": "2022-07-06T04:52:41.545Z"
   },
   {
    "duration": 343,
    "start_time": "2022-07-06T04:52:41.581Z"
   },
   {
    "duration": 369,
    "start_time": "2022-07-06T04:52:41.926Z"
   },
   {
    "duration": 546,
    "start_time": "2022-07-06T04:52:43.558Z"
   },
   {
    "duration": 4,
    "start_time": "2022-07-06T04:52:49.191Z"
   },
   {
    "duration": 57,
    "start_time": "2022-07-06T04:52:49.199Z"
   },
   {
    "duration": 5,
    "start_time": "2022-07-06T04:52:49.258Z"
   },
   {
    "duration": 17,
    "start_time": "2022-07-06T04:52:49.265Z"
   },
   {
    "duration": 7,
    "start_time": "2022-07-06T04:52:49.285Z"
   },
   {
    "duration": 24,
    "start_time": "2022-07-06T04:52:49.293Z"
   },
   {
    "duration": 29,
    "start_time": "2022-07-06T04:52:49.318Z"
   },
   {
    "duration": 25,
    "start_time": "2022-07-06T04:52:49.349Z"
   },
   {
    "duration": 49,
    "start_time": "2022-07-06T04:52:49.376Z"
   },
   {
    "duration": 27,
    "start_time": "2022-07-06T04:52:49.427Z"
   },
   {
    "duration": 10,
    "start_time": "2022-07-06T04:52:49.457Z"
   },
   {
    "duration": 193,
    "start_time": "2022-07-06T04:52:49.469Z"
   },
   {
    "duration": 145,
    "start_time": "2022-07-06T04:52:49.664Z"
   },
   {
    "duration": 19,
    "start_time": "2022-07-06T04:52:49.816Z"
   },
   {
    "duration": 325,
    "start_time": "2022-07-06T04:52:49.843Z"
   },
   {
    "duration": 218,
    "start_time": "2022-07-06T04:52:50.169Z"
   },
   {
    "duration": 218,
    "start_time": "2022-07-06T04:52:50.389Z"
   },
   {
    "duration": 279,
    "start_time": "2022-07-06T04:52:50.609Z"
   },
   {
    "duration": 208,
    "start_time": "2022-07-06T04:52:50.890Z"
   },
   {
    "duration": 372,
    "start_time": "2022-07-06T04:52:51.106Z"
   },
   {
    "duration": 32,
    "start_time": "2022-07-06T04:52:51.481Z"
   },
   {
    "duration": 156,
    "start_time": "2022-07-06T04:52:51.515Z"
   },
   {
    "duration": 6,
    "start_time": "2022-07-06T04:52:51.673Z"
   },
   {
    "duration": 177,
    "start_time": "2022-07-06T04:52:51.681Z"
   },
   {
    "duration": 8,
    "start_time": "2022-07-06T04:52:51.859Z"
   },
   {
    "duration": 320,
    "start_time": "2022-07-06T04:52:51.869Z"
   },
   {
    "duration": 308,
    "start_time": "2022-07-06T04:52:52.191Z"
   },
   {
    "duration": 165,
    "start_time": "2022-07-06T04:56:21.938Z"
   },
   {
    "duration": 183,
    "start_time": "2022-07-06T04:58:50.089Z"
   },
   {
    "duration": 14,
    "start_time": "2022-07-06T05:02:08.022Z"
   },
   {
    "duration": 1403,
    "start_time": "2022-07-06T05:08:57.826Z"
   },
   {
    "duration": 1004,
    "start_time": "2022-07-06T05:09:49.035Z"
   },
   {
    "duration": 9,
    "start_time": "2022-07-06T05:10:52.793Z"
   },
   {
    "duration": 953,
    "start_time": "2022-07-06T05:11:23.597Z"
   },
   {
    "duration": 1129,
    "start_time": "2022-07-06T05:11:30.735Z"
   },
   {
    "duration": 1026,
    "start_time": "2022-07-06T05:11:42.533Z"
   },
   {
    "duration": 8,
    "start_time": "2022-07-06T05:12:09.138Z"
   },
   {
    "duration": 1094,
    "start_time": "2022-07-06T05:12:26.495Z"
   },
   {
    "duration": 12,
    "start_time": "2022-07-06T05:12:50.937Z"
   },
   {
    "duration": 1007,
    "start_time": "2022-07-06T05:13:09.047Z"
   },
   {
    "duration": 9,
    "start_time": "2022-07-06T05:13:30.128Z"
   },
   {
    "duration": 12,
    "start_time": "2022-07-06T05:13:37.822Z"
   },
   {
    "duration": 152,
    "start_time": "2022-07-06T05:15:01.247Z"
   },
   {
    "duration": 11,
    "start_time": "2022-07-06T05:15:11.328Z"
   },
   {
    "duration": 10,
    "start_time": "2022-07-06T05:15:27.229Z"
   },
   {
    "duration": 6,
    "start_time": "2022-07-06T05:15:29.938Z"
   },
   {
    "duration": 1086,
    "start_time": "2022-07-06T05:16:49.301Z"
   },
   {
    "duration": 8,
    "start_time": "2022-07-06T05:17:16.489Z"
   },
   {
    "duration": 33,
    "start_time": "2022-07-06T05:17:58.501Z"
   },
   {
    "duration": 961,
    "start_time": "2022-07-06T05:20:17.564Z"
   },
   {
    "duration": 1023,
    "start_time": "2022-07-06T05:20:30.073Z"
   },
   {
    "duration": 21,
    "start_time": "2022-07-06T05:20:41.984Z"
   },
   {
    "duration": 1219,
    "start_time": "2022-07-08T03:43:07.760Z"
   },
   {
    "duration": 91,
    "start_time": "2022-07-08T03:43:08.981Z"
   },
   {
    "duration": 0,
    "start_time": "2022-07-08T03:43:09.075Z"
   },
   {
    "duration": 0,
    "start_time": "2022-07-08T03:43:09.076Z"
   },
   {
    "duration": 0,
    "start_time": "2022-07-08T03:43:09.078Z"
   },
   {
    "duration": 0,
    "start_time": "2022-07-08T03:43:09.079Z"
   },
   {
    "duration": 0,
    "start_time": "2022-07-08T03:43:09.080Z"
   },
   {
    "duration": 0,
    "start_time": "2022-07-08T03:43:09.081Z"
   },
   {
    "duration": 0,
    "start_time": "2022-07-08T03:43:09.082Z"
   },
   {
    "duration": 0,
    "start_time": "2022-07-08T03:43:09.082Z"
   },
   {
    "duration": 0,
    "start_time": "2022-07-08T03:43:09.083Z"
   },
   {
    "duration": 0,
    "start_time": "2022-07-08T03:43:09.084Z"
   },
   {
    "duration": 0,
    "start_time": "2022-07-08T03:43:09.085Z"
   },
   {
    "duration": 0,
    "start_time": "2022-07-08T03:43:09.085Z"
   },
   {
    "duration": 0,
    "start_time": "2022-07-08T03:43:09.086Z"
   },
   {
    "duration": 0,
    "start_time": "2022-07-08T03:43:09.086Z"
   },
   {
    "duration": 0,
    "start_time": "2022-07-08T03:43:09.100Z"
   },
   {
    "duration": 0,
    "start_time": "2022-07-08T03:43:09.102Z"
   },
   {
    "duration": 0,
    "start_time": "2022-07-08T03:43:09.103Z"
   },
   {
    "duration": 0,
    "start_time": "2022-07-08T03:43:09.104Z"
   },
   {
    "duration": 0,
    "start_time": "2022-07-08T03:43:09.106Z"
   },
   {
    "duration": 0,
    "start_time": "2022-07-08T03:43:09.107Z"
   },
   {
    "duration": 0,
    "start_time": "2022-07-08T03:43:09.108Z"
   },
   {
    "duration": 0,
    "start_time": "2022-07-08T03:43:09.109Z"
   },
   {
    "duration": 0,
    "start_time": "2022-07-08T03:43:09.110Z"
   },
   {
    "duration": 0,
    "start_time": "2022-07-08T03:43:09.111Z"
   },
   {
    "duration": 0,
    "start_time": "2022-07-08T03:43:09.112Z"
   },
   {
    "duration": 0,
    "start_time": "2022-07-08T03:43:09.113Z"
   },
   {
    "duration": 0,
    "start_time": "2022-07-08T03:43:09.114Z"
   },
   {
    "duration": 0,
    "start_time": "2022-07-08T03:43:09.115Z"
   },
   {
    "duration": 0,
    "start_time": "2022-07-08T03:43:09.116Z"
   },
   {
    "duration": 0,
    "start_time": "2022-07-08T03:43:09.117Z"
   },
   {
    "duration": 36,
    "start_time": "2022-07-08T03:43:33.041Z"
   },
   {
    "duration": 12,
    "start_time": "2022-07-08T03:43:34.393Z"
   },
   {
    "duration": 3,
    "start_time": "2022-07-08T03:43:37.488Z"
   },
   {
    "duration": 17,
    "start_time": "2022-07-08T03:43:37.500Z"
   },
   {
    "duration": 13,
    "start_time": "2022-07-08T03:43:37.519Z"
   },
   {
    "duration": 8,
    "start_time": "2022-07-08T03:43:37.533Z"
   },
   {
    "duration": 11,
    "start_time": "2022-07-08T03:43:37.543Z"
   },
   {
    "duration": 5,
    "start_time": "2022-07-08T03:43:37.556Z"
   },
   {
    "duration": 13,
    "start_time": "2022-07-08T03:43:37.562Z"
   },
   {
    "duration": 54,
    "start_time": "2022-07-08T03:43:37.576Z"
   },
   {
    "duration": 35,
    "start_time": "2022-07-08T03:43:37.632Z"
   },
   {
    "duration": 5,
    "start_time": "2022-07-08T03:43:37.669Z"
   },
   {
    "duration": 153,
    "start_time": "2022-07-08T03:43:37.675Z"
   },
   {
    "duration": 115,
    "start_time": "2022-07-08T03:43:37.830Z"
   },
   {
    "duration": 10,
    "start_time": "2022-07-08T03:43:37.946Z"
   },
   {
    "duration": 259,
    "start_time": "2022-07-08T03:43:37.958Z"
   },
   {
    "duration": 252,
    "start_time": "2022-07-08T03:43:38.218Z"
   },
   {
    "duration": 172,
    "start_time": "2022-07-08T03:43:38.472Z"
   },
   {
    "duration": 326,
    "start_time": "2022-07-08T03:43:38.646Z"
   },
   {
    "duration": 188,
    "start_time": "2022-07-08T03:43:38.974Z"
   },
   {
    "duration": 305,
    "start_time": "2022-07-08T03:43:39.164Z"
   },
   {
    "duration": 9,
    "start_time": "2022-07-08T03:43:39.470Z"
   },
   {
    "duration": 124,
    "start_time": "2022-07-08T03:43:39.480Z"
   },
   {
    "duration": 4,
    "start_time": "2022-07-08T03:43:39.605Z"
   },
   {
    "duration": 138,
    "start_time": "2022-07-08T03:43:39.610Z"
   },
   {
    "duration": 4,
    "start_time": "2022-07-08T03:43:39.749Z"
   },
   {
    "duration": 211,
    "start_time": "2022-07-08T03:43:39.755Z"
   },
   {
    "duration": 140,
    "start_time": "2022-07-08T03:43:39.967Z"
   },
   {
    "duration": 149,
    "start_time": "2022-07-08T03:43:40.108Z"
   },
   {
    "duration": 10,
    "start_time": "2022-07-08T03:43:40.259Z"
   },
   {
    "duration": 7,
    "start_time": "2022-07-08T03:43:40.272Z"
   },
   {
    "duration": 25,
    "start_time": "2022-07-08T03:43:40.280Z"
   },
   {
    "duration": 12,
    "start_time": "2022-07-08T03:43:40.307Z"
   },
   {
    "duration": 21,
    "start_time": "2022-07-08T03:43:40.320Z"
   },
   {
    "duration": 13,
    "start_time": "2022-07-08T03:43:40.342Z"
   },
   {
    "duration": 15,
    "start_time": "2022-07-08T03:50:29.563Z"
   },
   {
    "duration": 3,
    "start_time": "2022-07-08T03:50:32.978Z"
   },
   {
    "duration": 15,
    "start_time": "2022-07-08T03:50:32.994Z"
   },
   {
    "duration": 8,
    "start_time": "2022-07-08T03:50:33.010Z"
   },
   {
    "duration": 3,
    "start_time": "2022-07-08T03:50:33.024Z"
   },
   {
    "duration": 11,
    "start_time": "2022-07-08T03:50:33.039Z"
   },
   {
    "duration": 3,
    "start_time": "2022-07-08T03:50:33.055Z"
   },
   {
    "duration": 10,
    "start_time": "2022-07-08T03:50:33.068Z"
   },
   {
    "duration": 29,
    "start_time": "2022-07-08T03:50:33.080Z"
   },
   {
    "duration": 10,
    "start_time": "2022-07-08T03:50:33.111Z"
   },
   {
    "duration": 5,
    "start_time": "2022-07-08T03:50:33.123Z"
   },
   {
    "duration": 176,
    "start_time": "2022-07-08T03:50:33.130Z"
   },
   {
    "duration": 133,
    "start_time": "2022-07-08T03:50:33.308Z"
   },
   {
    "duration": 9,
    "start_time": "2022-07-08T03:50:33.443Z"
   },
   {
    "duration": 271,
    "start_time": "2022-07-08T03:50:33.454Z"
   },
   {
    "duration": 192,
    "start_time": "2022-07-08T03:50:33.727Z"
   },
   {
    "duration": 202,
    "start_time": "2022-07-08T03:50:33.921Z"
   },
   {
    "duration": 261,
    "start_time": "2022-07-08T03:50:34.126Z"
   },
   {
    "duration": 175,
    "start_time": "2022-07-08T03:50:34.388Z"
   },
   {
    "duration": 312,
    "start_time": "2022-07-08T03:50:34.565Z"
   },
   {
    "duration": 10,
    "start_time": "2022-07-08T03:50:34.878Z"
   },
   {
    "duration": 129,
    "start_time": "2022-07-08T03:50:34.889Z"
   },
   {
    "duration": 4,
    "start_time": "2022-07-08T03:50:35.020Z"
   },
   {
    "duration": 154,
    "start_time": "2022-07-08T03:50:35.026Z"
   },
   {
    "duration": 5,
    "start_time": "2022-07-08T03:50:35.181Z"
   },
   {
    "duration": 252,
    "start_time": "2022-07-08T03:50:35.200Z"
   },
   {
    "duration": 131,
    "start_time": "2022-07-08T03:50:35.454Z"
   },
   {
    "duration": 169,
    "start_time": "2022-07-08T03:50:35.586Z"
   },
   {
    "duration": 10,
    "start_time": "2022-07-08T03:50:35.756Z"
   },
   {
    "duration": 21,
    "start_time": "2022-07-08T03:50:35.768Z"
   },
   {
    "duration": 12,
    "start_time": "2022-07-08T03:50:35.791Z"
   },
   {
    "duration": 16,
    "start_time": "2022-07-08T03:50:35.804Z"
   },
   {
    "duration": 28,
    "start_time": "2022-07-08T03:50:35.822Z"
   },
   {
    "duration": 14,
    "start_time": "2022-07-08T03:50:35.852Z"
   },
   {
    "duration": 13,
    "start_time": "2022-07-08T04:02:00.421Z"
   },
   {
    "duration": 8,
    "start_time": "2022-07-08T04:02:07.054Z"
   },
   {
    "duration": 8,
    "start_time": "2022-07-08T04:02:18.660Z"
   },
   {
    "duration": 7,
    "start_time": "2022-07-08T04:02:56.293Z"
   },
   {
    "duration": 177,
    "start_time": "2022-07-08T04:14:04.565Z"
   },
   {
    "duration": 162,
    "start_time": "2022-07-08T04:18:44.181Z"
   },
   {
    "duration": 111,
    "start_time": "2022-07-08T04:18:51.956Z"
   },
   {
    "duration": 170,
    "start_time": "2022-07-08T04:26:19.373Z"
   },
   {
    "duration": 296,
    "start_time": "2022-07-08T04:38:07.899Z"
   },
   {
    "duration": 107,
    "start_time": "2022-07-08T04:46:21.121Z"
   },
   {
    "duration": 113,
    "start_time": "2022-07-08T04:47:13.003Z"
   },
   {
    "duration": 262,
    "start_time": "2022-07-08T05:23:07.372Z"
   },
   {
    "duration": 138,
    "start_time": "2022-07-08T05:24:38.360Z"
   },
   {
    "duration": 8,
    "start_time": "2022-07-08T05:38:55.839Z"
   },
   {
    "duration": 6,
    "start_time": "2022-07-08T05:38:57.619Z"
   },
   {
    "duration": 6,
    "start_time": "2022-07-08T05:39:16.800Z"
   },
   {
    "duration": 8,
    "start_time": "2022-07-08T05:39:22.939Z"
   },
   {
    "duration": 147,
    "start_time": "2022-07-08T05:40:31.116Z"
   },
   {
    "duration": 122,
    "start_time": "2022-07-08T05:40:37.881Z"
   },
   {
    "duration": 133,
    "start_time": "2022-07-08T05:41:20.175Z"
   },
   {
    "duration": 36,
    "start_time": "2022-07-08T05:41:33.718Z"
   },
   {
    "duration": 6,
    "start_time": "2022-07-08T05:42:05.258Z"
   },
   {
    "duration": 4,
    "start_time": "2022-07-08T05:42:07.531Z"
   },
   {
    "duration": 24,
    "start_time": "2022-07-08T05:42:13.504Z"
   },
   {
    "duration": 2,
    "start_time": "2022-07-08T06:05:16.397Z"
   },
   {
    "duration": 15,
    "start_time": "2022-07-08T06:05:16.418Z"
   },
   {
    "duration": 7,
    "start_time": "2022-07-08T06:05:16.435Z"
   },
   {
    "duration": 6,
    "start_time": "2022-07-08T06:05:16.444Z"
   },
   {
    "duration": 15,
    "start_time": "2022-07-08T06:05:16.453Z"
   },
   {
    "duration": 13,
    "start_time": "2022-07-08T06:05:16.470Z"
   },
   {
    "duration": 19,
    "start_time": "2022-07-08T06:05:16.486Z"
   },
   {
    "duration": 28,
    "start_time": "2022-07-08T06:05:16.507Z"
   },
   {
    "duration": 7,
    "start_time": "2022-07-08T06:05:16.537Z"
   },
   {
    "duration": 16,
    "start_time": "2022-07-08T06:05:16.546Z"
   },
   {
    "duration": 9,
    "start_time": "2022-07-08T06:05:16.563Z"
   },
   {
    "duration": 13,
    "start_time": "2022-07-08T06:05:16.574Z"
   },
   {
    "duration": 14,
    "start_time": "2022-07-08T06:05:16.588Z"
   },
   {
    "duration": 161,
    "start_time": "2022-07-08T06:05:16.605Z"
   },
   {
    "duration": 137,
    "start_time": "2022-07-08T06:05:16.768Z"
   },
   {
    "duration": 9,
    "start_time": "2022-07-08T06:05:16.907Z"
   },
   {
    "duration": 169,
    "start_time": "2022-07-08T06:05:16.918Z"
   },
   {
    "duration": 133,
    "start_time": "2022-07-08T06:05:17.089Z"
   },
   {
    "duration": 181,
    "start_time": "2022-07-08T06:05:17.223Z"
   },
   {
    "duration": 176,
    "start_time": "2022-07-08T06:05:17.405Z"
   },
   {
    "duration": 291,
    "start_time": "2022-07-08T06:05:17.583Z"
   },
   {
    "duration": 190,
    "start_time": "2022-07-08T06:05:17.876Z"
   },
   {
    "duration": 316,
    "start_time": "2022-07-08T06:05:18.068Z"
   },
   {
    "duration": 14,
    "start_time": "2022-07-08T06:05:18.386Z"
   },
   {
    "duration": 123,
    "start_time": "2022-07-08T06:05:18.402Z"
   },
   {
    "duration": 4,
    "start_time": "2022-07-08T06:05:18.527Z"
   },
   {
    "duration": 143,
    "start_time": "2022-07-08T06:05:18.532Z"
   },
   {
    "duration": 5,
    "start_time": "2022-07-08T06:05:18.676Z"
   },
   {
    "duration": 225,
    "start_time": "2022-07-08T06:05:18.682Z"
   },
   {
    "duration": 64,
    "start_time": "2022-07-08T06:05:18.909Z"
   },
   {
    "duration": 95,
    "start_time": "2022-07-08T06:05:18.974Z"
   },
   {
    "duration": 159,
    "start_time": "2022-07-08T06:05:19.071Z"
   },
   {
    "duration": 5,
    "start_time": "2022-07-08T06:05:19.231Z"
   },
   {
    "duration": 6,
    "start_time": "2022-07-08T06:05:19.237Z"
   },
   {
    "duration": 21,
    "start_time": "2022-07-08T06:05:19.245Z"
   },
   {
    "duration": 10,
    "start_time": "2022-07-08T06:05:19.268Z"
   },
   {
    "duration": 26,
    "start_time": "2022-07-08T06:05:19.279Z"
   },
   {
    "duration": 8,
    "start_time": "2022-07-08T06:05:19.306Z"
   },
   {
    "duration": 12,
    "start_time": "2022-07-08T06:05:19.316Z"
   },
   {
    "duration": 7,
    "start_time": "2022-07-08T06:05:19.329Z"
   },
   {
    "duration": 29,
    "start_time": "2022-07-08T06:05:19.338Z"
   },
   {
    "duration": 14,
    "start_time": "2022-07-08T06:05:19.368Z"
   },
   {
    "duration": 3,
    "start_time": "2022-07-08T06:05:34.287Z"
   },
   {
    "duration": 16,
    "start_time": "2022-07-08T06:05:34.299Z"
   },
   {
    "duration": 9,
    "start_time": "2022-07-08T06:05:34.316Z"
   },
   {
    "duration": 11,
    "start_time": "2022-07-08T06:05:34.327Z"
   },
   {
    "duration": 13,
    "start_time": "2022-07-08T06:05:34.340Z"
   },
   {
    "duration": 8,
    "start_time": "2022-07-08T06:05:34.355Z"
   },
   {
    "duration": 15,
    "start_time": "2022-07-08T06:05:34.365Z"
   },
   {
    "duration": 46,
    "start_time": "2022-07-08T06:05:34.381Z"
   },
   {
    "duration": 8,
    "start_time": "2022-07-08T06:05:34.429Z"
   },
   {
    "duration": 16,
    "start_time": "2022-07-08T06:05:34.439Z"
   },
   {
    "duration": 15,
    "start_time": "2022-07-08T06:05:34.457Z"
   },
   {
    "duration": 10,
    "start_time": "2022-07-08T06:05:34.474Z"
   },
   {
    "duration": 7,
    "start_time": "2022-07-08T06:05:34.486Z"
   },
   {
    "duration": 168,
    "start_time": "2022-07-08T06:05:34.494Z"
   },
   {
    "duration": 137,
    "start_time": "2022-07-08T06:05:34.664Z"
   },
   {
    "duration": 9,
    "start_time": "2022-07-08T06:05:34.802Z"
   },
   {
    "duration": 163,
    "start_time": "2022-07-08T06:05:34.813Z"
   },
   {
    "duration": 135,
    "start_time": "2022-07-08T06:05:34.979Z"
   },
   {
    "duration": 222,
    "start_time": "2022-07-08T06:05:35.116Z"
   },
   {
    "duration": 196,
    "start_time": "2022-07-08T06:05:35.339Z"
   },
   {
    "duration": 268,
    "start_time": "2022-07-08T06:05:35.537Z"
   },
   {
    "duration": 178,
    "start_time": "2022-07-08T06:05:35.806Z"
   },
   {
    "duration": 360,
    "start_time": "2022-07-08T06:05:35.986Z"
   },
   {
    "duration": 12,
    "start_time": "2022-07-08T06:05:36.348Z"
   },
   {
    "duration": 142,
    "start_time": "2022-07-08T06:05:36.362Z"
   },
   {
    "duration": 4,
    "start_time": "2022-07-08T06:05:36.506Z"
   },
   {
    "duration": 152,
    "start_time": "2022-07-08T06:05:36.511Z"
   },
   {
    "duration": 5,
    "start_time": "2022-07-08T06:05:36.664Z"
   },
   {
    "duration": 224,
    "start_time": "2022-07-08T06:05:36.670Z"
   },
   {
    "duration": 66,
    "start_time": "2022-07-08T06:05:36.901Z"
   },
   {
    "duration": 102,
    "start_time": "2022-07-08T06:05:36.969Z"
   },
   {
    "duration": 149,
    "start_time": "2022-07-08T06:05:37.073Z"
   },
   {
    "duration": 4,
    "start_time": "2022-07-08T06:05:37.224Z"
   },
   {
    "duration": 8,
    "start_time": "2022-07-08T06:05:37.230Z"
   },
   {
    "duration": 22,
    "start_time": "2022-07-08T06:05:37.239Z"
   },
   {
    "duration": 10,
    "start_time": "2022-07-08T06:05:37.263Z"
   },
   {
    "duration": 28,
    "start_time": "2022-07-08T06:05:37.274Z"
   },
   {
    "duration": 33,
    "start_time": "2022-07-08T06:05:37.303Z"
   },
   {
    "duration": 11,
    "start_time": "2022-07-08T06:05:37.338Z"
   },
   {
    "duration": 13,
    "start_time": "2022-07-08T06:05:37.350Z"
   },
   {
    "duration": 24,
    "start_time": "2022-07-08T06:05:37.365Z"
   },
   {
    "duration": 13,
    "start_time": "2022-07-08T06:05:37.393Z"
   },
   {
    "duration": 4,
    "start_time": "2022-07-08T06:13:26.087Z"
   },
   {
    "duration": 22,
    "start_time": "2022-07-08T06:13:26.113Z"
   },
   {
    "duration": 9,
    "start_time": "2022-07-08T06:13:26.137Z"
   },
   {
    "duration": 9,
    "start_time": "2022-07-08T06:13:26.147Z"
   },
   {
    "duration": 16,
    "start_time": "2022-07-08T06:13:26.157Z"
   },
   {
    "duration": 7,
    "start_time": "2022-07-08T06:13:26.174Z"
   },
   {
    "duration": 13,
    "start_time": "2022-07-08T06:13:26.183Z"
   },
   {
    "duration": 42,
    "start_time": "2022-07-08T06:13:26.198Z"
   },
   {
    "duration": 8,
    "start_time": "2022-07-08T06:13:26.241Z"
   },
   {
    "duration": 14,
    "start_time": "2022-07-08T06:13:26.251Z"
   },
   {
    "duration": 6,
    "start_time": "2022-07-08T06:13:26.267Z"
   },
   {
    "duration": 13,
    "start_time": "2022-07-08T06:13:26.274Z"
   },
   {
    "duration": 7,
    "start_time": "2022-07-08T06:13:26.289Z"
   },
   {
    "duration": 179,
    "start_time": "2022-07-08T06:13:26.298Z"
   },
   {
    "duration": 134,
    "start_time": "2022-07-08T06:13:26.479Z"
   },
   {
    "duration": 10,
    "start_time": "2022-07-08T06:13:26.616Z"
   },
   {
    "duration": 164,
    "start_time": "2022-07-08T06:13:26.629Z"
   },
   {
    "duration": 133,
    "start_time": "2022-07-08T06:13:26.795Z"
   },
   {
    "duration": 339,
    "start_time": "2022-07-08T06:13:26.929Z"
   },
   {
    "duration": 217,
    "start_time": "2022-07-08T06:13:27.270Z"
   },
   {
    "duration": 292,
    "start_time": "2022-07-08T06:13:27.489Z"
   },
   {
    "duration": 196,
    "start_time": "2022-07-08T06:13:27.783Z"
   },
   {
    "duration": 309,
    "start_time": "2022-07-08T06:13:27.981Z"
   },
   {
    "duration": 23,
    "start_time": "2022-07-08T06:13:28.292Z"
   },
   {
    "duration": 120,
    "start_time": "2022-07-08T06:13:28.316Z"
   },
   {
    "duration": 4,
    "start_time": "2022-07-08T06:13:28.437Z"
   },
   {
    "duration": 144,
    "start_time": "2022-07-08T06:13:28.442Z"
   },
   {
    "duration": 23,
    "start_time": "2022-07-08T06:13:28.588Z"
   },
   {
    "duration": 210,
    "start_time": "2022-07-08T06:13:28.613Z"
   },
   {
    "duration": 59,
    "start_time": "2022-07-08T06:13:28.824Z"
   },
   {
    "duration": 94,
    "start_time": "2022-07-08T06:13:28.885Z"
   },
   {
    "duration": 162,
    "start_time": "2022-07-08T06:13:28.981Z"
   },
   {
    "duration": 4,
    "start_time": "2022-07-08T06:13:29.145Z"
   },
   {
    "duration": 10,
    "start_time": "2022-07-08T06:13:29.150Z"
   },
   {
    "duration": 22,
    "start_time": "2022-07-08T06:13:29.161Z"
   },
   {
    "duration": 27,
    "start_time": "2022-07-08T06:13:29.184Z"
   },
   {
    "duration": 8,
    "start_time": "2022-07-08T06:13:29.215Z"
   },
   {
    "duration": 13,
    "start_time": "2022-07-08T06:13:29.224Z"
   },
   {
    "duration": 10,
    "start_time": "2022-07-08T06:13:29.239Z"
   },
   {
    "duration": 11,
    "start_time": "2022-07-08T06:13:29.250Z"
   },
   {
    "duration": 23,
    "start_time": "2022-07-08T06:13:29.262Z"
   },
   {
    "duration": 15,
    "start_time": "2022-07-08T06:13:29.287Z"
   },
   {
    "duration": 1160,
    "start_time": "2022-07-08T08:07:37.037Z"
   },
   {
    "duration": 16,
    "start_time": "2022-07-08T08:07:38.199Z"
   },
   {
    "duration": 18,
    "start_time": "2022-07-08T08:07:38.220Z"
   },
   {
    "duration": 11,
    "start_time": "2022-07-08T08:07:38.239Z"
   },
   {
    "duration": 14,
    "start_time": "2022-07-08T08:07:38.252Z"
   },
   {
    "duration": 11,
    "start_time": "2022-07-08T08:07:38.267Z"
   },
   {
    "duration": 16,
    "start_time": "2022-07-08T08:07:38.279Z"
   },
   {
    "duration": 31,
    "start_time": "2022-07-08T08:07:38.297Z"
   },
   {
    "duration": 8,
    "start_time": "2022-07-08T08:07:38.331Z"
   },
   {
    "duration": 17,
    "start_time": "2022-07-08T08:07:38.341Z"
   },
   {
    "duration": 9,
    "start_time": "2022-07-08T08:07:38.360Z"
   },
   {
    "duration": 12,
    "start_time": "2022-07-08T08:07:38.370Z"
   },
   {
    "duration": 12,
    "start_time": "2022-07-08T08:07:38.384Z"
   },
   {
    "duration": 176,
    "start_time": "2022-07-08T08:07:38.397Z"
   },
   {
    "duration": 137,
    "start_time": "2022-07-08T08:07:38.575Z"
   },
   {
    "duration": 11,
    "start_time": "2022-07-08T08:07:38.723Z"
   },
   {
    "duration": 187,
    "start_time": "2022-07-08T08:07:38.736Z"
   },
   {
    "duration": 140,
    "start_time": "2022-07-08T08:07:38.925Z"
   },
   {
    "duration": 305,
    "start_time": "2022-07-08T08:07:39.067Z"
   },
   {
    "duration": 192,
    "start_time": "2022-07-08T08:07:39.374Z"
   },
   {
    "duration": 275,
    "start_time": "2022-07-08T08:07:39.567Z"
   },
   {
    "duration": 197,
    "start_time": "2022-07-08T08:07:39.843Z"
   },
   {
    "duration": 289,
    "start_time": "2022-07-08T08:07:40.042Z"
   },
   {
    "duration": 10,
    "start_time": "2022-07-08T08:07:40.333Z"
   },
   {
    "duration": 148,
    "start_time": "2022-07-08T08:07:40.345Z"
   },
   {
    "duration": 3,
    "start_time": "2022-07-08T08:07:40.495Z"
   },
   {
    "duration": 153,
    "start_time": "2022-07-08T08:07:40.502Z"
   },
   {
    "duration": 6,
    "start_time": "2022-07-08T08:07:40.657Z"
   },
   {
    "duration": 248,
    "start_time": "2022-07-08T08:07:40.665Z"
   },
   {
    "duration": 90,
    "start_time": "2022-07-08T08:07:40.915Z"
   },
   {
    "duration": 109,
    "start_time": "2022-07-08T08:07:41.023Z"
   },
   {
    "duration": 170,
    "start_time": "2022-07-08T08:07:41.135Z"
   },
   {
    "duration": 4,
    "start_time": "2022-07-08T08:07:41.307Z"
   },
   {
    "duration": 14,
    "start_time": "2022-07-08T08:07:41.313Z"
   },
   {
    "duration": 33,
    "start_time": "2022-07-08T08:07:41.329Z"
   },
   {
    "duration": 10,
    "start_time": "2022-07-08T08:07:41.364Z"
   },
   {
    "duration": 7,
    "start_time": "2022-07-08T08:07:41.375Z"
   },
   {
    "duration": 11,
    "start_time": "2022-07-08T08:07:41.384Z"
   },
   {
    "duration": 26,
    "start_time": "2022-07-08T08:07:41.397Z"
   },
   {
    "duration": 8,
    "start_time": "2022-07-08T08:07:41.424Z"
   },
   {
    "duration": 35,
    "start_time": "2022-07-08T08:07:41.433Z"
   },
   {
    "duration": 13,
    "start_time": "2022-07-08T08:07:41.469Z"
   },
   {
    "duration": 47,
    "start_time": "2022-07-08T11:44:00.893Z"
   },
   {
    "duration": 1226,
    "start_time": "2022-07-08T11:44:04.461Z"
   },
   {
    "duration": 35,
    "start_time": "2022-07-08T11:44:05.689Z"
   },
   {
    "duration": 10,
    "start_time": "2022-07-08T11:44:05.726Z"
   },
   {
    "duration": 21,
    "start_time": "2022-07-08T11:44:05.739Z"
   },
   {
    "duration": 20,
    "start_time": "2022-07-08T11:44:05.762Z"
   },
   {
    "duration": 6,
    "start_time": "2022-07-08T11:44:05.784Z"
   },
   {
    "duration": 13,
    "start_time": "2022-07-08T11:44:05.792Z"
   },
   {
    "duration": 58,
    "start_time": "2022-07-08T11:44:05.807Z"
   },
   {
    "duration": 9,
    "start_time": "2022-07-08T11:44:05.866Z"
   },
   {
    "duration": 35,
    "start_time": "2022-07-08T11:44:05.878Z"
   },
   {
    "duration": 9,
    "start_time": "2022-07-08T11:44:05.915Z"
   },
   {
    "duration": 15,
    "start_time": "2022-07-08T11:44:05.925Z"
   },
   {
    "duration": 26,
    "start_time": "2022-07-08T11:44:05.941Z"
   },
   {
    "duration": 169,
    "start_time": "2022-07-08T11:44:05.969Z"
   },
   {
    "duration": 126,
    "start_time": "2022-07-08T11:44:06.140Z"
   },
   {
    "duration": 27,
    "start_time": "2022-07-08T11:44:06.267Z"
   },
   {
    "duration": 172,
    "start_time": "2022-07-08T11:44:06.296Z"
   },
   {
    "duration": 121,
    "start_time": "2022-07-08T11:44:06.469Z"
   },
   {
    "duration": 289,
    "start_time": "2022-07-08T11:44:06.591Z"
   },
   {
    "duration": 186,
    "start_time": "2022-07-08T11:44:06.882Z"
   },
   {
    "duration": 282,
    "start_time": "2022-07-08T11:44:07.069Z"
   },
   {
    "duration": 170,
    "start_time": "2022-07-08T11:44:07.353Z"
   },
   {
    "duration": 294,
    "start_time": "2022-07-08T11:44:07.525Z"
   },
   {
    "duration": 9,
    "start_time": "2022-07-08T11:44:07.820Z"
   },
   {
    "duration": 135,
    "start_time": "2022-07-08T11:44:07.830Z"
   },
   {
    "duration": 4,
    "start_time": "2022-07-08T11:44:07.967Z"
   },
   {
    "duration": 161,
    "start_time": "2022-07-08T11:44:07.972Z"
   },
   {
    "duration": 4,
    "start_time": "2022-07-08T11:44:08.136Z"
   },
   {
    "duration": 212,
    "start_time": "2022-07-08T11:44:08.153Z"
   },
   {
    "duration": 88,
    "start_time": "2022-07-08T11:44:08.367Z"
   },
   {
    "duration": 73,
    "start_time": "2022-07-08T11:44:08.457Z"
   },
   {
    "duration": 143,
    "start_time": "2022-07-08T11:44:08.532Z"
   },
   {
    "duration": 5,
    "start_time": "2022-07-08T11:44:08.677Z"
   },
   {
    "duration": 19,
    "start_time": "2022-07-08T11:44:08.684Z"
   },
   {
    "duration": 26,
    "start_time": "2022-07-08T11:44:08.705Z"
   },
   {
    "duration": 21,
    "start_time": "2022-07-08T11:44:08.733Z"
   },
   {
    "duration": 17,
    "start_time": "2022-07-08T11:44:08.756Z"
   },
   {
    "duration": 11,
    "start_time": "2022-07-08T11:44:08.775Z"
   },
   {
    "duration": 9,
    "start_time": "2022-07-08T11:44:08.787Z"
   },
   {
    "duration": 8,
    "start_time": "2022-07-08T11:44:08.797Z"
   },
   {
    "duration": 25,
    "start_time": "2022-07-08T11:44:08.807Z"
   },
   {
    "duration": 22,
    "start_time": "2022-07-08T11:44:08.834Z"
   },
   {
    "duration": 358,
    "start_time": "2022-07-08T11:44:33.528Z"
   },
   {
    "duration": 277,
    "start_time": "2022-07-08T11:45:58.019Z"
   },
   {
    "duration": 180,
    "start_time": "2022-07-08T11:46:07.854Z"
   },
   {
    "duration": 197,
    "start_time": "2022-07-08T11:46:50.682Z"
   },
   {
    "duration": 213,
    "start_time": "2022-07-08T11:50:51.456Z"
   },
   {
    "duration": 334,
    "start_time": "2022-07-08T11:51:37.218Z"
   },
   {
    "duration": 259,
    "start_time": "2022-07-08T11:51:41.765Z"
   },
   {
    "duration": 342,
    "start_time": "2022-07-08T11:52:07.167Z"
   },
   {
    "duration": 205,
    "start_time": "2022-07-08T11:52:23.615Z"
   },
   {
    "duration": 234,
    "start_time": "2022-07-08T11:52:27.462Z"
   },
   {
    "duration": 367,
    "start_time": "2022-07-08T11:53:09.074Z"
   },
   {
    "duration": 137,
    "start_time": "2022-07-08T11:54:11.737Z"
   },
   {
    "duration": 124,
    "start_time": "2022-07-08T11:54:22.654Z"
   },
   {
    "duration": 144,
    "start_time": "2022-07-08T11:55:08.208Z"
   },
   {
    "duration": 4,
    "start_time": "2022-07-08T11:59:39.276Z"
   },
   {
    "duration": 5,
    "start_time": "2022-07-08T11:59:48.870Z"
   },
   {
    "duration": 4,
    "start_time": "2022-07-08T12:00:16.004Z"
   },
   {
    "duration": 4,
    "start_time": "2022-07-08T12:02:23.381Z"
   },
   {
    "duration": 7,
    "start_time": "2022-07-08T12:02:29.123Z"
   },
   {
    "duration": 4,
    "start_time": "2022-07-08T12:03:29.787Z"
   },
   {
    "duration": 4,
    "start_time": "2022-07-08T12:03:31.769Z"
   },
   {
    "duration": 81,
    "start_time": "2022-07-08T12:03:51.038Z"
   },
   {
    "duration": 12,
    "start_time": "2022-07-08T12:04:08.854Z"
   },
   {
    "duration": 4,
    "start_time": "2022-07-08T12:04:27.831Z"
   },
   {
    "duration": 5,
    "start_time": "2022-07-08T12:04:30.357Z"
   },
   {
    "duration": 7,
    "start_time": "2022-07-08T12:06:43.115Z"
   },
   {
    "duration": 11,
    "start_time": "2022-07-08T12:06:54.008Z"
   },
   {
    "duration": 10,
    "start_time": "2022-07-08T12:07:11.377Z"
   },
   {
    "duration": 17,
    "start_time": "2022-07-08T12:07:38.638Z"
   },
   {
    "duration": 3,
    "start_time": "2022-07-08T12:08:38.903Z"
   },
   {
    "duration": 21,
    "start_time": "2022-07-08T12:08:38.910Z"
   },
   {
    "duration": 7,
    "start_time": "2022-07-08T12:08:38.932Z"
   },
   {
    "duration": 16,
    "start_time": "2022-07-08T12:08:38.941Z"
   },
   {
    "duration": 14,
    "start_time": "2022-07-08T12:08:38.959Z"
   },
   {
    "duration": 4,
    "start_time": "2022-07-08T12:08:38.975Z"
   },
   {
    "duration": 15,
    "start_time": "2022-07-08T12:08:38.980Z"
   },
   {
    "duration": 35,
    "start_time": "2022-07-08T12:08:38.997Z"
   },
   {
    "duration": 12,
    "start_time": "2022-07-08T12:08:39.034Z"
   },
   {
    "duration": 16,
    "start_time": "2022-07-08T12:08:39.047Z"
   },
   {
    "duration": 8,
    "start_time": "2022-07-08T12:08:39.065Z"
   },
   {
    "duration": 14,
    "start_time": "2022-07-08T12:08:39.075Z"
   },
   {
    "duration": 8,
    "start_time": "2022-07-08T12:08:39.091Z"
   },
   {
    "duration": 12,
    "start_time": "2022-07-08T12:08:39.100Z"
   },
   {
    "duration": 178,
    "start_time": "2022-07-08T12:08:39.113Z"
   },
   {
    "duration": 134,
    "start_time": "2022-07-08T12:08:39.293Z"
   },
   {
    "duration": 32,
    "start_time": "2022-07-08T12:08:39.429Z"
   },
   {
    "duration": 168,
    "start_time": "2022-07-08T12:08:39.463Z"
   },
   {
    "duration": 144,
    "start_time": "2022-07-08T12:08:39.633Z"
   },
   {
    "duration": 200,
    "start_time": "2022-07-08T12:08:39.779Z"
   },
   {
    "duration": 186,
    "start_time": "2022-07-08T12:08:39.982Z"
   },
   {
    "duration": 296,
    "start_time": "2022-07-08T12:08:40.169Z"
   },
   {
    "duration": 202,
    "start_time": "2022-07-08T12:08:40.467Z"
   },
   {
    "duration": 301,
    "start_time": "2022-07-08T12:08:40.671Z"
   },
   {
    "duration": 10,
    "start_time": "2022-07-08T12:08:40.973Z"
   },
   {
    "duration": 131,
    "start_time": "2022-07-08T12:08:40.985Z"
   },
   {
    "duration": 3,
    "start_time": "2022-07-08T12:08:41.118Z"
   },
   {
    "duration": 151,
    "start_time": "2022-07-08T12:08:41.123Z"
   },
   {
    "duration": 4,
    "start_time": "2022-07-08T12:08:41.275Z"
   },
   {
    "duration": 233,
    "start_time": "2022-07-08T12:08:41.281Z"
   },
   {
    "duration": 90,
    "start_time": "2022-07-08T12:08:41.516Z"
   },
   {
    "duration": 91,
    "start_time": "2022-07-08T12:08:41.608Z"
   },
   {
    "duration": 150,
    "start_time": "2022-07-08T12:08:41.701Z"
   },
   {
    "duration": 5,
    "start_time": "2022-07-08T12:08:41.854Z"
   },
   {
    "duration": 7,
    "start_time": "2022-07-08T12:08:41.860Z"
   },
   {
    "duration": 23,
    "start_time": "2022-07-08T12:08:41.868Z"
   },
   {
    "duration": 9,
    "start_time": "2022-07-08T12:08:41.893Z"
   },
   {
    "duration": 6,
    "start_time": "2022-07-08T12:08:41.904Z"
   },
   {
    "duration": 13,
    "start_time": "2022-07-08T12:08:41.911Z"
   },
   {
    "duration": 27,
    "start_time": "2022-07-08T12:08:41.926Z"
   },
   {
    "duration": 8,
    "start_time": "2022-07-08T12:08:41.955Z"
   },
   {
    "duration": 20,
    "start_time": "2022-07-08T12:08:41.965Z"
   },
   {
    "duration": 14,
    "start_time": "2022-07-08T12:08:41.986Z"
   },
   {
    "duration": 5,
    "start_time": "2022-07-08T12:09:17.930Z"
   },
   {
    "duration": 5,
    "start_time": "2022-07-08T12:09:20.019Z"
   },
   {
    "duration": 8,
    "start_time": "2022-07-08T12:09:32.462Z"
   },
   {
    "duration": 15,
    "start_time": "2022-07-08T12:09:40.953Z"
   },
   {
    "duration": 851,
    "start_time": "2022-07-08T12:10:36.954Z"
   },
   {
    "duration": 7,
    "start_time": "2022-07-08T12:10:41.917Z"
   },
   {
    "duration": 50,
    "start_time": "2022-07-08T12:11:20.453Z"
   },
   {
    "duration": 5,
    "start_time": "2022-07-08T12:11:52.291Z"
   },
   {
    "duration": 7,
    "start_time": "2022-07-08T12:12:14.525Z"
   },
   {
    "duration": 13,
    "start_time": "2022-07-08T12:12:19.818Z"
   },
   {
    "duration": 6,
    "start_time": "2022-07-08T12:12:49.454Z"
   },
   {
    "duration": 10,
    "start_time": "2022-07-08T12:13:01.209Z"
   },
   {
    "duration": 12,
    "start_time": "2022-07-08T12:13:09.448Z"
   },
   {
    "duration": 3,
    "start_time": "2022-07-08T12:13:53.924Z"
   },
   {
    "duration": 30,
    "start_time": "2022-07-08T12:13:53.932Z"
   },
   {
    "duration": 9,
    "start_time": "2022-07-08T12:13:53.964Z"
   },
   {
    "duration": 12,
    "start_time": "2022-07-08T12:13:53.975Z"
   },
   {
    "duration": 20,
    "start_time": "2022-07-08T12:13:53.989Z"
   },
   {
    "duration": 15,
    "start_time": "2022-07-08T12:13:54.011Z"
   },
   {
    "duration": 25,
    "start_time": "2022-07-08T12:13:54.028Z"
   },
   {
    "duration": 32,
    "start_time": "2022-07-08T12:13:54.056Z"
   },
   {
    "duration": 8,
    "start_time": "2022-07-08T12:13:54.089Z"
   },
   {
    "duration": 8,
    "start_time": "2022-07-08T12:13:54.099Z"
   },
   {
    "duration": 6,
    "start_time": "2022-07-08T12:13:54.108Z"
   },
   {
    "duration": 4,
    "start_time": "2022-07-08T12:13:54.116Z"
   },
   {
    "duration": 7,
    "start_time": "2022-07-08T12:13:54.121Z"
   },
   {
    "duration": 23,
    "start_time": "2022-07-08T12:13:54.129Z"
   },
   {
    "duration": 8,
    "start_time": "2022-07-08T12:13:54.157Z"
   },
   {
    "duration": 10,
    "start_time": "2022-07-08T12:13:54.166Z"
   },
   {
    "duration": 178,
    "start_time": "2022-07-08T12:13:54.178Z"
   },
   {
    "duration": 163,
    "start_time": "2022-07-08T12:13:54.358Z"
   },
   {
    "duration": 25,
    "start_time": "2022-07-08T12:13:54.523Z"
   },
   {
    "duration": 209,
    "start_time": "2022-07-08T12:13:54.554Z"
   },
   {
    "duration": 228,
    "start_time": "2022-07-08T12:13:54.765Z"
   },
   {
    "duration": 200,
    "start_time": "2022-07-08T12:13:54.995Z"
   },
   {
    "duration": 203,
    "start_time": "2022-07-08T12:13:55.199Z"
   },
   {
    "duration": 327,
    "start_time": "2022-07-08T12:13:55.404Z"
   },
   {
    "duration": 197,
    "start_time": "2022-07-08T12:13:55.733Z"
   },
   {
    "duration": 321,
    "start_time": "2022-07-08T12:13:55.932Z"
   },
   {
    "duration": 11,
    "start_time": "2022-07-08T12:13:56.255Z"
   },
   {
    "duration": 127,
    "start_time": "2022-07-08T12:13:56.268Z"
   },
   {
    "duration": 4,
    "start_time": "2022-07-08T12:13:56.397Z"
   },
   {
    "duration": 152,
    "start_time": "2022-07-08T12:13:56.402Z"
   },
   {
    "duration": 4,
    "start_time": "2022-07-08T12:13:56.556Z"
   },
   {
    "duration": 239,
    "start_time": "2022-07-08T12:13:56.561Z"
   },
   {
    "duration": 83,
    "start_time": "2022-07-08T12:13:56.802Z"
   },
   {
    "duration": 113,
    "start_time": "2022-07-08T12:13:56.887Z"
   },
   {
    "duration": 144,
    "start_time": "2022-07-08T12:13:57.002Z"
   },
   {
    "duration": 9,
    "start_time": "2022-07-08T12:13:57.148Z"
   },
   {
    "duration": 6,
    "start_time": "2022-07-08T12:13:57.159Z"
   },
   {
    "duration": 23,
    "start_time": "2022-07-08T12:13:57.167Z"
   },
   {
    "duration": 10,
    "start_time": "2022-07-08T12:13:57.191Z"
   },
   {
    "duration": 7,
    "start_time": "2022-07-08T12:13:57.202Z"
   },
   {
    "duration": 8,
    "start_time": "2022-07-08T12:13:57.210Z"
   },
   {
    "duration": 30,
    "start_time": "2022-07-08T12:13:57.220Z"
   },
   {
    "duration": 8,
    "start_time": "2022-07-08T12:13:57.257Z"
   },
   {
    "duration": 25,
    "start_time": "2022-07-08T12:13:57.266Z"
   },
   {
    "duration": 13,
    "start_time": "2022-07-08T12:13:57.292Z"
   },
   {
    "duration": 5,
    "start_time": "2022-07-08T12:15:58.822Z"
   },
   {
    "duration": 7,
    "start_time": "2022-07-08T12:16:05.208Z"
   },
   {
    "duration": 8,
    "start_time": "2022-07-08T12:16:14.372Z"
   },
   {
    "duration": 14,
    "start_time": "2022-07-08T12:16:17.068Z"
   },
   {
    "duration": 15,
    "start_time": "2022-07-08T12:16:37.313Z"
   },
   {
    "duration": 6,
    "start_time": "2022-07-08T12:17:20.469Z"
   },
   {
    "duration": 25,
    "start_time": "2022-07-08T12:19:11.663Z"
   },
   {
    "duration": 11,
    "start_time": "2022-07-08T12:19:46.598Z"
   },
   {
    "duration": 13,
    "start_time": "2022-07-08T12:19:50.858Z"
   },
   {
    "duration": 3,
    "start_time": "2022-07-08T12:20:14.957Z"
   },
   {
    "duration": 18,
    "start_time": "2022-07-08T12:20:14.967Z"
   },
   {
    "duration": 9,
    "start_time": "2022-07-08T12:20:14.987Z"
   },
   {
    "duration": 8,
    "start_time": "2022-07-08T12:20:14.997Z"
   },
   {
    "duration": 24,
    "start_time": "2022-07-08T12:20:15.006Z"
   },
   {
    "duration": 28,
    "start_time": "2022-07-08T12:20:15.032Z"
   },
   {
    "duration": 27,
    "start_time": "2022-07-08T12:20:15.063Z"
   },
   {
    "duration": 43,
    "start_time": "2022-07-08T12:20:15.092Z"
   },
   {
    "duration": 18,
    "start_time": "2022-07-08T12:20:15.137Z"
   },
   {
    "duration": 18,
    "start_time": "2022-07-08T12:20:15.158Z"
   },
   {
    "duration": 9,
    "start_time": "2022-07-08T12:20:15.179Z"
   },
   {
    "duration": 11,
    "start_time": "2022-07-08T12:20:15.189Z"
   },
   {
    "duration": 180,
    "start_time": "2022-07-08T12:20:15.201Z"
   },
   {
    "duration": 141,
    "start_time": "2022-07-08T12:20:15.382Z"
   },
   {
    "duration": 27,
    "start_time": "2022-07-08T12:20:15.524Z"
   },
   {
    "duration": 163,
    "start_time": "2022-07-08T12:20:15.553Z"
   },
   {
    "duration": 125,
    "start_time": "2022-07-08T12:20:15.718Z"
   },
   {
    "duration": 186,
    "start_time": "2022-07-08T12:20:15.852Z"
   },
   {
    "duration": 190,
    "start_time": "2022-07-08T12:20:16.043Z"
   },
   {
    "duration": 302,
    "start_time": "2022-07-08T12:20:16.235Z"
   },
   {
    "duration": 284,
    "start_time": "2022-07-08T12:20:16.539Z"
   },
   {
    "duration": 322,
    "start_time": "2022-07-08T12:20:16.827Z"
   },
   {
    "duration": 18,
    "start_time": "2022-07-08T12:20:17.150Z"
   },
   {
    "duration": 133,
    "start_time": "2022-07-08T12:20:17.170Z"
   },
   {
    "duration": 4,
    "start_time": "2022-07-08T12:20:17.305Z"
   },
   {
    "duration": 153,
    "start_time": "2022-07-08T12:20:17.310Z"
   },
   {
    "duration": 4,
    "start_time": "2022-07-08T12:20:17.465Z"
   },
   {
    "duration": 221,
    "start_time": "2022-07-08T12:20:17.471Z"
   },
   {
    "duration": 79,
    "start_time": "2022-07-08T12:20:17.693Z"
   },
   {
    "duration": 99,
    "start_time": "2022-07-08T12:20:17.773Z"
   },
   {
    "duration": 138,
    "start_time": "2022-07-08T12:20:17.874Z"
   },
   {
    "duration": 4,
    "start_time": "2022-07-08T12:20:18.014Z"
   },
   {
    "duration": 12,
    "start_time": "2022-07-08T12:20:18.019Z"
   },
   {
    "duration": 45,
    "start_time": "2022-07-08T12:20:18.032Z"
   },
   {
    "duration": 10,
    "start_time": "2022-07-08T12:20:18.078Z"
   },
   {
    "duration": 7,
    "start_time": "2022-07-08T12:20:18.089Z"
   },
   {
    "duration": 13,
    "start_time": "2022-07-08T12:20:18.097Z"
   },
   {
    "duration": 11,
    "start_time": "2022-07-08T12:20:18.112Z"
   },
   {
    "duration": 31,
    "start_time": "2022-07-08T12:20:18.125Z"
   },
   {
    "duration": 20,
    "start_time": "2022-07-08T12:20:18.158Z"
   },
   {
    "duration": 17,
    "start_time": "2022-07-08T12:20:18.180Z"
   },
   {
    "duration": 19,
    "start_time": "2022-07-08T12:20:37.185Z"
   },
   {
    "duration": 10,
    "start_time": "2022-07-08T12:21:21.973Z"
   },
   {
    "duration": 4,
    "start_time": "2022-07-08T12:21:36.758Z"
   },
   {
    "duration": 22,
    "start_time": "2022-07-08T12:21:36.766Z"
   },
   {
    "duration": 7,
    "start_time": "2022-07-08T12:21:36.790Z"
   },
   {
    "duration": 8,
    "start_time": "2022-07-08T12:21:36.798Z"
   },
   {
    "duration": 19,
    "start_time": "2022-07-08T12:21:36.808Z"
   },
   {
    "duration": 11,
    "start_time": "2022-07-08T12:21:36.829Z"
   },
   {
    "duration": 25,
    "start_time": "2022-07-08T12:21:36.844Z"
   },
   {
    "duration": 32,
    "start_time": "2022-07-08T12:21:36.871Z"
   },
   {
    "duration": 8,
    "start_time": "2022-07-08T12:21:36.904Z"
   },
   {
    "duration": 7,
    "start_time": "2022-07-08T12:21:36.914Z"
   },
   {
    "duration": 15,
    "start_time": "2022-07-08T12:21:36.922Z"
   },
   {
    "duration": 22,
    "start_time": "2022-07-08T12:21:36.939Z"
   },
   {
    "duration": 7,
    "start_time": "2022-07-08T12:21:36.963Z"
   },
   {
    "duration": 186,
    "start_time": "2022-07-08T12:21:36.971Z"
   },
   {
    "duration": 125,
    "start_time": "2022-07-08T12:21:37.159Z"
   },
   {
    "duration": 10,
    "start_time": "2022-07-08T12:21:37.286Z"
   },
   {
    "duration": 177,
    "start_time": "2022-07-08T12:21:37.297Z"
   },
   {
    "duration": 138,
    "start_time": "2022-07-08T12:21:37.475Z"
   },
   {
    "duration": 205,
    "start_time": "2022-07-08T12:21:37.617Z"
   },
   {
    "duration": 197,
    "start_time": "2022-07-08T12:21:37.824Z"
   },
   {
    "duration": 325,
    "start_time": "2022-07-08T12:21:38.022Z"
   },
   {
    "duration": 184,
    "start_time": "2022-07-08T12:21:38.349Z"
   },
   {
    "duration": 321,
    "start_time": "2022-07-08T12:21:38.535Z"
   },
   {
    "duration": 11,
    "start_time": "2022-07-08T12:21:38.858Z"
   },
   {
    "duration": 153,
    "start_time": "2022-07-08T12:21:38.870Z"
   },
   {
    "duration": 4,
    "start_time": "2022-07-08T12:21:39.025Z"
   },
   {
    "duration": 154,
    "start_time": "2022-07-08T12:21:39.031Z"
   },
   {
    "duration": 4,
    "start_time": "2022-07-08T12:21:39.187Z"
   },
   {
    "duration": 358,
    "start_time": "2022-07-08T12:21:39.193Z"
   },
   {
    "duration": 68,
    "start_time": "2022-07-08T12:21:39.555Z"
   },
   {
    "duration": 91,
    "start_time": "2022-07-08T12:21:39.625Z"
   },
   {
    "duration": 169,
    "start_time": "2022-07-08T12:21:39.717Z"
   },
   {
    "duration": 4,
    "start_time": "2022-07-08T12:21:39.888Z"
   },
   {
    "duration": 9,
    "start_time": "2022-07-08T12:21:39.894Z"
   },
   {
    "duration": 34,
    "start_time": "2022-07-08T12:21:39.904Z"
   },
   {
    "duration": 22,
    "start_time": "2022-07-08T12:21:39.939Z"
   },
   {
    "duration": 18,
    "start_time": "2022-07-08T12:21:39.963Z"
   },
   {
    "duration": 13,
    "start_time": "2022-07-08T12:21:39.982Z"
   },
   {
    "duration": 38,
    "start_time": "2022-07-08T12:21:39.998Z"
   },
   {
    "duration": 30,
    "start_time": "2022-07-08T12:21:40.038Z"
   },
   {
    "duration": 27,
    "start_time": "2022-07-08T12:21:40.070Z"
   },
   {
    "duration": 14,
    "start_time": "2022-07-08T12:21:40.099Z"
   },
   {
    "duration": 15,
    "start_time": "2022-07-08T12:22:15.984Z"
   },
   {
    "duration": 13,
    "start_time": "2022-07-08T12:22:29.745Z"
   },
   {
    "duration": 17,
    "start_time": "2022-07-08T12:23:34.576Z"
   },
   {
    "duration": 3,
    "start_time": "2022-07-08T12:23:41.726Z"
   },
   {
    "duration": 5,
    "start_time": "2022-07-08T12:26:33.078Z"
   },
   {
    "duration": 2,
    "start_time": "2022-07-08T12:26:58.229Z"
   },
   {
    "duration": 3,
    "start_time": "2022-07-08T12:27:06.864Z"
   },
   {
    "duration": 4,
    "start_time": "2022-07-08T12:27:11.502Z"
   },
   {
    "duration": 38,
    "start_time": "2022-07-08T12:27:11.518Z"
   },
   {
    "duration": 11,
    "start_time": "2022-07-08T12:27:11.559Z"
   },
   {
    "duration": 11,
    "start_time": "2022-07-08T12:27:11.572Z"
   },
   {
    "duration": 16,
    "start_time": "2022-07-08T12:27:11.585Z"
   },
   {
    "duration": 5,
    "start_time": "2022-07-08T12:27:11.603Z"
   },
   {
    "duration": 13,
    "start_time": "2022-07-08T12:27:11.610Z"
   },
   {
    "duration": 40,
    "start_time": "2022-07-08T12:27:11.625Z"
   },
   {
    "duration": 8,
    "start_time": "2022-07-08T12:27:11.666Z"
   },
   {
    "duration": 5,
    "start_time": "2022-07-08T12:27:11.677Z"
   },
   {
    "duration": 11,
    "start_time": "2022-07-08T12:27:11.684Z"
   },
   {
    "duration": 6,
    "start_time": "2022-07-08T12:27:11.697Z"
   },
   {
    "duration": 8,
    "start_time": "2022-07-08T12:27:11.705Z"
   },
   {
    "duration": 15,
    "start_time": "2022-07-08T12:27:11.715Z"
   },
   {
    "duration": 23,
    "start_time": "2022-07-08T12:27:11.732Z"
   },
   {
    "duration": 13,
    "start_time": "2022-07-08T12:27:11.756Z"
   },
   {
    "duration": 0,
    "start_time": "2022-07-08T12:27:11.770Z"
   },
   {
    "duration": 0,
    "start_time": "2022-07-08T12:27:11.771Z"
   },
   {
    "duration": 0,
    "start_time": "2022-07-08T12:27:11.772Z"
   },
   {
    "duration": 0,
    "start_time": "2022-07-08T12:27:11.773Z"
   },
   {
    "duration": 0,
    "start_time": "2022-07-08T12:27:11.774Z"
   },
   {
    "duration": 0,
    "start_time": "2022-07-08T12:27:11.774Z"
   },
   {
    "duration": 0,
    "start_time": "2022-07-08T12:27:11.775Z"
   },
   {
    "duration": 0,
    "start_time": "2022-07-08T12:27:11.776Z"
   },
   {
    "duration": 0,
    "start_time": "2022-07-08T12:27:11.777Z"
   },
   {
    "duration": 0,
    "start_time": "2022-07-08T12:27:11.778Z"
   },
   {
    "duration": 0,
    "start_time": "2022-07-08T12:27:11.778Z"
   },
   {
    "duration": 0,
    "start_time": "2022-07-08T12:27:11.779Z"
   },
   {
    "duration": 0,
    "start_time": "2022-07-08T12:27:11.780Z"
   },
   {
    "duration": 10,
    "start_time": "2022-07-08T12:27:11.788Z"
   },
   {
    "duration": 0,
    "start_time": "2022-07-08T12:27:11.800Z"
   },
   {
    "duration": 163,
    "start_time": "2022-07-08T12:27:11.806Z"
   },
   {
    "duration": 0,
    "start_time": "2022-07-08T12:27:11.970Z"
   },
   {
    "duration": 0,
    "start_time": "2022-07-08T12:27:11.971Z"
   },
   {
    "duration": 0,
    "start_time": "2022-07-08T12:27:11.972Z"
   },
   {
    "duration": 0,
    "start_time": "2022-07-08T12:27:11.974Z"
   },
   {
    "duration": 0,
    "start_time": "2022-07-08T12:27:11.974Z"
   },
   {
    "duration": 0,
    "start_time": "2022-07-08T12:27:11.975Z"
   },
   {
    "duration": 0,
    "start_time": "2022-07-08T12:27:11.976Z"
   },
   {
    "duration": 0,
    "start_time": "2022-07-08T12:27:11.977Z"
   },
   {
    "duration": 0,
    "start_time": "2022-07-08T12:27:11.978Z"
   },
   {
    "duration": 0,
    "start_time": "2022-07-08T12:27:11.979Z"
   },
   {
    "duration": 0,
    "start_time": "2022-07-08T12:27:11.980Z"
   },
   {
    "duration": 0,
    "start_time": "2022-07-08T12:27:11.981Z"
   },
   {
    "duration": 0,
    "start_time": "2022-07-08T12:27:11.982Z"
   },
   {
    "duration": 9,
    "start_time": "2022-07-08T12:27:39.165Z"
   },
   {
    "duration": 8,
    "start_time": "2022-07-08T12:27:57.686Z"
   },
   {
    "duration": 4,
    "start_time": "2022-07-08T12:28:01.811Z"
   },
   {
    "duration": 29,
    "start_time": "2022-07-08T12:28:01.816Z"
   },
   {
    "duration": 29,
    "start_time": "2022-07-08T12:28:01.849Z"
   },
   {
    "duration": 22,
    "start_time": "2022-07-08T12:28:01.881Z"
   },
   {
    "duration": 29,
    "start_time": "2022-07-08T12:28:01.905Z"
   },
   {
    "duration": 42,
    "start_time": "2022-07-08T12:28:01.936Z"
   },
   {
    "duration": 30,
    "start_time": "2022-07-08T12:28:01.980Z"
   },
   {
    "duration": 45,
    "start_time": "2022-07-08T12:28:02.013Z"
   },
   {
    "duration": 9,
    "start_time": "2022-07-08T12:28:02.060Z"
   },
   {
    "duration": 16,
    "start_time": "2022-07-08T12:28:02.071Z"
   },
   {
    "duration": 30,
    "start_time": "2022-07-08T12:28:02.089Z"
   },
   {
    "duration": 5,
    "start_time": "2022-07-08T12:28:02.120Z"
   },
   {
    "duration": 73,
    "start_time": "2022-07-08T12:28:02.126Z"
   },
   {
    "duration": 40,
    "start_time": "2022-07-08T12:28:02.201Z"
   },
   {
    "duration": 23,
    "start_time": "2022-07-08T12:28:02.243Z"
   },
   {
    "duration": 16,
    "start_time": "2022-07-08T12:28:02.268Z"
   },
   {
    "duration": 0,
    "start_time": "2022-07-08T12:28:02.285Z"
   },
   {
    "duration": 0,
    "start_time": "2022-07-08T12:28:02.287Z"
   },
   {
    "duration": 0,
    "start_time": "2022-07-08T12:28:02.287Z"
   },
   {
    "duration": 0,
    "start_time": "2022-07-08T12:28:02.288Z"
   },
   {
    "duration": 0,
    "start_time": "2022-07-08T12:28:02.289Z"
   },
   {
    "duration": 0,
    "start_time": "2022-07-08T12:28:02.290Z"
   },
   {
    "duration": 0,
    "start_time": "2022-07-08T12:28:02.291Z"
   },
   {
    "duration": 0,
    "start_time": "2022-07-08T12:28:02.293Z"
   },
   {
    "duration": 0,
    "start_time": "2022-07-08T12:28:02.293Z"
   },
   {
    "duration": 0,
    "start_time": "2022-07-08T12:28:02.294Z"
   },
   {
    "duration": 0,
    "start_time": "2022-07-08T12:28:02.296Z"
   },
   {
    "duration": 0,
    "start_time": "2022-07-08T12:28:02.296Z"
   },
   {
    "duration": 0,
    "start_time": "2022-07-08T12:28:02.297Z"
   },
   {
    "duration": 0,
    "start_time": "2022-07-08T12:28:02.298Z"
   },
   {
    "duration": 0,
    "start_time": "2022-07-08T12:28:02.299Z"
   },
   {
    "duration": 0,
    "start_time": "2022-07-08T12:28:02.300Z"
   },
   {
    "duration": 0,
    "start_time": "2022-07-08T12:28:02.301Z"
   },
   {
    "duration": 0,
    "start_time": "2022-07-08T12:28:02.302Z"
   },
   {
    "duration": 0,
    "start_time": "2022-07-08T12:28:02.302Z"
   },
   {
    "duration": 0,
    "start_time": "2022-07-08T12:28:02.304Z"
   },
   {
    "duration": 0,
    "start_time": "2022-07-08T12:28:02.305Z"
   },
   {
    "duration": 0,
    "start_time": "2022-07-08T12:28:02.306Z"
   },
   {
    "duration": 0,
    "start_time": "2022-07-08T12:28:02.307Z"
   },
   {
    "duration": 0,
    "start_time": "2022-07-08T12:28:02.308Z"
   },
   {
    "duration": 0,
    "start_time": "2022-07-08T12:28:02.309Z"
   },
   {
    "duration": 0,
    "start_time": "2022-07-08T12:28:02.310Z"
   },
   {
    "duration": 0,
    "start_time": "2022-07-08T12:28:02.345Z"
   },
   {
    "duration": 0,
    "start_time": "2022-07-08T12:28:02.346Z"
   },
   {
    "duration": 0,
    "start_time": "2022-07-08T12:28:02.347Z"
   },
   {
    "duration": 13,
    "start_time": "2022-07-08T12:28:46.858Z"
   },
   {
    "duration": 20,
    "start_time": "2022-07-08T12:29:00.014Z"
   },
   {
    "duration": 20,
    "start_time": "2022-07-08T12:29:04.531Z"
   },
   {
    "duration": 16,
    "start_time": "2022-07-08T12:29:11.521Z"
   },
   {
    "duration": 4,
    "start_time": "2022-07-08T12:29:14.810Z"
   },
   {
    "duration": 18,
    "start_time": "2022-07-08T12:29:14.817Z"
   },
   {
    "duration": 14,
    "start_time": "2022-07-08T12:29:14.837Z"
   },
   {
    "duration": 11,
    "start_time": "2022-07-08T12:29:14.853Z"
   },
   {
    "duration": 13,
    "start_time": "2022-07-08T12:29:14.866Z"
   },
   {
    "duration": 5,
    "start_time": "2022-07-08T12:29:14.881Z"
   },
   {
    "duration": 12,
    "start_time": "2022-07-08T12:29:14.887Z"
   },
   {
    "duration": 32,
    "start_time": "2022-07-08T12:29:14.901Z"
   },
   {
    "duration": 10,
    "start_time": "2022-07-08T12:29:14.934Z"
   },
   {
    "duration": 18,
    "start_time": "2022-07-08T12:29:14.947Z"
   },
   {
    "duration": 10,
    "start_time": "2022-07-08T12:29:14.967Z"
   },
   {
    "duration": 4,
    "start_time": "2022-07-08T12:29:14.978Z"
   },
   {
    "duration": 6,
    "start_time": "2022-07-08T12:29:14.983Z"
   },
   {
    "duration": 13,
    "start_time": "2022-07-08T12:29:14.991Z"
   },
   {
    "duration": 7,
    "start_time": "2022-07-08T12:29:15.006Z"
   },
   {
    "duration": 32,
    "start_time": "2022-07-08T12:29:15.015Z"
   },
   {
    "duration": 0,
    "start_time": "2022-07-08T12:29:15.053Z"
   },
   {
    "duration": 0,
    "start_time": "2022-07-08T12:29:15.054Z"
   },
   {
    "duration": 0,
    "start_time": "2022-07-08T12:29:15.055Z"
   },
   {
    "duration": 0,
    "start_time": "2022-07-08T12:29:15.057Z"
   },
   {
    "duration": 0,
    "start_time": "2022-07-08T12:29:15.057Z"
   },
   {
    "duration": 0,
    "start_time": "2022-07-08T12:29:15.058Z"
   },
   {
    "duration": 0,
    "start_time": "2022-07-08T12:29:15.059Z"
   },
   {
    "duration": 322,
    "start_time": "2022-07-08T12:29:15.060Z"
   },
   {
    "duration": 199,
    "start_time": "2022-07-08T12:29:15.384Z"
   },
   {
    "duration": 292,
    "start_time": "2022-07-08T12:29:15.585Z"
   },
   {
    "duration": 10,
    "start_time": "2022-07-08T12:29:15.879Z"
   },
   {
    "duration": 165,
    "start_time": "2022-07-08T12:29:15.890Z"
   },
   {
    "duration": 5,
    "start_time": "2022-07-08T12:29:16.056Z"
   },
   {
    "duration": 149,
    "start_time": "2022-07-08T12:29:16.063Z"
   },
   {
    "duration": 4,
    "start_time": "2022-07-08T12:29:16.215Z"
   },
   {
    "duration": 1184,
    "start_time": "2022-07-08T12:29:16.221Z"
   },
   {
    "duration": 0,
    "start_time": "2022-07-08T12:29:17.407Z"
   },
   {
    "duration": 0,
    "start_time": "2022-07-08T12:29:17.409Z"
   },
   {
    "duration": 0,
    "start_time": "2022-07-08T12:29:17.410Z"
   },
   {
    "duration": 0,
    "start_time": "2022-07-08T12:29:17.411Z"
   },
   {
    "duration": 0,
    "start_time": "2022-07-08T12:29:17.412Z"
   },
   {
    "duration": 0,
    "start_time": "2022-07-08T12:29:17.413Z"
   },
   {
    "duration": 1,
    "start_time": "2022-07-08T12:29:17.414Z"
   },
   {
    "duration": 0,
    "start_time": "2022-07-08T12:29:17.415Z"
   },
   {
    "duration": 0,
    "start_time": "2022-07-08T12:29:17.417Z"
   },
   {
    "duration": 0,
    "start_time": "2022-07-08T12:29:17.418Z"
   },
   {
    "duration": 0,
    "start_time": "2022-07-08T12:29:17.418Z"
   },
   {
    "duration": 0,
    "start_time": "2022-07-08T12:29:17.419Z"
   },
   {
    "duration": 0,
    "start_time": "2022-07-08T12:29:17.420Z"
   },
   {
    "duration": 4,
    "start_time": "2022-07-08T12:29:31.698Z"
   },
   {
    "duration": 13,
    "start_time": "2022-07-08T12:29:35.861Z"
   },
   {
    "duration": 3,
    "start_time": "2022-07-08T12:30:10.884Z"
   },
   {
    "duration": 14,
    "start_time": "2022-07-08T12:30:10.895Z"
   },
   {
    "duration": 8,
    "start_time": "2022-07-08T12:30:10.910Z"
   },
   {
    "duration": 5,
    "start_time": "2022-07-08T12:30:10.920Z"
   },
   {
    "duration": 24,
    "start_time": "2022-07-08T12:30:10.929Z"
   },
   {
    "duration": 13,
    "start_time": "2022-07-08T12:30:10.955Z"
   },
   {
    "duration": 13,
    "start_time": "2022-07-08T12:30:10.970Z"
   },
   {
    "duration": 30,
    "start_time": "2022-07-08T12:30:10.985Z"
   },
   {
    "duration": 11,
    "start_time": "2022-07-08T12:30:11.017Z"
   },
   {
    "duration": 15,
    "start_time": "2022-07-08T12:30:11.029Z"
   },
   {
    "duration": 15,
    "start_time": "2022-07-08T12:30:11.048Z"
   },
   {
    "duration": 4,
    "start_time": "2022-07-08T12:30:11.064Z"
   },
   {
    "duration": 5,
    "start_time": "2022-07-08T12:30:11.070Z"
   },
   {
    "duration": 15,
    "start_time": "2022-07-08T12:30:11.077Z"
   },
   {
    "duration": 16,
    "start_time": "2022-07-08T12:30:11.515Z"
   },
   {
    "duration": 25,
    "start_time": "2022-07-08T12:30:11.534Z"
   },
   {
    "duration": 11,
    "start_time": "2022-07-08T12:30:11.562Z"
   },
   {
    "duration": 181,
    "start_time": "2022-07-08T12:30:11.575Z"
   },
   {
    "duration": 121,
    "start_time": "2022-07-08T12:30:11.759Z"
   },
   {
    "duration": 9,
    "start_time": "2022-07-08T12:30:11.882Z"
   },
   {
    "duration": 165,
    "start_time": "2022-07-08T12:30:11.893Z"
   },
   {
    "duration": 129,
    "start_time": "2022-07-08T12:30:12.060Z"
   },
   {
    "duration": 206,
    "start_time": "2022-07-08T12:30:12.190Z"
   },
   {
    "duration": 209,
    "start_time": "2022-07-08T12:30:12.400Z"
   },
   {
    "duration": 312,
    "start_time": "2022-07-08T12:30:12.610Z"
   },
   {
    "duration": 195,
    "start_time": "2022-07-08T12:30:12.924Z"
   },
   {
    "duration": 321,
    "start_time": "2022-07-08T12:30:13.121Z"
   },
   {
    "duration": 22,
    "start_time": "2022-07-08T12:30:13.444Z"
   },
   {
    "duration": 148,
    "start_time": "2022-07-08T12:30:13.468Z"
   },
   {
    "duration": 5,
    "start_time": "2022-07-08T12:30:13.618Z"
   },
   {
    "duration": 248,
    "start_time": "2022-07-08T12:30:13.624Z"
   },
   {
    "duration": 4,
    "start_time": "2022-07-08T12:30:13.873Z"
   },
   {
    "duration": 239,
    "start_time": "2022-07-08T12:30:13.879Z"
   },
   {
    "duration": 73,
    "start_time": "2022-07-08T12:30:14.119Z"
   },
   {
    "duration": 80,
    "start_time": "2022-07-08T12:30:14.194Z"
   },
   {
    "duration": 157,
    "start_time": "2022-07-08T12:30:14.275Z"
   },
   {
    "duration": 12,
    "start_time": "2022-07-08T12:30:14.434Z"
   },
   {
    "duration": 11,
    "start_time": "2022-07-08T12:30:14.448Z"
   },
   {
    "duration": 42,
    "start_time": "2022-07-08T12:30:14.461Z"
   },
   {
    "duration": 13,
    "start_time": "2022-07-08T12:30:14.505Z"
   },
   {
    "duration": 13,
    "start_time": "2022-07-08T12:30:14.521Z"
   },
   {
    "duration": 16,
    "start_time": "2022-07-08T12:30:14.538Z"
   },
   {
    "duration": 16,
    "start_time": "2022-07-08T12:30:14.556Z"
   },
   {
    "duration": 12,
    "start_time": "2022-07-08T12:30:14.574Z"
   },
   {
    "duration": 26,
    "start_time": "2022-07-08T12:30:14.588Z"
   },
   {
    "duration": 17,
    "start_time": "2022-07-08T12:30:14.616Z"
   },
   {
    "duration": 3,
    "start_time": "2022-07-08T12:30:53.257Z"
   },
   {
    "duration": 15,
    "start_time": "2022-07-08T12:30:53.266Z"
   },
   {
    "duration": 8,
    "start_time": "2022-07-08T12:30:53.284Z"
   },
   {
    "duration": 6,
    "start_time": "2022-07-08T12:30:53.294Z"
   },
   {
    "duration": 17,
    "start_time": "2022-07-08T12:30:53.301Z"
   },
   {
    "duration": 4,
    "start_time": "2022-07-08T12:30:53.332Z"
   },
   {
    "duration": 19,
    "start_time": "2022-07-08T12:30:53.338Z"
   },
   {
    "duration": 33,
    "start_time": "2022-07-08T12:30:53.360Z"
   },
   {
    "duration": 8,
    "start_time": "2022-07-08T12:30:53.395Z"
   },
   {
    "duration": 6,
    "start_time": "2022-07-08T12:30:53.405Z"
   },
   {
    "duration": 12,
    "start_time": "2022-07-08T12:30:53.413Z"
   },
   {
    "duration": 16,
    "start_time": "2022-07-08T12:30:53.427Z"
   },
   {
    "duration": 10,
    "start_time": "2022-07-08T12:30:53.445Z"
   },
   {
    "duration": 23,
    "start_time": "2022-07-08T12:30:53.457Z"
   },
   {
    "duration": 13,
    "start_time": "2022-07-08T12:30:53.482Z"
   },
   {
    "duration": 7,
    "start_time": "2022-07-08T12:30:53.497Z"
   },
   {
    "duration": 7,
    "start_time": "2022-07-08T12:30:53.506Z"
   },
   {
    "duration": 208,
    "start_time": "2022-07-08T12:30:53.515Z"
   },
   {
    "duration": 168,
    "start_time": "2022-07-08T12:30:53.725Z"
   },
   {
    "duration": 12,
    "start_time": "2022-07-08T12:30:53.895Z"
   },
   {
    "duration": 195,
    "start_time": "2022-07-08T12:30:53.908Z"
   },
   {
    "duration": 130,
    "start_time": "2022-07-08T12:30:54.105Z"
   },
   {
    "duration": 213,
    "start_time": "2022-07-08T12:30:54.247Z"
   },
   {
    "duration": 232,
    "start_time": "2022-07-08T12:30:54.462Z"
   },
   {
    "duration": 273,
    "start_time": "2022-07-08T12:30:54.695Z"
   },
   {
    "duration": 182,
    "start_time": "2022-07-08T12:30:54.970Z"
   },
   {
    "duration": 309,
    "start_time": "2022-07-08T12:30:55.153Z"
   },
   {
    "duration": 11,
    "start_time": "2022-07-08T12:30:55.464Z"
   },
   {
    "duration": 145,
    "start_time": "2022-07-08T12:30:55.477Z"
   },
   {
    "duration": 4,
    "start_time": "2022-07-08T12:30:55.624Z"
   },
   {
    "duration": 133,
    "start_time": "2022-07-08T12:30:55.642Z"
   },
   {
    "duration": 4,
    "start_time": "2022-07-08T12:30:55.777Z"
   },
   {
    "duration": 226,
    "start_time": "2022-07-08T12:30:55.782Z"
   },
   {
    "duration": 73,
    "start_time": "2022-07-08T12:30:56.009Z"
   },
   {
    "duration": 94,
    "start_time": "2022-07-08T12:30:56.084Z"
   },
   {
    "duration": 140,
    "start_time": "2022-07-08T12:30:56.180Z"
   },
   {
    "duration": 4,
    "start_time": "2022-07-08T12:30:56.322Z"
   },
   {
    "duration": 13,
    "start_time": "2022-07-08T12:30:56.327Z"
   },
   {
    "duration": 33,
    "start_time": "2022-07-08T12:30:56.352Z"
   },
   {
    "duration": 12,
    "start_time": "2022-07-08T12:30:56.387Z"
   },
   {
    "duration": 14,
    "start_time": "2022-07-08T12:30:56.401Z"
   },
   {
    "duration": 25,
    "start_time": "2022-07-08T12:30:56.417Z"
   },
   {
    "duration": 16,
    "start_time": "2022-07-08T12:30:56.453Z"
   },
   {
    "duration": 20,
    "start_time": "2022-07-08T12:30:56.471Z"
   },
   {
    "duration": 34,
    "start_time": "2022-07-08T12:30:56.493Z"
   },
   {
    "duration": 27,
    "start_time": "2022-07-08T12:30:56.530Z"
   },
   {
    "duration": 15,
    "start_time": "2022-07-08T12:31:33.249Z"
   },
   {
    "duration": 3,
    "start_time": "2022-07-08T12:31:41.332Z"
   },
   {
    "duration": 20,
    "start_time": "2022-07-08T12:31:41.351Z"
   },
   {
    "duration": 8,
    "start_time": "2022-07-08T12:31:41.373Z"
   },
   {
    "duration": 7,
    "start_time": "2022-07-08T12:31:41.383Z"
   },
   {
    "duration": 14,
    "start_time": "2022-07-08T12:31:41.391Z"
   },
   {
    "duration": 9,
    "start_time": "2022-07-08T12:31:41.408Z"
   },
   {
    "duration": 23,
    "start_time": "2022-07-08T12:31:41.419Z"
   },
   {
    "duration": 62,
    "start_time": "2022-07-08T12:31:41.444Z"
   },
   {
    "duration": 8,
    "start_time": "2022-07-08T12:31:41.508Z"
   },
   {
    "duration": 16,
    "start_time": "2022-07-08T12:31:41.518Z"
   },
   {
    "duration": 38,
    "start_time": "2022-07-08T12:31:41.535Z"
   },
   {
    "duration": 30,
    "start_time": "2022-07-08T12:31:41.575Z"
   },
   {
    "duration": 6,
    "start_time": "2022-07-08T12:31:41.607Z"
   },
   {
    "duration": 8,
    "start_time": "2022-07-08T12:31:41.615Z"
   },
   {
    "duration": 36,
    "start_time": "2022-07-08T12:31:41.625Z"
   },
   {
    "duration": 21,
    "start_time": "2022-07-08T12:31:41.663Z"
   },
   {
    "duration": 8,
    "start_time": "2022-07-08T12:31:41.686Z"
   },
   {
    "duration": 9,
    "start_time": "2022-07-08T12:31:41.696Z"
   },
   {
    "duration": 204,
    "start_time": "2022-07-08T12:31:41.707Z"
   },
   {
    "duration": 154,
    "start_time": "2022-07-08T12:31:41.913Z"
   },
   {
    "duration": 9,
    "start_time": "2022-07-08T12:31:42.071Z"
   },
   {
    "duration": 181,
    "start_time": "2022-07-08T12:31:42.082Z"
   },
   {
    "duration": 130,
    "start_time": "2022-07-08T12:31:42.265Z"
   },
   {
    "duration": 222,
    "start_time": "2022-07-08T12:31:42.397Z"
   },
   {
    "duration": 217,
    "start_time": "2022-07-08T12:31:42.621Z"
   },
   {
    "duration": 388,
    "start_time": "2022-07-08T12:31:42.840Z"
   },
   {
    "duration": 228,
    "start_time": "2022-07-08T12:31:43.230Z"
   },
   {
    "duration": 307,
    "start_time": "2022-07-08T12:31:43.460Z"
   },
   {
    "duration": 9,
    "start_time": "2022-07-08T12:31:43.769Z"
   },
   {
    "duration": 150,
    "start_time": "2022-07-08T12:31:43.780Z"
   },
   {
    "duration": 4,
    "start_time": "2022-07-08T12:31:43.931Z"
   },
   {
    "duration": 143,
    "start_time": "2022-07-08T12:31:43.948Z"
   },
   {
    "duration": 5,
    "start_time": "2022-07-08T12:31:44.092Z"
   },
   {
    "duration": 226,
    "start_time": "2022-07-08T12:31:44.098Z"
   },
   {
    "duration": 70,
    "start_time": "2022-07-08T12:31:44.326Z"
   },
   {
    "duration": 103,
    "start_time": "2022-07-08T12:31:44.398Z"
   },
   {
    "duration": 197,
    "start_time": "2022-07-08T12:31:44.503Z"
   },
   {
    "duration": 6,
    "start_time": "2022-07-08T12:31:44.702Z"
   },
   {
    "duration": 16,
    "start_time": "2022-07-08T12:31:44.710Z"
   },
   {
    "duration": 74,
    "start_time": "2022-07-08T12:31:44.728Z"
   },
   {
    "duration": 13,
    "start_time": "2022-07-08T12:31:44.804Z"
   },
   {
    "duration": 7,
    "start_time": "2022-07-08T12:31:44.819Z"
   },
   {
    "duration": 7,
    "start_time": "2022-07-08T12:31:44.828Z"
   },
   {
    "duration": 16,
    "start_time": "2022-07-08T12:31:44.836Z"
   },
   {
    "duration": 8,
    "start_time": "2022-07-08T12:31:44.854Z"
   },
   {
    "duration": 22,
    "start_time": "2022-07-08T12:31:44.864Z"
   },
   {
    "duration": 12,
    "start_time": "2022-07-08T12:31:44.887Z"
   },
   {
    "duration": 3,
    "start_time": "2022-07-08T12:34:13.190Z"
   },
   {
    "duration": 15,
    "start_time": "2022-07-08T12:34:13.201Z"
   },
   {
    "duration": 8,
    "start_time": "2022-07-08T12:34:13.218Z"
   },
   {
    "duration": 5,
    "start_time": "2022-07-08T12:34:13.227Z"
   },
   {
    "duration": 18,
    "start_time": "2022-07-08T12:34:13.234Z"
   },
   {
    "duration": 14,
    "start_time": "2022-07-08T12:34:13.254Z"
   },
   {
    "duration": 12,
    "start_time": "2022-07-08T12:34:13.270Z"
   },
   {
    "duration": 31,
    "start_time": "2022-07-08T12:34:13.284Z"
   },
   {
    "duration": 8,
    "start_time": "2022-07-08T12:34:13.317Z"
   },
   {
    "duration": 14,
    "start_time": "2022-07-08T12:34:13.326Z"
   },
   {
    "duration": 16,
    "start_time": "2022-07-08T12:34:13.352Z"
   },
   {
    "duration": 9,
    "start_time": "2022-07-08T12:34:13.370Z"
   },
   {
    "duration": 5,
    "start_time": "2022-07-08T12:34:13.381Z"
   },
   {
    "duration": 15,
    "start_time": "2022-07-08T12:34:13.387Z"
   },
   {
    "duration": 7,
    "start_time": "2022-07-08T12:34:13.404Z"
   },
   {
    "duration": 11,
    "start_time": "2022-07-08T12:34:13.413Z"
   },
   {
    "duration": 164,
    "start_time": "2022-07-08T12:34:13.426Z"
   },
   {
    "duration": 127,
    "start_time": "2022-07-08T12:34:13.592Z"
   },
   {
    "duration": 9,
    "start_time": "2022-07-08T12:34:13.720Z"
   },
   {
    "duration": 185,
    "start_time": "2022-07-08T12:34:13.730Z"
   },
   {
    "duration": 119,
    "start_time": "2022-07-08T12:34:13.916Z"
   },
   {
    "duration": 175,
    "start_time": "2022-07-08T12:34:14.047Z"
   },
   {
    "duration": 198,
    "start_time": "2022-07-08T12:34:14.224Z"
   },
   {
    "duration": 305,
    "start_time": "2022-07-08T12:34:14.424Z"
   },
   {
    "duration": 181,
    "start_time": "2022-07-08T12:34:14.731Z"
   },
   {
    "duration": 312,
    "start_time": "2022-07-08T12:34:14.914Z"
   },
   {
    "duration": 25,
    "start_time": "2022-07-08T12:34:15.228Z"
   },
   {
    "duration": 137,
    "start_time": "2022-07-08T12:34:15.255Z"
   },
   {
    "duration": 4,
    "start_time": "2022-07-08T12:34:15.394Z"
   },
   {
    "duration": 228,
    "start_time": "2022-07-08T12:34:15.401Z"
   },
   {
    "duration": 4,
    "start_time": "2022-07-08T12:34:15.631Z"
   },
   {
    "duration": 219,
    "start_time": "2022-07-08T12:34:15.636Z"
   },
   {
    "duration": 54,
    "start_time": "2022-07-08T12:34:15.857Z"
   },
   {
    "duration": 79,
    "start_time": "2022-07-08T12:34:15.913Z"
   },
   {
    "duration": 140,
    "start_time": "2022-07-08T12:34:15.994Z"
   },
   {
    "duration": 11,
    "start_time": "2022-07-08T12:34:16.136Z"
   },
   {
    "duration": 9,
    "start_time": "2022-07-08T12:34:16.153Z"
   },
   {
    "duration": 25,
    "start_time": "2022-07-08T12:34:16.164Z"
   },
   {
    "duration": 9,
    "start_time": "2022-07-08T12:34:16.190Z"
   },
   {
    "duration": 11,
    "start_time": "2022-07-08T12:34:16.201Z"
   },
   {
    "duration": 9,
    "start_time": "2022-07-08T12:34:16.213Z"
   },
   {
    "duration": 11,
    "start_time": "2022-07-08T12:34:16.223Z"
   },
   {
    "duration": 11,
    "start_time": "2022-07-08T12:34:16.236Z"
   },
   {
    "duration": 29,
    "start_time": "2022-07-08T12:34:16.250Z"
   },
   {
    "duration": 12,
    "start_time": "2022-07-08T12:34:16.281Z"
   },
   {
    "duration": 7,
    "start_time": "2022-07-08T12:38:05.428Z"
   },
   {
    "duration": 3,
    "start_time": "2022-07-08T12:38:15.793Z"
   },
   {
    "duration": 20,
    "start_time": "2022-07-08T12:38:15.800Z"
   },
   {
    "duration": 7,
    "start_time": "2022-07-08T12:38:15.822Z"
   },
   {
    "duration": 6,
    "start_time": "2022-07-08T12:38:15.831Z"
   },
   {
    "duration": 26,
    "start_time": "2022-07-08T12:38:15.838Z"
   },
   {
    "duration": 4,
    "start_time": "2022-07-08T12:38:15.865Z"
   },
   {
    "duration": 15,
    "start_time": "2022-07-08T12:38:15.871Z"
   },
   {
    "duration": 29,
    "start_time": "2022-07-08T12:38:15.888Z"
   },
   {
    "duration": 9,
    "start_time": "2022-07-08T12:38:15.919Z"
   },
   {
    "duration": 23,
    "start_time": "2022-07-08T12:38:15.929Z"
   },
   {
    "duration": 11,
    "start_time": "2022-07-08T12:38:15.954Z"
   },
   {
    "duration": 11,
    "start_time": "2022-07-08T12:38:15.968Z"
   },
   {
    "duration": 7,
    "start_time": "2022-07-08T12:38:15.980Z"
   },
   {
    "duration": 14,
    "start_time": "2022-07-08T12:38:15.988Z"
   },
   {
    "duration": 9,
    "start_time": "2022-07-08T12:38:16.004Z"
   },
   {
    "duration": 11,
    "start_time": "2022-07-08T12:38:16.015Z"
   },
   {
    "duration": 198,
    "start_time": "2022-07-08T12:38:16.028Z"
   },
   {
    "duration": 138,
    "start_time": "2022-07-08T12:38:16.228Z"
   },
   {
    "duration": 11,
    "start_time": "2022-07-08T12:38:16.368Z"
   },
   {
    "duration": 179,
    "start_time": "2022-07-08T12:38:16.381Z"
   },
   {
    "duration": 142,
    "start_time": "2022-07-08T12:38:16.561Z"
   },
   {
    "duration": 218,
    "start_time": "2022-07-08T12:38:16.705Z"
   },
   {
    "duration": 237,
    "start_time": "2022-07-08T12:38:16.925Z"
   },
   {
    "duration": 291,
    "start_time": "2022-07-08T12:38:17.164Z"
   },
   {
    "duration": 205,
    "start_time": "2022-07-08T12:38:17.456Z"
   },
   {
    "duration": 312,
    "start_time": "2022-07-08T12:38:17.663Z"
   },
   {
    "duration": 10,
    "start_time": "2022-07-08T12:38:17.977Z"
   },
   {
    "duration": 163,
    "start_time": "2022-07-08T12:38:17.989Z"
   },
   {
    "duration": 6,
    "start_time": "2022-07-08T12:38:18.154Z"
   },
   {
    "duration": 160,
    "start_time": "2022-07-08T12:38:18.162Z"
   },
   {
    "duration": 5,
    "start_time": "2022-07-08T12:38:18.325Z"
   },
   {
    "duration": 255,
    "start_time": "2022-07-08T12:38:18.351Z"
   },
   {
    "duration": 82,
    "start_time": "2022-07-08T12:38:18.607Z"
   },
   {
    "duration": 83,
    "start_time": "2022-07-08T12:38:18.690Z"
   },
   {
    "duration": 144,
    "start_time": "2022-07-08T12:38:18.775Z"
   },
   {
    "duration": 6,
    "start_time": "2022-07-08T12:38:18.922Z"
   },
   {
    "duration": 33,
    "start_time": "2022-07-08T12:38:18.929Z"
   },
   {
    "duration": 29,
    "start_time": "2022-07-08T12:38:18.964Z"
   },
   {
    "duration": 10,
    "start_time": "2022-07-08T12:38:18.995Z"
   },
   {
    "duration": 7,
    "start_time": "2022-07-08T12:38:19.006Z"
   },
   {
    "duration": 12,
    "start_time": "2022-07-08T12:38:19.015Z"
   },
   {
    "duration": 23,
    "start_time": "2022-07-08T12:38:19.029Z"
   },
   {
    "duration": 11,
    "start_time": "2022-07-08T12:38:19.057Z"
   },
   {
    "duration": 24,
    "start_time": "2022-07-08T12:38:19.070Z"
   },
   {
    "duration": 14,
    "start_time": "2022-07-08T12:38:19.095Z"
   },
   {
    "duration": 78,
    "start_time": "2022-07-08T12:44:42.081Z"
   },
   {
    "duration": 3,
    "start_time": "2022-07-08T12:46:10.804Z"
   },
   {
    "duration": 16,
    "start_time": "2022-07-08T12:46:10.811Z"
   },
   {
    "duration": 7,
    "start_time": "2022-07-08T12:46:10.829Z"
   },
   {
    "duration": 14,
    "start_time": "2022-07-08T12:46:10.838Z"
   },
   {
    "duration": 17,
    "start_time": "2022-07-08T12:46:10.854Z"
   },
   {
    "duration": 7,
    "start_time": "2022-07-08T12:46:10.873Z"
   },
   {
    "duration": 11,
    "start_time": "2022-07-08T12:46:10.882Z"
   },
   {
    "duration": 35,
    "start_time": "2022-07-08T12:46:10.895Z"
   },
   {
    "duration": 15,
    "start_time": "2022-07-08T12:46:10.932Z"
   },
   {
    "duration": 25,
    "start_time": "2022-07-08T12:46:10.950Z"
   },
   {
    "duration": 6,
    "start_time": "2022-07-08T12:46:10.976Z"
   },
   {
    "duration": 9,
    "start_time": "2022-07-08T12:46:11.371Z"
   },
   {
    "duration": 7,
    "start_time": "2022-07-08T12:46:11.382Z"
   },
   {
    "duration": 14,
    "start_time": "2022-07-08T12:46:11.390Z"
   },
   {
    "duration": 7,
    "start_time": "2022-07-08T12:46:11.405Z"
   },
   {
    "duration": 6,
    "start_time": "2022-07-08T12:46:11.414Z"
   },
   {
    "duration": 200,
    "start_time": "2022-07-08T12:46:11.421Z"
   },
   {
    "duration": 133,
    "start_time": "2022-07-08T12:46:11.623Z"
   },
   {
    "duration": 12,
    "start_time": "2022-07-08T12:46:11.758Z"
   },
   {
    "duration": 157,
    "start_time": "2022-07-08T12:46:11.772Z"
   },
   {
    "duration": 128,
    "start_time": "2022-07-08T12:46:11.931Z"
   },
   {
    "duration": 178,
    "start_time": "2022-07-08T12:46:12.061Z"
   },
   {
    "duration": 183,
    "start_time": "2022-07-08T12:46:12.242Z"
   },
   {
    "duration": 394,
    "start_time": "2022-07-08T12:46:12.427Z"
   },
   {
    "duration": 184,
    "start_time": "2022-07-08T12:46:12.823Z"
   },
   {
    "duration": 324,
    "start_time": "2022-07-08T12:46:13.009Z"
   },
   {
    "duration": 24,
    "start_time": "2022-07-08T12:46:13.334Z"
   },
   {
    "duration": 134,
    "start_time": "2022-07-08T12:46:13.360Z"
   },
   {
    "duration": 4,
    "start_time": "2022-07-08T12:46:13.496Z"
   },
   {
    "duration": 153,
    "start_time": "2022-07-08T12:46:13.502Z"
   },
   {
    "duration": 4,
    "start_time": "2022-07-08T12:46:13.657Z"
   },
   {
    "duration": 220,
    "start_time": "2022-07-08T12:46:13.663Z"
   },
   {
    "duration": 67,
    "start_time": "2022-07-08T12:46:13.884Z"
   },
   {
    "duration": 93,
    "start_time": "2022-07-08T12:46:13.952Z"
   },
   {
    "duration": 150,
    "start_time": "2022-07-08T12:46:14.052Z"
   },
   {
    "duration": 4,
    "start_time": "2022-07-08T12:46:14.203Z"
   },
   {
    "duration": 5,
    "start_time": "2022-07-08T12:46:14.209Z"
   },
   {
    "duration": 37,
    "start_time": "2022-07-08T12:46:14.216Z"
   },
   {
    "duration": 13,
    "start_time": "2022-07-08T12:46:14.257Z"
   },
   {
    "duration": 9,
    "start_time": "2022-07-08T12:46:14.271Z"
   },
   {
    "duration": 7,
    "start_time": "2022-07-08T12:46:14.282Z"
   },
   {
    "duration": 8,
    "start_time": "2022-07-08T12:46:14.290Z"
   },
   {
    "duration": 10,
    "start_time": "2022-07-08T12:46:14.299Z"
   },
   {
    "duration": 36,
    "start_time": "2022-07-08T12:46:14.311Z"
   },
   {
    "duration": 15,
    "start_time": "2022-07-08T12:46:14.349Z"
   },
   {
    "duration": 3,
    "start_time": "2022-07-08T12:47:32.736Z"
   },
   {
    "duration": 18,
    "start_time": "2022-07-08T12:47:32.759Z"
   },
   {
    "duration": 8,
    "start_time": "2022-07-08T12:47:32.779Z"
   },
   {
    "duration": 8,
    "start_time": "2022-07-08T12:47:32.789Z"
   },
   {
    "duration": 20,
    "start_time": "2022-07-08T12:47:32.799Z"
   },
   {
    "duration": 15,
    "start_time": "2022-07-08T12:47:32.822Z"
   },
   {
    "duration": 26,
    "start_time": "2022-07-08T12:47:32.838Z"
   },
   {
    "duration": 32,
    "start_time": "2022-07-08T12:47:32.865Z"
   },
   {
    "duration": 7,
    "start_time": "2022-07-08T12:47:32.899Z"
   },
   {
    "duration": 12,
    "start_time": "2022-07-08T12:47:32.907Z"
   },
   {
    "duration": 5,
    "start_time": "2022-07-08T12:47:32.921Z"
   },
   {
    "duration": 12,
    "start_time": "2022-07-08T12:47:32.927Z"
   },
   {
    "duration": 7,
    "start_time": "2022-07-08T12:47:32.940Z"
   },
   {
    "duration": 20,
    "start_time": "2022-07-08T12:47:32.952Z"
   },
   {
    "duration": 7,
    "start_time": "2022-07-08T12:47:32.973Z"
   },
   {
    "duration": 5,
    "start_time": "2022-07-08T12:47:32.983Z"
   },
   {
    "duration": 144,
    "start_time": "2022-07-08T12:47:32.989Z"
   },
   {
    "duration": 124,
    "start_time": "2022-07-08T12:47:33.142Z"
   },
   {
    "duration": 8,
    "start_time": "2022-07-08T12:47:33.267Z"
   },
   {
    "duration": 156,
    "start_time": "2022-07-08T12:47:33.277Z"
   },
   {
    "duration": 128,
    "start_time": "2022-07-08T12:47:33.434Z"
   },
   {
    "duration": 176,
    "start_time": "2022-07-08T12:47:33.563Z"
   },
   {
    "duration": 175,
    "start_time": "2022-07-08T12:47:33.741Z"
   },
   {
    "duration": 295,
    "start_time": "2022-07-08T12:47:33.919Z"
   },
   {
    "duration": 176,
    "start_time": "2022-07-08T12:47:34.215Z"
   },
   {
    "duration": 334,
    "start_time": "2022-07-08T12:47:34.393Z"
   },
   {
    "duration": 27,
    "start_time": "2022-07-08T12:47:34.729Z"
   },
   {
    "duration": 136,
    "start_time": "2022-07-08T12:47:34.758Z"
   },
   {
    "duration": 3,
    "start_time": "2022-07-08T12:47:34.896Z"
   },
   {
    "duration": 221,
    "start_time": "2022-07-08T12:47:34.901Z"
   },
   {
    "duration": 4,
    "start_time": "2022-07-08T12:47:35.124Z"
   },
   {
    "duration": 218,
    "start_time": "2022-07-08T12:47:35.129Z"
   },
   {
    "duration": 60,
    "start_time": "2022-07-08T12:47:35.354Z"
   },
   {
    "duration": 72,
    "start_time": "2022-07-08T12:47:35.416Z"
   },
   {
    "duration": 131,
    "start_time": "2022-07-08T12:47:35.489Z"
   },
   {
    "duration": 4,
    "start_time": "2022-07-08T12:47:35.622Z"
   },
   {
    "duration": 6,
    "start_time": "2022-07-08T12:47:35.627Z"
   },
   {
    "duration": 27,
    "start_time": "2022-07-08T12:47:35.634Z"
   },
   {
    "duration": 9,
    "start_time": "2022-07-08T12:47:35.662Z"
   },
   {
    "duration": 6,
    "start_time": "2022-07-08T12:47:35.672Z"
   },
   {
    "duration": 9,
    "start_time": "2022-07-08T12:47:35.679Z"
   },
   {
    "duration": 5,
    "start_time": "2022-07-08T12:47:35.690Z"
   },
   {
    "duration": 5,
    "start_time": "2022-07-08T12:47:35.697Z"
   },
   {
    "duration": 52,
    "start_time": "2022-07-08T12:47:35.704Z"
   },
   {
    "duration": 12,
    "start_time": "2022-07-08T12:47:35.758Z"
   },
   {
    "duration": 1213,
    "start_time": "2022-07-08T16:06:44.760Z"
   },
   {
    "duration": 39,
    "start_time": "2022-07-08T16:06:45.976Z"
   },
   {
    "duration": 10,
    "start_time": "2022-07-08T16:06:46.017Z"
   },
   {
    "duration": 6,
    "start_time": "2022-07-08T16:06:46.028Z"
   },
   {
    "duration": 19,
    "start_time": "2022-07-08T16:06:46.035Z"
   },
   {
    "duration": 8,
    "start_time": "2022-07-08T16:06:46.055Z"
   },
   {
    "duration": 13,
    "start_time": "2022-07-08T16:06:46.064Z"
   },
   {
    "duration": 49,
    "start_time": "2022-07-08T16:06:46.078Z"
   },
   {
    "duration": 7,
    "start_time": "2022-07-08T16:06:46.129Z"
   },
   {
    "duration": 18,
    "start_time": "2022-07-08T16:06:46.137Z"
   },
   {
    "duration": 8,
    "start_time": "2022-07-08T16:06:46.157Z"
   },
   {
    "duration": 8,
    "start_time": "2022-07-08T16:06:46.166Z"
   },
   {
    "duration": 17,
    "start_time": "2022-07-08T16:06:46.175Z"
   },
   {
    "duration": 34,
    "start_time": "2022-07-08T16:06:46.196Z"
   },
   {
    "duration": 7,
    "start_time": "2022-07-08T16:06:46.231Z"
   },
   {
    "duration": 17,
    "start_time": "2022-07-08T16:06:46.239Z"
   },
   {
    "duration": 155,
    "start_time": "2022-07-08T16:06:46.257Z"
   },
   {
    "duration": 118,
    "start_time": "2022-07-08T16:06:46.414Z"
   },
   {
    "duration": 19,
    "start_time": "2022-07-08T16:06:46.534Z"
   },
   {
    "duration": 154,
    "start_time": "2022-07-08T16:06:46.555Z"
   },
   {
    "duration": 125,
    "start_time": "2022-07-08T16:06:46.710Z"
   },
   {
    "duration": 254,
    "start_time": "2022-07-08T16:06:46.836Z"
   },
   {
    "duration": 175,
    "start_time": "2022-07-08T16:06:47.091Z"
   },
   {
    "duration": 283,
    "start_time": "2022-07-08T16:06:47.268Z"
   },
   {
    "duration": 169,
    "start_time": "2022-07-08T16:06:47.554Z"
   },
   {
    "duration": 310,
    "start_time": "2022-07-08T16:06:47.725Z"
   },
   {
    "duration": 12,
    "start_time": "2022-07-08T16:06:48.037Z"
   },
   {
    "duration": 144,
    "start_time": "2022-07-08T16:06:48.051Z"
   },
   {
    "duration": 4,
    "start_time": "2022-07-08T16:06:48.196Z"
   },
   {
    "duration": 126,
    "start_time": "2022-07-08T16:06:48.202Z"
   },
   {
    "duration": 25,
    "start_time": "2022-07-08T16:06:48.330Z"
   },
   {
    "duration": 222,
    "start_time": "2022-07-08T16:06:48.357Z"
   },
   {
    "duration": 55,
    "start_time": "2022-07-08T16:06:48.580Z"
   },
   {
    "duration": 86,
    "start_time": "2022-07-08T16:06:48.637Z"
   },
   {
    "duration": 165,
    "start_time": "2022-07-08T16:06:48.725Z"
   },
   {
    "duration": 4,
    "start_time": "2022-07-08T16:06:48.892Z"
   },
   {
    "duration": 8,
    "start_time": "2022-07-08T16:06:48.897Z"
   },
   {
    "duration": 23,
    "start_time": "2022-07-08T16:06:48.906Z"
   },
   {
    "duration": 17,
    "start_time": "2022-07-08T16:06:48.930Z"
   },
   {
    "duration": 6,
    "start_time": "2022-07-08T16:06:48.949Z"
   },
   {
    "duration": 5,
    "start_time": "2022-07-08T16:06:48.958Z"
   },
   {
    "duration": 6,
    "start_time": "2022-07-08T16:06:48.965Z"
   },
   {
    "duration": 6,
    "start_time": "2022-07-08T16:06:48.972Z"
   },
   {
    "duration": 22,
    "start_time": "2022-07-08T16:06:48.980Z"
   },
   {
    "duration": 51,
    "start_time": "2022-07-08T16:06:49.005Z"
   },
   {
    "duration": 990,
    "start_time": "2022-07-08T16:07:03.084Z"
   },
   {
    "duration": 14,
    "start_time": "2022-07-08T16:07:04.076Z"
   },
   {
    "duration": 10,
    "start_time": "2022-07-08T16:07:04.091Z"
   },
   {
    "duration": 4,
    "start_time": "2022-07-08T16:07:04.103Z"
   },
   {
    "duration": 13,
    "start_time": "2022-07-08T16:07:04.108Z"
   },
   {
    "duration": 7,
    "start_time": "2022-07-08T16:07:04.122Z"
   },
   {
    "duration": 31,
    "start_time": "2022-07-08T16:07:04.130Z"
   },
   {
    "duration": 29,
    "start_time": "2022-07-08T16:07:04.163Z"
   },
   {
    "duration": 7,
    "start_time": "2022-07-08T16:07:04.193Z"
   },
   {
    "duration": 11,
    "start_time": "2022-07-08T16:07:04.203Z"
   },
   {
    "duration": 6,
    "start_time": "2022-07-08T16:07:04.215Z"
   },
   {
    "duration": 10,
    "start_time": "2022-07-08T16:07:04.223Z"
   },
   {
    "duration": 12,
    "start_time": "2022-07-08T16:07:04.235Z"
   },
   {
    "duration": 18,
    "start_time": "2022-07-08T16:07:04.249Z"
   },
   {
    "duration": 7,
    "start_time": "2022-07-08T16:07:04.268Z"
   },
   {
    "duration": 7,
    "start_time": "2022-07-08T16:07:04.276Z"
   },
   {
    "duration": 177,
    "start_time": "2022-07-08T16:07:04.285Z"
   },
   {
    "duration": 139,
    "start_time": "2022-07-08T16:07:04.464Z"
   },
   {
    "duration": 10,
    "start_time": "2022-07-08T16:07:04.605Z"
   },
   {
    "duration": 202,
    "start_time": "2022-07-08T16:07:04.616Z"
   },
   {
    "duration": 121,
    "start_time": "2022-07-08T16:07:04.819Z"
   },
   {
    "duration": 262,
    "start_time": "2022-07-08T16:07:04.946Z"
   },
   {
    "duration": 194,
    "start_time": "2022-07-08T16:07:05.210Z"
   },
   {
    "duration": 299,
    "start_time": "2022-07-08T16:07:05.406Z"
   },
   {
    "duration": 179,
    "start_time": "2022-07-08T16:07:05.706Z"
   },
   {
    "duration": 270,
    "start_time": "2022-07-08T16:07:05.886Z"
   },
   {
    "duration": 8,
    "start_time": "2022-07-08T16:07:06.157Z"
   },
   {
    "duration": 125,
    "start_time": "2022-07-08T16:07:06.169Z"
   },
   {
    "duration": 4,
    "start_time": "2022-07-08T16:07:06.295Z"
   },
   {
    "duration": 136,
    "start_time": "2022-07-08T16:07:06.300Z"
   },
   {
    "duration": 17,
    "start_time": "2022-07-08T16:07:06.437Z"
   },
   {
    "duration": 220,
    "start_time": "2022-07-08T16:07:06.456Z"
   },
   {
    "duration": 78,
    "start_time": "2022-07-08T16:07:06.678Z"
   },
   {
    "duration": 74,
    "start_time": "2022-07-08T16:07:06.758Z"
   },
   {
    "duration": 152,
    "start_time": "2022-07-08T16:07:06.834Z"
   },
   {
    "duration": 4,
    "start_time": "2022-07-08T16:07:06.988Z"
   },
   {
    "duration": 35,
    "start_time": "2022-07-08T16:07:06.993Z"
   },
   {
    "duration": 41,
    "start_time": "2022-07-08T16:07:07.030Z"
   },
   {
    "duration": 9,
    "start_time": "2022-07-08T16:07:07.072Z"
   },
   {
    "duration": 9,
    "start_time": "2022-07-08T16:07:07.082Z"
   },
   {
    "duration": 13,
    "start_time": "2022-07-08T16:07:07.092Z"
   },
   {
    "duration": 23,
    "start_time": "2022-07-08T16:07:07.106Z"
   },
   {
    "duration": 9,
    "start_time": "2022-07-08T16:07:07.131Z"
   },
   {
    "duration": 50,
    "start_time": "2022-07-08T16:07:07.141Z"
   },
   {
    "duration": 11,
    "start_time": "2022-07-08T16:07:07.193Z"
   }
  ],
  "kernelspec": {
   "display_name": "Python 3 (ipykernel)",
   "language": "python",
   "name": "python3"
  },
  "language_info": {
   "codemirror_mode": {
    "name": "ipython",
    "version": 3
   },
   "file_extension": ".py",
   "mimetype": "text/x-python",
   "name": "python",
   "nbconvert_exporter": "python",
   "pygments_lexer": "ipython3",
   "version": "3.9.7"
  },
  "toc": {
   "base_numbering": 1,
   "nav_menu": {},
   "number_sections": true,
   "sideBar": true,
   "skip_h1_title": true,
   "title_cell": "Table of Contents",
   "title_sidebar": "Contents",
   "toc_cell": false,
   "toc_position": {},
   "toc_section_display": true,
   "toc_window_display": false
  }
 },
 "nbformat": 4,
 "nbformat_minor": 2
}
