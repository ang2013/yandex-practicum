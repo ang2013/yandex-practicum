{
 "cells": [
  {
   "cell_type": "markdown",
   "metadata": {},
   "source": [
    "# Проект по А/B-тестированию"
   ]
  },
  {
   "cell_type": "markdown",
   "metadata": {},
   "source": [
    "## Постановка задачи\n",
    "\n",
    "Проведение оценки результатов A/B-теста. В нашем распоряжении есть датасет с действиями пользователей, техническое задание и несколько вспомогательных датасетов.\n",
    "- оценка корректности проведения теста.\n",
    "- анализ результатов теста.\n",
    "Чтобы оценить корректность проведения теста, проверим:\n",
    "- пересечение тестовой аудитории с конкурирующим тестом;\n",
    "- совпадение теста и маркетинговых событий, другие проблемы временных границ теста."
   ]
  },
  {
   "cell_type": "markdown",
   "metadata": {},
   "source": [
    "## Предобработка данных"
   ]
  },
  {
   "cell_type": "markdown",
   "metadata": {},
   "source": [
    "Загризим библиотеки"
   ]
  },
  {
   "cell_type": "code",
   "execution_count": 99,
   "metadata": {},
   "outputs": [],
   "source": [
    "import pandas as pd\n",
    "import numpy as np\n",
    "import plotly\n",
    "import plotly.graph_objs as go\n",
    "import matplotlib.pyplot as plt\n",
    "import matplotlib.cm as cm\n",
    "import math as mth\n",
    "import seaborn as sns\n",
    "from datetime import datetime\n",
    "\n",
    "from scipy import stats as st"
   ]
  },
  {
   "cell_type": "markdown",
   "metadata": {},
   "source": [
    "### Датасет ab_project_marketing_events"
   ]
  },
  {
   "cell_type": "markdown",
   "metadata": {},
   "source": [
    "Загрузим календарь маркетинговых событий на 2020 год."
   ]
  },
  {
   "cell_type": "markdown",
   "metadata": {},
   "source": [
    "Структура файла:\n",
    "- name — название маркетингового события;\n",
    "- regions — регионы, в которых будет проводиться рекламная кампания;\n",
    "- start_dt — дата начала кампании;\n",
    "- finish_dt — дата завершения кампании."
   ]
  },
  {
   "cell_type": "code",
   "execution_count": 100,
   "metadata": {},
   "outputs": [
    {
     "data": {
      "text/html": [
       "<div>\n",
       "<style scoped>\n",
       "    .dataframe tbody tr th:only-of-type {\n",
       "        vertical-align: middle;\n",
       "    }\n",
       "\n",
       "    .dataframe tbody tr th {\n",
       "        vertical-align: top;\n",
       "    }\n",
       "\n",
       "    .dataframe thead th {\n",
       "        text-align: right;\n",
       "    }\n",
       "</style>\n",
       "<table border=\"1\" class=\"dataframe\">\n",
       "  <thead>\n",
       "    <tr style=\"text-align: right;\">\n",
       "      <th></th>\n",
       "      <th>name</th>\n",
       "      <th>regions</th>\n",
       "      <th>start_dt</th>\n",
       "      <th>finish_dt</th>\n",
       "    </tr>\n",
       "  </thead>\n",
       "  <tbody>\n",
       "    <tr>\n",
       "      <th>0</th>\n",
       "      <td>Christmas&amp;New Year Promo</td>\n",
       "      <td>EU, N.America</td>\n",
       "      <td>2020-12-25</td>\n",
       "      <td>2021-01-03</td>\n",
       "    </tr>\n",
       "    <tr>\n",
       "      <th>1</th>\n",
       "      <td>St. Valentine's Day Giveaway</td>\n",
       "      <td>EU, CIS, APAC, N.America</td>\n",
       "      <td>2020-02-14</td>\n",
       "      <td>2020-02-16</td>\n",
       "    </tr>\n",
       "    <tr>\n",
       "      <th>2</th>\n",
       "      <td>St. Patric's Day Promo</td>\n",
       "      <td>EU, N.America</td>\n",
       "      <td>2020-03-17</td>\n",
       "      <td>2020-03-19</td>\n",
       "    </tr>\n",
       "    <tr>\n",
       "      <th>3</th>\n",
       "      <td>Easter Promo</td>\n",
       "      <td>EU, CIS, APAC, N.America</td>\n",
       "      <td>2020-04-12</td>\n",
       "      <td>2020-04-19</td>\n",
       "    </tr>\n",
       "    <tr>\n",
       "      <th>4</th>\n",
       "      <td>4th of July Promo</td>\n",
       "      <td>N.America</td>\n",
       "      <td>2020-07-04</td>\n",
       "      <td>2020-07-11</td>\n",
       "    </tr>\n",
       "    <tr>\n",
       "      <th>5</th>\n",
       "      <td>Black Friday Ads Campaign</td>\n",
       "      <td>EU, CIS, APAC, N.America</td>\n",
       "      <td>2020-11-26</td>\n",
       "      <td>2020-12-01</td>\n",
       "    </tr>\n",
       "    <tr>\n",
       "      <th>6</th>\n",
       "      <td>Chinese New Year Promo</td>\n",
       "      <td>APAC</td>\n",
       "      <td>2020-01-25</td>\n",
       "      <td>2020-02-07</td>\n",
       "    </tr>\n",
       "    <tr>\n",
       "      <th>7</th>\n",
       "      <td>Labor day (May 1st) Ads Campaign</td>\n",
       "      <td>EU, CIS, APAC</td>\n",
       "      <td>2020-05-01</td>\n",
       "      <td>2020-05-03</td>\n",
       "    </tr>\n",
       "    <tr>\n",
       "      <th>8</th>\n",
       "      <td>International Women's Day Promo</td>\n",
       "      <td>EU, CIS, APAC</td>\n",
       "      <td>2020-03-08</td>\n",
       "      <td>2020-03-10</td>\n",
       "    </tr>\n",
       "    <tr>\n",
       "      <th>9</th>\n",
       "      <td>Victory Day CIS (May 9th) Event</td>\n",
       "      <td>CIS</td>\n",
       "      <td>2020-05-09</td>\n",
       "      <td>2020-05-11</td>\n",
       "    </tr>\n",
       "    <tr>\n",
       "      <th>10</th>\n",
       "      <td>CIS New Year Gift Lottery</td>\n",
       "      <td>CIS</td>\n",
       "      <td>2020-12-30</td>\n",
       "      <td>2021-01-07</td>\n",
       "    </tr>\n",
       "    <tr>\n",
       "      <th>11</th>\n",
       "      <td>Dragon Boat Festival Giveaway</td>\n",
       "      <td>APAC</td>\n",
       "      <td>2020-06-25</td>\n",
       "      <td>2020-07-01</td>\n",
       "    </tr>\n",
       "    <tr>\n",
       "      <th>12</th>\n",
       "      <td>Single's Day Gift Promo</td>\n",
       "      <td>APAC</td>\n",
       "      <td>2020-11-11</td>\n",
       "      <td>2020-11-12</td>\n",
       "    </tr>\n",
       "    <tr>\n",
       "      <th>13</th>\n",
       "      <td>Chinese Moon Festival</td>\n",
       "      <td>APAC</td>\n",
       "      <td>2020-10-01</td>\n",
       "      <td>2020-10-07</td>\n",
       "    </tr>\n",
       "  </tbody>\n",
       "</table>\n",
       "</div>"
      ],
      "text/plain": [
       "                                name                   regions    start_dt  \\\n",
       "0           Christmas&New Year Promo             EU, N.America  2020-12-25   \n",
       "1       St. Valentine's Day Giveaway  EU, CIS, APAC, N.America  2020-02-14   \n",
       "2             St. Patric's Day Promo             EU, N.America  2020-03-17   \n",
       "3                       Easter Promo  EU, CIS, APAC, N.America  2020-04-12   \n",
       "4                  4th of July Promo                 N.America  2020-07-04   \n",
       "5          Black Friday Ads Campaign  EU, CIS, APAC, N.America  2020-11-26   \n",
       "6             Chinese New Year Promo                      APAC  2020-01-25   \n",
       "7   Labor day (May 1st) Ads Campaign             EU, CIS, APAC  2020-05-01   \n",
       "8    International Women's Day Promo             EU, CIS, APAC  2020-03-08   \n",
       "9    Victory Day CIS (May 9th) Event                       CIS  2020-05-09   \n",
       "10         CIS New Year Gift Lottery                       CIS  2020-12-30   \n",
       "11     Dragon Boat Festival Giveaway                      APAC  2020-06-25   \n",
       "12           Single's Day Gift Promo                      APAC  2020-11-11   \n",
       "13             Chinese Moon Festival                      APAC  2020-10-01   \n",
       "\n",
       "     finish_dt  \n",
       "0   2021-01-03  \n",
       "1   2020-02-16  \n",
       "2   2020-03-19  \n",
       "3   2020-04-19  \n",
       "4   2020-07-11  \n",
       "5   2020-12-01  \n",
       "6   2020-02-07  \n",
       "7   2020-05-03  \n",
       "8   2020-03-10  \n",
       "9   2020-05-11  \n",
       "10  2021-01-07  \n",
       "11  2020-07-01  \n",
       "12  2020-11-12  \n",
       "13  2020-10-07  "
      ]
     },
     "execution_count": 100,
     "metadata": {},
     "output_type": "execute_result"
    }
   ],
   "source": [
    "mark_ev = pd.read_csv ('/datasets/ab_project_marketing_events.csv')\n",
    "mark_ev"
   ]
  },
  {
   "cell_type": "code",
   "execution_count": 101,
   "metadata": {},
   "outputs": [
    {
     "name": "stdout",
     "output_type": "stream",
     "text": [
      "<class 'pandas.core.frame.DataFrame'>\n",
      "RangeIndex: 14 entries, 0 to 13\n",
      "Data columns (total 4 columns):\n",
      " #   Column     Non-Null Count  Dtype \n",
      "---  ------     --------------  ----- \n",
      " 0   name       14 non-null     object\n",
      " 1   regions    14 non-null     object\n",
      " 2   start_dt   14 non-null     object\n",
      " 3   finish_dt  14 non-null     object\n",
      "dtypes: object(4)\n",
      "memory usage: 576.0+ bytes\n"
     ]
    }
   ],
   "source": [
    "mark_ev.info()"
   ]
  },
  {
   "cell_type": "markdown",
   "metadata": {},
   "source": [
    "Преобразуем необходимые колонки в формат даты."
   ]
  },
  {
   "cell_type": "code",
   "execution_count": 102,
   "metadata": {},
   "outputs": [],
   "source": [
    "mark_ev['start_dt'] = pd.to_datetime(mark_ev['start_dt'], format='%Y-%m-%d')\n",
    "mark_ev['finish_dt'] = pd.to_datetime(mark_ev['finish_dt'], format='%Y-%m-%d')"
   ]
  },
  {
   "cell_type": "markdown",
   "metadata": {},
   "source": [
    "### Датасет final_ab_new_users.csv"
   ]
  },
  {
   "cell_type": "markdown",
   "metadata": {},
   "source": [
    "Загрузим датасет со всеми пользователи, зарегистрировавшиеся в интернет-магазине в период с 7 по 21 декабря 2020 года."
   ]
  },
  {
   "cell_type": "markdown",
   "metadata": {},
   "source": [
    "Структура файла:\n",
    "- user_id — идентификатор пользователя;\n",
    "- first_date — дата регистрации;\n",
    "- region — регион пользователя;\n",
    "- device — устройство, с которого происходила регистрация."
   ]
  },
  {
   "cell_type": "code",
   "execution_count": 103,
   "metadata": {},
   "outputs": [
    {
     "data": {
      "text/html": [
       "<div>\n",
       "<style scoped>\n",
       "    .dataframe tbody tr th:only-of-type {\n",
       "        vertical-align: middle;\n",
       "    }\n",
       "\n",
       "    .dataframe tbody tr th {\n",
       "        vertical-align: top;\n",
       "    }\n",
       "\n",
       "    .dataframe thead th {\n",
       "        text-align: right;\n",
       "    }\n",
       "</style>\n",
       "<table border=\"1\" class=\"dataframe\">\n",
       "  <thead>\n",
       "    <tr style=\"text-align: right;\">\n",
       "      <th></th>\n",
       "      <th>user_id</th>\n",
       "      <th>first_date</th>\n",
       "      <th>region</th>\n",
       "      <th>device</th>\n",
       "    </tr>\n",
       "  </thead>\n",
       "  <tbody>\n",
       "    <tr>\n",
       "      <th>0</th>\n",
       "      <td>D72A72121175D8BE</td>\n",
       "      <td>2020-12-07</td>\n",
       "      <td>EU</td>\n",
       "      <td>PC</td>\n",
       "    </tr>\n",
       "    <tr>\n",
       "      <th>1</th>\n",
       "      <td>F1C668619DFE6E65</td>\n",
       "      <td>2020-12-07</td>\n",
       "      <td>N.America</td>\n",
       "      <td>Android</td>\n",
       "    </tr>\n",
       "    <tr>\n",
       "      <th>2</th>\n",
       "      <td>2E1BF1D4C37EA01F</td>\n",
       "      <td>2020-12-07</td>\n",
       "      <td>EU</td>\n",
       "      <td>PC</td>\n",
       "    </tr>\n",
       "    <tr>\n",
       "      <th>3</th>\n",
       "      <td>50734A22C0C63768</td>\n",
       "      <td>2020-12-07</td>\n",
       "      <td>EU</td>\n",
       "      <td>iPhone</td>\n",
       "    </tr>\n",
       "    <tr>\n",
       "      <th>4</th>\n",
       "      <td>E1BDDCE0DAFA2679</td>\n",
       "      <td>2020-12-07</td>\n",
       "      <td>N.America</td>\n",
       "      <td>iPhone</td>\n",
       "    </tr>\n",
       "  </tbody>\n",
       "</table>\n",
       "</div>"
      ],
      "text/plain": [
       "            user_id  first_date     region   device\n",
       "0  D72A72121175D8BE  2020-12-07         EU       PC\n",
       "1  F1C668619DFE6E65  2020-12-07  N.America  Android\n",
       "2  2E1BF1D4C37EA01F  2020-12-07         EU       PC\n",
       "3  50734A22C0C63768  2020-12-07         EU   iPhone\n",
       "4  E1BDDCE0DAFA2679  2020-12-07  N.America   iPhone"
      ]
     },
     "execution_count": 103,
     "metadata": {},
     "output_type": "execute_result"
    }
   ],
   "source": [
    "users = pd.read_csv ('/datasets/final_ab_new_users.csv')\n",
    "users.head(5)"
   ]
  },
  {
   "cell_type": "code",
   "execution_count": 104,
   "metadata": {},
   "outputs": [
    {
     "name": "stdout",
     "output_type": "stream",
     "text": [
      "<class 'pandas.core.frame.DataFrame'>\n",
      "RangeIndex: 61733 entries, 0 to 61732\n",
      "Data columns (total 4 columns):\n",
      " #   Column      Non-Null Count  Dtype \n",
      "---  ------      --------------  ----- \n",
      " 0   user_id     61733 non-null  object\n",
      " 1   first_date  61733 non-null  object\n",
      " 2   region      61733 non-null  object\n",
      " 3   device      61733 non-null  object\n",
      "dtypes: object(4)\n",
      "memory usage: 1.9+ MB\n"
     ]
    }
   ],
   "source": [
    "users.info()"
   ]
  },
  {
   "cell_type": "code",
   "execution_count": 105,
   "metadata": {},
   "outputs": [
    {
     "data": {
      "text/plain": [
       "0"
      ]
     },
     "execution_count": 105,
     "metadata": {},
     "output_type": "execute_result"
    }
   ],
   "source": [
    "users.duplicated().sum()"
   ]
  },
  {
   "cell_type": "markdown",
   "metadata": {},
   "source": [
    "В таблице нет пропусков и дубликатов."
   ]
  },
  {
   "cell_type": "markdown",
   "metadata": {},
   "source": [
    "Заменим тип данных на числовой"
   ]
  },
  {
   "cell_type": "code",
   "execution_count": 106,
   "metadata": {},
   "outputs": [],
   "source": [
    "users['first_date'] = pd.to_datetime(users['first_date'], format='%Y-%m-%d')"
   ]
  },
  {
   "cell_type": "code",
   "execution_count": 107,
   "metadata": {},
   "outputs": [
    {
     "data": {
      "text/plain": [
       "Timestamp('2020-12-07 00:00:00')"
      ]
     },
     "execution_count": 107,
     "metadata": {},
     "output_type": "execute_result"
    }
   ],
   "source": [
    "users['first_date'].min()"
   ]
  },
  {
   "cell_type": "code",
   "execution_count": 108,
   "metadata": {},
   "outputs": [
    {
     "data": {
      "text/plain": [
       "Timestamp('2020-12-23 00:00:00')"
      ]
     },
     "execution_count": 108,
     "metadata": {},
     "output_type": "execute_result"
    }
   ],
   "source": [
    "users['first_date'].max()"
   ]
  },
  {
   "cell_type": "markdown",
   "metadata": {},
   "source": [
    "Посмотрим на распределение по регионам"
   ]
  },
  {
   "cell_type": "code",
   "execution_count": 109,
   "metadata": {},
   "outputs": [
    {
     "data": {
      "text/plain": [
       "EU           46270\n",
       "N.America     9155\n",
       "CIS           3155\n",
       "APAC          3153\n",
       "Name: region, dtype: int64"
      ]
     },
     "execution_count": 109,
     "metadata": {},
     "output_type": "execute_result"
    }
   ],
   "source": [
    "users['region'].value_counts()"
   ]
  },
  {
   "cell_type": "markdown",
   "metadata": {},
   "source": [
    "Посмотрим с каких устройств заходили пользователи"
   ]
  },
  {
   "cell_type": "code",
   "execution_count": 110,
   "metadata": {},
   "outputs": [
    {
     "data": {
      "text/plain": [
       "Android    27520\n",
       "PC         15599\n",
       "iPhone     12530\n",
       "Mac         6084\n",
       "Name: device, dtype: int64"
      ]
     },
     "execution_count": 110,
     "metadata": {},
     "output_type": "execute_result"
    }
   ],
   "source": [
    "users['device'].value_counts()"
   ]
  },
  {
   "cell_type": "markdown",
   "metadata": {},
   "source": [
    "Больше всего с Андроида и PC, далее идет iPhone   и Mac"
   ]
  },
  {
   "cell_type": "markdown",
   "metadata": {},
   "source": [
    "### Таблица final_ab_events.csv"
   ]
  },
  {
   "cell_type": "markdown",
   "metadata": {},
   "source": [
    "Загрузим датасет со всеми событиями новых пользователей в период с 7 декабря 2020 по 4 января 2021 года."
   ]
  },
  {
   "cell_type": "markdown",
   "metadata": {},
   "source": [
    "Структура файла:\n",
    "- user_id — идентификатор пользователя;\n",
    "- event_dt — дата и время события;\n",
    "- event_name — тип события;\n",
    "- details — дополнительные данные о событии. Например, для покупок, purchase, в этом поле хранится стоимость покупки в долларах."
   ]
  },
  {
   "cell_type": "code",
   "execution_count": 111,
   "metadata": {},
   "outputs": [
    {
     "data": {
      "text/html": [
       "<div>\n",
       "<style scoped>\n",
       "    .dataframe tbody tr th:only-of-type {\n",
       "        vertical-align: middle;\n",
       "    }\n",
       "\n",
       "    .dataframe tbody tr th {\n",
       "        vertical-align: top;\n",
       "    }\n",
       "\n",
       "    .dataframe thead th {\n",
       "        text-align: right;\n",
       "    }\n",
       "</style>\n",
       "<table border=\"1\" class=\"dataframe\">\n",
       "  <thead>\n",
       "    <tr style=\"text-align: right;\">\n",
       "      <th></th>\n",
       "      <th>user_id</th>\n",
       "      <th>event_dt</th>\n",
       "      <th>event_name</th>\n",
       "      <th>details</th>\n",
       "    </tr>\n",
       "  </thead>\n",
       "  <tbody>\n",
       "    <tr>\n",
       "      <th>0</th>\n",
       "      <td>E1BDDCE0DAFA2679</td>\n",
       "      <td>2020-12-07 20:22:03</td>\n",
       "      <td>purchase</td>\n",
       "      <td>99.99</td>\n",
       "    </tr>\n",
       "    <tr>\n",
       "      <th>1</th>\n",
       "      <td>7B6452F081F49504</td>\n",
       "      <td>2020-12-07 09:22:53</td>\n",
       "      <td>purchase</td>\n",
       "      <td>9.99</td>\n",
       "    </tr>\n",
       "    <tr>\n",
       "      <th>2</th>\n",
       "      <td>9CD9F34546DF254C</td>\n",
       "      <td>2020-12-07 12:59:29</td>\n",
       "      <td>purchase</td>\n",
       "      <td>4.99</td>\n",
       "    </tr>\n",
       "    <tr>\n",
       "      <th>3</th>\n",
       "      <td>96F27A054B191457</td>\n",
       "      <td>2020-12-07 04:02:40</td>\n",
       "      <td>purchase</td>\n",
       "      <td>4.99</td>\n",
       "    </tr>\n",
       "    <tr>\n",
       "      <th>4</th>\n",
       "      <td>1FD7660FDF94CA1F</td>\n",
       "      <td>2020-12-07 10:15:09</td>\n",
       "      <td>purchase</td>\n",
       "      <td>4.99</td>\n",
       "    </tr>\n",
       "  </tbody>\n",
       "</table>\n",
       "</div>"
      ],
      "text/plain": [
       "            user_id             event_dt event_name  details\n",
       "0  E1BDDCE0DAFA2679  2020-12-07 20:22:03   purchase    99.99\n",
       "1  7B6452F081F49504  2020-12-07 09:22:53   purchase     9.99\n",
       "2  9CD9F34546DF254C  2020-12-07 12:59:29   purchase     4.99\n",
       "3  96F27A054B191457  2020-12-07 04:02:40   purchase     4.99\n",
       "4  1FD7660FDF94CA1F  2020-12-07 10:15:09   purchase     4.99"
      ]
     },
     "execution_count": 111,
     "metadata": {},
     "output_type": "execute_result"
    }
   ],
   "source": [
    "events = pd.read_csv ('/datasets/final_ab_events.csv')\n",
    "events.head(5)"
   ]
  },
  {
   "cell_type": "code",
   "execution_count": 112,
   "metadata": {},
   "outputs": [
    {
     "data": {
      "text/plain": [
       "0"
      ]
     },
     "execution_count": 112,
     "metadata": {},
     "output_type": "execute_result"
    }
   ],
   "source": [
    "events.duplicated().sum()"
   ]
  },
  {
   "cell_type": "markdown",
   "metadata": {},
   "source": [
    "ДУбликатов не обнаружено."
   ]
  },
  {
   "cell_type": "code",
   "execution_count": 113,
   "metadata": {},
   "outputs": [
    {
     "name": "stdout",
     "output_type": "stream",
     "text": [
      "<class 'pandas.core.frame.DataFrame'>\n",
      "RangeIndex: 440317 entries, 0 to 440316\n",
      "Data columns (total 4 columns):\n",
      " #   Column      Non-Null Count   Dtype  \n",
      "---  ------      --------------   -----  \n",
      " 0   user_id     440317 non-null  object \n",
      " 1   event_dt    440317 non-null  object \n",
      " 2   event_name  440317 non-null  object \n",
      " 3   details     62740 non-null   float64\n",
      "dtypes: float64(1), object(3)\n",
      "memory usage: 13.4+ MB\n"
     ]
    }
   ],
   "source": [
    "events.info()"
   ]
  },
  {
   "cell_type": "markdown",
   "metadata": {},
   "source": [
    "В таблице есть пропущенные значения в колонке details"
   ]
  },
  {
   "cell_type": "code",
   "execution_count": 114,
   "metadata": {},
   "outputs": [
    {
     "data": {
      "text/html": [
       "<div>\n",
       "<style scoped>\n",
       "    .dataframe tbody tr th:only-of-type {\n",
       "        vertical-align: middle;\n",
       "    }\n",
       "\n",
       "    .dataframe tbody tr th {\n",
       "        vertical-align: top;\n",
       "    }\n",
       "\n",
       "    .dataframe thead th {\n",
       "        text-align: right;\n",
       "    }\n",
       "</style>\n",
       "<table border=\"1\" class=\"dataframe\">\n",
       "  <thead>\n",
       "    <tr style=\"text-align: right;\">\n",
       "      <th></th>\n",
       "      <th>details</th>\n",
       "    </tr>\n",
       "  </thead>\n",
       "  <tbody>\n",
       "    <tr>\n",
       "      <th>count</th>\n",
       "      <td>62740.000000</td>\n",
       "    </tr>\n",
       "    <tr>\n",
       "      <th>mean</th>\n",
       "      <td>23.877631</td>\n",
       "    </tr>\n",
       "    <tr>\n",
       "      <th>std</th>\n",
       "      <td>72.180465</td>\n",
       "    </tr>\n",
       "    <tr>\n",
       "      <th>min</th>\n",
       "      <td>4.990000</td>\n",
       "    </tr>\n",
       "    <tr>\n",
       "      <th>25%</th>\n",
       "      <td>4.990000</td>\n",
       "    </tr>\n",
       "    <tr>\n",
       "      <th>50%</th>\n",
       "      <td>4.990000</td>\n",
       "    </tr>\n",
       "    <tr>\n",
       "      <th>75%</th>\n",
       "      <td>9.990000</td>\n",
       "    </tr>\n",
       "    <tr>\n",
       "      <th>max</th>\n",
       "      <td>499.990000</td>\n",
       "    </tr>\n",
       "  </tbody>\n",
       "</table>\n",
       "</div>"
      ],
      "text/plain": [
       "            details\n",
       "count  62740.000000\n",
       "mean      23.877631\n",
       "std       72.180465\n",
       "min        4.990000\n",
       "25%        4.990000\n",
       "50%        4.990000\n",
       "75%        9.990000\n",
       "max      499.990000"
      ]
     },
     "execution_count": 114,
     "metadata": {},
     "output_type": "execute_result"
    }
   ],
   "source": [
    "events.describe()"
   ]
  },
  {
   "cell_type": "markdown",
   "metadata": {},
   "source": [
    "Посмотрим на характер пропусков в колонке details"
   ]
  },
  {
   "cell_type": "code",
   "execution_count": 115,
   "metadata": {},
   "outputs": [
    {
     "data": {
      "text/html": [
       "<div>\n",
       "<style scoped>\n",
       "    .dataframe tbody tr th:only-of-type {\n",
       "        vertical-align: middle;\n",
       "    }\n",
       "\n",
       "    .dataframe tbody tr th {\n",
       "        vertical-align: top;\n",
       "    }\n",
       "\n",
       "    .dataframe thead th {\n",
       "        text-align: right;\n",
       "    }\n",
       "</style>\n",
       "<table border=\"1\" class=\"dataframe\">\n",
       "  <thead>\n",
       "    <tr style=\"text-align: right;\">\n",
       "      <th></th>\n",
       "      <th>count</th>\n",
       "    </tr>\n",
       "    <tr>\n",
       "      <th>event_name</th>\n",
       "      <th></th>\n",
       "    </tr>\n",
       "  </thead>\n",
       "  <tbody>\n",
       "    <tr>\n",
       "      <th>login</th>\n",
       "      <td>0</td>\n",
       "    </tr>\n",
       "    <tr>\n",
       "      <th>product_cart</th>\n",
       "      <td>0</td>\n",
       "    </tr>\n",
       "    <tr>\n",
       "      <th>product_page</th>\n",
       "      <td>0</td>\n",
       "    </tr>\n",
       "    <tr>\n",
       "      <th>purchase</th>\n",
       "      <td>62740</td>\n",
       "    </tr>\n",
       "  </tbody>\n",
       "</table>\n",
       "</div>"
      ],
      "text/plain": [
       "              count\n",
       "event_name         \n",
       "login             0\n",
       "product_cart      0\n",
       "product_page      0\n",
       "purchase      62740"
      ]
     },
     "execution_count": 115,
     "metadata": {},
     "output_type": "execute_result"
    }
   ],
   "source": [
    "events.groupby('event_name')['details'].agg({'count'})"
   ]
  },
  {
   "cell_type": "markdown",
   "metadata": {},
   "source": [
    "В столбце details указана сумма покупки, поэтому данные есть только в строках с событием purchase (транзакциии о покупках). Заполним нулевыми значениями."
   ]
  },
  {
   "cell_type": "code",
   "execution_count": 116,
   "metadata": {},
   "outputs": [],
   "source": [
    "events['details'] = events['details'].fillna(0)"
   ]
  },
  {
   "cell_type": "markdown",
   "metadata": {},
   "source": [
    "Преобразуем колонки в тип даты и времени."
   ]
  },
  {
   "cell_type": "code",
   "execution_count": 117,
   "metadata": {},
   "outputs": [],
   "source": [
    "events['event_dt'] = pd.to_datetime(events['event_dt'], format='%Y-%m-%d %H:%M:%S')"
   ]
  },
  {
   "cell_type": "code",
   "execution_count": 118,
   "metadata": {},
   "outputs": [
    {
     "data": {
      "text/html": [
       "<div>\n",
       "<style scoped>\n",
       "    .dataframe tbody tr th:only-of-type {\n",
       "        vertical-align: middle;\n",
       "    }\n",
       "\n",
       "    .dataframe tbody tr th {\n",
       "        vertical-align: top;\n",
       "    }\n",
       "\n",
       "    .dataframe thead th {\n",
       "        text-align: right;\n",
       "    }\n",
       "</style>\n",
       "<table border=\"1\" class=\"dataframe\">\n",
       "  <thead>\n",
       "    <tr style=\"text-align: right;\">\n",
       "      <th></th>\n",
       "      <th>user_id</th>\n",
       "      <th>event_dt</th>\n",
       "      <th>event_name</th>\n",
       "      <th>details</th>\n",
       "      <th>date</th>\n",
       "    </tr>\n",
       "  </thead>\n",
       "  <tbody>\n",
       "    <tr>\n",
       "      <th>0</th>\n",
       "      <td>E1BDDCE0DAFA2679</td>\n",
       "      <td>2020-12-07 20:22:03</td>\n",
       "      <td>purchase</td>\n",
       "      <td>99.99</td>\n",
       "      <td>2020-12-07</td>\n",
       "    </tr>\n",
       "    <tr>\n",
       "      <th>1</th>\n",
       "      <td>7B6452F081F49504</td>\n",
       "      <td>2020-12-07 09:22:53</td>\n",
       "      <td>purchase</td>\n",
       "      <td>9.99</td>\n",
       "      <td>2020-12-07</td>\n",
       "    </tr>\n",
       "    <tr>\n",
       "      <th>2</th>\n",
       "      <td>9CD9F34546DF254C</td>\n",
       "      <td>2020-12-07 12:59:29</td>\n",
       "      <td>purchase</td>\n",
       "      <td>4.99</td>\n",
       "      <td>2020-12-07</td>\n",
       "    </tr>\n",
       "    <tr>\n",
       "      <th>3</th>\n",
       "      <td>96F27A054B191457</td>\n",
       "      <td>2020-12-07 04:02:40</td>\n",
       "      <td>purchase</td>\n",
       "      <td>4.99</td>\n",
       "      <td>2020-12-07</td>\n",
       "    </tr>\n",
       "    <tr>\n",
       "      <th>4</th>\n",
       "      <td>1FD7660FDF94CA1F</td>\n",
       "      <td>2020-12-07 10:15:09</td>\n",
       "      <td>purchase</td>\n",
       "      <td>4.99</td>\n",
       "      <td>2020-12-07</td>\n",
       "    </tr>\n",
       "  </tbody>\n",
       "</table>\n",
       "</div>"
      ],
      "text/plain": [
       "            user_id            event_dt event_name  details        date\n",
       "0  E1BDDCE0DAFA2679 2020-12-07 20:22:03   purchase    99.99  2020-12-07\n",
       "1  7B6452F081F49504 2020-12-07 09:22:53   purchase     9.99  2020-12-07\n",
       "2  9CD9F34546DF254C 2020-12-07 12:59:29   purchase     4.99  2020-12-07\n",
       "3  96F27A054B191457 2020-12-07 04:02:40   purchase     4.99  2020-12-07\n",
       "4  1FD7660FDF94CA1F 2020-12-07 10:15:09   purchase     4.99  2020-12-07"
      ]
     },
     "execution_count": 118,
     "metadata": {},
     "output_type": "execute_result"
    }
   ],
   "source": [
    "events['date'] = events['event_dt'].dt.date\n",
    "events.head(5)"
   ]
  },
  {
   "cell_type": "markdown",
   "metadata": {},
   "source": [
    "### Таблица final_ab_participants.csv"
   ]
  },
  {
   "cell_type": "markdown",
   "metadata": {},
   "source": [
    "Загрузим таблицу участников тестов."
   ]
  },
  {
   "cell_type": "markdown",
   "metadata": {},
   "source": [
    "Структура файла:\n",
    "- user_id — идентификатор пользователя;\n",
    "- ab_test — название теста;\n",
    "- group — группа пользователя."
   ]
  },
  {
   "cell_type": "code",
   "execution_count": 119,
   "metadata": {},
   "outputs": [
    {
     "data": {
      "text/html": [
       "<div>\n",
       "<style scoped>\n",
       "    .dataframe tbody tr th:only-of-type {\n",
       "        vertical-align: middle;\n",
       "    }\n",
       "\n",
       "    .dataframe tbody tr th {\n",
       "        vertical-align: top;\n",
       "    }\n",
       "\n",
       "    .dataframe thead th {\n",
       "        text-align: right;\n",
       "    }\n",
       "</style>\n",
       "<table border=\"1\" class=\"dataframe\">\n",
       "  <thead>\n",
       "    <tr style=\"text-align: right;\">\n",
       "      <th></th>\n",
       "      <th>user_id</th>\n",
       "      <th>group</th>\n",
       "      <th>ab_test</th>\n",
       "    </tr>\n",
       "  </thead>\n",
       "  <tbody>\n",
       "    <tr>\n",
       "      <th>0</th>\n",
       "      <td>D1ABA3E2887B6A73</td>\n",
       "      <td>A</td>\n",
       "      <td>recommender_system_test</td>\n",
       "    </tr>\n",
       "    <tr>\n",
       "      <th>1</th>\n",
       "      <td>A7A3664BD6242119</td>\n",
       "      <td>A</td>\n",
       "      <td>recommender_system_test</td>\n",
       "    </tr>\n",
       "    <tr>\n",
       "      <th>2</th>\n",
       "      <td>DABC14FDDFADD29E</td>\n",
       "      <td>A</td>\n",
       "      <td>recommender_system_test</td>\n",
       "    </tr>\n",
       "    <tr>\n",
       "      <th>3</th>\n",
       "      <td>04988C5DF189632E</td>\n",
       "      <td>A</td>\n",
       "      <td>recommender_system_test</td>\n",
       "    </tr>\n",
       "    <tr>\n",
       "      <th>4</th>\n",
       "      <td>482F14783456D21B</td>\n",
       "      <td>B</td>\n",
       "      <td>recommender_system_test</td>\n",
       "    </tr>\n",
       "  </tbody>\n",
       "</table>\n",
       "</div>"
      ],
      "text/plain": [
       "            user_id group                  ab_test\n",
       "0  D1ABA3E2887B6A73     A  recommender_system_test\n",
       "1  A7A3664BD6242119     A  recommender_system_test\n",
       "2  DABC14FDDFADD29E     A  recommender_system_test\n",
       "3  04988C5DF189632E     A  recommender_system_test\n",
       "4  482F14783456D21B     B  recommender_system_test"
      ]
     },
     "execution_count": 119,
     "metadata": {},
     "output_type": "execute_result"
    }
   ],
   "source": [
    "participants = pd.read_csv ('/datasets/final_ab_participants.csv')\n",
    "participants.head(5)"
   ]
  },
  {
   "cell_type": "code",
   "execution_count": 120,
   "metadata": {},
   "outputs": [
    {
     "data": {
      "text/plain": [
       "0"
      ]
     },
     "execution_count": 120,
     "metadata": {},
     "output_type": "execute_result"
    }
   ],
   "source": [
    "participants.duplicated().sum()"
   ]
  },
  {
   "cell_type": "code",
   "execution_count": 121,
   "metadata": {},
   "outputs": [
    {
     "name": "stdout",
     "output_type": "stream",
     "text": [
      "<class 'pandas.core.frame.DataFrame'>\n",
      "RangeIndex: 18268 entries, 0 to 18267\n",
      "Data columns (total 3 columns):\n",
      " #   Column   Non-Null Count  Dtype \n",
      "---  ------   --------------  ----- \n",
      " 0   user_id  18268 non-null  object\n",
      " 1   group    18268 non-null  object\n",
      " 2   ab_test  18268 non-null  object\n",
      "dtypes: object(3)\n",
      "memory usage: 428.3+ KB\n"
     ]
    }
   ],
   "source": [
    "participants.info()"
   ]
  },
  {
   "cell_type": "markdown",
   "metadata": {},
   "source": [
    "Дубликатов и пропусков не обнаружено"
   ]
  },
  {
   "cell_type": "markdown",
   "metadata": {},
   "source": [
    "Сгруппируем датасет по названию теста, посчитаем уникальных пользователей."
   ]
  },
  {
   "cell_type": "code",
   "execution_count": 122,
   "metadata": {},
   "outputs": [
    {
     "data": {
      "text/html": [
       "<div>\n",
       "<style scoped>\n",
       "    .dataframe tbody tr th:only-of-type {\n",
       "        vertical-align: middle;\n",
       "    }\n",
       "\n",
       "    .dataframe tbody tr th {\n",
       "        vertical-align: top;\n",
       "    }\n",
       "\n",
       "    .dataframe thead th {\n",
       "        text-align: right;\n",
       "    }\n",
       "</style>\n",
       "<table border=\"1\" class=\"dataframe\">\n",
       "  <thead>\n",
       "    <tr style=\"text-align: right;\">\n",
       "      <th></th>\n",
       "      <th>user_id</th>\n",
       "    </tr>\n",
       "    <tr>\n",
       "      <th>ab_test</th>\n",
       "      <th></th>\n",
       "    </tr>\n",
       "  </thead>\n",
       "  <tbody>\n",
       "    <tr>\n",
       "      <th>interface_eu_test</th>\n",
       "      <td>11567</td>\n",
       "    </tr>\n",
       "    <tr>\n",
       "      <th>recommender_system_test</th>\n",
       "      <td>6701</td>\n",
       "    </tr>\n",
       "  </tbody>\n",
       "</table>\n",
       "</div>"
      ],
      "text/plain": [
       "                         user_id\n",
       "ab_test                         \n",
       "interface_eu_test          11567\n",
       "recommender_system_test     6701"
      ]
     },
     "execution_count": 122,
     "metadata": {},
     "output_type": "execute_result"
    }
   ],
   "source": [
    "participants.groupby(['ab_test']).agg({'user_id': 'nunique'})"
   ]
  },
  {
   "cell_type": "markdown",
   "metadata": {},
   "source": [
    "В датасете есть данным по двум разным тестам. Мы анализируем только один из них: **recommender_system_test**. В тесте приняли участие 6701 чел."
   ]
  },
  {
   "cell_type": "markdown",
   "metadata": {},
   "source": [
    "### Соответствие данных требованиям технического задания.\n",
    "\n",
    "- Название теста: recommender_system_test;\n",
    "- Группы: А (контрольная), B (новая платёжная воронка);\n",
    "- Дата запуска: 2020-12-07;\n",
    "- Дата остановки набора новых пользователей: 2020-12-21;\n",
    "- Дата остановки: 2021-01-04;\n",
    "- Аудитория: 15% новых пользователей из региона EU;\n",
    "- Назначение теста: тестирование изменений, связанных с внедрением улучшенной рекомендательной системы;\n",
    "- Ожидаемое количество участников теста: 6000.\n",
    "- Ожидаемый эффект: за 14 дней с момента регистрации в системе пользователи покажут улучшение каждой метрики не менее, чем на 10%:\n",
    "- конверсии в просмотр карточек товаров — событие product_page\n",
    "- просмотры корзины — product_cart\n",
    "- покупки — purchase.\n",
    "- Загрузите данные теста, проверьте корректность его проведения и проанализируйте полученные результаты."
   ]
  },
  {
   "cell_type": "markdown",
   "metadata": {},
   "source": [
    "Соответствие данных требованиям технического задания. Проверим корректность всех пунктов технического задания."
   ]
  },
  {
   "cell_type": "markdown",
   "metadata": {},
   "source": [
    "Проверим дату остановки теста."
   ]
  },
  {
   "cell_type": "code",
   "execution_count": 123,
   "metadata": {},
   "outputs": [
    {
     "name": "stdout",
     "output_type": "stream",
     "text": [
      "2020-12-07\n",
      "2020-12-30\n"
     ]
    }
   ],
   "source": [
    "print (events['date'].min())\n",
    "print (events['date'].max())"
   ]
  },
  {
   "cell_type": "markdown",
   "metadata": {},
   "source": [
    "По техническому заданию тестирование должно быть завершено 4 января, однако у нас максимальная дата 30.12 в датасете. Возомжно часть данных была не выгружена или утеряна либо же пользователи перестали иметь клиентскую активность уже на 10ый день теста."
   ]
  },
  {
   "cell_type": "markdown",
   "metadata": {},
   "source": [
    "Проверим даты набора новых пользователей. Согласно тех. заданию 2020-12-21:"
   ]
  },
  {
   "cell_type": "code",
   "execution_count": 124,
   "metadata": {},
   "outputs": [
    {
     "data": {
      "text/plain": [
       "Timestamp('2020-12-23 00:00:00')"
      ]
     },
     "execution_count": 124,
     "metadata": {},
     "output_type": "execute_result"
    }
   ],
   "source": [
    "users['first_date'].max()"
   ]
  },
  {
   "cell_type": "code",
   "execution_count": 125,
   "metadata": {},
   "outputs": [],
   "source": [
    "users = users[users['first_date'] <= '2020-12-21']"
   ]
  },
  {
   "cell_type": "markdown",
   "metadata": {},
   "source": [
    "Для того, чтобы проверить процентное соотношение аудитории: 15% новых пользователей из региона EU, возьмем датафрейм со всеми новыми клиентами и очищенный датафрейм."
   ]
  },
  {
   "cell_type": "code",
   "execution_count": 126,
   "metadata": {},
   "outputs": [
    {
     "name": "stdout",
     "output_type": "stream",
     "text": [
      "12636\n"
     ]
    }
   ],
   "source": [
    "dt = participants.merge(users, on='user_id')\n",
    "dt = dt.merge(events, on='user_id')\n",
    "print (dt['user_id'].nunique())"
   ]
  },
  {
   "cell_type": "markdown",
   "metadata": {},
   "source": [
    "Всего в датафрейме 12636 уникальных пользователей. Отберем пользователей которые входят в нужный тест (recommender_system_test) и европейский регион(EU), согласно техническому заданию."
   ]
  },
  {
   "cell_type": "code",
   "execution_count": 127,
   "metadata": {},
   "outputs": [
    {
     "name": "stdout",
     "output_type": "stream",
     "text": [
      "3481\n"
     ]
    }
   ],
   "source": [
    "rs = dt.query('ab_test == \"recommender_system_test\"')\n",
    "rs = rs.query('region == \"EU\"')\n",
    "\n",
    "print (rs['user_id'].nunique())"
   ]
  },
  {
   "cell_type": "markdown",
   "metadata": {},
   "source": [
    "Всего 3481 уникальный пользователей вошли в очищенный датафрейм, согласно дате, региону, тесту. Это те пользователи, которые имели пользовательскую активность в данный период."
   ]
  },
  {
   "cell_type": "code",
   "execution_count": 128,
   "metadata": {},
   "outputs": [
    {
     "data": {
      "text/plain": [
       "15.826641473783656"
      ]
     },
     "execution_count": 128,
     "metadata": {},
     "output_type": "execute_result"
    }
   ],
   "source": [
    "fraction_eu = users[users['region'] == 'EU']\n",
    "fraction_rs = users.merge(participants, on='user_id', how='left').dropna()\n",
    "fraction_rs = fraction_rs[fraction_rs['ab_test'] == 'recommender_system_test']\n",
    "\n",
    "len(fraction_rs)/len(fraction_eu)*100"
   ]
  },
  {
   "cell_type": "markdown",
   "metadata": {},
   "source": [
    "Доля участников составила 15% и посчитано верно."
   ]
  },
  {
   "cell_type": "markdown",
   "metadata": {},
   "source": [
    "Посмотрим время проведения теста. Убедимся, что оно не совпадает с маркетинговыми и другими активностями."
   ]
  },
  {
   "cell_type": "markdown",
   "metadata": {},
   "source": [
    "Посмотрим какие маркетинговые события происходили в периоды по тех.заданию:"
   ]
  },
  {
   "cell_type": "code",
   "execution_count": 129,
   "metadata": {},
   "outputs": [
    {
     "data": {
      "text/html": [
       "<div>\n",
       "<style scoped>\n",
       "    .dataframe tbody tr th:only-of-type {\n",
       "        vertical-align: middle;\n",
       "    }\n",
       "\n",
       "    .dataframe tbody tr th {\n",
       "        vertical-align: top;\n",
       "    }\n",
       "\n",
       "    .dataframe thead th {\n",
       "        text-align: right;\n",
       "    }\n",
       "</style>\n",
       "<table border=\"1\" class=\"dataframe\">\n",
       "  <thead>\n",
       "    <tr style=\"text-align: right;\">\n",
       "      <th></th>\n",
       "      <th>name</th>\n",
       "      <th>regions</th>\n",
       "      <th>start_dt</th>\n",
       "      <th>finish_dt</th>\n",
       "    </tr>\n",
       "  </thead>\n",
       "  <tbody>\n",
       "    <tr>\n",
       "      <th>0</th>\n",
       "      <td>Christmas&amp;New Year Promo</td>\n",
       "      <td>EU, N.America</td>\n",
       "      <td>2020-12-25</td>\n",
       "      <td>2021-01-03</td>\n",
       "    </tr>\n",
       "    <tr>\n",
       "      <th>10</th>\n",
       "      <td>CIS New Year Gift Lottery</td>\n",
       "      <td>CIS</td>\n",
       "      <td>2020-12-30</td>\n",
       "      <td>2021-01-07</td>\n",
       "    </tr>\n",
       "  </tbody>\n",
       "</table>\n",
       "</div>"
      ],
      "text/plain": [
       "                         name        regions   start_dt  finish_dt\n",
       "0    Christmas&New Year Promo  EU, N.America 2020-12-25 2021-01-03\n",
       "10  CIS New Year Gift Lottery            CIS 2020-12-30 2021-01-07"
      ]
     },
     "execution_count": 129,
     "metadata": {},
     "output_type": "execute_result"
    }
   ],
   "source": [
    "mark_ev[(mark_ev['start_dt'] >= '2020-12-07') & (mark_ev['start_dt'] <= '2021-01-04')]"
   ]
  },
  {
   "cell_type": "markdown",
   "metadata": {},
   "source": [
    "Для Европы события в рамках теста имеют сильное пересечение с рождественской маркетинговой активностью (Christmas&New Year Promo). Этот факт дополнительно может повлиять на результаты теста. "
   ]
  },
  {
   "cell_type": "markdown",
   "metadata": {},
   "source": [
    "Проверим аудиторию теста. Удостоверимся, что нет пересечений с конкурирующим тестом и нет пользователей, участвующих в двух группах теста одновременно."
   ]
  },
  {
   "cell_type": "code",
   "execution_count": 130,
   "metadata": {},
   "outputs": [
    {
     "data": {
      "text/html": [
       "<div>\n",
       "<style scoped>\n",
       "    .dataframe tbody tr th:only-of-type {\n",
       "        vertical-align: middle;\n",
       "    }\n",
       "\n",
       "    .dataframe tbody tr th {\n",
       "        vertical-align: top;\n",
       "    }\n",
       "\n",
       "    .dataframe thead th {\n",
       "        text-align: right;\n",
       "    }\n",
       "</style>\n",
       "<table border=\"1\" class=\"dataframe\">\n",
       "  <thead>\n",
       "    <tr style=\"text-align: right;\">\n",
       "      <th></th>\n",
       "      <th>user_id</th>\n",
       "      <th>number_of_tests</th>\n",
       "    </tr>\n",
       "  </thead>\n",
       "  <tbody>\n",
       "    <tr>\n",
       "      <th>0</th>\n",
       "      <td>0002CE61FF2C4011</td>\n",
       "      <td>1</td>\n",
       "    </tr>\n",
       "    <tr>\n",
       "      <th>1</th>\n",
       "      <td>001064FEAAB631A1</td>\n",
       "      <td>2</td>\n",
       "    </tr>\n",
       "    <tr>\n",
       "      <th>2</th>\n",
       "      <td>0010A1C096941592</td>\n",
       "      <td>1</td>\n",
       "    </tr>\n",
       "    <tr>\n",
       "      <th>3</th>\n",
       "      <td>001E72F50D1C48FA</td>\n",
       "      <td>1</td>\n",
       "    </tr>\n",
       "    <tr>\n",
       "      <th>4</th>\n",
       "      <td>002412F1EB3F6E38</td>\n",
       "      <td>1</td>\n",
       "    </tr>\n",
       "  </tbody>\n",
       "</table>\n",
       "</div>"
      ],
      "text/plain": [
       "            user_id  number_of_tests\n",
       "0  0002CE61FF2C4011                1\n",
       "1  001064FEAAB631A1                2\n",
       "2  0010A1C096941592                1\n",
       "3  001E72F50D1C48FA                1\n",
       "4  002412F1EB3F6E38                1"
      ]
     },
     "execution_count": 130,
     "metadata": {},
     "output_type": "execute_result"
    }
   ],
   "source": [
    "# создадим датафрейм, где посчитаем, в скольких тестах принимал участие каждый пользователь \n",
    "cross = dt.groupby('user_id', as_index=False).agg({'ab_test': 'nunique'})\n",
    "cross = cross.rename(columns={'ab_test': 'number_of_tests'})\n",
    "cross.head()"
   ]
  },
  {
   "cell_type": "code",
   "execution_count": 131,
   "metadata": {},
   "outputs": [
    {
     "data": {
      "text/html": [
       "<div>\n",
       "<style scoped>\n",
       "    .dataframe tbody tr th:only-of-type {\n",
       "        vertical-align: middle;\n",
       "    }\n",
       "\n",
       "    .dataframe tbody tr th {\n",
       "        vertical-align: top;\n",
       "    }\n",
       "\n",
       "    .dataframe thead th {\n",
       "        text-align: right;\n",
       "    }\n",
       "</style>\n",
       "<table border=\"1\" class=\"dataframe\">\n",
       "  <thead>\n",
       "    <tr style=\"text-align: right;\">\n",
       "      <th></th>\n",
       "      <th>user_id</th>\n",
       "      <th>group</th>\n",
       "      <th>ab_test</th>\n",
       "      <th>first_date</th>\n",
       "      <th>region</th>\n",
       "      <th>device</th>\n",
       "      <th>event_dt</th>\n",
       "      <th>event_name</th>\n",
       "      <th>details</th>\n",
       "      <th>date</th>\n",
       "      <th>number_of_tests</th>\n",
       "    </tr>\n",
       "  </thead>\n",
       "  <tbody>\n",
       "    <tr>\n",
       "      <th>0</th>\n",
       "      <td>D1ABA3E2887B6A73</td>\n",
       "      <td>A</td>\n",
       "      <td>recommender_system_test</td>\n",
       "      <td>2020-12-07</td>\n",
       "      <td>EU</td>\n",
       "      <td>PC</td>\n",
       "      <td>2020-12-07 14:43:27</td>\n",
       "      <td>purchase</td>\n",
       "      <td>99.99</td>\n",
       "      <td>2020-12-07</td>\n",
       "      <td>1</td>\n",
       "    </tr>\n",
       "    <tr>\n",
       "      <th>1</th>\n",
       "      <td>D1ABA3E2887B6A73</td>\n",
       "      <td>A</td>\n",
       "      <td>recommender_system_test</td>\n",
       "      <td>2020-12-07</td>\n",
       "      <td>EU</td>\n",
       "      <td>PC</td>\n",
       "      <td>2020-12-25 00:04:56</td>\n",
       "      <td>purchase</td>\n",
       "      <td>4.99</td>\n",
       "      <td>2020-12-25</td>\n",
       "      <td>1</td>\n",
       "    </tr>\n",
       "    <tr>\n",
       "      <th>2</th>\n",
       "      <td>D1ABA3E2887B6A73</td>\n",
       "      <td>A</td>\n",
       "      <td>recommender_system_test</td>\n",
       "      <td>2020-12-07</td>\n",
       "      <td>EU</td>\n",
       "      <td>PC</td>\n",
       "      <td>2020-12-07 14:43:29</td>\n",
       "      <td>product_cart</td>\n",
       "      <td>0.00</td>\n",
       "      <td>2020-12-07</td>\n",
       "      <td>1</td>\n",
       "    </tr>\n",
       "    <tr>\n",
       "      <th>3</th>\n",
       "      <td>D1ABA3E2887B6A73</td>\n",
       "      <td>A</td>\n",
       "      <td>recommender_system_test</td>\n",
       "      <td>2020-12-07</td>\n",
       "      <td>EU</td>\n",
       "      <td>PC</td>\n",
       "      <td>2020-12-25 00:04:57</td>\n",
       "      <td>product_cart</td>\n",
       "      <td>0.00</td>\n",
       "      <td>2020-12-25</td>\n",
       "      <td>1</td>\n",
       "    </tr>\n",
       "    <tr>\n",
       "      <th>4</th>\n",
       "      <td>D1ABA3E2887B6A73</td>\n",
       "      <td>A</td>\n",
       "      <td>recommender_system_test</td>\n",
       "      <td>2020-12-07</td>\n",
       "      <td>EU</td>\n",
       "      <td>PC</td>\n",
       "      <td>2020-12-07 14:43:27</td>\n",
       "      <td>product_page</td>\n",
       "      <td>0.00</td>\n",
       "      <td>2020-12-07</td>\n",
       "      <td>1</td>\n",
       "    </tr>\n",
       "  </tbody>\n",
       "</table>\n",
       "</div>"
      ],
      "text/plain": [
       "            user_id group                  ab_test first_date region device  \\\n",
       "0  D1ABA3E2887B6A73     A  recommender_system_test 2020-12-07     EU     PC   \n",
       "1  D1ABA3E2887B6A73     A  recommender_system_test 2020-12-07     EU     PC   \n",
       "2  D1ABA3E2887B6A73     A  recommender_system_test 2020-12-07     EU     PC   \n",
       "3  D1ABA3E2887B6A73     A  recommender_system_test 2020-12-07     EU     PC   \n",
       "4  D1ABA3E2887B6A73     A  recommender_system_test 2020-12-07     EU     PC   \n",
       "\n",
       "             event_dt    event_name  details        date  number_of_tests  \n",
       "0 2020-12-07 14:43:27      purchase    99.99  2020-12-07                1  \n",
       "1 2020-12-25 00:04:56      purchase     4.99  2020-12-25                1  \n",
       "2 2020-12-07 14:43:29  product_cart     0.00  2020-12-07                1  \n",
       "3 2020-12-25 00:04:57  product_cart     0.00  2020-12-25                1  \n",
       "4 2020-12-07 14:43:27  product_page     0.00  2020-12-07                1  "
      ]
     },
     "execution_count": 131,
     "metadata": {},
     "output_type": "execute_result"
    }
   ],
   "source": [
    "# присоеденим данные по количеству тестов к основному датасету\n",
    "rs = rs.merge(cross, on='user_id')\n",
    "rs.head()"
   ]
  },
  {
   "cell_type": "code",
   "execution_count": 132,
   "metadata": {},
   "outputs": [
    {
     "data": {
      "text/plain": [
       "3481"
      ]
     },
     "execution_count": 132,
     "metadata": {},
     "output_type": "execute_result"
    }
   ],
   "source": [
    "rs['user_id'].nunique()"
   ]
  },
  {
   "cell_type": "code",
   "execution_count": 133,
   "metadata": {},
   "outputs": [
    {
     "data": {
      "text/plain": [
       "887"
      ]
     },
     "execution_count": 133,
     "metadata": {},
     "output_type": "execute_result"
    }
   ],
   "source": [
    "rs[rs['number_of_tests'] ==  2]['user_id'].nunique()"
   ]
  },
  {
   "cell_type": "markdown",
   "metadata": {},
   "source": [
    "Из 3481 пользователей - 887 участвовало сразу в двух тестах одновременно. Нам не известно, как влиял на пользователей второй тест и влиял ли вообще, поэтому данные не исключаем."
   ]
  },
  {
   "cell_type": "markdown",
   "metadata": {},
   "source": [
    "Посмотрим на пересечения пользователей по группам, есть ли пользователи, которые попали в группу А и B одновременно."
   ]
  },
  {
   "cell_type": "code",
   "execution_count": 134,
   "metadata": {},
   "outputs": [
    {
     "name": "stdout",
     "output_type": "stream",
     "text": [
      "Всего уникальных пользователей группы А: 2604\n",
      "Всего уникальных пользователей группы B: 877\n",
      "Пересечения между пользователями групп А и В: 0\n"
     ]
    }
   ],
   "source": [
    "a = rs.query('group == \"A\"')['user_id']\n",
    "b = rs.query('group == \"B\"')['user_id']\n",
    "print ('Всего уникальных пользователей группы А:', a.nunique())\n",
    "print ('Всего уникальных пользователей группы B:', b.nunique())\n",
    "print('Пересечения между пользователями групп А и В:', len(np.intersect1d(a, b)))"
   ]
  },
  {
   "cell_type": "markdown",
   "metadata": {},
   "source": [
    "Пересечений между группами не найдено, пользователи распределены неравномерно по группам. Количество уникальных пользователей в группе А значительно превышает количество пользователей в группе В."
   ]
  },
  {
   "cell_type": "markdown",
   "metadata": {},
   "source": [
    "## Исследовательский анализ данных."
   ]
  },
  {
   "cell_type": "markdown",
   "metadata": {},
   "source": [
    "Проверим как распределено количество событий на пользователях в выборке."
   ]
  },
  {
   "cell_type": "code",
   "execution_count": 135,
   "metadata": {},
   "outputs": [
    {
     "data": {
      "text/plain": [
       "7"
      ]
     },
     "execution_count": 135,
     "metadata": {},
     "output_type": "execute_result"
    }
   ],
   "source": [
    "# среднее количество событий на пользователя в группе А\n",
    "a  = rs.query('group == \"A\"')\n",
    "round(len(a) / a['user_id'].nunique())"
   ]
  },
  {
   "cell_type": "code",
   "execution_count": 153,
   "metadata": {},
   "outputs": [
    {
     "data": {
      "text/plain": [
       "6"
      ]
     },
     "execution_count": 153,
     "metadata": {},
     "output_type": "execute_result"
    }
   ],
   "source": [
    "# среднее количество событий на пользователя в группе B\n",
    "b  = rs.query('group == \"B\"')\n",
    "round(len(b) / b['user_id'].nunique())"
   ]
  },
  {
   "cell_type": "markdown",
   "metadata": {},
   "source": [
    "Как число событий в выборках распределено по дням?"
   ]
  },
  {
   "cell_type": "code",
   "execution_count": 137,
   "metadata": {},
   "outputs": [
    {
     "data": {
      "image/png": "[encoded data removed]",
      "text/plain": [
       "<Figure size 1008x360 with 1 Axes>"
      ]
     },
     "metadata": {
      "needs_background": "light"
     },
     "output_type": "display_data"
    }
   ],
   "source": [
    "rs['event_dt'].dt.date\n",
    "plt.figure(figsize=(14,5))\n",
    "sns.histplot(x=rs['event_dt'], hue='group', data=rs)\n",
    "plt.title ('Распределение событий по дням')\n",
    "plt.xlabel ('Дата')\n",
    "plt.ylabel ('Количество событий')\n",
    "plt.show()"
   ]
  },
  {
   "cell_type": "code",
   "execution_count": 151,
   "metadata": {},
   "outputs": [
    {
     "data": {
      "text/html": [
       "<div>\n",
       "<style scoped>\n",
       "    .dataframe tbody tr th:only-of-type {\n",
       "        vertical-align: middle;\n",
       "    }\n",
       "\n",
       "    .dataframe tbody tr th {\n",
       "        vertical-align: top;\n",
       "    }\n",
       "\n",
       "    .dataframe thead th {\n",
       "        text-align: right;\n",
       "    }\n",
       "</style>\n",
       "<table border=\"1\" class=\"dataframe\">\n",
       "  <thead>\n",
       "    <tr style=\"text-align: right;\">\n",
       "      <th></th>\n",
       "      <th>user_id</th>\n",
       "      <th>cnt_events</th>\n",
       "    </tr>\n",
       "  </thead>\n",
       "  <tbody>\n",
       "    <tr>\n",
       "      <th>0</th>\n",
       "      <td>0010A1C096941592</td>\n",
       "      <td>12</td>\n",
       "    </tr>\n",
       "    <tr>\n",
       "      <th>1</th>\n",
       "      <td>00341D8401F0F665</td>\n",
       "      <td>2</td>\n",
       "    </tr>\n",
       "    <tr>\n",
       "      <th>2</th>\n",
       "      <td>003DF44D7589BBD4</td>\n",
       "      <td>15</td>\n",
       "    </tr>\n",
       "    <tr>\n",
       "      <th>3</th>\n",
       "      <td>00505E15A9D81546</td>\n",
       "      <td>5</td>\n",
       "    </tr>\n",
       "    <tr>\n",
       "      <th>4</th>\n",
       "      <td>006E3E4E232CE760</td>\n",
       "      <td>6</td>\n",
       "    </tr>\n",
       "  </tbody>\n",
       "</table>\n",
       "</div>"
      ],
      "text/plain": [
       "            user_id  cnt_events\n",
       "0  0010A1C096941592          12\n",
       "1  00341D8401F0F665           2\n",
       "2  003DF44D7589BBD4          15\n",
       "3  00505E15A9D81546           5\n",
       "4  006E3E4E232CE760           6"
      ]
     },
     "execution_count": 151,
     "metadata": {},
     "output_type": "execute_result"
    }
   ],
   "source": [
    "a = a.groupby('user_id').agg({'event_name':'count'}).reset_index().rename(columns={'event_name':'cnt_events'})\n",
    "a.head()"
   ]
  },
  {
   "cell_type": "code",
   "execution_count": 154,
   "metadata": {},
   "outputs": [
    {
     "data": {
      "text/html": [
       "<div>\n",
       "<style scoped>\n",
       "    .dataframe tbody tr th:only-of-type {\n",
       "        vertical-align: middle;\n",
       "    }\n",
       "\n",
       "    .dataframe tbody tr th {\n",
       "        vertical-align: top;\n",
       "    }\n",
       "\n",
       "    .dataframe thead th {\n",
       "        text-align: right;\n",
       "    }\n",
       "</style>\n",
       "<table border=\"1\" class=\"dataframe\">\n",
       "  <thead>\n",
       "    <tr style=\"text-align: right;\">\n",
       "      <th></th>\n",
       "      <th>user_id</th>\n",
       "      <th>cnt_events</th>\n",
       "    </tr>\n",
       "  </thead>\n",
       "  <tbody>\n",
       "    <tr>\n",
       "      <th>0</th>\n",
       "      <td>001064FEAAB631A1</td>\n",
       "      <td>6</td>\n",
       "    </tr>\n",
       "    <tr>\n",
       "      <th>1</th>\n",
       "      <td>005E096DBD379BCF</td>\n",
       "      <td>4</td>\n",
       "    </tr>\n",
       "    <tr>\n",
       "      <th>2</th>\n",
       "      <td>015D1E3BB893349D</td>\n",
       "      <td>6</td>\n",
       "    </tr>\n",
       "    <tr>\n",
       "      <th>3</th>\n",
       "      <td>015FF3EC72C1F4F6</td>\n",
       "      <td>2</td>\n",
       "    </tr>\n",
       "    <tr>\n",
       "      <th>4</th>\n",
       "      <td>01B0B891CA513468</td>\n",
       "      <td>12</td>\n",
       "    </tr>\n",
       "  </tbody>\n",
       "</table>\n",
       "</div>"
      ],
      "text/plain": [
       "            user_id  cnt_events\n",
       "0  001064FEAAB631A1           6\n",
       "1  005E096DBD379BCF           4\n",
       "2  015D1E3BB893349D           6\n",
       "3  015FF3EC72C1F4F6           2\n",
       "4  01B0B891CA513468          12"
      ]
     },
     "execution_count": 154,
     "metadata": {},
     "output_type": "execute_result"
    }
   ],
   "source": [
    "b = b.groupby('user_id').agg({'event_name':'count'}).reset_index().rename(columns={'event_name':'cnt_events'})\n",
    "b.head()"
   ]
  },
  {
   "cell_type": "code",
   "execution_count": 201,
   "metadata": {},
   "outputs": [
    {
     "data": {
      "image/png": "[encoded data removed]",
      "text/plain": [
       "<Figure size 1152x360 with 2 Axes>"
      ]
     },
     "metadata": {
      "needs_background": "light"
     },
     "output_type": "display_data"
    }
   ],
   "source": [
    "fig, axs = plt.subplots(1, 2, figsize=(16, 5))\n",
    "\n",
    "axs[0].hist(data = a, x ='cnt_events', color='#1E90FF', bins=25)\n",
    "axs[0].set_title('Распределение количества событий на пользователя в группе А')\n",
    "axs[1].hist(data = b, x ='cnt_events',  color='#7B68EE')\n",
    "axs[1].set_title('Распределение количества событий на пользователя в группе B')\n",
    "plt.show()"
   ]
  },
  {
   "cell_type": "markdown",
   "metadata": {},
   "source": [
    "Количество событий на пользователя в выборках распределены неравномерно."
   ]
  },
  {
   "cell_type": "markdown",
   "metadata": {},
   "source": [
    "Как меняется конверсия в воронке в выборках на разных этапах?"
   ]
  },
  {
   "cell_type": "code",
   "execution_count": 138,
   "metadata": {},
   "outputs": [
    {
     "data": {
      "text/html": [
       "<div>\n",
       "<style scoped>\n",
       "    .dataframe tbody tr th:only-of-type {\n",
       "        vertical-align: middle;\n",
       "    }\n",
       "\n",
       "    .dataframe tbody tr th {\n",
       "        vertical-align: top;\n",
       "    }\n",
       "\n",
       "    .dataframe thead th {\n",
       "        text-align: right;\n",
       "    }\n",
       "</style>\n",
       "<table border=\"1\" class=\"dataframe\">\n",
       "  <thead>\n",
       "    <tr style=\"text-align: right;\">\n",
       "      <th>group</th>\n",
       "      <th>A</th>\n",
       "      <th>B</th>\n",
       "      <th>total</th>\n",
       "    </tr>\n",
       "    <tr>\n",
       "      <th>event_name</th>\n",
       "      <th></th>\n",
       "      <th></th>\n",
       "      <th></th>\n",
       "    </tr>\n",
       "  </thead>\n",
       "  <tbody>\n",
       "    <tr>\n",
       "      <th>login</th>\n",
       "      <td>2604</td>\n",
       "      <td>877</td>\n",
       "      <td>3481</td>\n",
       "    </tr>\n",
       "    <tr>\n",
       "      <th>product_page</th>\n",
       "      <td>1685</td>\n",
       "      <td>493</td>\n",
       "      <td>2178</td>\n",
       "    </tr>\n",
       "    <tr>\n",
       "      <th>product_cart</th>\n",
       "      <td>782</td>\n",
       "      <td>244</td>\n",
       "      <td>1026</td>\n",
       "    </tr>\n",
       "    <tr>\n",
       "      <th>purchase</th>\n",
       "      <td>833</td>\n",
       "      <td>249</td>\n",
       "      <td>1082</td>\n",
       "    </tr>\n",
       "  </tbody>\n",
       "</table>\n",
       "</div>"
      ],
      "text/plain": [
       "group            A    B  total\n",
       "event_name                    \n",
       "login         2604  877   3481\n",
       "product_page  1685  493   2178\n",
       "product_cart   782  244   1026\n",
       "purchase       833  249   1082"
      ]
     },
     "execution_count": 138,
     "metadata": {},
     "output_type": "execute_result"
    }
   ],
   "source": [
    "# создадим сводную таблицу с событиями по группам\n",
    "rs_events = rs.pivot_table(index='event_name', values='user_id', columns='group', aggfunc='nunique').reindex([\"login\", \"product_page\", \"product_cart\", \"purchase\"])\n",
    "                \n",
    "# добавим столбец с общим числом событий\n",
    "rs_events['total'] = rs_events.sum(axis=1)\n",
    "rs_events"
   ]
  },
  {
   "cell_type": "markdown",
   "metadata": {},
   "source": [
    "Всего 4 варианта событий:\n",
    "\n",
    "- login - регистрация пользователя\n",
    "- product_page - посещение страницы с товаром\n",
    "- product_cart - добавление товара в корзину\n",
    "- purchase - заказ\n",
    "\n",
    "Некоторые пользователи делают заказ, пропуская шаг \"добавление заказа в корзину\". На сайте можно купить товар сразу, не добавляя его в корзину."
   ]
  },
  {
   "cell_type": "code",
   "execution_count": 139,
   "metadata": {},
   "outputs": [
    {
     "data": {
      "application/vnd.plotly.v1+json": {
       "config": {
        "plotlyServerURL": "https://plot.ly"
       },
       "data": [
        {
         "name": "A",
         "orientation": "h",
         "textinfo": "value+percent previous",
         "type": "funnel",
         "x": [
          2604,
          1685,
          782,
          833
         ],
         "y": [
          "login",
          "product_page",
          "product_cart",
          "purchase"
         ]
        },
        {
         "name": "B",
         "orientation": "h",
         "textinfo": "value+percent previous",
         "type": "funnel",
         "x": [
          877,
          493,
          244,
          249
         ],
         "y": [
          "login",
          "product_page",
          "product_cart",
          "purchase"
         ]
        }
       ],
       "layout": {
        "autosize": true,
        "template": {
         "data": {
          "bar": [
           {
            "error_x": {
             "color": "#2a3f5f"
            },
            "error_y": {
             "color": "#2a3f5f"
            },
            "marker": {
             "line": {
              "color": "#E5ECF6",
              "width": 0.5
             },
             "pattern": {
              "fillmode": "overlay",
              "size": 10,
              "solidity": 0.2
             }
            },
            "type": "bar"
           }
          ],
          "barpolar": [
           {
            "marker": {
             "line": {
              "color": "#E5ECF6",
              "width": 0.5
             },
             "pattern": {
              "fillmode": "overlay",
              "size": 10,
              "solidity": 0.2
             }
            },
            "type": "barpolar"
           }
          ],
          "carpet": [
           {
            "aaxis": {
             "endlinecolor": "#2a3f5f",
             "gridcolor": "white",
             "linecolor": "white",
             "minorgridcolor": "white",
             "startlinecolor": "#2a3f5f"
            },
            "baxis": {
             "endlinecolor": "#2a3f5f",
             "gridcolor": "white",
             "linecolor": "white",
             "minorgridcolor": "white",
             "startlinecolor": "#2a3f5f"
            },
            "type": "carpet"
           }
          ],
          "choropleth": [
           {
            "colorbar": {
             "outlinewidth": 0,
             "ticks": ""
            },
            "type": "choropleth"
           }
          ],
          "contour": [
           {
            "colorbar": {
             "outlinewidth": 0,
             "ticks": ""
            },
            "colorscale": [
             [
              0,
              "#0d0887"
             ],
             [
              0.1111111111111111,
              "#46039f"
             ],
             [
              0.2222222222222222,
              "#7201a8"
             ],
             [
              0.3333333333333333,
              "#9c179e"
             ],
             [
              0.4444444444444444,
              "#bd3786"
             ],
             [
              0.5555555555555556,
              "#d8576b"
             ],
             [
              0.6666666666666666,
              "#ed7953"
             ],
             [
              0.7777777777777778,
              "#fb9f3a"
             ],
             [
              0.8888888888888888,
              "#fdca26"
             ],
             [
              1,
              "#f0f921"
             ]
            ],
            "type": "contour"
           }
          ],
          "contourcarpet": [
           {
            "colorbar": {
             "outlinewidth": 0,
             "ticks": ""
            },
            "type": "contourcarpet"
           }
          ],
          "heatmap": [
           {
            "colorbar": {
             "outlinewidth": 0,
             "ticks": ""
            },
            "colorscale": [
             [
              0,
              "#0d0887"
             ],
             [
              0.1111111111111111,
              "#46039f"
             ],
             [
              0.2222222222222222,
              "#7201a8"
             ],
             [
              0.3333333333333333,
              "#9c179e"
             ],
             [
              0.4444444444444444,
              "#bd3786"
             ],
             [
              0.5555555555555556,
              "#d8576b"
             ],
             [
              0.6666666666666666,
              "#ed7953"
             ],
             [
              0.7777777777777778,
              "#fb9f3a"
             ],
             [
              0.8888888888888888,
              "#fdca26"
             ],
             [
              1,
              "#f0f921"
             ]
            ],
            "type": "heatmap"
           }
          ],
          "heatmapgl": [
           {
            "colorbar": {
             "outlinewidth": 0,
             "ticks": ""
            },
            "colorscale": [
             [
              0,
              "#0d0887"
             ],
             [
              0.1111111111111111,
              "#46039f"
             ],
             [
              0.2222222222222222,
              "#7201a8"
             ],
             [
              0.3333333333333333,
              "#9c179e"
             ],
             [
              0.4444444444444444,
              "#bd3786"
             ],
             [
              0.5555555555555556,
              "#d8576b"
             ],
             [
              0.6666666666666666,
              "#ed7953"
             ],
             [
              0.7777777777777778,
              "#fb9f3a"
             ],
             [
              0.8888888888888888,
              "#fdca26"
             ],
             [
              1,
              "#f0f921"
             ]
            ],
            "type": "heatmapgl"
           }
          ],
          "histogram": [
           {
            "marker": {
             "pattern": {
              "fillmode": "overlay",
              "size": 10,
              "solidity": 0.2
             }
            },
            "type": "histogram"
           }
          ],
          "histogram2d": [
           {
            "colorbar": {
             "outlinewidth": 0,
             "ticks": ""
            },
            "colorscale": [
             [
              0,
              "#0d0887"
             ],
             [
              0.1111111111111111,
              "#46039f"
             ],
             [
              0.2222222222222222,
              "#7201a8"
             ],
             [
              0.3333333333333333,
              "#9c179e"
             ],
             [
              0.4444444444444444,
              "#bd3786"
             ],
             [
              0.5555555555555556,
              "#d8576b"
             ],
             [
              0.6666666666666666,
              "#ed7953"
             ],
             [
              0.7777777777777778,
              "#fb9f3a"
             ],
             [
              0.8888888888888888,
              "#fdca26"
             ],
             [
              1,
              "#f0f921"
             ]
            ],
            "type": "histogram2d"
           }
          ],
          "histogram2dcontour": [
           {
            "colorbar": {
             "outlinewidth": 0,
             "ticks": ""
            },
            "colorscale": [
             [
              0,
              "#0d0887"
             ],
             [
              0.1111111111111111,
              "#46039f"
             ],
             [
              0.2222222222222222,
              "#7201a8"
             ],
             [
              0.3333333333333333,
              "#9c179e"
             ],
             [
              0.4444444444444444,
              "#bd3786"
             ],
             [
              0.5555555555555556,
              "#d8576b"
             ],
             [
              0.6666666666666666,
              "#ed7953"
             ],
             [
              0.7777777777777778,
              "#fb9f3a"
             ],
             [
              0.8888888888888888,
              "#fdca26"
             ],
             [
              1,
              "#f0f921"
             ]
            ],
            "type": "histogram2dcontour"
           }
          ],
          "mesh3d": [
           {
            "colorbar": {
             "outlinewidth": 0,
             "ticks": ""
            },
            "type": "mesh3d"
           }
          ],
          "parcoords": [
           {
            "line": {
             "colorbar": {
              "outlinewidth": 0,
              "ticks": ""
             }
            },
            "type": "parcoords"
           }
          ],
          "pie": [
           {
            "automargin": true,
            "type": "pie"
           }
          ],
          "scatter": [
           {
            "marker": {
             "colorbar": {
              "outlinewidth": 0,
              "ticks": ""
             }
            },
            "type": "scatter"
           }
          ],
          "scatter3d": [
           {
            "line": {
             "colorbar": {
              "outlinewidth": 0,
              "ticks": ""
             }
            },
            "marker": {
             "colorbar": {
              "outlinewidth": 0,
              "ticks": ""
             }
            },
            "type": "scatter3d"
           }
          ],
          "scattercarpet": [
           {
            "marker": {
             "colorbar": {
              "outlinewidth": 0,
              "ticks": ""
             }
            },
            "type": "scattercarpet"
           }
          ],
          "scattergeo": [
           {
            "marker": {
             "colorbar": {
              "outlinewidth": 0,
              "ticks": ""
             }
            },
            "type": "scattergeo"
           }
          ],
          "scattergl": [
           {
            "marker": {
             "colorbar": {
              "outlinewidth": 0,
              "ticks": ""
             }
            },
            "type": "scattergl"
           }
          ],
          "scattermapbox": [
           {
            "marker": {
             "colorbar": {
              "outlinewidth": 0,
              "ticks": ""
             }
            },
            "type": "scattermapbox"
           }
          ],
          "scatterpolar": [
           {
            "marker": {
             "colorbar": {
              "outlinewidth": 0,
              "ticks": ""
             }
            },
            "type": "scatterpolar"
           }
          ],
          "scatterpolargl": [
           {
            "marker": {
             "colorbar": {
              "outlinewidth": 0,
              "ticks": ""
             }
            },
            "type": "scatterpolargl"
           }
          ],
          "scatterternary": [
           {
            "marker": {
             "colorbar": {
              "outlinewidth": 0,
              "ticks": ""
             }
            },
            "type": "scatterternary"
           }
          ],
          "surface": [
           {
            "colorbar": {
             "outlinewidth": 0,
             "ticks": ""
            },
            "colorscale": [
             [
              0,
              "#0d0887"
             ],
             [
              0.1111111111111111,
              "#46039f"
             ],
             [
              0.2222222222222222,
              "#7201a8"
             ],
             [
              0.3333333333333333,
              "#9c179e"
             ],
             [
              0.4444444444444444,
              "#bd3786"
             ],
             [
              0.5555555555555556,
              "#d8576b"
             ],
             [
              0.6666666666666666,
              "#ed7953"
             ],
             [
              0.7777777777777778,
              "#fb9f3a"
             ],
             [
              0.8888888888888888,
              "#fdca26"
             ],
             [
              1,
              "#f0f921"
             ]
            ],
            "type": "surface"
           }
          ],
          "table": [
           {
            "cells": {
             "fill": {
              "color": "#EBF0F8"
             },
             "line": {
              "color": "white"
             }
            },
            "header": {
             "fill": {
              "color": "#C8D4E3"
             },
             "line": {
              "color": "white"
             }
            },
            "type": "table"
           }
          ]
         },
         "layout": {
          "annotationdefaults": {
           "arrowcolor": "#2a3f5f",
           "arrowhead": 0,
           "arrowwidth": 1
          },
          "autotypenumbers": "strict",
          "coloraxis": {
           "colorbar": {
            "outlinewidth": 0,
            "ticks": ""
           }
          },
          "colorscale": {
           "diverging": [
            [
             0,
             "#8e0152"
            ],
            [
             0.1,
             "#c51b7d"
            ],
            [
             0.2,
             "#de77ae"
            ],
            [
             0.3,
             "#f1b6da"
            ],
            [
             0.4,
             "#fde0ef"
            ],
            [
             0.5,
             "#f7f7f7"
            ],
            [
             0.6,
             "#e6f5d0"
            ],
            [
             0.7,
             "#b8e186"
            ],
            [
             0.8,
             "#7fbc41"
            ],
            [
             0.9,
             "#4d9221"
            ],
            [
             1,
             "#276419"
            ]
           ],
           "sequential": [
            [
             0,
             "#0d0887"
            ],
            [
             0.1111111111111111,
             "#46039f"
            ],
            [
             0.2222222222222222,
             "#7201a8"
            ],
            [
             0.3333333333333333,
             "#9c179e"
            ],
            [
             0.4444444444444444,
             "#bd3786"
            ],
            [
             0.5555555555555556,
             "#d8576b"
            ],
            [
             0.6666666666666666,
             "#ed7953"
            ],
            [
             0.7777777777777778,
             "#fb9f3a"
            ],
            [
             0.8888888888888888,
             "#fdca26"
            ],
            [
             1,
             "#f0f921"
            ]
           ],
           "sequentialminus": [
            [
             0,
             "#0d0887"
            ],
            [
             0.1111111111111111,
             "#46039f"
            ],
            [
             0.2222222222222222,
             "#7201a8"
            ],
            [
             0.3333333333333333,
             "#9c179e"
            ],
            [
             0.4444444444444444,
             "#bd3786"
            ],
            [
             0.5555555555555556,
             "#d8576b"
            ],
            [
             0.6666666666666666,
             "#ed7953"
            ],
            [
             0.7777777777777778,
             "#fb9f3a"
            ],
            [
             0.8888888888888888,
             "#fdca26"
            ],
            [
             1,
             "#f0f921"
            ]
           ]
          },
          "colorway": [
           "#636efa",
           "#EF553B",
           "#00cc96",
           "#ab63fa",
           "#FFA15A",
           "#19d3f3",
           "#FF6692",
           "#B6E880",
           "#FF97FF",
           "#FECB52"
          ],
          "font": {
           "color": "#2a3f5f"
          },
          "geo": {
           "bgcolor": "white",
           "lakecolor": "white",
           "landcolor": "#E5ECF6",
           "showlakes": true,
           "showland": true,
           "subunitcolor": "white"
          },
          "hoverlabel": {
           "align": "left"
          },
          "hovermode": "closest",
          "mapbox": {
           "style": "light"
          },
          "paper_bgcolor": "white",
          "plot_bgcolor": "#E5ECF6",
          "polar": {
           "angularaxis": {
            "gridcolor": "white",
            "linecolor": "white",
            "ticks": ""
           },
           "bgcolor": "#E5ECF6",
           "radialaxis": {
            "gridcolor": "white",
            "linecolor": "white",
            "ticks": ""
           }
          },
          "scene": {
           "xaxis": {
            "backgroundcolor": "#E5ECF6",
            "gridcolor": "white",
            "gridwidth": 2,
            "linecolor": "white",
            "showbackground": true,
            "ticks": "",
            "zerolinecolor": "white"
           },
           "yaxis": {
            "backgroundcolor": "#E5ECF6",
            "gridcolor": "white",
            "gridwidth": 2,
            "linecolor": "white",
            "showbackground": true,
            "ticks": "",
            "zerolinecolor": "white"
           },
           "zaxis": {
            "backgroundcolor": "#E5ECF6",
            "gridcolor": "white",
            "gridwidth": 2,
            "linecolor": "white",
            "showbackground": true,
            "ticks": "",
            "zerolinecolor": "white"
           }
          },
          "shapedefaults": {
           "line": {
            "color": "#2a3f5f"
           }
          },
          "ternary": {
           "aaxis": {
            "gridcolor": "white",
            "linecolor": "white",
            "ticks": ""
           },
           "baxis": {
            "gridcolor": "white",
            "linecolor": "white",
            "ticks": ""
           },
           "bgcolor": "#E5ECF6",
           "caxis": {
            "gridcolor": "white",
            "linecolor": "white",
            "ticks": ""
           }
          },
          "title": {
           "x": 0.05
          },
          "xaxis": {
           "automargin": true,
           "gridcolor": "white",
           "linecolor": "white",
           "ticks": "",
           "title": {
            "standoff": 15
           },
           "zerolinecolor": "white",
           "zerolinewidth": 2
          },
          "yaxis": {
           "automargin": true,
           "gridcolor": "white",
           "linecolor": "white",
           "ticks": "",
           "title": {
            "standoff": 15
           },
           "zerolinecolor": "white",
           "zerolinewidth": 2
          }
         }
        },
        "title": {
         "text": "Продуктовая воронка с конверсией к предыдущему шагу"
        }
       }
      },
      "text/html": [
       "<div>                            <div id=\"7a21e80b-9d1f-43a2-a56c-cd55813e8391\" class=\"plotly-graph-div\" style=\"height:525px; width:100%;\"></div>            <script type=\"text/javascript\">                require([\"plotly\"], function(Plotly) {                    window.PLOTLYENV=window.PLOTLYENV || {};                                    if (document.getElementById(\"7a21e80b-9d1f-43a2-a56c-cd55813e8391\")) {                    Plotly.newPlot(                        \"7a21e80b-9d1f-43a2-a56c-cd55813e8391\",                        [{\"name\":\"A\",\"orientation\":\"h\",\"textinfo\":\"value+percent previous\",\"x\":[2604,1685,782,833],\"y\":[\"login\",\"product_page\",\"product_cart\",\"purchase\"],\"type\":\"funnel\"},{\"name\":\"B\",\"orientation\":\"h\",\"textinfo\":\"value+percent previous\",\"x\":[877,493,244,249],\"y\":[\"login\",\"product_page\",\"product_cart\",\"purchase\"],\"type\":\"funnel\"}],                        {\"template\":{\"data\":{\"bar\":[{\"error_x\":{\"color\":\"#2a3f5f\"},\"error_y\":{\"color\":\"#2a3f5f\"},\"marker\":{\"line\":{\"color\":\"#E5ECF6\",\"width\":0.5},\"pattern\":{\"fillmode\":\"overlay\",\"size\":10,\"solidity\":0.2}},\"type\":\"bar\"}],\"barpolar\":[{\"marker\":{\"line\":{\"color\":\"#E5ECF6\",\"width\":0.5},\"pattern\":{\"fillmode\":\"overlay\",\"size\":10,\"solidity\":0.2}},\"type\":\"barpolar\"}],\"carpet\":[{\"aaxis\":{\"endlinecolor\":\"#2a3f5f\",\"gridcolor\":\"white\",\"linecolor\":\"white\",\"minorgridcolor\":\"white\",\"startlinecolor\":\"#2a3f5f\"},\"baxis\":{\"endlinecolor\":\"#2a3f5f\",\"gridcolor\":\"white\",\"linecolor\":\"white\",\"minorgridcolor\":\"white\",\"startlinecolor\":\"#2a3f5f\"},\"type\":\"carpet\"}],\"choropleth\":[{\"colorbar\":{\"outlinewidth\":0,\"ticks\":\"\"},\"type\":\"choropleth\"}],\"contour\":[{\"colorbar\":{\"outlinewidth\":0,\"ticks\":\"\"},\"colorscale\":[[0.0,\"#0d0887\"],[0.1111111111111111,\"#46039f\"],[0.2222222222222222,\"#7201a8\"],[0.3333333333333333,\"#9c179e\"],[0.4444444444444444,\"#bd3786\"],[0.5555555555555556,\"#d8576b\"],[0.6666666666666666,\"#ed7953\"],[0.7777777777777778,\"#fb9f3a\"],[0.8888888888888888,\"#fdca26\"],[1.0,\"#f0f921\"]],\"type\":\"contour\"}],\"contourcarpet\":[{\"colorbar\":{\"outlinewidth\":0,\"ticks\":\"\"},\"type\":\"contourcarpet\"}],\"heatmap\":[{\"colorbar\":{\"outlinewidth\":0,\"ticks\":\"\"},\"colorscale\":[[0.0,\"#0d0887\"],[0.1111111111111111,\"#46039f\"],[0.2222222222222222,\"#7201a8\"],[0.3333333333333333,\"#9c179e\"],[0.4444444444444444,\"#bd3786\"],[0.5555555555555556,\"#d8576b\"],[0.6666666666666666,\"#ed7953\"],[0.7777777777777778,\"#fb9f3a\"],[0.8888888888888888,\"#fdca26\"],[1.0,\"#f0f921\"]],\"type\":\"heatmap\"}],\"heatmapgl\":[{\"colorbar\":{\"outlinewidth\":0,\"ticks\":\"\"},\"colorscale\":[[0.0,\"#0d0887\"],[0.1111111111111111,\"#46039f\"],[0.2222222222222222,\"#7201a8\"],[0.3333333333333333,\"#9c179e\"],[0.4444444444444444,\"#bd3786\"],[0.5555555555555556,\"#d8576b\"],[0.6666666666666666,\"#ed7953\"],[0.7777777777777778,\"#fb9f3a\"],[0.8888888888888888,\"#fdca26\"],[1.0,\"#f0f921\"]],\"type\":\"heatmapgl\"}],\"histogram\":[{\"marker\":{\"pattern\":{\"fillmode\":\"overlay\",\"size\":10,\"solidity\":0.2}},\"type\":\"histogram\"}],\"histogram2d\":[{\"colorbar\":{\"outlinewidth\":0,\"ticks\":\"\"},\"colorscale\":[[0.0,\"#0d0887\"],[0.1111111111111111,\"#46039f\"],[0.2222222222222222,\"#7201a8\"],[0.3333333333333333,\"#9c179e\"],[0.4444444444444444,\"#bd3786\"],[0.5555555555555556,\"#d8576b\"],[0.6666666666666666,\"#ed7953\"],[0.7777777777777778,\"#fb9f3a\"],[0.8888888888888888,\"#fdca26\"],[1.0,\"#f0f921\"]],\"type\":\"histogram2d\"}],\"histogram2dcontour\":[{\"colorbar\":{\"outlinewidth\":0,\"ticks\":\"\"},\"colorscale\":[[0.0,\"#0d0887\"],[0.1111111111111111,\"#46039f\"],[0.2222222222222222,\"#7201a8\"],[0.3333333333333333,\"#9c179e\"],[0.4444444444444444,\"#bd3786\"],[0.5555555555555556,\"#d8576b\"],[0.6666666666666666,\"#ed7953\"],[0.7777777777777778,\"#fb9f3a\"],[0.8888888888888888,\"#fdca26\"],[1.0,\"#f0f921\"]],\"type\":\"histogram2dcontour\"}],\"mesh3d\":[{\"colorbar\":{\"outlinewidth\":0,\"ticks\":\"\"},\"type\":\"mesh3d\"}],\"parcoords\":[{\"line\":{\"colorbar\":{\"outlinewidth\":0,\"ticks\":\"\"}},\"type\":\"parcoords\"}],\"pie\":[{\"automargin\":true,\"type\":\"pie\"}],\"scatter\":[{\"marker\":{\"colorbar\":{\"outlinewidth\":0,\"ticks\":\"\"}},\"type\":\"scatter\"}],\"scatter3d\":[{\"line\":{\"colorbar\":{\"outlinewidth\":0,\"ticks\":\"\"}},\"marker\":{\"colorbar\":{\"outlinewidth\":0,\"ticks\":\"\"}},\"type\":\"scatter3d\"}],\"scattercarpet\":[{\"marker\":{\"colorbar\":{\"outlinewidth\":0,\"ticks\":\"\"}},\"type\":\"scattercarpet\"}],\"scattergeo\":[{\"marker\":{\"colorbar\":{\"outlinewidth\":0,\"ticks\":\"\"}},\"type\":\"scattergeo\"}],\"scattergl\":[{\"marker\":{\"colorbar\":{\"outlinewidth\":0,\"ticks\":\"\"}},\"type\":\"scattergl\"}],\"scattermapbox\":[{\"marker\":{\"colorbar\":{\"outlinewidth\":0,\"ticks\":\"\"}},\"type\":\"scattermapbox\"}],\"scatterpolar\":[{\"marker\":{\"colorbar\":{\"outlinewidth\":0,\"ticks\":\"\"}},\"type\":\"scatterpolar\"}],\"scatterpolargl\":[{\"marker\":{\"colorbar\":{\"outlinewidth\":0,\"ticks\":\"\"}},\"type\":\"scatterpolargl\"}],\"scatterternary\":[{\"marker\":{\"colorbar\":{\"outlinewidth\":0,\"ticks\":\"\"}},\"type\":\"scatterternary\"}],\"surface\":[{\"colorbar\":{\"outlinewidth\":0,\"ticks\":\"\"},\"colorscale\":[[0.0,\"#0d0887\"],[0.1111111111111111,\"#46039f\"],[0.2222222222222222,\"#7201a8\"],[0.3333333333333333,\"#9c179e\"],[0.4444444444444444,\"#bd3786\"],[0.5555555555555556,\"#d8576b\"],[0.6666666666666666,\"#ed7953\"],[0.7777777777777778,\"#fb9f3a\"],[0.8888888888888888,\"#fdca26\"],[1.0,\"#f0f921\"]],\"type\":\"surface\"}],\"table\":[{\"cells\":{\"fill\":{\"color\":\"#EBF0F8\"},\"line\":{\"color\":\"white\"}},\"header\":{\"fill\":{\"color\":\"#C8D4E3\"},\"line\":{\"color\":\"white\"}},\"type\":\"table\"}]},\"layout\":{\"annotationdefaults\":{\"arrowcolor\":\"#2a3f5f\",\"arrowhead\":0,\"arrowwidth\":1},\"autotypenumbers\":\"strict\",\"coloraxis\":{\"colorbar\":{\"outlinewidth\":0,\"ticks\":\"\"}},\"colorscale\":{\"diverging\":[[0,\"#8e0152\"],[0.1,\"#c51b7d\"],[0.2,\"#de77ae\"],[0.3,\"#f1b6da\"],[0.4,\"#fde0ef\"],[0.5,\"#f7f7f7\"],[0.6,\"#e6f5d0\"],[0.7,\"#b8e186\"],[0.8,\"#7fbc41\"],[0.9,\"#4d9221\"],[1,\"#276419\"]],\"sequential\":[[0.0,\"#0d0887\"],[0.1111111111111111,\"#46039f\"],[0.2222222222222222,\"#7201a8\"],[0.3333333333333333,\"#9c179e\"],[0.4444444444444444,\"#bd3786\"],[0.5555555555555556,\"#d8576b\"],[0.6666666666666666,\"#ed7953\"],[0.7777777777777778,\"#fb9f3a\"],[0.8888888888888888,\"#fdca26\"],[1.0,\"#f0f921\"]],\"sequentialminus\":[[0.0,\"#0d0887\"],[0.1111111111111111,\"#46039f\"],[0.2222222222222222,\"#7201a8\"],[0.3333333333333333,\"#9c179e\"],[0.4444444444444444,\"#bd3786\"],[0.5555555555555556,\"#d8576b\"],[0.6666666666666666,\"#ed7953\"],[0.7777777777777778,\"#fb9f3a\"],[0.8888888888888888,\"#fdca26\"],[1.0,\"#f0f921\"]]},\"colorway\":[\"#636efa\",\"#EF553B\",\"#00cc96\",\"#ab63fa\",\"#FFA15A\",\"#19d3f3\",\"#FF6692\",\"#B6E880\",\"#FF97FF\",\"#FECB52\"],\"font\":{\"color\":\"#2a3f5f\"},\"geo\":{\"bgcolor\":\"white\",\"lakecolor\":\"white\",\"landcolor\":\"#E5ECF6\",\"showlakes\":true,\"showland\":true,\"subunitcolor\":\"white\"},\"hoverlabel\":{\"align\":\"left\"},\"hovermode\":\"closest\",\"mapbox\":{\"style\":\"light\"},\"paper_bgcolor\":\"white\",\"plot_bgcolor\":\"#E5ECF6\",\"polar\":{\"angularaxis\":{\"gridcolor\":\"white\",\"linecolor\":\"white\",\"ticks\":\"\"},\"bgcolor\":\"#E5ECF6\",\"radialaxis\":{\"gridcolor\":\"white\",\"linecolor\":\"white\",\"ticks\":\"\"}},\"scene\":{\"xaxis\":{\"backgroundcolor\":\"#E5ECF6\",\"gridcolor\":\"white\",\"gridwidth\":2,\"linecolor\":\"white\",\"showbackground\":true,\"ticks\":\"\",\"zerolinecolor\":\"white\"},\"yaxis\":{\"backgroundcolor\":\"#E5ECF6\",\"gridcolor\":\"white\",\"gridwidth\":2,\"linecolor\":\"white\",\"showbackground\":true,\"ticks\":\"\",\"zerolinecolor\":\"white\"},\"zaxis\":{\"backgroundcolor\":\"#E5ECF6\",\"gridcolor\":\"white\",\"gridwidth\":2,\"linecolor\":\"white\",\"showbackground\":true,\"ticks\":\"\",\"zerolinecolor\":\"white\"}},\"shapedefaults\":{\"line\":{\"color\":\"#2a3f5f\"}},\"ternary\":{\"aaxis\":{\"gridcolor\":\"white\",\"linecolor\":\"white\",\"ticks\":\"\"},\"baxis\":{\"gridcolor\":\"white\",\"linecolor\":\"white\",\"ticks\":\"\"},\"bgcolor\":\"#E5ECF6\",\"caxis\":{\"gridcolor\":\"white\",\"linecolor\":\"white\",\"ticks\":\"\"}},\"title\":{\"x\":0.05},\"xaxis\":{\"automargin\":true,\"gridcolor\":\"white\",\"linecolor\":\"white\",\"ticks\":\"\",\"title\":{\"standoff\":15},\"zerolinecolor\":\"white\",\"zerolinewidth\":2},\"yaxis\":{\"automargin\":true,\"gridcolor\":\"white\",\"linecolor\":\"white\",\"ticks\":\"\",\"title\":{\"standoff\":15},\"zerolinecolor\":\"white\",\"zerolinewidth\":2}}},\"title\":{\"text\":\"\\u041f\\u0440\\u043e\\u0434\\u0443\\u043a\\u0442\\u043e\\u0432\\u0430\\u044f \\u0432\\u043e\\u0440\\u043e\\u043d\\u043a\\u0430 \\u0441 \\u043a\\u043e\\u043d\\u0432\\u0435\\u0440\\u0441\\u0438\\u0435\\u0439 \\u043a \\u043f\\u0440\\u0435\\u0434\\u044b\\u0434\\u0443\\u0449\\u0435\\u043c\\u0443 \\u0448\\u0430\\u0433\\u0443\"},\"autosize\":true},                        {\"responsive\": true}                    ).then(function(){\n",
       "                            \n",
       "var gd = document.getElementById('7a21e80b-9d1f-43a2-a56c-cd55813e8391');\n",
       "var x = new MutationObserver(function (mutations, observer) {{\n",
       "        var display = window.getComputedStyle(gd).display;\n",
       "        if (!display || display === 'none') {{\n",
       "            console.log([gd, 'removed!']);\n",
       "            Plotly.purge(gd);\n",
       "            observer.disconnect();\n",
       "        }}\n",
       "}});\n",
       "\n",
       "// Listen for the removal of the full notebook cells\n",
       "var notebookContainer = gd.closest('#notebook-container');\n",
       "if (notebookContainer) {{\n",
       "    x.observe(notebookContainer, {childList: true});\n",
       "}}\n",
       "\n",
       "// Listen for the clearing of the current output cell\n",
       "var outputEl = gd.closest('.output');\n",
       "if (outputEl) {{\n",
       "    x.observe(outputEl, {childList: true});\n",
       "}}\n",
       "\n",
       "                        })                };                });            </script>        </div>"
      ]
     },
     "metadata": {},
     "output_type": "display_data"
    }
   ],
   "source": [
    "# порядок событий продуктовой воронки\n",
    "order = ['login', 'product_page','product_cart', 'purchase']\n",
    "# построим график продуктовой воронки с разделением по группам\n",
    "\n",
    "fig = go.Figure()\n",
    "\n",
    "for group in rs_events.iloc[:, :2].iteritems():\n",
    "    fig.add_trace(go.Funnel(\n",
    "        name = group[0],\n",
    "        orientation = \"h\",\n",
    "        y = order,\n",
    "        x = group[1],\n",
    "        textinfo = \"value + percent previous\",\n",
    "\n",
    "    ))\n",
    "    \n",
    "fig.update_layout(\n",
    "    title = 'Продуктовая воронка с конверсией к предыдущему шагу',\n",
    "    autosize=True,\n",
    ")\n",
    "\n",
    "fig.show()"
   ]
  },
  {
   "cell_type": "markdown",
   "metadata": {},
   "source": [
    "Исходя из построенной воронки мы определили, что по группам А и В:\n",
    "\n",
    "- В страницу товаров перешли 1685 / 493 клиентов соответственно\n",
    "- В корзине оказались 782 / 244 пользователей\n",
    "- Оплатили 833/ 249 - оплат больше, чем переходов в корзину\n",
    "- Покупку совершили 32% в группе А и 28% в группе В"
   ]
  },
  {
   "cell_type": "markdown",
   "metadata": {},
   "source": [
    "Какие особенности данных нужно учесть, прежде чем приступать к A/B-тестированию?"
   ]
  },
  {
   "cell_type": "markdown",
   "metadata": {},
   "source": [
    "- Количество новых пользователей, которые участвуют в тесте,  меньше чем предполагалось 3481 вместо 6000\n",
    "- Неравномерное распределение по группам: A - 2604, B - 877\n",
    "- Неравномерное распределение количества событий на пользователя. \n",
    "- Влияние маркетинговых мероприятий\n",
    "- Пересечение с другим тестом."
   ]
  },
  {
   "cell_type": "markdown",
   "metadata": {},
   "source": [
    "## Оценка результатов A/B-тестирования.\n",
    "\n",
    "### Проверка статистической разницы долей z-критерием."
   ]
  },
  {
   "cell_type": "markdown",
   "metadata": {},
   "source": [
    "Проверим гипотезы равенства долей конверсии между группами A и B."
   ]
  },
  {
   "cell_type": "markdown",
   "metadata": {},
   "source": [
    "Сформулируем гипотезы:"
   ]
  },
  {
   "cell_type": "markdown",
   "metadata": {},
   "source": [
    "- Нулевая гипотеза, H0: статистически значимых различий нет, доли одинаковые.\n",
    "- Альтернативная гипотеза H1: статистически значимые различия есть, доли разные."
   ]
  },
  {
   "cell_type": "markdown",
   "metadata": {},
   "source": [
    "Пороговое значение alpha 0.05\n",
    "\n"
   ]
  },
  {
   "cell_type": "markdown",
   "metadata": {},
   "source": [
    "Воспользуемся Z-критерием.\n"
   ]
  },
  {
   "cell_type": "code",
   "execution_count": 140,
   "metadata": {},
   "outputs": [
    {
     "data": {
      "text/html": [
       "<div>\n",
       "<style scoped>\n",
       "    .dataframe tbody tr th:only-of-type {\n",
       "        vertical-align: middle;\n",
       "    }\n",
       "\n",
       "    .dataframe tbody tr th {\n",
       "        vertical-align: top;\n",
       "    }\n",
       "\n",
       "    .dataframe thead th {\n",
       "        text-align: right;\n",
       "    }\n",
       "</style>\n",
       "<table border=\"1\" class=\"dataframe\">\n",
       "  <thead>\n",
       "    <tr style=\"text-align: right;\">\n",
       "      <th>group</th>\n",
       "      <th>A</th>\n",
       "      <th>B</th>\n",
       "    </tr>\n",
       "  </thead>\n",
       "  <tbody>\n",
       "    <tr>\n",
       "      <th>0</th>\n",
       "      <td>2604</td>\n",
       "      <td>877</td>\n",
       "    </tr>\n",
       "    <tr>\n",
       "      <th>1</th>\n",
       "      <td>1685</td>\n",
       "      <td>493</td>\n",
       "    </tr>\n",
       "    <tr>\n",
       "      <th>2</th>\n",
       "      <td>782</td>\n",
       "      <td>244</td>\n",
       "    </tr>\n",
       "    <tr>\n",
       "      <th>3</th>\n",
       "      <td>833</td>\n",
       "      <td>249</td>\n",
       "    </tr>\n",
       "  </tbody>\n",
       "</table>\n",
       "</div>"
      ],
      "text/plain": [
       "group     A    B\n",
       "0      2604  877\n",
       "1      1685  493\n",
       "2       782  244\n",
       "3       833  249"
      ]
     },
     "execution_count": 140,
     "metadata": {},
     "output_type": "execute_result"
    }
   ],
   "source": [
    "rs_events = rs_events.reset_index()\n",
    "rs_events = rs_events[['A', 'B']]\n",
    "rs_events"
   ]
  },
  {
   "cell_type": "code",
   "execution_count": 141,
   "metadata": {},
   "outputs": [
    {
     "data": {
      "text/html": [
       "<div>\n",
       "<style scoped>\n",
       "    .dataframe tbody tr th:only-of-type {\n",
       "        vertical-align: middle;\n",
       "    }\n",
       "\n",
       "    .dataframe tbody tr th {\n",
       "        vertical-align: top;\n",
       "    }\n",
       "\n",
       "    .dataframe thead th {\n",
       "        text-align: right;\n",
       "    }\n",
       "</style>\n",
       "<table border=\"1\" class=\"dataframe\">\n",
       "  <thead>\n",
       "    <tr style=\"text-align: right;\">\n",
       "      <th></th>\n",
       "      <th>user_id</th>\n",
       "    </tr>\n",
       "    <tr>\n",
       "      <th>group</th>\n",
       "      <th></th>\n",
       "    </tr>\n",
       "  </thead>\n",
       "  <tbody>\n",
       "    <tr>\n",
       "      <th>A</th>\n",
       "      <td>2604</td>\n",
       "    </tr>\n",
       "    <tr>\n",
       "      <th>B</th>\n",
       "      <td>877</td>\n",
       "    </tr>\n",
       "  </tbody>\n",
       "</table>\n",
       "</div>"
      ],
      "text/plain": [
       "       user_id\n",
       "group         \n",
       "A         2604\n",
       "B          877"
      ]
     },
     "execution_count": 141,
     "metadata": {},
     "output_type": "execute_result"
    }
   ],
   "source": [
    "users_group = rs.groupby('group')['user_id'].nunique().reset_index()\n",
    "users_group = users_group.set_index(users_group.columns[0])\n",
    "users_group"
   ]
  },
  {
   "cell_type": "code",
   "execution_count": 142,
   "metadata": {},
   "outputs": [],
   "source": [
    "# используем функцию для z-test с поправкой Бонферрони\n",
    "def z_test_bonferroni(group1, group2, event, alpha): \n",
    "    alpha_bonferroni = alpha / 4 # введём поправку на 3 этапа в воронке\n",
    "    p1_event = rs_events.loc[event, group1]\n",
    "    p2_event = rs_events.loc[event, group2] \n",
    "    p1_users = users_group.loc[group1, 'user_id'] \n",
    "    p2_users = users_group.loc[group2, 'user_id'] \n",
    "    p1 = p1_event / p1_users \n",
    "    p2 = p2_event / p2_users \n",
    "    difference = p1 - p2\n",
    "    p_combined = (p1_event + p2_event) / (p1_users + p2_users) \n",
    "    z_value = difference / mth.sqrt(p_combined * (1 - p_combined) * (1 / p1_users + 1 / p2_users))\n",
    "    distr = st.norm(0, 1)\n",
    "    p_value = (1 - distr.cdf(abs(z_value))) * 2\n",
    "    \n",
    "    print('Проверка для события: {}, p-значение: {p_value:.7f}'.format(event, p_value=p_value))\n",
    "    if (p_value < alpha_bonferroni):\n",
    "        print(\"Отвергаем нулевую гипотезу о равенстве долей конверсии между группами\")\n",
    "    else:\n",
    "        print(\"Не получилось отвергнуть нулевую гипотезу о равенстве долей конверсии между группами\")"
   ]
  },
  {
   "cell_type": "code",
   "execution_count": 143,
   "metadata": {},
   "outputs": [
    {
     "name": "stdout",
     "output_type": "stream",
     "text": [
      "Проверка для события: 0, p-значение: nan\n",
      "Не получилось отвергнуть нулевую гипотезу о равенстве долей конверсии между группами\n",
      "\n",
      "Проверка для события: 1, p-значение: 0.0000069\n",
      "Отвергаем нулевую гипотезу о равенстве долей конверсии между группами\n",
      "\n",
      "Проверка для события: 2, p-значение: 0.2146919\n",
      "Не получилось отвергнуть нулевую гипотезу о равенстве долей конверсии между группами\n",
      "\n",
      "Проверка для события: 3, p-значение: 0.0465248\n",
      "Не получилось отвергнуть нулевую гипотезу о равенстве долей конверсии между группами\n",
      "\n"
     ]
    },
    {
     "name": "stderr",
     "output_type": "stream",
     "text": [
      "/tmp/ipykernel_31/1158485474.py:12: RuntimeWarning:\n",
      "\n",
      "invalid value encountered in double_scalars\n",
      "\n"
     ]
    }
   ],
   "source": [
    "for event in rs_events.index:\n",
    "    z_test_bonferroni('A', 'B', event, 0.05)\n",
    "    print()"
   ]
  },
  {
   "cell_type": "markdown",
   "metadata": {},
   "source": [
    "## Выводы"
   ]
  },
  {
   "cell_type": "markdown",
   "metadata": {},
   "source": [
    "Проведя предобработку и исследовательский анализ, выяснили:\n",
    "\n",
    "- Количество пользвателей принявших участие в тесте не соответствует техническому заданию, почти в два раза меньше, чем требовалось. С\n",
    "- Среди участников теста наблюдаются пересечение с другим тестом и маркетинговыми событиями. \n",
    "- Пользователи неравномерно распределены по группам. \n",
    "- Среднее количество событий на пользователя A и B групп различается.\n",
    "- Количество событий в группе А резко повышается с 14 декабря, растёт до 21 декабря и достигает пика и далее снижается.\n",
    "- Количество событий в группе В распределено достаточно равномерно с заметным снижением в последние 5 дней.\n",
    "- В некоторых случаях, пользователи совершали оплату пропуская корзину. \n",
    "\n",
    "Исходя из построенной воронки мы определили, что по группам А и В:\n",
    "- В страницу товаров перешли 1685 / 493 клиентов соответственно\n",
    "- В корзине оказались 782 / 244 пользователей\n",
    "- Оплатили 833/ 249 - оплат больше, чем переходов в корзину\n",
    "- Покупку совершили 32% в группе А и 28% в группе В\n",
    "\n",
    "Проверка статистической разницы долей z-критерием показала: доли конверсии между группой А и группой В для события \"Страница продукта\" имеет статистически значимую разницу. Результаты теста нельзя считать достоверными исходя из многочисленных нарушений по выборкам."
   ]
  }
 ],
 "metadata": {
  "ExecuteTimeLog": [
   {
    "duration": 52,
    "start_time": "2022-09-15T14:25:41.983Z"
   },
   {
    "duration": 457,
    "start_time": "2022-09-15T14:25:45.589Z"
   },
   {
    "duration": 70,
    "start_time": "2022-09-15T14:25:47.104Z"
   },
   {
    "duration": 28,
    "start_time": "2022-09-15T14:25:59.636Z"
   },
   {
    "duration": 44,
    "start_time": "2022-09-15T14:26:41.538Z"
   },
   {
    "duration": 33,
    "start_time": "2022-09-15T14:26:51.328Z"
   },
   {
    "duration": 206,
    "start_time": "2022-09-15T14:27:05.601Z"
   },
   {
    "duration": 740,
    "start_time": "2022-09-15T14:27:35.277Z"
   },
   {
    "duration": 96,
    "start_time": "2022-09-15T14:28:01.681Z"
   },
   {
    "duration": 47,
    "start_time": "2022-09-15T14:28:58.439Z"
   },
   {
    "duration": 59,
    "start_time": "2022-09-15T14:30:09.149Z"
   },
   {
    "duration": 74,
    "start_time": "2022-09-15T14:59:13.587Z"
   },
   {
    "duration": 359,
    "start_time": "2022-09-15T15:10:22.138Z"
   },
   {
    "duration": 33,
    "start_time": "2022-09-15T15:10:44.283Z"
   },
   {
    "duration": 33,
    "start_time": "2022-09-15T15:10:54.438Z"
   },
   {
    "duration": 33,
    "start_time": "2022-09-15T15:10:57.134Z"
   },
   {
    "duration": 78,
    "start_time": "2022-09-15T15:10:57.169Z"
   },
   {
    "duration": 487,
    "start_time": "2022-09-15T15:10:57.248Z"
   },
   {
    "duration": 32,
    "start_time": "2022-09-15T15:10:57.738Z"
   },
   {
    "duration": 21,
    "start_time": "2022-09-15T15:10:57.772Z"
   },
   {
    "duration": 36,
    "start_time": "2022-09-15T15:14:00.109Z"
   },
   {
    "duration": 32,
    "start_time": "2022-09-15T15:15:02.569Z"
   },
   {
    "duration": 35,
    "start_time": "2022-09-15T15:15:06.562Z"
   },
   {
    "duration": 92,
    "start_time": "2022-09-15T15:18:27.996Z"
   },
   {
    "duration": 32,
    "start_time": "2022-09-15T15:30:28.644Z"
   },
   {
    "duration": 497,
    "start_time": "2022-09-15T15:30:39.186Z"
   },
   {
    "duration": 789,
    "start_time": "2022-09-15T15:30:51.470Z"
   },
   {
    "duration": 4,
    "start_time": "2022-09-15T16:15:32.004Z"
   },
   {
    "duration": 4,
    "start_time": "2022-09-15T16:15:39.789Z"
   },
   {
    "duration": 1304,
    "start_time": "2022-09-17T12:00:33.060Z"
   },
   {
    "duration": 3,
    "start_time": "2022-09-17T12:00:39.067Z"
   },
   {
    "duration": 6,
    "start_time": "2022-09-17T12:00:42.418Z"
   },
   {
    "duration": 78,
    "start_time": "2022-09-17T12:00:42.428Z"
   },
   {
    "duration": 203,
    "start_time": "2022-09-17T12:00:42.508Z"
   },
   {
    "duration": 43,
    "start_time": "2022-09-17T12:00:42.714Z"
   },
   {
    "duration": 916,
    "start_time": "2022-09-17T12:00:42.760Z"
   },
   {
    "duration": 111,
    "start_time": "2022-09-17T12:00:43.678Z"
   },
   {
    "duration": 3,
    "start_time": "2022-09-17T12:00:43.791Z"
   },
   {
    "duration": 16,
    "start_time": "2022-09-17T12:00:43.795Z"
   },
   {
    "duration": 17,
    "start_time": "2022-09-17T12:00:43.816Z"
   },
   {
    "duration": 34,
    "start_time": "2022-09-17T12:02:44.003Z"
   },
   {
    "duration": 12,
    "start_time": "2022-09-17T12:03:16.207Z"
   },
   {
    "duration": 36,
    "start_time": "2022-09-17T12:03:23.716Z"
   },
   {
    "duration": 32,
    "start_time": "2022-09-17T12:03:32.919Z"
   },
   {
    "duration": 6,
    "start_time": "2022-09-17T12:06:44.960Z"
   },
   {
    "duration": 104,
    "start_time": "2022-09-17T12:07:37.168Z"
   },
   {
    "duration": 8,
    "start_time": "2022-09-17T12:07:40.711Z"
   },
   {
    "duration": 7,
    "start_time": "2022-09-17T12:08:10.662Z"
   },
   {
    "duration": 22,
    "start_time": "2022-09-17T12:08:13.531Z"
   },
   {
    "duration": 3,
    "start_time": "2022-09-17T12:08:46.142Z"
   },
   {
    "duration": 36,
    "start_time": "2022-09-17T12:08:46.152Z"
   },
   {
    "duration": 11,
    "start_time": "2022-09-17T12:08:46.190Z"
   },
   {
    "duration": 7,
    "start_time": "2022-09-17T12:08:46.203Z"
   },
   {
    "duration": 23,
    "start_time": "2022-09-17T12:08:46.212Z"
   },
   {
    "duration": 92,
    "start_time": "2022-09-17T12:08:46.237Z"
   },
   {
    "duration": 30,
    "start_time": "2022-09-17T12:08:46.331Z"
   },
   {
    "duration": 653,
    "start_time": "2022-09-17T12:08:46.363Z"
   },
   {
    "duration": 31,
    "start_time": "2022-09-17T12:08:47.019Z"
   },
   {
    "duration": 19,
    "start_time": "2022-09-17T12:08:51.696Z"
   },
   {
    "duration": 11,
    "start_time": "2022-09-17T12:08:54.392Z"
   },
   {
    "duration": 2858,
    "start_time": "2022-09-17T12:09:35.481Z"
   },
   {
    "duration": 15,
    "start_time": "2022-09-17T12:10:09.834Z"
   },
   {
    "duration": 4,
    "start_time": "2022-09-17T12:10:22.957Z"
   },
   {
    "duration": 42,
    "start_time": "2022-09-17T12:10:22.967Z"
   },
   {
    "duration": 14,
    "start_time": "2022-09-17T12:10:23.011Z"
   },
   {
    "duration": 10,
    "start_time": "2022-09-17T12:10:23.027Z"
   },
   {
    "duration": 11,
    "start_time": "2022-09-17T12:10:23.039Z"
   },
   {
    "duration": 69,
    "start_time": "2022-09-17T12:10:23.052Z"
   },
   {
    "duration": 32,
    "start_time": "2022-09-17T12:10:23.122Z"
   },
   {
    "duration": 613,
    "start_time": "2022-09-17T12:10:23.156Z"
   },
   {
    "duration": 31,
    "start_time": "2022-09-17T12:10:23.771Z"
   },
   {
    "duration": 4,
    "start_time": "2022-09-17T12:10:44.982Z"
   },
   {
    "duration": 71,
    "start_time": "2022-09-17T12:10:44.990Z"
   },
   {
    "duration": 11,
    "start_time": "2022-09-17T12:10:45.063Z"
   },
   {
    "duration": 6,
    "start_time": "2022-09-17T12:10:45.076Z"
   },
   {
    "duration": 85,
    "start_time": "2022-09-17T12:10:45.084Z"
   },
   {
    "duration": 32,
    "start_time": "2022-09-17T12:10:45.170Z"
   },
   {
    "duration": 641,
    "start_time": "2022-09-17T12:10:45.203Z"
   },
   {
    "duration": 39,
    "start_time": "2022-09-17T12:10:45.846Z"
   },
   {
    "duration": 17,
    "start_time": "2022-09-17T12:10:50.507Z"
   },
   {
    "duration": 3,
    "start_time": "2022-09-17T12:11:08.039Z"
   },
   {
    "duration": 50,
    "start_time": "2022-09-17T12:11:08.045Z"
   },
   {
    "duration": 10,
    "start_time": "2022-09-17T12:11:08.098Z"
   },
   {
    "duration": 58,
    "start_time": "2022-09-17T12:11:08.110Z"
   },
   {
    "duration": 17,
    "start_time": "2022-09-17T12:11:08.170Z"
   },
   {
    "duration": 0,
    "start_time": "2022-09-17T12:11:08.189Z"
   },
   {
    "duration": 0,
    "start_time": "2022-09-17T12:11:08.190Z"
   },
   {
    "duration": 0,
    "start_time": "2022-09-17T12:11:08.192Z"
   },
   {
    "duration": 0,
    "start_time": "2022-09-17T12:11:08.193Z"
   },
   {
    "duration": 4,
    "start_time": "2022-09-17T12:11:20.544Z"
   },
   {
    "duration": 49,
    "start_time": "2022-09-17T12:11:20.551Z"
   },
   {
    "duration": 12,
    "start_time": "2022-09-17T12:11:20.603Z"
   },
   {
    "duration": 32,
    "start_time": "2022-09-17T12:11:20.616Z"
   },
   {
    "duration": 34,
    "start_time": "2022-09-17T12:11:20.651Z"
   },
   {
    "duration": 117,
    "start_time": "2022-09-17T12:11:20.687Z"
   },
   {
    "duration": 42,
    "start_time": "2022-09-17T12:11:20.806Z"
   },
   {
    "duration": 638,
    "start_time": "2022-09-17T12:11:20.851Z"
   },
   {
    "duration": 39,
    "start_time": "2022-09-17T12:11:21.491Z"
   },
   {
    "duration": 3,
    "start_time": "2022-09-17T12:12:28.331Z"
   },
   {
    "duration": 42,
    "start_time": "2022-09-17T12:12:28.337Z"
   },
   {
    "duration": 12,
    "start_time": "2022-09-17T12:12:28.381Z"
   },
   {
    "duration": 7,
    "start_time": "2022-09-17T12:12:28.395Z"
   },
   {
    "duration": 86,
    "start_time": "2022-09-17T12:12:28.404Z"
   },
   {
    "duration": 45,
    "start_time": "2022-09-17T12:12:28.492Z"
   },
   {
    "duration": 685,
    "start_time": "2022-09-17T12:12:28.539Z"
   },
   {
    "duration": 36,
    "start_time": "2022-09-17T12:12:29.226Z"
   },
   {
    "duration": 120,
    "start_time": "2022-09-17T12:13:45.690Z"
   },
   {
    "duration": 80,
    "start_time": "2022-09-17T12:14:19.955Z"
   },
   {
    "duration": 467,
    "start_time": "2022-09-17T12:16:22.612Z"
   },
   {
    "duration": 187,
    "start_time": "2022-09-17T12:16:27.051Z"
   },
   {
    "duration": 78,
    "start_time": "2022-09-17T12:16:50.253Z"
   },
   {
    "duration": 665,
    "start_time": "2022-09-17T12:17:46.411Z"
   },
   {
    "duration": 32,
    "start_time": "2022-09-17T12:17:48.702Z"
   },
   {
    "duration": 24,
    "start_time": "2022-09-17T12:17:50.734Z"
   },
   {
    "duration": 25,
    "start_time": "2022-09-17T12:18:38.684Z"
   },
   {
    "duration": 24,
    "start_time": "2022-09-17T12:20:02.405Z"
   },
   {
    "duration": 31,
    "start_time": "2022-09-17T12:20:52.202Z"
   },
   {
    "duration": 2525,
    "start_time": "2022-09-17T12:21:47.009Z"
   },
   {
    "duration": 2210,
    "start_time": "2022-09-17T12:21:53.556Z"
   },
   {
    "duration": 6,
    "start_time": "2022-09-17T12:21:56.342Z"
   },
   {
    "duration": 44,
    "start_time": "2022-09-17T12:22:14.847Z"
   },
   {
    "duration": 12,
    "start_time": "2022-09-17T12:22:35.053Z"
   },
   {
    "duration": 5,
    "start_time": "2022-09-17T12:23:35.219Z"
   },
   {
    "duration": 79,
    "start_time": "2022-09-17T12:23:57.933Z"
   },
   {
    "duration": 103,
    "start_time": "2022-09-17T12:24:16.204Z"
   },
   {
    "duration": 128,
    "start_time": "2022-09-17T12:24:34.750Z"
   },
   {
    "duration": 115,
    "start_time": "2022-09-17T12:24:38.178Z"
   },
   {
    "duration": 118,
    "start_time": "2022-09-17T12:24:47.423Z"
   },
   {
    "duration": 24,
    "start_time": "2022-09-17T12:25:13.451Z"
   },
   {
    "duration": 23,
    "start_time": "2022-09-17T12:25:27.131Z"
   },
   {
    "duration": 40,
    "start_time": "2022-09-17T12:27:13.750Z"
   },
   {
    "duration": 9,
    "start_time": "2022-09-17T12:27:29.626Z"
   },
   {
    "duration": 8,
    "start_time": "2022-09-17T12:30:45.132Z"
   },
   {
    "duration": 38,
    "start_time": "2022-09-17T12:30:49.998Z"
   },
   {
    "duration": 12,
    "start_time": "2022-09-17T13:10:31.143Z"
   },
   {
    "duration": 5,
    "start_time": "2022-09-17T13:12:50.204Z"
   },
   {
    "duration": 15,
    "start_time": "2022-09-17T13:12:55.007Z"
   },
   {
    "duration": 5,
    "start_time": "2022-09-17T13:12:56.864Z"
   },
   {
    "duration": 6,
    "start_time": "2022-09-17T13:22:37.998Z"
   },
   {
    "duration": 3,
    "start_time": "2022-09-17T13:24:47.895Z"
   },
   {
    "duration": 61,
    "start_time": "2022-09-17T13:24:47.901Z"
   },
   {
    "duration": 11,
    "start_time": "2022-09-17T13:24:47.964Z"
   },
   {
    "duration": 6,
    "start_time": "2022-09-17T13:24:47.977Z"
   },
   {
    "duration": 92,
    "start_time": "2022-09-17T13:24:47.985Z"
   },
   {
    "duration": 65,
    "start_time": "2022-09-17T13:24:48.078Z"
   },
   {
    "duration": 16,
    "start_time": "2022-09-17T13:24:48.149Z"
   },
   {
    "duration": 5,
    "start_time": "2022-09-17T13:24:48.166Z"
   },
   {
    "duration": 4,
    "start_time": "2022-09-17T13:24:48.174Z"
   },
   {
    "duration": 480,
    "start_time": "2022-09-17T13:24:48.179Z"
   },
   {
    "duration": 282,
    "start_time": "2022-09-17T13:24:48.661Z"
   },
   {
    "duration": 77,
    "start_time": "2022-09-17T13:24:48.946Z"
   },
   {
    "duration": 36,
    "start_time": "2022-09-17T13:24:49.033Z"
   },
   {
    "duration": 75,
    "start_time": "2022-09-17T13:24:49.071Z"
   },
   {
    "duration": 18,
    "start_time": "2022-09-17T13:24:49.149Z"
   },
   {
    "duration": 5,
    "start_time": "2022-09-17T13:24:49.168Z"
   },
   {
    "duration": 115,
    "start_time": "2022-09-17T13:24:49.174Z"
   },
   {
    "duration": 146,
    "start_time": "2022-09-17T13:24:49.290Z"
   },
   {
    "duration": 46,
    "start_time": "2022-09-17T13:24:49.445Z"
   },
   {
    "duration": 60,
    "start_time": "2022-09-17T13:24:49.493Z"
   },
   {
    "duration": 86,
    "start_time": "2022-09-17T13:24:49.555Z"
   },
   {
    "duration": 17,
    "start_time": "2022-09-17T13:24:49.644Z"
   },
   {
    "duration": 5,
    "start_time": "2022-09-17T13:24:49.663Z"
   },
   {
    "duration": 3,
    "start_time": "2022-09-17T13:25:05.584Z"
   },
   {
    "duration": 51,
    "start_time": "2022-09-17T13:25:05.589Z"
   },
   {
    "duration": 9,
    "start_time": "2022-09-17T13:25:05.642Z"
   },
   {
    "duration": 8,
    "start_time": "2022-09-17T13:25:05.652Z"
   },
   {
    "duration": 85,
    "start_time": "2022-09-17T13:25:05.661Z"
   },
   {
    "duration": 30,
    "start_time": "2022-09-17T13:25:05.748Z"
   },
   {
    "duration": 18,
    "start_time": "2022-09-17T13:25:05.780Z"
   },
   {
    "duration": 36,
    "start_time": "2022-09-17T13:25:05.800Z"
   },
   {
    "duration": 20,
    "start_time": "2022-09-17T13:25:05.837Z"
   },
   {
    "duration": 458,
    "start_time": "2022-09-17T13:25:05.859Z"
   },
   {
    "duration": 257,
    "start_time": "2022-09-17T13:25:06.319Z"
   },
   {
    "duration": 74,
    "start_time": "2022-09-17T13:25:06.577Z"
   },
   {
    "duration": 71,
    "start_time": "2022-09-17T13:25:06.652Z"
   },
   {
    "duration": 77,
    "start_time": "2022-09-17T13:25:06.726Z"
   },
   {
    "duration": 30,
    "start_time": "2022-09-17T13:25:06.805Z"
   },
   {
    "duration": 34,
    "start_time": "2022-09-17T13:25:06.837Z"
   },
   {
    "duration": 129,
    "start_time": "2022-09-17T13:25:06.872Z"
   },
   {
    "duration": 175,
    "start_time": "2022-09-17T13:25:07.003Z"
   },
   {
    "duration": 65,
    "start_time": "2022-09-17T13:25:07.180Z"
   },
   {
    "duration": 58,
    "start_time": "2022-09-17T13:25:07.247Z"
   },
   {
    "duration": 100,
    "start_time": "2022-09-17T13:25:07.307Z"
   },
   {
    "duration": 27,
    "start_time": "2022-09-17T13:25:07.408Z"
   },
   {
    "duration": 29,
    "start_time": "2022-09-17T13:25:07.437Z"
   },
   {
    "duration": 15,
    "start_time": "2022-09-17T13:32:55.863Z"
   },
   {
    "duration": 72,
    "start_time": "2022-09-18T07:04:29.439Z"
   },
   {
    "duration": 1322,
    "start_time": "2022-09-18T07:04:33.154Z"
   },
   {
    "duration": 73,
    "start_time": "2022-09-18T07:04:34.478Z"
   },
   {
    "duration": 10,
    "start_time": "2022-09-18T07:04:34.553Z"
   },
   {
    "duration": 8,
    "start_time": "2022-09-18T07:04:34.566Z"
   },
   {
    "duration": 178,
    "start_time": "2022-09-18T07:04:34.576Z"
   },
   {
    "duration": 37,
    "start_time": "2022-09-18T07:04:34.755Z"
   },
   {
    "duration": 16,
    "start_time": "2022-09-18T07:04:34.793Z"
   },
   {
    "duration": 4,
    "start_time": "2022-09-18T07:04:34.810Z"
   },
   {
    "duration": 5,
    "start_time": "2022-09-18T07:04:34.816Z"
   },
   {
    "duration": 571,
    "start_time": "2022-09-18T07:04:34.823Z"
   },
   {
    "duration": 220,
    "start_time": "2022-09-18T07:04:35.395Z"
   },
   {
    "duration": 50,
    "start_time": "2022-09-18T07:04:35.617Z"
   },
   {
    "duration": 23,
    "start_time": "2022-09-18T07:04:35.669Z"
   },
   {
    "duration": 48,
    "start_time": "2022-09-18T07:04:35.709Z"
   },
   {
    "duration": 12,
    "start_time": "2022-09-18T07:04:35.758Z"
   },
   {
    "duration": 5,
    "start_time": "2022-09-18T07:04:35.771Z"
   },
   {
    "duration": 100,
    "start_time": "2022-09-18T07:04:35.777Z"
   },
   {
    "duration": 111,
    "start_time": "2022-09-18T07:04:35.879Z"
   },
   {
    "duration": 30,
    "start_time": "2022-09-18T07:04:35.991Z"
   },
   {
    "duration": 21,
    "start_time": "2022-09-18T07:04:36.022Z"
   },
   {
    "duration": 78,
    "start_time": "2022-09-18T07:04:36.045Z"
   },
   {
    "duration": 8,
    "start_time": "2022-09-18T07:04:36.124Z"
   },
   {
    "duration": 13,
    "start_time": "2022-09-18T07:04:36.133Z"
   },
   {
    "duration": 4,
    "start_time": "2022-09-18T07:04:36.147Z"
   },
   {
    "duration": 7,
    "start_time": "2022-09-18T07:07:19.565Z"
   },
   {
    "duration": 61,
    "start_time": "2022-09-18T07:07:43.092Z"
   },
   {
    "duration": 9,
    "start_time": "2022-09-18T07:07:46.632Z"
   },
   {
    "duration": 13,
    "start_time": "2022-09-18T07:08:36.326Z"
   },
   {
    "duration": 12,
    "start_time": "2022-09-18T07:08:45.578Z"
   },
   {
    "duration": 12,
    "start_time": "2022-09-18T07:09:19.812Z"
   },
   {
    "duration": 84,
    "start_time": "2022-09-18T07:10:43.355Z"
   },
   {
    "duration": 20,
    "start_time": "2022-09-18T07:20:22.701Z"
   },
   {
    "duration": 3,
    "start_time": "2022-09-18T07:21:09.409Z"
   },
   {
    "duration": 38,
    "start_time": "2022-09-18T07:21:09.426Z"
   },
   {
    "duration": 9,
    "start_time": "2022-09-18T07:21:09.466Z"
   },
   {
    "duration": 21,
    "start_time": "2022-09-18T07:21:09.476Z"
   },
   {
    "duration": 98,
    "start_time": "2022-09-18T07:21:09.499Z"
   },
   {
    "duration": 17,
    "start_time": "2022-09-18T07:21:09.599Z"
   },
   {
    "duration": 67,
    "start_time": "2022-09-18T07:21:09.617Z"
   },
   {
    "duration": 11,
    "start_time": "2022-09-18T07:21:09.686Z"
   },
   {
    "duration": 22,
    "start_time": "2022-09-18T07:21:09.699Z"
   },
   {
    "duration": 25,
    "start_time": "2022-09-18T07:21:09.722Z"
   },
   {
    "duration": 36,
    "start_time": "2022-09-18T07:21:09.749Z"
   },
   {
    "duration": 21,
    "start_time": "2022-09-18T07:21:09.787Z"
   },
   {
    "duration": 29,
    "start_time": "2022-09-18T07:21:09.809Z"
   },
   {
    "duration": 27,
    "start_time": "2022-09-18T07:21:09.840Z"
   },
   {
    "duration": 425,
    "start_time": "2022-09-18T07:21:09.868Z"
   },
   {
    "duration": 224,
    "start_time": "2022-09-18T07:21:10.294Z"
   },
   {
    "duration": 52,
    "start_time": "2022-09-18T07:21:10.520Z"
   },
   {
    "duration": 42,
    "start_time": "2022-09-18T07:21:10.574Z"
   },
   {
    "duration": 60,
    "start_time": "2022-09-18T07:21:10.618Z"
   },
   {
    "duration": 13,
    "start_time": "2022-09-18T07:21:10.679Z"
   },
   {
    "duration": 12,
    "start_time": "2022-09-18T07:21:10.693Z"
   },
   {
    "duration": 101,
    "start_time": "2022-09-18T07:21:10.706Z"
   },
   {
    "duration": 124,
    "start_time": "2022-09-18T07:21:10.808Z"
   },
   {
    "duration": 25,
    "start_time": "2022-09-18T07:21:10.934Z"
   },
   {
    "duration": 48,
    "start_time": "2022-09-18T07:21:10.961Z"
   },
   {
    "duration": 60,
    "start_time": "2022-09-18T07:21:11.011Z"
   },
   {
    "duration": 11,
    "start_time": "2022-09-18T07:21:11.073Z"
   },
   {
    "duration": 31,
    "start_time": "2022-09-18T07:21:11.085Z"
   },
   {
    "duration": 5,
    "start_time": "2022-09-18T07:21:11.119Z"
   },
   {
    "duration": 7,
    "start_time": "2022-09-18T07:22:54.512Z"
   },
   {
    "duration": 3,
    "start_time": "2022-09-18T07:23:00.058Z"
   },
   {
    "duration": 33,
    "start_time": "2022-09-18T07:23:00.068Z"
   },
   {
    "duration": 9,
    "start_time": "2022-09-18T07:23:00.103Z"
   },
   {
    "duration": 24,
    "start_time": "2022-09-18T07:23:00.114Z"
   },
   {
    "duration": 81,
    "start_time": "2022-09-18T07:23:00.141Z"
   },
   {
    "duration": 15,
    "start_time": "2022-09-18T07:23:00.224Z"
   },
   {
    "duration": 36,
    "start_time": "2022-09-18T07:23:00.240Z"
   },
   {
    "duration": 33,
    "start_time": "2022-09-18T07:23:00.278Z"
   },
   {
    "duration": 5,
    "start_time": "2022-09-18T07:23:00.312Z"
   },
   {
    "duration": 43,
    "start_time": "2022-09-18T07:23:00.318Z"
   },
   {
    "duration": 14,
    "start_time": "2022-09-18T07:23:00.363Z"
   },
   {
    "duration": 17,
    "start_time": "2022-09-18T07:23:00.378Z"
   },
   {
    "duration": 35,
    "start_time": "2022-09-18T07:23:00.397Z"
   },
   {
    "duration": 32,
    "start_time": "2022-09-18T07:23:00.434Z"
   },
   {
    "duration": 422,
    "start_time": "2022-09-18T07:23:00.467Z"
   },
   {
    "duration": 216,
    "start_time": "2022-09-18T07:23:00.890Z"
   },
   {
    "duration": 51,
    "start_time": "2022-09-18T07:23:01.109Z"
   },
   {
    "duration": 22,
    "start_time": "2022-09-18T07:23:01.163Z"
   },
   {
    "duration": 65,
    "start_time": "2022-09-18T07:23:01.187Z"
   },
   {
    "duration": 13,
    "start_time": "2022-09-18T07:23:01.253Z"
   },
   {
    "duration": 32,
    "start_time": "2022-09-18T07:23:01.267Z"
   },
   {
    "duration": 106,
    "start_time": "2022-09-18T07:23:01.300Z"
   },
   {
    "duration": 119,
    "start_time": "2022-09-18T07:23:01.408Z"
   },
   {
    "duration": 28,
    "start_time": "2022-09-18T07:23:01.528Z"
   },
   {
    "duration": 41,
    "start_time": "2022-09-18T07:23:01.558Z"
   },
   {
    "duration": 53,
    "start_time": "2022-09-18T07:23:01.601Z"
   },
   {
    "duration": 9,
    "start_time": "2022-09-18T07:23:01.656Z"
   },
   {
    "duration": 26,
    "start_time": "2022-09-18T07:23:01.667Z"
   },
   {
    "duration": 6,
    "start_time": "2022-09-18T07:23:01.696Z"
   },
   {
    "duration": 13,
    "start_time": "2022-09-18T07:26:32.094Z"
   },
   {
    "duration": 13,
    "start_time": "2022-09-18T08:39:53.431Z"
   },
   {
    "duration": 7,
    "start_time": "2022-09-18T08:40:10.453Z"
   },
   {
    "duration": 12,
    "start_time": "2022-09-18T08:40:17.446Z"
   },
   {
    "duration": 10,
    "start_time": "2022-09-18T08:40:28.404Z"
   },
   {
    "duration": 13,
    "start_time": "2022-09-18T08:40:38.347Z"
   },
   {
    "duration": 8,
    "start_time": "2022-09-18T08:40:50.188Z"
   },
   {
    "duration": 10,
    "start_time": "2022-09-18T08:40:56.994Z"
   },
   {
    "duration": 12,
    "start_time": "2022-09-18T08:41:17.611Z"
   },
   {
    "duration": 23,
    "start_time": "2022-09-18T08:41:31.257Z"
   },
   {
    "duration": 14,
    "start_time": "2022-09-18T08:41:36.891Z"
   },
   {
    "duration": 13,
    "start_time": "2022-09-18T08:41:42.115Z"
   },
   {
    "duration": 11,
    "start_time": "2022-09-18T08:41:49.331Z"
   },
   {
    "duration": 15,
    "start_time": "2022-09-18T08:45:16.722Z"
   },
   {
    "duration": 16,
    "start_time": "2022-09-18T08:45:29.740Z"
   },
   {
    "duration": 56,
    "start_time": "2022-09-18T08:46:26.159Z"
   },
   {
    "duration": 13,
    "start_time": "2022-09-18T08:46:30.413Z"
   },
   {
    "duration": 16,
    "start_time": "2022-09-18T08:46:37.616Z"
   },
   {
    "duration": 16,
    "start_time": "2022-09-18T08:46:39.349Z"
   },
   {
    "duration": 16,
    "start_time": "2022-09-18T08:46:50.314Z"
   },
   {
    "duration": 18,
    "start_time": "2022-09-18T08:46:52.161Z"
   },
   {
    "duration": 4,
    "start_time": "2022-09-18T08:46:59.048Z"
   },
   {
    "duration": 32,
    "start_time": "2022-09-18T08:46:59.061Z"
   },
   {
    "duration": 9,
    "start_time": "2022-09-18T08:46:59.095Z"
   },
   {
    "duration": 7,
    "start_time": "2022-09-18T08:46:59.105Z"
   },
   {
    "duration": 82,
    "start_time": "2022-09-18T08:46:59.114Z"
   },
   {
    "duration": 16,
    "start_time": "2022-09-18T08:46:59.197Z"
   },
   {
    "duration": 38,
    "start_time": "2022-09-18T08:46:59.214Z"
   },
   {
    "duration": 12,
    "start_time": "2022-09-18T08:46:59.254Z"
   },
   {
    "duration": 5,
    "start_time": "2022-09-18T08:46:59.268Z"
   },
   {
    "duration": 9,
    "start_time": "2022-09-18T08:46:59.274Z"
   },
   {
    "duration": 8,
    "start_time": "2022-09-18T08:46:59.309Z"
   },
   {
    "duration": 9,
    "start_time": "2022-09-18T08:46:59.318Z"
   },
   {
    "duration": 12,
    "start_time": "2022-09-18T08:46:59.329Z"
   },
   {
    "duration": 8,
    "start_time": "2022-09-18T08:46:59.343Z"
   },
   {
    "duration": 416,
    "start_time": "2022-09-18T08:46:59.352Z"
   },
   {
    "duration": 237,
    "start_time": "2022-09-18T08:46:59.769Z"
   },
   {
    "duration": 62,
    "start_time": "2022-09-18T08:47:00.009Z"
   },
   {
    "duration": 45,
    "start_time": "2022-09-18T08:47:00.073Z"
   },
   {
    "duration": 44,
    "start_time": "2022-09-18T08:47:00.120Z"
   },
   {
    "duration": 12,
    "start_time": "2022-09-18T08:47:00.167Z"
   },
   {
    "duration": 28,
    "start_time": "2022-09-18T08:47:00.181Z"
   },
   {
    "duration": 99,
    "start_time": "2022-09-18T08:47:00.210Z"
   },
   {
    "duration": 159,
    "start_time": "2022-09-18T08:47:00.311Z"
   },
   {
    "duration": 38,
    "start_time": "2022-09-18T08:47:00.472Z"
   },
   {
    "duration": 89,
    "start_time": "2022-09-18T08:47:00.512Z"
   },
   {
    "duration": 74,
    "start_time": "2022-09-18T08:47:00.603Z"
   },
   {
    "duration": 14,
    "start_time": "2022-09-18T08:47:00.679Z"
   },
   {
    "duration": 34,
    "start_time": "2022-09-18T08:47:00.695Z"
   },
   {
    "duration": 29,
    "start_time": "2022-09-18T08:47:00.731Z"
   },
   {
    "duration": 38,
    "start_time": "2022-09-18T08:47:00.762Z"
   },
   {
    "duration": 16,
    "start_time": "2022-09-18T08:47:00.801Z"
   },
   {
    "duration": 8,
    "start_time": "2022-09-18T08:47:00.819Z"
   },
   {
    "duration": 29,
    "start_time": "2022-09-18T08:47:11.881Z"
   },
   {
    "duration": 17,
    "start_time": "2022-09-18T08:47:19.043Z"
   },
   {
    "duration": 13,
    "start_time": "2022-09-18T08:47:29.877Z"
   },
   {
    "duration": 20,
    "start_time": "2022-09-18T08:48:08.765Z"
   },
   {
    "duration": 9,
    "start_time": "2022-09-18T08:48:29.745Z"
   },
   {
    "duration": 12,
    "start_time": "2022-09-18T08:48:49.313Z"
   },
   {
    "duration": 12,
    "start_time": "2022-09-18T08:48:56.335Z"
   },
   {
    "duration": 10,
    "start_time": "2022-09-18T08:49:07.045Z"
   },
   {
    "duration": 12,
    "start_time": "2022-09-18T08:49:11.272Z"
   },
   {
    "duration": 45,
    "start_time": "2022-09-18T08:51:00.242Z"
   },
   {
    "duration": 17,
    "start_time": "2022-09-18T08:51:07.464Z"
   },
   {
    "duration": 3,
    "start_time": "2022-09-18T08:51:12.034Z"
   },
   {
    "duration": 32,
    "start_time": "2022-09-18T08:51:12.045Z"
   },
   {
    "duration": 11,
    "start_time": "2022-09-18T08:51:12.079Z"
   },
   {
    "duration": 10,
    "start_time": "2022-09-18T08:51:12.092Z"
   },
   {
    "duration": 70,
    "start_time": "2022-09-18T08:51:12.106Z"
   },
   {
    "duration": 18,
    "start_time": "2022-09-18T08:51:12.178Z"
   },
   {
    "duration": 42,
    "start_time": "2022-09-18T08:51:12.199Z"
   },
   {
    "duration": 11,
    "start_time": "2022-09-18T08:51:12.243Z"
   },
   {
    "duration": 6,
    "start_time": "2022-09-18T08:51:12.255Z"
   },
   {
    "duration": 7,
    "start_time": "2022-09-18T08:51:12.262Z"
   },
   {
    "duration": 41,
    "start_time": "2022-09-18T08:51:12.272Z"
   },
   {
    "duration": 9,
    "start_time": "2022-09-18T08:51:12.314Z"
   },
   {
    "duration": 12,
    "start_time": "2022-09-18T08:51:12.325Z"
   },
   {
    "duration": 12,
    "start_time": "2022-09-18T08:51:12.339Z"
   },
   {
    "duration": 468,
    "start_time": "2022-09-18T08:51:12.353Z"
   },
   {
    "duration": 243,
    "start_time": "2022-09-18T08:51:12.823Z"
   },
   {
    "duration": 62,
    "start_time": "2022-09-18T08:51:13.068Z"
   },
   {
    "duration": 24,
    "start_time": "2022-09-18T08:51:13.132Z"
   },
   {
    "duration": 57,
    "start_time": "2022-09-18T08:51:13.158Z"
   },
   {
    "duration": 13,
    "start_time": "2022-09-18T08:51:13.216Z"
   },
   {
    "duration": 5,
    "start_time": "2022-09-18T08:51:13.231Z"
   },
   {
    "duration": 107,
    "start_time": "2022-09-18T08:51:13.237Z"
   },
   {
    "duration": 122,
    "start_time": "2022-09-18T08:51:13.346Z"
   },
   {
    "duration": 42,
    "start_time": "2022-09-18T08:51:13.470Z"
   },
   {
    "duration": 29,
    "start_time": "2022-09-18T08:51:13.514Z"
   },
   {
    "duration": 52,
    "start_time": "2022-09-18T08:51:13.545Z"
   },
   {
    "duration": 10,
    "start_time": "2022-09-18T08:51:13.599Z"
   },
   {
    "duration": 10,
    "start_time": "2022-09-18T08:51:13.611Z"
   },
   {
    "duration": 21,
    "start_time": "2022-09-18T08:51:13.625Z"
   },
   {
    "duration": 65,
    "start_time": "2022-09-18T08:51:13.647Z"
   },
   {
    "duration": 15,
    "start_time": "2022-09-18T08:51:13.713Z"
   },
   {
    "duration": 12,
    "start_time": "2022-09-18T08:51:13.730Z"
   },
   {
    "duration": 37,
    "start_time": "2022-09-18T09:06:07.981Z"
   },
   {
    "duration": 231,
    "start_time": "2022-09-18T09:12:54.714Z"
   },
   {
    "duration": 3,
    "start_time": "2022-09-18T09:13:08.106Z"
   },
   {
    "duration": 32,
    "start_time": "2022-09-18T09:13:08.122Z"
   },
   {
    "duration": 9,
    "start_time": "2022-09-18T09:13:08.156Z"
   },
   {
    "duration": 6,
    "start_time": "2022-09-18T09:13:08.167Z"
   },
   {
    "duration": 71,
    "start_time": "2022-09-18T09:13:08.175Z"
   },
   {
    "duration": 16,
    "start_time": "2022-09-18T09:13:08.249Z"
   },
   {
    "duration": 48,
    "start_time": "2022-09-18T09:13:08.267Z"
   },
   {
    "duration": 12,
    "start_time": "2022-09-18T09:13:08.316Z"
   },
   {
    "duration": 4,
    "start_time": "2022-09-18T09:13:08.331Z"
   },
   {
    "duration": 6,
    "start_time": "2022-09-18T09:13:08.337Z"
   },
   {
    "duration": 7,
    "start_time": "2022-09-18T09:13:08.344Z"
   },
   {
    "duration": 9,
    "start_time": "2022-09-18T09:13:08.353Z"
   },
   {
    "duration": 47,
    "start_time": "2022-09-18T09:13:08.363Z"
   },
   {
    "duration": 11,
    "start_time": "2022-09-18T09:13:08.413Z"
   },
   {
    "duration": 424,
    "start_time": "2022-09-18T09:13:08.426Z"
   },
   {
    "duration": 235,
    "start_time": "2022-09-18T09:13:08.851Z"
   },
   {
    "duration": 56,
    "start_time": "2022-09-18T09:13:09.088Z"
   },
   {
    "duration": 31,
    "start_time": "2022-09-18T09:13:09.146Z"
   },
   {
    "duration": 49,
    "start_time": "2022-09-18T09:13:09.179Z"
   },
   {
    "duration": 5,
    "start_time": "2022-09-18T09:13:09.230Z"
   },
   {
    "duration": 94,
    "start_time": "2022-09-18T09:13:09.236Z"
   },
   {
    "duration": 113,
    "start_time": "2022-09-18T09:13:09.332Z"
   },
   {
    "duration": 24,
    "start_time": "2022-09-18T09:13:09.446Z"
   },
   {
    "duration": 46,
    "start_time": "2022-09-18T09:13:09.471Z"
   },
   {
    "duration": 40,
    "start_time": "2022-09-18T09:13:09.519Z"
   },
   {
    "duration": 14,
    "start_time": "2022-09-18T09:13:09.561Z"
   },
   {
    "duration": 16,
    "start_time": "2022-09-18T09:13:09.576Z"
   },
   {
    "duration": 21,
    "start_time": "2022-09-18T09:13:09.594Z"
   },
   {
    "duration": 219,
    "start_time": "2022-09-18T09:13:09.617Z"
   },
   {
    "duration": 38,
    "start_time": "2022-09-18T09:13:09.838Z"
   },
   {
    "duration": 13,
    "start_time": "2022-09-18T09:13:09.877Z"
   },
   {
    "duration": 7,
    "start_time": "2022-09-18T09:13:09.909Z"
   },
   {
    "duration": 206,
    "start_time": "2022-09-18T09:14:03.371Z"
   },
   {
    "duration": 3,
    "start_time": "2022-09-18T09:14:07.596Z"
   },
   {
    "duration": 31,
    "start_time": "2022-09-18T09:14:07.606Z"
   },
   {
    "duration": 9,
    "start_time": "2022-09-18T09:14:07.639Z"
   },
   {
    "duration": 9,
    "start_time": "2022-09-18T09:14:07.650Z"
   },
   {
    "duration": 87,
    "start_time": "2022-09-18T09:14:07.661Z"
   },
   {
    "duration": 17,
    "start_time": "2022-09-18T09:14:07.750Z"
   },
   {
    "duration": 56,
    "start_time": "2022-09-18T09:14:07.769Z"
   },
   {
    "duration": 12,
    "start_time": "2022-09-18T09:14:07.827Z"
   },
   {
    "duration": 17,
    "start_time": "2022-09-18T09:14:07.841Z"
   },
   {
    "duration": 36,
    "start_time": "2022-09-18T09:14:07.860Z"
   },
   {
    "duration": 19,
    "start_time": "2022-09-18T09:14:07.899Z"
   },
   {
    "duration": 19,
    "start_time": "2022-09-18T09:14:07.920Z"
   },
   {
    "duration": 11,
    "start_time": "2022-09-18T09:14:07.941Z"
   },
   {
    "duration": 11,
    "start_time": "2022-09-18T09:14:07.953Z"
   },
   {
    "duration": 468,
    "start_time": "2022-09-18T09:14:07.966Z"
   },
   {
    "duration": 236,
    "start_time": "2022-09-18T09:14:08.436Z"
   },
   {
    "duration": 55,
    "start_time": "2022-09-18T09:14:08.674Z"
   },
   {
    "duration": 23,
    "start_time": "2022-09-18T09:14:08.731Z"
   },
   {
    "duration": 54,
    "start_time": "2022-09-18T09:14:08.756Z"
   },
   {
    "duration": 5,
    "start_time": "2022-09-18T09:14:08.813Z"
   },
   {
    "duration": 103,
    "start_time": "2022-09-18T09:14:08.820Z"
   },
   {
    "duration": 116,
    "start_time": "2022-09-18T09:14:08.925Z"
   },
   {
    "duration": 27,
    "start_time": "2022-09-18T09:14:09.043Z"
   },
   {
    "duration": 38,
    "start_time": "2022-09-18T09:14:09.072Z"
   },
   {
    "duration": 41,
    "start_time": "2022-09-18T09:14:09.112Z"
   },
   {
    "duration": 9,
    "start_time": "2022-09-18T09:14:09.155Z"
   },
   {
    "duration": 17,
    "start_time": "2022-09-18T09:14:09.166Z"
   },
   {
    "duration": 29,
    "start_time": "2022-09-18T09:14:09.185Z"
   },
   {
    "duration": 218,
    "start_time": "2022-09-18T09:14:09.216Z"
   },
   {
    "duration": 10,
    "start_time": "2022-09-18T09:14:09.436Z"
   },
   {
    "duration": 7,
    "start_time": "2022-09-18T09:14:09.448Z"
   },
   {
    "duration": 234,
    "start_time": "2022-09-18T09:15:26.016Z"
   },
   {
    "duration": 72,
    "start_time": "2022-09-18T09:16:02.862Z"
   },
   {
    "duration": 34,
    "start_time": "2022-09-18T09:16:18.831Z"
   },
   {
    "duration": 21,
    "start_time": "2022-09-18T09:16:28.337Z"
   },
   {
    "duration": 8,
    "start_time": "2022-09-18T09:16:40.568Z"
   },
   {
    "duration": 100,
    "start_time": "2022-09-18T09:17:24.520Z"
   },
   {
    "duration": 23,
    "start_time": "2022-09-18T09:17:53.654Z"
   },
   {
    "duration": 419,
    "start_time": "2022-09-18T09:22:39.531Z"
   },
   {
    "duration": 180,
    "start_time": "2022-09-18T09:23:39.076Z"
   },
   {
    "duration": 181,
    "start_time": "2022-09-18T09:24:05.742Z"
   },
   {
    "duration": 5,
    "start_time": "2022-09-18T09:24:49.318Z"
   },
   {
    "duration": 233,
    "start_time": "2022-09-18T09:25:12.607Z"
   },
   {
    "duration": 180,
    "start_time": "2022-09-18T09:25:17.542Z"
   },
   {
    "duration": 175,
    "start_time": "2022-09-18T09:25:21.146Z"
   },
   {
    "duration": 182,
    "start_time": "2022-09-18T09:25:32.081Z"
   },
   {
    "duration": 7,
    "start_time": "2022-09-18T09:26:32.058Z"
   },
   {
    "duration": 98,
    "start_time": "2022-09-18T09:26:48.426Z"
   },
   {
    "duration": 37,
    "start_time": "2022-09-18T10:43:51.270Z"
   },
   {
    "duration": 8,
    "start_time": "2022-09-18T12:09:15.871Z"
   },
   {
    "duration": 9,
    "start_time": "2022-09-18T12:09:46.459Z"
   },
   {
    "duration": 14,
    "start_time": "2022-09-18T12:10:18.017Z"
   },
   {
    "duration": 7,
    "start_time": "2022-09-18T12:10:49.199Z"
   },
   {
    "duration": 7,
    "start_time": "2022-09-18T12:10:53.156Z"
   },
   {
    "duration": 14,
    "start_time": "2022-09-18T12:11:00.297Z"
   },
   {
    "duration": 6,
    "start_time": "2022-09-18T12:11:03.278Z"
   },
   {
    "duration": 14,
    "start_time": "2022-09-18T12:11:09.943Z"
   },
   {
    "duration": 3,
    "start_time": "2022-09-18T12:11:54.510Z"
   },
   {
    "duration": 22,
    "start_time": "2022-09-18T12:11:58.495Z"
   },
   {
    "duration": 4,
    "start_time": "2022-09-18T12:13:54.901Z"
   },
   {
    "duration": 9,
    "start_time": "2022-09-18T12:14:07.707Z"
   },
   {
    "duration": 3,
    "start_time": "2022-09-18T12:14:35.004Z"
   },
   {
    "duration": 10,
    "start_time": "2022-09-18T12:14:46.455Z"
   },
   {
    "duration": 790,
    "start_time": "2022-09-18T12:18:55.071Z"
   },
   {
    "duration": 272,
    "start_time": "2022-09-18T12:19:30.405Z"
   },
   {
    "duration": 9,
    "start_time": "2022-09-18T12:24:37.687Z"
   },
   {
    "duration": 261,
    "start_time": "2022-09-18T12:26:44.689Z"
   },
   {
    "duration": 53,
    "start_time": "2022-09-18T12:27:18.763Z"
   },
   {
    "duration": 191,
    "start_time": "2022-09-18T12:27:27.251Z"
   },
   {
    "duration": 361,
    "start_time": "2022-09-18T12:27:53.132Z"
   },
   {
    "duration": 383,
    "start_time": "2022-09-18T12:28:20.455Z"
   },
   {
    "duration": 301,
    "start_time": "2022-09-18T12:28:32.809Z"
   },
   {
    "duration": 298,
    "start_time": "2022-09-18T12:29:02.456Z"
   },
   {
    "duration": 20,
    "start_time": "2022-09-18T12:29:25.719Z"
   },
   {
    "duration": 506,
    "start_time": "2022-09-18T12:29:28.255Z"
   },
   {
    "duration": 488,
    "start_time": "2022-09-18T12:29:42.300Z"
   },
   {
    "duration": 4,
    "start_time": "2022-09-18T12:29:56.571Z"
   },
   {
    "duration": 32,
    "start_time": "2022-09-18T12:29:56.601Z"
   },
   {
    "duration": 8,
    "start_time": "2022-09-18T12:29:56.635Z"
   },
   {
    "duration": 6,
    "start_time": "2022-09-18T12:29:56.645Z"
   },
   {
    "duration": 63,
    "start_time": "2022-09-18T12:29:56.652Z"
   },
   {
    "duration": 16,
    "start_time": "2022-09-18T12:29:56.717Z"
   },
   {
    "duration": 28,
    "start_time": "2022-09-18T12:29:56.734Z"
   },
   {
    "duration": 10,
    "start_time": "2022-09-18T12:29:56.763Z"
   },
   {
    "duration": 5,
    "start_time": "2022-09-18T12:29:56.774Z"
   },
   {
    "duration": 29,
    "start_time": "2022-09-18T12:29:56.780Z"
   },
   {
    "duration": 6,
    "start_time": "2022-09-18T12:29:56.810Z"
   },
   {
    "duration": 8,
    "start_time": "2022-09-18T12:29:56.818Z"
   },
   {
    "duration": 8,
    "start_time": "2022-09-18T12:29:56.828Z"
   },
   {
    "duration": 10,
    "start_time": "2022-09-18T12:29:56.838Z"
   },
   {
    "duration": 431,
    "start_time": "2022-09-18T12:29:56.851Z"
   },
   {
    "duration": 182,
    "start_time": "2022-09-18T12:29:57.284Z"
   },
   {
    "duration": 53,
    "start_time": "2022-09-18T12:29:57.468Z"
   },
   {
    "duration": 22,
    "start_time": "2022-09-18T12:29:57.522Z"
   },
   {
    "duration": 31,
    "start_time": "2022-09-18T12:29:57.545Z"
   },
   {
    "duration": 4,
    "start_time": "2022-09-18T12:29:57.578Z"
   },
   {
    "duration": 100,
    "start_time": "2022-09-18T12:29:57.584Z"
   },
   {
    "duration": 114,
    "start_time": "2022-09-18T12:29:57.686Z"
   },
   {
    "duration": 23,
    "start_time": "2022-09-18T12:29:57.809Z"
   },
   {
    "duration": 23,
    "start_time": "2022-09-18T12:29:57.834Z"
   },
   {
    "duration": 41,
    "start_time": "2022-09-18T12:29:57.858Z"
   },
   {
    "duration": 10,
    "start_time": "2022-09-18T12:29:57.900Z"
   },
   {
    "duration": 10,
    "start_time": "2022-09-18T12:29:57.911Z"
   },
   {
    "duration": 17,
    "start_time": "2022-09-18T12:29:57.923Z"
   },
   {
    "duration": 219,
    "start_time": "2022-09-18T12:29:57.943Z"
   },
   {
    "duration": 46,
    "start_time": "2022-09-18T12:29:58.163Z"
   },
   {
    "duration": 8,
    "start_time": "2022-09-18T12:29:58.211Z"
   },
   {
    "duration": 4,
    "start_time": "2022-09-18T12:29:58.221Z"
   },
   {
    "duration": 509,
    "start_time": "2022-09-18T12:29:58.227Z"
   },
   {
    "duration": 16,
    "start_time": "2022-09-18T12:29:58.737Z"
   },
   {
    "duration": 13,
    "start_time": "2022-09-18T12:29:58.756Z"
   },
   {
    "duration": 6,
    "start_time": "2022-09-18T12:29:58.771Z"
   },
   {
    "duration": 44,
    "start_time": "2022-09-18T12:29:58.779Z"
   },
   {
    "duration": 180,
    "start_time": "2022-09-18T12:29:58.825Z"
   },
   {
    "duration": 4,
    "start_time": "2022-09-18T12:29:59.008Z"
   },
   {
    "duration": 8,
    "start_time": "2022-09-18T12:29:59.013Z"
   },
   {
    "duration": 106,
    "start_time": "2022-09-18T12:29:59.023Z"
   },
   {
    "duration": 13,
    "start_time": "2022-09-18T12:29:59.131Z"
   },
   {
    "duration": 5,
    "start_time": "2022-09-18T12:29:59.145Z"
   },
   {
    "duration": 418,
    "start_time": "2022-09-18T13:07:21.620Z"
   },
   {
    "duration": 425,
    "start_time": "2022-09-18T13:07:36.515Z"
   },
   {
    "duration": 433,
    "start_time": "2022-09-18T13:07:54.393Z"
   },
   {
    "duration": 429,
    "start_time": "2022-09-18T13:08:09.340Z"
   },
   {
    "duration": 3,
    "start_time": "2022-09-18T13:08:13.055Z"
   },
   {
    "duration": 31,
    "start_time": "2022-09-18T13:08:13.064Z"
   },
   {
    "duration": 8,
    "start_time": "2022-09-18T13:08:13.097Z"
   },
   {
    "duration": 7,
    "start_time": "2022-09-18T13:08:13.107Z"
   },
   {
    "duration": 66,
    "start_time": "2022-09-18T13:08:13.115Z"
   },
   {
    "duration": 15,
    "start_time": "2022-09-18T13:08:13.183Z"
   },
   {
    "duration": 33,
    "start_time": "2022-09-18T13:08:13.199Z"
   },
   {
    "duration": 10,
    "start_time": "2022-09-18T13:08:13.234Z"
   },
   {
    "duration": 3,
    "start_time": "2022-09-18T13:08:13.246Z"
   },
   {
    "duration": 4,
    "start_time": "2022-09-18T13:08:13.251Z"
   },
   {
    "duration": 7,
    "start_time": "2022-09-18T13:08:13.256Z"
   },
   {
    "duration": 9,
    "start_time": "2022-09-18T13:08:13.264Z"
   },
   {
    "duration": 36,
    "start_time": "2022-09-18T13:08:13.275Z"
   },
   {
    "duration": 77,
    "start_time": "2022-09-18T13:08:13.312Z"
   },
   {
    "duration": 378,
    "start_time": "2022-09-18T13:08:13.409Z"
   },
   {
    "duration": 207,
    "start_time": "2022-09-18T13:08:13.788Z"
   },
   {
    "duration": 54,
    "start_time": "2022-09-18T13:08:13.996Z"
   },
   {
    "duration": 26,
    "start_time": "2022-09-18T13:08:14.051Z"
   },
   {
    "duration": 47,
    "start_time": "2022-09-18T13:08:14.079Z"
   },
   {
    "duration": 4,
    "start_time": "2022-09-18T13:08:14.127Z"
   },
   {
    "duration": 91,
    "start_time": "2022-09-18T13:08:14.133Z"
   },
   {
    "duration": 123,
    "start_time": "2022-09-18T13:08:14.226Z"
   },
   {
    "duration": 26,
    "start_time": "2022-09-18T13:08:14.351Z"
   },
   {
    "duration": 31,
    "start_time": "2022-09-18T13:08:14.378Z"
   },
   {
    "duration": 39,
    "start_time": "2022-09-18T13:08:14.411Z"
   },
   {
    "duration": 8,
    "start_time": "2022-09-18T13:08:14.452Z"
   },
   {
    "duration": 18,
    "start_time": "2022-09-18T13:08:14.462Z"
   },
   {
    "duration": 15,
    "start_time": "2022-09-18T13:08:14.482Z"
   },
   {
    "duration": 202,
    "start_time": "2022-09-18T13:08:14.498Z"
   },
   {
    "duration": 38,
    "start_time": "2022-09-18T13:08:14.702Z"
   },
   {
    "duration": 9,
    "start_time": "2022-09-18T13:08:14.741Z"
   },
   {
    "duration": 5,
    "start_time": "2022-09-18T13:08:14.752Z"
   },
   {
    "duration": 464,
    "start_time": "2022-09-18T13:08:14.759Z"
   },
   {
    "duration": 17,
    "start_time": "2022-09-18T13:08:15.225Z"
   },
   {
    "duration": 14,
    "start_time": "2022-09-18T13:08:15.243Z"
   },
   {
    "duration": 6,
    "start_time": "2022-09-18T13:08:15.258Z"
   },
   {
    "duration": 26,
    "start_time": "2022-09-18T13:08:15.265Z"
   },
   {
    "duration": 172,
    "start_time": "2022-09-18T13:08:15.309Z"
   },
   {
    "duration": 4,
    "start_time": "2022-09-18T13:08:15.482Z"
   },
   {
    "duration": 9,
    "start_time": "2022-09-18T13:08:15.487Z"
   },
   {
    "duration": 101,
    "start_time": "2022-09-18T13:08:15.498Z"
   },
   {
    "duration": 12,
    "start_time": "2022-09-18T13:08:15.610Z"
   },
   {
    "duration": 12,
    "start_time": "2022-09-18T13:08:15.623Z"
   },
   {
    "duration": 3,
    "start_time": "2022-09-18T13:08:48.148Z"
   },
   {
    "duration": 32,
    "start_time": "2022-09-18T13:08:48.162Z"
   },
   {
    "duration": 9,
    "start_time": "2022-09-18T13:08:48.195Z"
   },
   {
    "duration": 7,
    "start_time": "2022-09-18T13:08:48.205Z"
   },
   {
    "duration": 65,
    "start_time": "2022-09-18T13:08:48.213Z"
   },
   {
    "duration": 15,
    "start_time": "2022-09-18T13:08:48.280Z"
   },
   {
    "duration": 32,
    "start_time": "2022-09-18T13:08:48.297Z"
   },
   {
    "duration": 11,
    "start_time": "2022-09-18T13:08:48.330Z"
   },
   {
    "duration": 3,
    "start_time": "2022-09-18T13:08:48.342Z"
   },
   {
    "duration": 5,
    "start_time": "2022-09-18T13:08:48.347Z"
   },
   {
    "duration": 8,
    "start_time": "2022-09-18T13:08:48.353Z"
   },
   {
    "duration": 8,
    "start_time": "2022-09-18T13:08:48.362Z"
   },
   {
    "duration": 38,
    "start_time": "2022-09-18T13:08:48.372Z"
   },
   {
    "duration": 8,
    "start_time": "2022-09-18T13:08:48.412Z"
   },
   {
    "duration": 378,
    "start_time": "2022-09-18T13:08:48.423Z"
   },
   {
    "duration": 195,
    "start_time": "2022-09-18T13:08:48.802Z"
   },
   {
    "duration": 55,
    "start_time": "2022-09-18T13:08:48.999Z"
   },
   {
    "duration": 22,
    "start_time": "2022-09-18T13:08:49.056Z"
   },
   {
    "duration": 48,
    "start_time": "2022-09-18T13:08:49.080Z"
   },
   {
    "duration": 5,
    "start_time": "2022-09-18T13:08:49.130Z"
   },
   {
    "duration": 87,
    "start_time": "2022-09-18T13:08:49.137Z"
   },
   {
    "duration": 111,
    "start_time": "2022-09-18T13:08:49.226Z"
   },
   {
    "duration": 23,
    "start_time": "2022-09-18T13:08:49.338Z"
   },
   {
    "duration": 24,
    "start_time": "2022-09-18T13:08:49.363Z"
   },
   {
    "duration": 60,
    "start_time": "2022-09-18T13:08:49.388Z"
   },
   {
    "duration": 10,
    "start_time": "2022-09-18T13:08:49.450Z"
   },
   {
    "duration": 11,
    "start_time": "2022-09-18T13:08:49.461Z"
   },
   {
    "duration": 17,
    "start_time": "2022-09-18T13:08:49.473Z"
   },
   {
    "duration": 208,
    "start_time": "2022-09-18T13:08:49.492Z"
   },
   {
    "duration": 42,
    "start_time": "2022-09-18T13:08:49.702Z"
   },
   {
    "duration": 8,
    "start_time": "2022-09-18T13:08:49.746Z"
   },
   {
    "duration": 470,
    "start_time": "2022-09-18T13:08:49.759Z"
   },
   {
    "duration": 18,
    "start_time": "2022-09-18T13:08:50.231Z"
   },
   {
    "duration": 14,
    "start_time": "2022-09-18T13:08:50.251Z"
   },
   {
    "duration": 7,
    "start_time": "2022-09-18T13:08:50.267Z"
   },
   {
    "duration": 50,
    "start_time": "2022-09-18T13:08:50.276Z"
   },
   {
    "duration": 175,
    "start_time": "2022-09-18T13:08:50.328Z"
   },
   {
    "duration": 4,
    "start_time": "2022-09-18T13:08:50.508Z"
   },
   {
    "duration": 7,
    "start_time": "2022-09-18T13:08:50.513Z"
   },
   {
    "duration": 109,
    "start_time": "2022-09-18T13:08:50.522Z"
   },
   {
    "duration": 11,
    "start_time": "2022-09-18T13:08:50.633Z"
   },
   {
    "duration": 7,
    "start_time": "2022-09-18T13:08:50.646Z"
   },
   {
    "duration": 3,
    "start_time": "2022-09-18T13:09:05.784Z"
   },
   {
    "duration": 30,
    "start_time": "2022-09-18T13:09:05.803Z"
   },
   {
    "duration": 8,
    "start_time": "2022-09-18T13:09:05.834Z"
   },
   {
    "duration": 4,
    "start_time": "2022-09-18T13:09:05.844Z"
   },
   {
    "duration": 66,
    "start_time": "2022-09-18T13:09:05.849Z"
   },
   {
    "duration": 22,
    "start_time": "2022-09-18T13:09:05.917Z"
   },
   {
    "duration": 28,
    "start_time": "2022-09-18T13:09:05.941Z"
   },
   {
    "duration": 12,
    "start_time": "2022-09-18T13:09:05.971Z"
   },
   {
    "duration": 26,
    "start_time": "2022-09-18T13:09:05.984Z"
   },
   {
    "duration": 4,
    "start_time": "2022-09-18T13:09:06.012Z"
   },
   {
    "duration": 7,
    "start_time": "2022-09-18T13:09:06.018Z"
   },
   {
    "duration": 8,
    "start_time": "2022-09-18T13:09:06.026Z"
   },
   {
    "duration": 9,
    "start_time": "2022-09-18T13:09:06.036Z"
   },
   {
    "duration": 7,
    "start_time": "2022-09-18T13:09:06.047Z"
   },
   {
    "duration": 408,
    "start_time": "2022-09-18T13:09:06.056Z"
   },
   {
    "duration": 194,
    "start_time": "2022-09-18T13:09:06.465Z"
   },
   {
    "duration": 56,
    "start_time": "2022-09-18T13:09:06.661Z"
   },
   {
    "duration": 21,
    "start_time": "2022-09-18T13:09:06.719Z"
   },
   {
    "duration": 30,
    "start_time": "2022-09-18T13:09:06.742Z"
   },
   {
    "duration": 4,
    "start_time": "2022-09-18T13:09:06.773Z"
   },
   {
    "duration": 111,
    "start_time": "2022-09-18T13:09:06.778Z"
   },
   {
    "duration": 109,
    "start_time": "2022-09-18T13:09:06.891Z"
   },
   {
    "duration": 27,
    "start_time": "2022-09-18T13:09:07.002Z"
   },
   {
    "duration": 27,
    "start_time": "2022-09-18T13:09:07.030Z"
   },
   {
    "duration": 41,
    "start_time": "2022-09-18T13:09:07.058Z"
   },
   {
    "duration": 9,
    "start_time": "2022-09-18T13:09:07.102Z"
   },
   {
    "duration": 9,
    "start_time": "2022-09-18T13:09:07.112Z"
   },
   {
    "duration": 15,
    "start_time": "2022-09-18T13:09:07.123Z"
   },
   {
    "duration": 199,
    "start_time": "2022-09-18T13:09:07.139Z"
   },
   {
    "duration": 35,
    "start_time": "2022-09-18T13:09:07.340Z"
   },
   {
    "duration": 9,
    "start_time": "2022-09-18T13:09:07.376Z"
   },
   {
    "duration": 445,
    "start_time": "2022-09-18T13:09:07.387Z"
   },
   {
    "duration": 19,
    "start_time": "2022-09-18T13:09:07.833Z"
   },
   {
    "duration": 14,
    "start_time": "2022-09-18T13:09:07.854Z"
   },
   {
    "duration": 7,
    "start_time": "2022-09-18T13:09:07.869Z"
   },
   {
    "duration": 45,
    "start_time": "2022-09-18T13:09:07.877Z"
   },
   {
    "duration": 169,
    "start_time": "2022-09-18T13:09:07.923Z"
   },
   {
    "duration": 4,
    "start_time": "2022-09-18T13:09:08.094Z"
   },
   {
    "duration": 7,
    "start_time": "2022-09-18T13:09:08.108Z"
   },
   {
    "duration": 110,
    "start_time": "2022-09-18T13:09:08.117Z"
   },
   {
    "duration": 12,
    "start_time": "2022-09-18T13:09:08.229Z"
   },
   {
    "duration": 6,
    "start_time": "2022-09-18T13:09:08.243Z"
   },
   {
    "duration": 436,
    "start_time": "2022-09-18T13:09:20.598Z"
   },
   {
    "duration": 537,
    "start_time": "2022-09-18T13:09:32.360Z"
   },
   {
    "duration": 219,
    "start_time": "2022-09-18T13:15:02.871Z"
   },
   {
    "duration": 210,
    "start_time": "2022-09-18T13:15:10.493Z"
   },
   {
    "duration": 221,
    "start_time": "2022-09-18T13:15:48.459Z"
   },
   {
    "duration": 221,
    "start_time": "2022-09-18T13:15:51.859Z"
   },
   {
    "duration": 224,
    "start_time": "2022-09-18T13:15:55.417Z"
   },
   {
    "duration": 233,
    "start_time": "2022-09-18T13:16:38.660Z"
   },
   {
    "duration": 5,
    "start_time": "2022-09-18T13:17:10.459Z"
   },
   {
    "duration": 4,
    "start_time": "2022-09-18T13:17:19.302Z"
   },
   {
    "duration": 16,
    "start_time": "2022-09-18T13:17:26.417Z"
   },
   {
    "duration": 9,
    "start_time": "2022-09-18T13:18:33.059Z"
   },
   {
    "duration": 451,
    "start_time": "2022-09-18T13:18:45.490Z"
   },
   {
    "duration": 7,
    "start_time": "2022-09-18T13:19:40.188Z"
   },
   {
    "duration": 1373,
    "start_time": "2022-09-18T16:48:46.757Z"
   },
   {
    "duration": 81,
    "start_time": "2022-09-18T16:48:48.132Z"
   },
   {
    "duration": 12,
    "start_time": "2022-09-18T16:48:48.214Z"
   },
   {
    "duration": 6,
    "start_time": "2022-09-18T16:48:48.229Z"
   },
   {
    "duration": 240,
    "start_time": "2022-09-18T16:48:48.237Z"
   },
   {
    "duration": 18,
    "start_time": "2022-09-18T16:48:48.479Z"
   },
   {
    "duration": 38,
    "start_time": "2022-09-18T16:48:48.499Z"
   },
   {
    "duration": 13,
    "start_time": "2022-09-18T16:48:48.539Z"
   },
   {
    "duration": 5,
    "start_time": "2022-09-18T16:48:48.554Z"
   },
   {
    "duration": 6,
    "start_time": "2022-09-18T16:48:48.561Z"
   },
   {
    "duration": 29,
    "start_time": "2022-09-18T16:48:48.568Z"
   },
   {
    "duration": 13,
    "start_time": "2022-09-18T16:48:48.599Z"
   },
   {
    "duration": 11,
    "start_time": "2022-09-18T16:48:48.614Z"
   },
   {
    "duration": 9,
    "start_time": "2022-09-18T16:48:48.627Z"
   },
   {
    "duration": 2010,
    "start_time": "2022-09-18T16:48:48.638Z"
   },
   {
    "duration": 294,
    "start_time": "2022-09-18T16:48:50.650Z"
   },
   {
    "duration": 71,
    "start_time": "2022-09-18T16:48:50.946Z"
   },
   {
    "duration": 32,
    "start_time": "2022-09-18T16:48:51.019Z"
   },
   {
    "duration": 62,
    "start_time": "2022-09-18T16:48:51.053Z"
   },
   {
    "duration": 11,
    "start_time": "2022-09-18T16:48:51.117Z"
   },
   {
    "duration": 109,
    "start_time": "2022-09-18T16:48:51.130Z"
   },
   {
    "duration": 143,
    "start_time": "2022-09-18T16:48:51.241Z"
   },
   {
    "duration": 29,
    "start_time": "2022-09-18T16:48:51.385Z"
   },
   {
    "duration": 32,
    "start_time": "2022-09-18T16:48:51.415Z"
   },
   {
    "duration": 172,
    "start_time": "2022-09-18T16:48:51.449Z"
   },
   {
    "duration": 9,
    "start_time": "2022-09-18T16:48:51.623Z"
   },
   {
    "duration": 34,
    "start_time": "2022-09-18T16:48:51.634Z"
   },
   {
    "duration": 30,
    "start_time": "2022-09-18T16:48:51.672Z"
   },
   {
    "duration": 326,
    "start_time": "2022-09-18T16:48:51.704Z"
   },
   {
    "duration": 4,
    "start_time": "2022-09-18T16:48:52.032Z"
   },
   {
    "duration": 29,
    "start_time": "2022-09-18T16:48:52.038Z"
   },
   {
    "duration": 18,
    "start_time": "2022-09-18T16:48:52.069Z"
   },
   {
    "duration": 636,
    "start_time": "2022-09-18T16:48:52.094Z"
   },
   {
    "duration": 7,
    "start_time": "2022-09-18T16:48:52.731Z"
   },
   {
    "duration": 129,
    "start_time": "2022-09-18T16:48:52.740Z"
   },
   {
    "duration": 0,
    "start_time": "2022-09-18T16:48:52.871Z"
   },
   {
    "duration": 0,
    "start_time": "2022-09-18T16:48:52.873Z"
   },
   {
    "duration": 0,
    "start_time": "2022-09-18T16:48:52.874Z"
   },
   {
    "duration": 0,
    "start_time": "2022-09-18T16:48:52.876Z"
   },
   {
    "duration": 0,
    "start_time": "2022-09-18T16:48:52.877Z"
   },
   {
    "duration": 0,
    "start_time": "2022-09-18T16:48:52.878Z"
   },
   {
    "duration": 0,
    "start_time": "2022-09-18T16:48:52.896Z"
   },
   {
    "duration": 4,
    "start_time": "2022-09-18T16:52:39.845Z"
   },
   {
    "duration": 39,
    "start_time": "2022-09-18T16:52:39.850Z"
   },
   {
    "duration": 10,
    "start_time": "2022-09-18T16:52:39.891Z"
   },
   {
    "duration": 6,
    "start_time": "2022-09-18T16:52:39.904Z"
   },
   {
    "duration": 89,
    "start_time": "2022-09-18T16:52:39.912Z"
   },
   {
    "duration": 18,
    "start_time": "2022-09-18T16:52:40.003Z"
   },
   {
    "duration": 39,
    "start_time": "2022-09-18T16:52:40.022Z"
   },
   {
    "duration": 32,
    "start_time": "2022-09-18T16:52:40.063Z"
   },
   {
    "duration": 6,
    "start_time": "2022-09-18T16:52:40.098Z"
   },
   {
    "duration": 10,
    "start_time": "2022-09-18T16:52:40.106Z"
   },
   {
    "duration": 3,
    "start_time": "2022-09-18T16:52:40.118Z"
   },
   {
    "duration": 14,
    "start_time": "2022-09-18T16:52:40.122Z"
   },
   {
    "duration": 6,
    "start_time": "2022-09-18T16:52:40.137Z"
   },
   {
    "duration": 11,
    "start_time": "2022-09-18T16:52:40.145Z"
   },
   {
    "duration": 483,
    "start_time": "2022-09-18T16:52:40.157Z"
   },
   {
    "duration": 257,
    "start_time": "2022-09-18T16:52:40.642Z"
   },
   {
    "duration": 54,
    "start_time": "2022-09-18T16:52:40.901Z"
   },
   {
    "duration": 40,
    "start_time": "2022-09-18T16:52:40.957Z"
   },
   {
    "duration": 32,
    "start_time": "2022-09-18T16:52:40.998Z"
   },
   {
    "duration": 6,
    "start_time": "2022-09-18T16:52:41.032Z"
   },
   {
    "duration": 97,
    "start_time": "2022-09-18T16:52:41.040Z"
   },
   {
    "duration": 128,
    "start_time": "2022-09-18T16:52:41.139Z"
   },
   {
    "duration": 30,
    "start_time": "2022-09-18T16:52:41.270Z"
   },
   {
    "duration": 24,
    "start_time": "2022-09-18T16:52:41.301Z"
   },
   {
    "duration": 44,
    "start_time": "2022-09-18T16:52:41.327Z"
   },
   {
    "duration": 9,
    "start_time": "2022-09-18T16:52:41.373Z"
   },
   {
    "duration": 12,
    "start_time": "2022-09-18T16:52:41.384Z"
   },
   {
    "duration": 17,
    "start_time": "2022-09-18T16:52:41.397Z"
   },
   {
    "duration": 290,
    "start_time": "2022-09-18T16:52:41.415Z"
   },
   {
    "duration": 5,
    "start_time": "2022-09-18T16:52:41.707Z"
   },
   {
    "duration": 58,
    "start_time": "2022-09-18T16:52:41.714Z"
   },
   {
    "duration": 23,
    "start_time": "2022-09-18T16:52:41.774Z"
   },
   {
    "duration": 558,
    "start_time": "2022-09-18T16:52:41.799Z"
   },
   {
    "duration": 17,
    "start_time": "2022-09-18T16:52:42.359Z"
   },
   {
    "duration": 24,
    "start_time": "2022-09-18T16:52:42.378Z"
   },
   {
    "duration": 0,
    "start_time": "2022-09-18T16:52:42.403Z"
   },
   {
    "duration": 0,
    "start_time": "2022-09-18T16:52:42.404Z"
   },
   {
    "duration": 0,
    "start_time": "2022-09-18T16:52:42.405Z"
   },
   {
    "duration": 0,
    "start_time": "2022-09-18T16:52:42.407Z"
   },
   {
    "duration": 0,
    "start_time": "2022-09-18T16:52:42.408Z"
   },
   {
    "duration": 0,
    "start_time": "2022-09-18T16:52:42.409Z"
   },
   {
    "duration": 0,
    "start_time": "2022-09-18T16:52:42.410Z"
   },
   {
    "duration": 4,
    "start_time": "2022-09-18T16:53:52.250Z"
   },
   {
    "duration": 34,
    "start_time": "2022-09-18T16:53:52.276Z"
   },
   {
    "duration": 10,
    "start_time": "2022-09-18T16:53:52.312Z"
   },
   {
    "duration": 10,
    "start_time": "2022-09-18T16:53:52.324Z"
   },
   {
    "duration": 78,
    "start_time": "2022-09-18T16:53:52.336Z"
   },
   {
    "duration": 22,
    "start_time": "2022-09-18T16:53:52.417Z"
   },
   {
    "duration": 55,
    "start_time": "2022-09-18T16:53:52.441Z"
   },
   {
    "duration": 12,
    "start_time": "2022-09-18T16:53:52.498Z"
   },
   {
    "duration": 5,
    "start_time": "2022-09-18T16:53:52.511Z"
   },
   {
    "duration": 5,
    "start_time": "2022-09-18T16:53:52.518Z"
   },
   {
    "duration": 3,
    "start_time": "2022-09-18T16:53:52.525Z"
   },
   {
    "duration": 11,
    "start_time": "2022-09-18T16:53:52.530Z"
   },
   {
    "duration": 6,
    "start_time": "2022-09-18T16:53:52.543Z"
   },
   {
    "duration": 45,
    "start_time": "2022-09-18T16:53:52.550Z"
   },
   {
    "duration": 486,
    "start_time": "2022-09-18T16:53:52.598Z"
   },
   {
    "duration": 257,
    "start_time": "2022-09-18T16:53:53.086Z"
   },
   {
    "duration": 62,
    "start_time": "2022-09-18T16:53:53.345Z"
   },
   {
    "duration": 25,
    "start_time": "2022-09-18T16:53:53.409Z"
   },
   {
    "duration": 33,
    "start_time": "2022-09-18T16:53:53.436Z"
   },
   {
    "duration": 25,
    "start_time": "2022-09-18T16:53:53.470Z"
   },
   {
    "duration": 80,
    "start_time": "2022-09-18T16:53:53.497Z"
   },
   {
    "duration": 140,
    "start_time": "2022-09-18T16:53:53.579Z"
   },
   {
    "duration": 23,
    "start_time": "2022-09-18T16:53:53.721Z"
   },
   {
    "duration": 24,
    "start_time": "2022-09-18T16:53:53.745Z"
   },
   {
    "duration": 45,
    "start_time": "2022-09-18T16:53:53.770Z"
   },
   {
    "duration": 9,
    "start_time": "2022-09-18T16:53:53.817Z"
   },
   {
    "duration": 11,
    "start_time": "2022-09-18T16:53:53.828Z"
   },
   {
    "duration": 17,
    "start_time": "2022-09-18T16:53:53.840Z"
   },
   {
    "duration": 267,
    "start_time": "2022-09-18T16:53:53.859Z"
   },
   {
    "duration": 5,
    "start_time": "2022-09-18T16:53:54.127Z"
   },
   {
    "duration": 66,
    "start_time": "2022-09-18T16:53:54.134Z"
   },
   {
    "duration": 10,
    "start_time": "2022-09-18T16:53:54.202Z"
   },
   {
    "duration": 546,
    "start_time": "2022-09-18T16:53:54.214Z"
   },
   {
    "duration": 17,
    "start_time": "2022-09-18T16:53:54.761Z"
   },
   {
    "duration": 22,
    "start_time": "2022-09-18T16:53:54.780Z"
   },
   {
    "duration": 0,
    "start_time": "2022-09-18T16:53:54.803Z"
   },
   {
    "duration": 0,
    "start_time": "2022-09-18T16:53:54.807Z"
   },
   {
    "duration": 0,
    "start_time": "2022-09-18T16:53:54.808Z"
   },
   {
    "duration": 0,
    "start_time": "2022-09-18T16:53:54.809Z"
   },
   {
    "duration": 0,
    "start_time": "2022-09-18T16:53:54.811Z"
   },
   {
    "duration": 0,
    "start_time": "2022-09-18T16:53:54.812Z"
   },
   {
    "duration": 0,
    "start_time": "2022-09-18T16:53:54.813Z"
   },
   {
    "duration": 289,
    "start_time": "2022-09-18T16:57:27.704Z"
   },
   {
    "duration": 23,
    "start_time": "2022-09-18T16:58:32.930Z"
   },
   {
    "duration": 21,
    "start_time": "2022-09-18T16:58:58.297Z"
   },
   {
    "duration": 4,
    "start_time": "2022-09-18T16:59:06.929Z"
   },
   {
    "duration": 38,
    "start_time": "2022-09-18T16:59:06.936Z"
   },
   {
    "duration": 10,
    "start_time": "2022-09-18T16:59:06.976Z"
   },
   {
    "duration": 8,
    "start_time": "2022-09-18T16:59:06.988Z"
   },
   {
    "duration": 79,
    "start_time": "2022-09-18T16:59:06.998Z"
   },
   {
    "duration": 22,
    "start_time": "2022-09-18T16:59:07.078Z"
   },
   {
    "duration": 33,
    "start_time": "2022-09-18T16:59:07.102Z"
   },
   {
    "duration": 12,
    "start_time": "2022-09-18T16:59:07.136Z"
   },
   {
    "duration": 6,
    "start_time": "2022-09-18T16:59:07.150Z"
   },
   {
    "duration": 5,
    "start_time": "2022-09-18T16:59:07.157Z"
   },
   {
    "duration": 2,
    "start_time": "2022-09-18T16:59:07.198Z"
   },
   {
    "duration": 14,
    "start_time": "2022-09-18T16:59:07.201Z"
   },
   {
    "duration": 5,
    "start_time": "2022-09-18T16:59:07.217Z"
   },
   {
    "duration": 13,
    "start_time": "2022-09-18T16:59:07.224Z"
   },
   {
    "duration": 467,
    "start_time": "2022-09-18T16:59:07.239Z"
   },
   {
    "duration": 267,
    "start_time": "2022-09-18T16:59:07.708Z"
   },
   {
    "duration": 65,
    "start_time": "2022-09-18T16:59:07.977Z"
   },
   {
    "duration": 27,
    "start_time": "2022-09-18T16:59:08.044Z"
   },
   {
    "duration": 51,
    "start_time": "2022-09-18T16:59:08.073Z"
   },
   {
    "duration": 6,
    "start_time": "2022-09-18T16:59:08.126Z"
   },
   {
    "duration": 99,
    "start_time": "2022-09-18T16:59:08.134Z"
   },
   {
    "duration": 136,
    "start_time": "2022-09-18T16:59:08.235Z"
   },
   {
    "duration": 33,
    "start_time": "2022-09-18T16:59:08.373Z"
   },
   {
    "duration": 24,
    "start_time": "2022-09-18T16:59:08.409Z"
   },
   {
    "duration": 51,
    "start_time": "2022-09-18T16:59:08.435Z"
   },
   {
    "duration": 11,
    "start_time": "2022-09-18T16:59:08.487Z"
   },
   {
    "duration": 13,
    "start_time": "2022-09-18T16:59:08.499Z"
   },
   {
    "duration": 16,
    "start_time": "2022-09-18T16:59:08.516Z"
   },
   {
    "duration": 323,
    "start_time": "2022-09-18T16:59:08.533Z"
   },
   {
    "duration": 22,
    "start_time": "2022-09-18T16:59:08.859Z"
   },
   {
    "duration": 8,
    "start_time": "2022-09-18T16:59:08.895Z"
   },
   {
    "duration": 52,
    "start_time": "2022-09-18T16:59:08.905Z"
   },
   {
    "duration": 11,
    "start_time": "2022-09-18T16:59:08.958Z"
   },
   {
    "duration": 616,
    "start_time": "2022-09-18T16:59:08.971Z"
   },
   {
    "duration": 21,
    "start_time": "2022-09-18T16:59:09.589Z"
   },
   {
    "duration": 9,
    "start_time": "2022-09-18T16:59:09.611Z"
   },
   {
    "duration": 0,
    "start_time": "2022-09-18T16:59:09.621Z"
   },
   {
    "duration": 0,
    "start_time": "2022-09-18T16:59:09.623Z"
   },
   {
    "duration": 0,
    "start_time": "2022-09-18T16:59:09.624Z"
   },
   {
    "duration": 0,
    "start_time": "2022-09-18T16:59:09.625Z"
   },
   {
    "duration": 0,
    "start_time": "2022-09-18T16:59:09.626Z"
   },
   {
    "duration": 0,
    "start_time": "2022-09-18T16:59:09.628Z"
   },
   {
    "duration": 0,
    "start_time": "2022-09-18T16:59:09.629Z"
   },
   {
    "duration": 24,
    "start_time": "2022-09-18T17:00:09.142Z"
   },
   {
    "duration": 25,
    "start_time": "2022-09-18T17:00:31.697Z"
   },
   {
    "duration": 26,
    "start_time": "2022-09-18T17:00:52.567Z"
   },
   {
    "duration": 24,
    "start_time": "2022-09-18T17:01:00.228Z"
   },
   {
    "duration": 30,
    "start_time": "2022-09-18T17:01:14.224Z"
   },
   {
    "duration": 25,
    "start_time": "2022-09-18T17:01:36.402Z"
   },
   {
    "duration": 18,
    "start_time": "2022-09-18T17:06:51.197Z"
   },
   {
    "duration": 24,
    "start_time": "2022-09-18T17:07:07.288Z"
   },
   {
    "duration": 4,
    "start_time": "2022-09-18T17:08:19.481Z"
   },
   {
    "duration": 35,
    "start_time": "2022-09-18T17:08:30.404Z"
   },
   {
    "duration": 17,
    "start_time": "2022-09-18T17:09:54.078Z"
   },
   {
    "duration": 9,
    "start_time": "2022-09-18T17:10:52.649Z"
   },
   {
    "duration": 6,
    "start_time": "2022-09-18T17:13:48.077Z"
   },
   {
    "duration": 20,
    "start_time": "2022-09-18T17:14:26.211Z"
   },
   {
    "duration": 1140,
    "start_time": "2022-09-18T17:14:43.751Z"
   },
   {
    "duration": 14,
    "start_time": "2022-09-18T17:14:53.258Z"
   },
   {
    "duration": 15,
    "start_time": "2022-09-18T17:15:05.656Z"
   },
   {
    "duration": 17,
    "start_time": "2022-09-18T17:15:11.947Z"
   },
   {
    "duration": 14,
    "start_time": "2022-09-18T17:15:31.185Z"
   },
   {
    "duration": 10,
    "start_time": "2022-09-18T17:15:38.384Z"
   },
   {
    "duration": 13,
    "start_time": "2022-09-18T17:15:43.747Z"
   },
   {
    "duration": 14,
    "start_time": "2022-09-18T17:15:50.970Z"
   },
   {
    "duration": 6,
    "start_time": "2022-09-18T17:16:06.313Z"
   },
   {
    "duration": 13,
    "start_time": "2022-09-18T17:16:40.488Z"
   },
   {
    "duration": 6,
    "start_time": "2022-09-18T17:16:55.751Z"
   },
   {
    "duration": 6,
    "start_time": "2022-09-18T17:17:10.314Z"
   },
   {
    "duration": 17,
    "start_time": "2022-09-18T17:17:15.418Z"
   },
   {
    "duration": 9,
    "start_time": "2022-09-18T17:17:31.944Z"
   },
   {
    "duration": 9,
    "start_time": "2022-09-18T17:17:45.561Z"
   },
   {
    "duration": 9,
    "start_time": "2022-09-18T17:17:50.953Z"
   },
   {
    "duration": 26,
    "start_time": "2022-09-18T17:19:02.985Z"
   },
   {
    "duration": 20,
    "start_time": "2022-09-18T17:19:14.215Z"
   },
   {
    "duration": 25,
    "start_time": "2022-09-18T17:19:23.252Z"
   },
   {
    "duration": 4,
    "start_time": "2022-09-18T17:19:27.814Z"
   },
   {
    "duration": 34,
    "start_time": "2022-09-18T17:19:27.883Z"
   },
   {
    "duration": 10,
    "start_time": "2022-09-18T17:19:27.920Z"
   },
   {
    "duration": 8,
    "start_time": "2022-09-18T17:19:27.932Z"
   },
   {
    "duration": 79,
    "start_time": "2022-09-18T17:19:27.942Z"
   },
   {
    "duration": 23,
    "start_time": "2022-09-18T17:19:28.024Z"
   },
   {
    "duration": 60,
    "start_time": "2022-09-18T17:19:28.049Z"
   },
   {
    "duration": 19,
    "start_time": "2022-09-18T17:19:28.112Z"
   },
   {
    "duration": 6,
    "start_time": "2022-09-18T17:19:28.133Z"
   },
   {
    "duration": 10,
    "start_time": "2022-09-18T17:19:28.141Z"
   },
   {
    "duration": 4,
    "start_time": "2022-09-18T17:19:28.153Z"
   },
   {
    "duration": 38,
    "start_time": "2022-09-18T17:19:28.159Z"
   },
   {
    "duration": 13,
    "start_time": "2022-09-18T17:19:28.199Z"
   },
   {
    "duration": 483,
    "start_time": "2022-09-18T17:19:28.214Z"
   },
   {
    "duration": 296,
    "start_time": "2022-09-18T17:19:28.701Z"
   },
   {
    "duration": 60,
    "start_time": "2022-09-18T17:19:28.998Z"
   },
   {
    "duration": 45,
    "start_time": "2022-09-18T17:19:29.060Z"
   },
   {
    "duration": 33,
    "start_time": "2022-09-18T17:19:29.107Z"
   },
   {
    "duration": 6,
    "start_time": "2022-09-18T17:19:29.141Z"
   },
   {
    "duration": 101,
    "start_time": "2022-09-18T17:19:29.149Z"
   },
   {
    "duration": 151,
    "start_time": "2022-09-18T17:19:29.252Z"
   },
   {
    "duration": 27,
    "start_time": "2022-09-18T17:19:29.404Z"
   },
   {
    "duration": 26,
    "start_time": "2022-09-18T17:19:29.433Z"
   },
   {
    "duration": 44,
    "start_time": "2022-09-18T17:19:29.461Z"
   },
   {
    "duration": 10,
    "start_time": "2022-09-18T17:19:29.507Z"
   },
   {
    "duration": 12,
    "start_time": "2022-09-18T17:19:29.518Z"
   },
   {
    "duration": 18,
    "start_time": "2022-09-18T17:19:29.532Z"
   },
   {
    "duration": 8,
    "start_time": "2022-09-18T17:19:29.551Z"
   },
   {
    "duration": 46,
    "start_time": "2022-09-18T17:19:29.561Z"
   },
   {
    "duration": 4,
    "start_time": "2022-09-18T17:19:29.609Z"
   },
   {
    "duration": 10,
    "start_time": "2022-09-18T17:19:29.615Z"
   },
   {
    "duration": 8,
    "start_time": "2022-09-18T17:19:29.627Z"
   },
   {
    "duration": 62,
    "start_time": "2022-09-18T17:19:29.636Z"
   },
   {
    "duration": 10,
    "start_time": "2022-09-18T17:19:29.700Z"
   },
   {
    "duration": 557,
    "start_time": "2022-09-18T17:19:29.711Z"
   },
   {
    "duration": 26,
    "start_time": "2022-09-18T17:19:30.270Z"
   },
   {
    "duration": 9,
    "start_time": "2022-09-18T17:19:30.298Z"
   },
   {
    "duration": 0,
    "start_time": "2022-09-18T17:19:30.308Z"
   },
   {
    "duration": 0,
    "start_time": "2022-09-18T17:19:30.310Z"
   },
   {
    "duration": 0,
    "start_time": "2022-09-18T17:19:30.311Z"
   },
   {
    "duration": 0,
    "start_time": "2022-09-18T17:19:30.312Z"
   },
   {
    "duration": 0,
    "start_time": "2022-09-18T17:19:30.314Z"
   },
   {
    "duration": 0,
    "start_time": "2022-09-18T17:19:30.315Z"
   },
   {
    "duration": 0,
    "start_time": "2022-09-18T17:19:30.316Z"
   },
   {
    "duration": 4,
    "start_time": "2022-09-18T17:20:48.408Z"
   },
   {
    "duration": 34,
    "start_time": "2022-09-18T17:20:48.453Z"
   },
   {
    "duration": 11,
    "start_time": "2022-09-18T17:20:48.489Z"
   },
   {
    "duration": 8,
    "start_time": "2022-09-18T17:20:48.502Z"
   },
   {
    "duration": 74,
    "start_time": "2022-09-18T17:20:48.511Z"
   },
   {
    "duration": 23,
    "start_time": "2022-09-18T17:20:48.587Z"
   },
   {
    "duration": 35,
    "start_time": "2022-09-18T17:20:48.611Z"
   },
   {
    "duration": 12,
    "start_time": "2022-09-18T17:20:48.648Z"
   },
   {
    "duration": 34,
    "start_time": "2022-09-18T17:20:48.662Z"
   },
   {
    "duration": 6,
    "start_time": "2022-09-18T17:20:48.698Z"
   },
   {
    "duration": 5,
    "start_time": "2022-09-18T17:20:48.705Z"
   },
   {
    "duration": 12,
    "start_time": "2022-09-18T17:20:48.712Z"
   },
   {
    "duration": 12,
    "start_time": "2022-09-18T17:20:48.726Z"
   },
   {
    "duration": 472,
    "start_time": "2022-09-18T17:20:48.740Z"
   },
   {
    "duration": 267,
    "start_time": "2022-09-18T17:20:49.216Z"
   },
   {
    "duration": 62,
    "start_time": "2022-09-18T17:20:49.485Z"
   },
   {
    "duration": 26,
    "start_time": "2022-09-18T17:20:49.549Z"
   },
   {
    "duration": 34,
    "start_time": "2022-09-18T17:20:49.594Z"
   },
   {
    "duration": 7,
    "start_time": "2022-09-18T17:20:49.630Z"
   },
   {
    "duration": 100,
    "start_time": "2022-09-18T17:20:49.639Z"
   },
   {
    "duration": 136,
    "start_time": "2022-09-18T17:20:49.741Z"
   },
   {
    "duration": 45,
    "start_time": "2022-09-18T17:20:49.879Z"
   },
   {
    "duration": 24,
    "start_time": "2022-09-18T17:20:49.925Z"
   },
   {
    "duration": 86,
    "start_time": "2022-09-18T17:20:49.951Z"
   },
   {
    "duration": 10,
    "start_time": "2022-09-18T17:20:50.039Z"
   },
   {
    "duration": 13,
    "start_time": "2022-09-18T17:20:50.050Z"
   },
   {
    "duration": 18,
    "start_time": "2022-09-18T17:20:50.065Z"
   },
   {
    "duration": 19,
    "start_time": "2022-09-18T17:20:50.085Z"
   },
   {
    "duration": 6,
    "start_time": "2022-09-18T17:20:50.106Z"
   },
   {
    "duration": 23,
    "start_time": "2022-09-18T17:20:50.113Z"
   },
   {
    "duration": 9,
    "start_time": "2022-09-18T17:20:50.138Z"
   },
   {
    "duration": 48,
    "start_time": "2022-09-18T17:20:50.148Z"
   },
   {
    "duration": 11,
    "start_time": "2022-09-18T17:20:50.198Z"
   },
   {
    "duration": 554,
    "start_time": "2022-09-18T17:20:50.211Z"
   },
   {
    "duration": 16,
    "start_time": "2022-09-18T17:20:50.767Z"
   },
   {
    "duration": 18,
    "start_time": "2022-09-18T17:20:50.785Z"
   },
   {
    "duration": 0,
    "start_time": "2022-09-18T17:20:50.805Z"
   },
   {
    "duration": 0,
    "start_time": "2022-09-18T17:20:50.806Z"
   },
   {
    "duration": 0,
    "start_time": "2022-09-18T17:20:50.807Z"
   },
   {
    "duration": 0,
    "start_time": "2022-09-18T17:20:50.809Z"
   },
   {
    "duration": 0,
    "start_time": "2022-09-18T17:20:50.810Z"
   },
   {
    "duration": 0,
    "start_time": "2022-09-18T17:20:50.812Z"
   },
   {
    "duration": 0,
    "start_time": "2022-09-18T17:20:50.813Z"
   },
   {
    "duration": 10,
    "start_time": "2022-09-18T17:21:37.299Z"
   },
   {
    "duration": 16,
    "start_time": "2022-09-18T17:24:06.563Z"
   },
   {
    "duration": 10,
    "start_time": "2022-09-18T17:24:44.620Z"
   },
   {
    "duration": 10,
    "start_time": "2022-09-18T17:24:58.910Z"
   },
   {
    "duration": 17,
    "start_time": "2022-09-18T17:27:56.685Z"
   },
   {
    "duration": 10,
    "start_time": "2022-09-18T17:32:42.961Z"
   },
   {
    "duration": 11,
    "start_time": "2022-09-18T17:32:59.207Z"
   },
   {
    "duration": 9,
    "start_time": "2022-09-18T17:33:01.258Z"
   },
   {
    "duration": 13,
    "start_time": "2022-09-18T17:33:03.877Z"
   },
   {
    "duration": 9,
    "start_time": "2022-09-18T17:33:20.557Z"
   },
   {
    "duration": 16,
    "start_time": "2022-09-18T17:33:29.781Z"
   },
   {
    "duration": 42,
    "start_time": "2022-09-18T17:33:37.581Z"
   },
   {
    "duration": 3,
    "start_time": "2022-09-18T17:33:41.358Z"
   },
   {
    "duration": 38,
    "start_time": "2022-09-18T17:33:41.364Z"
   },
   {
    "duration": 10,
    "start_time": "2022-09-18T17:33:41.404Z"
   },
   {
    "duration": 11,
    "start_time": "2022-09-18T17:33:41.416Z"
   },
   {
    "duration": 155,
    "start_time": "2022-09-18T17:33:41.429Z"
   },
   {
    "duration": 19,
    "start_time": "2022-09-18T17:33:41.586Z"
   },
   {
    "duration": 36,
    "start_time": "2022-09-18T17:33:41.608Z"
   },
   {
    "duration": 14,
    "start_time": "2022-09-18T17:33:41.646Z"
   },
   {
    "duration": 36,
    "start_time": "2022-09-18T17:33:41.663Z"
   },
   {
    "duration": 10,
    "start_time": "2022-09-18T17:33:41.701Z"
   },
   {
    "duration": 7,
    "start_time": "2022-09-18T17:33:41.713Z"
   },
   {
    "duration": 22,
    "start_time": "2022-09-18T17:33:41.724Z"
   },
   {
    "duration": 10,
    "start_time": "2022-09-18T17:33:41.748Z"
   },
   {
    "duration": 482,
    "start_time": "2022-09-18T17:33:41.760Z"
   },
   {
    "duration": 275,
    "start_time": "2022-09-18T17:33:42.244Z"
   },
   {
    "duration": 60,
    "start_time": "2022-09-18T17:33:42.521Z"
   },
   {
    "duration": 38,
    "start_time": "2022-09-18T17:33:42.583Z"
   },
   {
    "duration": 34,
    "start_time": "2022-09-18T17:33:42.623Z"
   },
   {
    "duration": 6,
    "start_time": "2022-09-18T17:33:42.659Z"
   },
   {
    "duration": 113,
    "start_time": "2022-09-18T17:33:42.667Z"
   },
   {
    "duration": 162,
    "start_time": "2022-09-18T17:33:42.782Z"
   },
   {
    "duration": 25,
    "start_time": "2022-09-18T17:33:42.946Z"
   },
   {
    "duration": 44,
    "start_time": "2022-09-18T17:33:42.973Z"
   },
   {
    "duration": 44,
    "start_time": "2022-09-18T17:33:43.019Z"
   },
   {
    "duration": 10,
    "start_time": "2022-09-18T17:33:43.064Z"
   },
   {
    "duration": 13,
    "start_time": "2022-09-18T17:33:43.075Z"
   },
   {
    "duration": 19,
    "start_time": "2022-09-18T17:33:43.089Z"
   },
   {
    "duration": 18,
    "start_time": "2022-09-18T17:33:43.110Z"
   },
   {
    "duration": 5,
    "start_time": "2022-09-18T17:33:43.130Z"
   },
   {
    "duration": 12,
    "start_time": "2022-09-18T17:33:43.137Z"
   },
   {
    "duration": 53,
    "start_time": "2022-09-18T17:33:43.150Z"
   },
   {
    "duration": 10,
    "start_time": "2022-09-18T17:33:43.207Z"
   },
   {
    "duration": 11,
    "start_time": "2022-09-18T17:33:43.219Z"
   },
   {
    "duration": 544,
    "start_time": "2022-09-18T17:33:43.232Z"
   },
   {
    "duration": 19,
    "start_time": "2022-09-18T17:33:43.778Z"
   },
   {
    "duration": 6,
    "start_time": "2022-09-18T17:33:43.799Z"
   },
   {
    "duration": 48,
    "start_time": "2022-09-18T17:33:43.806Z"
   },
   {
    "duration": 0,
    "start_time": "2022-09-18T17:33:43.857Z"
   },
   {
    "duration": 0,
    "start_time": "2022-09-18T17:33:43.858Z"
   },
   {
    "duration": 0,
    "start_time": "2022-09-18T17:33:43.860Z"
   },
   {
    "duration": 0,
    "start_time": "2022-09-18T17:33:43.861Z"
   },
   {
    "duration": 0,
    "start_time": "2022-09-18T17:33:43.862Z"
   },
   {
    "duration": 0,
    "start_time": "2022-09-18T17:33:43.864Z"
   },
   {
    "duration": 12,
    "start_time": "2022-09-18T17:34:00.656Z"
   },
   {
    "duration": 3,
    "start_time": "2022-09-18T17:34:30.049Z"
   },
   {
    "duration": 34,
    "start_time": "2022-09-18T17:34:30.082Z"
   },
   {
    "duration": 10,
    "start_time": "2022-09-18T17:34:30.118Z"
   },
   {
    "duration": 11,
    "start_time": "2022-09-18T17:34:30.129Z"
   },
   {
    "duration": 76,
    "start_time": "2022-09-18T17:34:30.141Z"
   },
   {
    "duration": 18,
    "start_time": "2022-09-18T17:34:30.219Z"
   },
   {
    "duration": 32,
    "start_time": "2022-09-18T17:34:30.239Z"
   },
   {
    "duration": 32,
    "start_time": "2022-09-18T17:34:30.273Z"
   },
   {
    "duration": 15,
    "start_time": "2022-09-18T17:34:30.307Z"
   },
   {
    "duration": 15,
    "start_time": "2022-09-18T17:34:30.324Z"
   },
   {
    "duration": 9,
    "start_time": "2022-09-18T17:34:30.341Z"
   },
   {
    "duration": 12,
    "start_time": "2022-09-18T17:34:30.352Z"
   },
   {
    "duration": 30,
    "start_time": "2022-09-18T17:34:30.366Z"
   },
   {
    "duration": 488,
    "start_time": "2022-09-18T17:34:30.398Z"
   },
   {
    "duration": 302,
    "start_time": "2022-09-18T17:34:30.894Z"
   },
   {
    "duration": 60,
    "start_time": "2022-09-18T17:34:31.198Z"
   },
   {
    "duration": 43,
    "start_time": "2022-09-18T17:34:31.260Z"
   },
   {
    "duration": 35,
    "start_time": "2022-09-18T17:34:31.305Z"
   },
   {
    "duration": 6,
    "start_time": "2022-09-18T17:34:31.341Z"
   },
   {
    "duration": 102,
    "start_time": "2022-09-18T17:34:31.349Z"
   },
   {
    "duration": 137,
    "start_time": "2022-09-18T17:34:31.452Z"
   },
   {
    "duration": 24,
    "start_time": "2022-09-18T17:34:31.594Z"
   },
   {
    "duration": 27,
    "start_time": "2022-09-18T17:34:31.619Z"
   },
   {
    "duration": 52,
    "start_time": "2022-09-18T17:34:31.648Z"
   },
   {
    "duration": 10,
    "start_time": "2022-09-18T17:34:31.702Z"
   },
   {
    "duration": 13,
    "start_time": "2022-09-18T17:34:31.713Z"
   },
   {
    "duration": 21,
    "start_time": "2022-09-18T17:34:31.727Z"
   },
   {
    "duration": 24,
    "start_time": "2022-09-18T17:34:31.749Z"
   },
   {
    "duration": 25,
    "start_time": "2022-09-18T17:34:31.775Z"
   },
   {
    "duration": 13,
    "start_time": "2022-09-18T17:34:31.801Z"
   },
   {
    "duration": 35,
    "start_time": "2022-09-18T17:34:31.816Z"
   },
   {
    "duration": 42,
    "start_time": "2022-09-18T17:34:31.853Z"
   },
   {
    "duration": 11,
    "start_time": "2022-09-18T17:34:31.897Z"
   },
   {
    "duration": 554,
    "start_time": "2022-09-18T17:34:31.910Z"
   },
   {
    "duration": 16,
    "start_time": "2022-09-18T17:34:32.466Z"
   },
   {
    "duration": 15,
    "start_time": "2022-09-18T17:34:32.494Z"
   },
   {
    "duration": 44,
    "start_time": "2022-09-18T17:34:32.511Z"
   },
   {
    "duration": 0,
    "start_time": "2022-09-18T17:34:32.558Z"
   },
   {
    "duration": 0,
    "start_time": "2022-09-18T17:34:32.560Z"
   },
   {
    "duration": 0,
    "start_time": "2022-09-18T17:34:32.561Z"
   },
   {
    "duration": 0,
    "start_time": "2022-09-18T17:34:32.563Z"
   },
   {
    "duration": 0,
    "start_time": "2022-09-18T17:34:32.564Z"
   },
   {
    "duration": 0,
    "start_time": "2022-09-18T17:34:32.566Z"
   },
   {
    "duration": 10,
    "start_time": "2022-09-18T17:39:35.955Z"
   },
   {
    "duration": 38,
    "start_time": "2022-09-18T17:39:42.014Z"
   },
   {
    "duration": 12,
    "start_time": "2022-09-18T17:39:44.180Z"
   },
   {
    "duration": 3,
    "start_time": "2022-09-18T17:40:04.153Z"
   },
   {
    "duration": 42,
    "start_time": "2022-09-18T17:40:04.158Z"
   },
   {
    "duration": 10,
    "start_time": "2022-09-18T17:40:04.202Z"
   },
   {
    "duration": 8,
    "start_time": "2022-09-18T17:40:04.214Z"
   },
   {
    "duration": 79,
    "start_time": "2022-09-18T17:40:04.224Z"
   },
   {
    "duration": 18,
    "start_time": "2022-09-18T17:40:04.305Z"
   },
   {
    "duration": 36,
    "start_time": "2022-09-18T17:40:04.325Z"
   },
   {
    "duration": 36,
    "start_time": "2022-09-18T17:40:04.362Z"
   },
   {
    "duration": 5,
    "start_time": "2022-09-18T17:40:04.400Z"
   },
   {
    "duration": 13,
    "start_time": "2022-09-18T17:40:04.407Z"
   },
   {
    "duration": 7,
    "start_time": "2022-09-18T17:40:04.422Z"
   },
   {
    "duration": 13,
    "start_time": "2022-09-18T17:40:04.430Z"
   },
   {
    "duration": 11,
    "start_time": "2022-09-18T17:40:04.444Z"
   },
   {
    "duration": 501,
    "start_time": "2022-09-18T17:40:04.457Z"
   },
   {
    "duration": 307,
    "start_time": "2022-09-18T17:40:04.959Z"
   },
   {
    "duration": 65,
    "start_time": "2022-09-18T17:40:05.268Z"
   },
   {
    "duration": 27,
    "start_time": "2022-09-18T17:40:05.335Z"
   },
   {
    "duration": 54,
    "start_time": "2022-09-18T17:40:05.364Z"
   },
   {
    "duration": 6,
    "start_time": "2022-09-18T17:40:05.419Z"
   },
   {
    "duration": 94,
    "start_time": "2022-09-18T17:40:05.427Z"
   },
   {
    "duration": 143,
    "start_time": "2022-09-18T17:40:05.523Z"
   },
   {
    "duration": 31,
    "start_time": "2022-09-18T17:40:05.668Z"
   },
   {
    "duration": 27,
    "start_time": "2022-09-18T17:40:05.701Z"
   },
   {
    "duration": 44,
    "start_time": "2022-09-18T17:40:05.732Z"
   },
   {
    "duration": 10,
    "start_time": "2022-09-18T17:40:05.778Z"
   },
   {
    "duration": 13,
    "start_time": "2022-09-18T17:40:05.790Z"
   },
   {
    "duration": 18,
    "start_time": "2022-09-18T17:40:05.805Z"
   },
   {
    "duration": 17,
    "start_time": "2022-09-18T17:40:05.825Z"
   },
   {
    "duration": 5,
    "start_time": "2022-09-18T17:40:05.844Z"
   },
   {
    "duration": 8,
    "start_time": "2022-09-18T17:40:05.851Z"
   },
   {
    "duration": 74,
    "start_time": "2022-09-18T17:40:05.861Z"
   },
   {
    "duration": 10,
    "start_time": "2022-09-18T17:40:05.937Z"
   },
   {
    "duration": 10,
    "start_time": "2022-09-18T17:40:05.949Z"
   },
   {
    "duration": 551,
    "start_time": "2022-09-18T17:40:05.961Z"
   },
   {
    "duration": 20,
    "start_time": "2022-09-18T17:40:06.514Z"
   },
   {
    "duration": 7,
    "start_time": "2022-09-18T17:40:06.536Z"
   },
   {
    "duration": 62,
    "start_time": "2022-09-18T17:40:06.546Z"
   },
   {
    "duration": 0,
    "start_time": "2022-09-18T17:40:06.612Z"
   },
   {
    "duration": 0,
    "start_time": "2022-09-18T17:40:06.613Z"
   },
   {
    "duration": 0,
    "start_time": "2022-09-18T17:40:06.615Z"
   },
   {
    "duration": 0,
    "start_time": "2022-09-18T17:40:06.617Z"
   },
   {
    "duration": 0,
    "start_time": "2022-09-18T17:40:06.618Z"
   },
   {
    "duration": 0,
    "start_time": "2022-09-18T17:40:06.620Z"
   },
   {
    "duration": 37,
    "start_time": "2022-09-18T17:42:50.752Z"
   },
   {
    "duration": 12,
    "start_time": "2022-09-18T17:43:09.401Z"
   },
   {
    "duration": 5,
    "start_time": "2022-09-18T17:43:14.251Z"
   },
   {
    "duration": 65,
    "start_time": "2022-09-18T17:43:34.811Z"
   },
   {
    "duration": 25,
    "start_time": "2022-09-18T17:43:49.243Z"
   },
   {
    "duration": 12,
    "start_time": "2022-09-18T17:43:57.148Z"
   },
   {
    "duration": 3,
    "start_time": "2022-09-18T17:44:09.801Z"
   },
   {
    "duration": 34,
    "start_time": "2022-09-18T17:44:09.836Z"
   },
   {
    "duration": 10,
    "start_time": "2022-09-18T17:44:09.872Z"
   },
   {
    "duration": 7,
    "start_time": "2022-09-18T17:44:09.884Z"
   },
   {
    "duration": 72,
    "start_time": "2022-09-18T17:44:09.893Z"
   },
   {
    "duration": 18,
    "start_time": "2022-09-18T17:44:09.966Z"
   },
   {
    "duration": 39,
    "start_time": "2022-09-18T17:44:09.986Z"
   },
   {
    "duration": 12,
    "start_time": "2022-09-18T17:44:10.027Z"
   },
   {
    "duration": 120,
    "start_time": "2022-09-18T17:44:10.041Z"
   },
   {
    "duration": 7,
    "start_time": "2022-09-18T17:44:10.163Z"
   },
   {
    "duration": 4,
    "start_time": "2022-09-18T17:44:10.172Z"
   },
   {
    "duration": 10,
    "start_time": "2022-09-18T17:44:10.195Z"
   },
   {
    "duration": 14,
    "start_time": "2022-09-18T17:44:10.206Z"
   },
   {
    "duration": 433,
    "start_time": "2022-09-18T17:44:10.222Z"
   },
   {
    "duration": 276,
    "start_time": "2022-09-18T17:44:10.656Z"
   },
   {
    "duration": 62,
    "start_time": "2022-09-18T17:44:10.934Z"
   },
   {
    "duration": 25,
    "start_time": "2022-09-18T17:44:10.997Z"
   },
   {
    "duration": 32,
    "start_time": "2022-09-18T17:44:11.024Z"
   },
   {
    "duration": 5,
    "start_time": "2022-09-18T17:44:11.058Z"
   },
   {
    "duration": 104,
    "start_time": "2022-09-18T17:44:11.064Z"
   },
   {
    "duration": 137,
    "start_time": "2022-09-18T17:44:11.171Z"
   },
   {
    "duration": 23,
    "start_time": "2022-09-18T17:44:11.309Z"
   },
   {
    "duration": 26,
    "start_time": "2022-09-18T17:44:11.334Z"
   },
   {
    "duration": 45,
    "start_time": "2022-09-18T17:44:11.362Z"
   },
   {
    "duration": 9,
    "start_time": "2022-09-18T17:44:11.409Z"
   },
   {
    "duration": 11,
    "start_time": "2022-09-18T17:44:11.420Z"
   },
   {
    "duration": 16,
    "start_time": "2022-09-18T17:44:11.432Z"
   },
   {
    "duration": 11,
    "start_time": "2022-09-18T17:44:11.449Z"
   },
   {
    "duration": 6,
    "start_time": "2022-09-18T17:44:11.461Z"
   },
   {
    "duration": 36,
    "start_time": "2022-09-18T17:44:11.468Z"
   },
   {
    "duration": 51,
    "start_time": "2022-09-18T17:44:11.505Z"
   },
   {
    "duration": 11,
    "start_time": "2022-09-18T17:44:11.558Z"
   },
   {
    "duration": 12,
    "start_time": "2022-09-18T17:44:11.596Z"
   },
   {
    "duration": 543,
    "start_time": "2022-09-18T17:44:11.610Z"
   },
   {
    "duration": 7,
    "start_time": "2022-09-18T17:44:12.154Z"
   },
   {
    "duration": 7,
    "start_time": "2022-09-18T17:44:12.163Z"
   },
   {
    "duration": 44,
    "start_time": "2022-09-18T17:44:12.171Z"
   },
   {
    "duration": 0,
    "start_time": "2022-09-18T17:44:12.217Z"
   },
   {
    "duration": 0,
    "start_time": "2022-09-18T17:44:12.218Z"
   },
   {
    "duration": 0,
    "start_time": "2022-09-18T17:44:12.220Z"
   },
   {
    "duration": 0,
    "start_time": "2022-09-18T17:44:12.221Z"
   },
   {
    "duration": 0,
    "start_time": "2022-09-18T17:44:12.222Z"
   },
   {
    "duration": 0,
    "start_time": "2022-09-18T17:44:12.223Z"
   },
   {
    "duration": 6,
    "start_time": "2022-09-18T17:44:38.300Z"
   },
   {
    "duration": 8,
    "start_time": "2022-09-18T17:45:11.445Z"
   },
   {
    "duration": 6,
    "start_time": "2022-09-18T17:45:23.651Z"
   },
   {
    "duration": 3,
    "start_time": "2022-09-18T17:45:27.745Z"
   },
   {
    "duration": 37,
    "start_time": "2022-09-18T17:45:27.750Z"
   },
   {
    "duration": 12,
    "start_time": "2022-09-18T17:45:27.790Z"
   },
   {
    "duration": 12,
    "start_time": "2022-09-18T17:45:27.803Z"
   },
   {
    "duration": 70,
    "start_time": "2022-09-18T17:45:27.817Z"
   },
   {
    "duration": 24,
    "start_time": "2022-09-18T17:45:27.889Z"
   },
   {
    "duration": 47,
    "start_time": "2022-09-18T17:45:27.914Z"
   },
   {
    "duration": 12,
    "start_time": "2022-09-18T17:45:27.962Z"
   },
   {
    "duration": 21,
    "start_time": "2022-09-18T17:45:27.975Z"
   },
   {
    "duration": 5,
    "start_time": "2022-09-18T17:45:27.998Z"
   },
   {
    "duration": 6,
    "start_time": "2022-09-18T17:45:28.005Z"
   },
   {
    "duration": 20,
    "start_time": "2022-09-18T17:45:28.013Z"
   },
   {
    "duration": 14,
    "start_time": "2022-09-18T17:45:28.034Z"
   },
   {
    "duration": 454,
    "start_time": "2022-09-18T17:45:28.050Z"
   },
   {
    "duration": 250,
    "start_time": "2022-09-18T17:45:28.505Z"
   },
   {
    "duration": 66,
    "start_time": "2022-09-18T17:45:28.757Z"
   },
   {
    "duration": 29,
    "start_time": "2022-09-18T17:45:28.825Z"
   },
   {
    "duration": 49,
    "start_time": "2022-09-18T17:45:28.855Z"
   },
   {
    "duration": 6,
    "start_time": "2022-09-18T17:45:28.906Z"
   },
   {
    "duration": 93,
    "start_time": "2022-09-18T17:45:28.914Z"
   },
   {
    "duration": 137,
    "start_time": "2022-09-18T17:45:29.008Z"
   },
   {
    "duration": 24,
    "start_time": "2022-09-18T17:45:29.147Z"
   },
   {
    "duration": 35,
    "start_time": "2022-09-18T17:45:29.172Z"
   },
   {
    "duration": 44,
    "start_time": "2022-09-18T17:45:29.208Z"
   },
   {
    "duration": 10,
    "start_time": "2022-09-18T17:45:29.253Z"
   },
   {
    "duration": 13,
    "start_time": "2022-09-18T17:45:29.264Z"
   },
   {
    "duration": 20,
    "start_time": "2022-09-18T17:45:29.278Z"
   },
   {
    "duration": 10,
    "start_time": "2022-09-18T17:45:29.299Z"
   },
   {
    "duration": 5,
    "start_time": "2022-09-18T17:45:29.312Z"
   },
   {
    "duration": 9,
    "start_time": "2022-09-18T17:45:29.318Z"
   },
   {
    "duration": 69,
    "start_time": "2022-09-18T17:45:29.328Z"
   },
   {
    "duration": 6,
    "start_time": "2022-09-18T17:45:29.398Z"
   },
   {
    "duration": 13,
    "start_time": "2022-09-18T17:45:29.405Z"
   },
   {
    "duration": 10,
    "start_time": "2022-09-18T17:45:29.420Z"
   },
   {
    "duration": 533,
    "start_time": "2022-09-18T17:45:29.432Z"
   },
   {
    "duration": 9,
    "start_time": "2022-09-18T17:45:29.967Z"
   },
   {
    "duration": 20,
    "start_time": "2022-09-18T17:45:29.978Z"
   },
   {
    "duration": 30,
    "start_time": "2022-09-18T17:45:30.000Z"
   },
   {
    "duration": 0,
    "start_time": "2022-09-18T17:45:30.033Z"
   },
   {
    "duration": 0,
    "start_time": "2022-09-18T17:45:30.034Z"
   },
   {
    "duration": 0,
    "start_time": "2022-09-18T17:45:30.036Z"
   },
   {
    "duration": 0,
    "start_time": "2022-09-18T17:45:30.038Z"
   },
   {
    "duration": 0,
    "start_time": "2022-09-18T17:45:30.039Z"
   },
   {
    "duration": 1,
    "start_time": "2022-09-18T17:45:30.040Z"
   },
   {
    "duration": 7,
    "start_time": "2022-09-18T17:45:40.983Z"
   },
   {
    "duration": 5,
    "start_time": "2022-09-18T17:46:19.548Z"
   },
   {
    "duration": 12,
    "start_time": "2022-09-18T17:46:21.901Z"
   },
   {
    "duration": 616,
    "start_time": "2022-09-18T17:49:52.510Z"
   },
   {
    "duration": 4,
    "start_time": "2022-09-18T17:50:52.268Z"
   },
   {
    "duration": 34,
    "start_time": "2022-09-18T17:50:52.306Z"
   },
   {
    "duration": 11,
    "start_time": "2022-09-18T17:50:52.343Z"
   },
   {
    "duration": 8,
    "start_time": "2022-09-18T17:50:52.355Z"
   },
   {
    "duration": 70,
    "start_time": "2022-09-18T17:50:52.365Z"
   },
   {
    "duration": 17,
    "start_time": "2022-09-18T17:50:52.437Z"
   },
   {
    "duration": 48,
    "start_time": "2022-09-18T17:50:52.456Z"
   },
   {
    "duration": 11,
    "start_time": "2022-09-18T17:50:52.506Z"
   },
   {
    "duration": 4,
    "start_time": "2022-09-18T17:50:52.519Z"
   },
   {
    "duration": 6,
    "start_time": "2022-09-18T17:50:52.524Z"
   },
   {
    "duration": 4,
    "start_time": "2022-09-18T17:50:52.532Z"
   },
   {
    "duration": 13,
    "start_time": "2022-09-18T17:50:52.538Z"
   },
   {
    "duration": 11,
    "start_time": "2022-09-18T17:50:52.553Z"
   },
   {
    "duration": 479,
    "start_time": "2022-09-18T17:50:52.565Z"
   },
   {
    "duration": 254,
    "start_time": "2022-09-18T17:50:53.046Z"
   },
   {
    "duration": 59,
    "start_time": "2022-09-18T17:50:53.302Z"
   },
   {
    "duration": 43,
    "start_time": "2022-09-18T17:50:53.362Z"
   },
   {
    "duration": 37,
    "start_time": "2022-09-18T17:50:53.406Z"
   },
   {
    "duration": 7,
    "start_time": "2022-09-18T17:50:53.445Z"
   },
   {
    "duration": 105,
    "start_time": "2022-09-18T17:50:53.453Z"
   },
   {
    "duration": 142,
    "start_time": "2022-09-18T17:50:53.561Z"
   },
   {
    "duration": 22,
    "start_time": "2022-09-18T17:50:53.705Z"
   },
   {
    "duration": 24,
    "start_time": "2022-09-18T17:50:53.729Z"
   },
   {
    "duration": 43,
    "start_time": "2022-09-18T17:50:53.755Z"
   },
   {
    "duration": 10,
    "start_time": "2022-09-18T17:50:53.799Z"
   },
   {
    "duration": 11,
    "start_time": "2022-09-18T17:50:53.811Z"
   },
   {
    "duration": 14,
    "start_time": "2022-09-18T17:50:53.823Z"
   },
   {
    "duration": 12,
    "start_time": "2022-09-18T17:50:53.838Z"
   },
   {
    "duration": 5,
    "start_time": "2022-09-18T17:50:53.852Z"
   },
   {
    "duration": 44,
    "start_time": "2022-09-18T17:50:53.858Z"
   },
   {
    "duration": 50,
    "start_time": "2022-09-18T17:50:53.904Z"
   },
   {
    "duration": 7,
    "start_time": "2022-09-18T17:50:53.955Z"
   },
   {
    "duration": 9,
    "start_time": "2022-09-18T17:50:53.964Z"
   },
   {
    "duration": 29,
    "start_time": "2022-09-18T17:50:53.975Z"
   },
   {
    "duration": 10,
    "start_time": "2022-09-18T17:50:54.006Z"
   },
   {
    "duration": 585,
    "start_time": "2022-09-18T17:50:54.017Z"
   },
   {
    "duration": 8,
    "start_time": "2022-09-18T17:50:54.604Z"
   },
   {
    "duration": 13,
    "start_time": "2022-09-18T17:50:54.614Z"
   },
   {
    "duration": 31,
    "start_time": "2022-09-18T17:50:54.629Z"
   },
   {
    "duration": 0,
    "start_time": "2022-09-18T17:50:54.663Z"
   },
   {
    "duration": 0,
    "start_time": "2022-09-18T17:50:54.664Z"
   },
   {
    "duration": 0,
    "start_time": "2022-09-18T17:50:54.665Z"
   },
   {
    "duration": 0,
    "start_time": "2022-09-18T17:50:54.666Z"
   },
   {
    "duration": 0,
    "start_time": "2022-09-18T17:50:54.696Z"
   },
   {
    "duration": 0,
    "start_time": "2022-09-18T17:50:54.697Z"
   },
   {
    "duration": 601,
    "start_time": "2022-09-18T17:51:09.901Z"
   },
   {
    "duration": 556,
    "start_time": "2022-09-18T17:51:38.496Z"
   },
   {
    "duration": 620,
    "start_time": "2022-09-18T17:51:49.178Z"
   },
   {
    "duration": 555,
    "start_time": "2022-09-18T17:52:12.558Z"
   },
   {
    "duration": 535,
    "start_time": "2022-09-18T17:52:23.470Z"
   },
   {
    "duration": 545,
    "start_time": "2022-09-18T17:52:54.955Z"
   },
   {
    "duration": 524,
    "start_time": "2022-09-18T17:52:59.598Z"
   },
   {
    "duration": 33,
    "start_time": "2022-09-18T17:56:58.911Z"
   },
   {
    "duration": 32,
    "start_time": "2022-09-18T17:57:01.758Z"
   },
   {
    "duration": 9,
    "start_time": "2022-09-18T17:57:12.453Z"
   },
   {
    "duration": 4,
    "start_time": "2022-09-18T17:57:17.300Z"
   },
   {
    "duration": 30,
    "start_time": "2022-09-18T17:57:40.855Z"
   },
   {
    "duration": 2,
    "start_time": "2022-09-18T17:59:16.122Z"
   },
   {
    "duration": 12,
    "start_time": "2022-09-18T18:01:27.050Z"
   },
   {
    "duration": 8,
    "start_time": "2022-09-18T18:01:35.266Z"
   },
   {
    "duration": 6,
    "start_time": "2022-09-18T18:01:37.954Z"
   },
   {
    "duration": 212,
    "start_time": "2022-09-18T18:02:14.415Z"
   },
   {
    "duration": 4,
    "start_time": "2022-09-18T18:02:17.996Z"
   },
   {
    "duration": 38,
    "start_time": "2022-09-18T18:02:18.002Z"
   },
   {
    "duration": 10,
    "start_time": "2022-09-18T18:02:18.042Z"
   },
   {
    "duration": 10,
    "start_time": "2022-09-18T18:02:18.054Z"
   },
   {
    "duration": 79,
    "start_time": "2022-09-18T18:02:18.066Z"
   },
   {
    "duration": 17,
    "start_time": "2022-09-18T18:02:18.147Z"
   },
   {
    "duration": 47,
    "start_time": "2022-09-18T18:02:18.165Z"
   },
   {
    "duration": 12,
    "start_time": "2022-09-18T18:02:18.214Z"
   },
   {
    "duration": 4,
    "start_time": "2022-09-18T18:02:18.227Z"
   },
   {
    "duration": 7,
    "start_time": "2022-09-18T18:02:18.233Z"
   },
   {
    "duration": 6,
    "start_time": "2022-09-18T18:02:18.241Z"
   },
   {
    "duration": 13,
    "start_time": "2022-09-18T18:02:18.249Z"
   },
   {
    "duration": 35,
    "start_time": "2022-09-18T18:02:18.264Z"
   },
   {
    "duration": 481,
    "start_time": "2022-09-18T18:02:18.301Z"
   },
   {
    "duration": 280,
    "start_time": "2022-09-18T18:02:18.783Z"
   },
   {
    "duration": 66,
    "start_time": "2022-09-18T18:02:19.066Z"
   },
   {
    "duration": 27,
    "start_time": "2022-09-18T18:02:19.134Z"
   },
   {
    "duration": 52,
    "start_time": "2022-09-18T18:02:19.163Z"
   },
   {
    "duration": 5,
    "start_time": "2022-09-18T18:02:19.217Z"
   },
   {
    "duration": 90,
    "start_time": "2022-09-18T18:02:19.224Z"
   },
   {
    "duration": 139,
    "start_time": "2022-09-18T18:02:19.316Z"
   },
   {
    "duration": 23,
    "start_time": "2022-09-18T18:02:19.457Z"
   },
   {
    "duration": 23,
    "start_time": "2022-09-18T18:02:19.495Z"
   },
   {
    "duration": 46,
    "start_time": "2022-09-18T18:02:19.519Z"
   },
   {
    "duration": 10,
    "start_time": "2022-09-18T18:02:19.566Z"
   },
   {
    "duration": 11,
    "start_time": "2022-09-18T18:02:19.578Z"
   },
   {
    "duration": 14,
    "start_time": "2022-09-18T18:02:19.591Z"
   },
   {
    "duration": 13,
    "start_time": "2022-09-18T18:02:19.606Z"
   },
   {
    "duration": 6,
    "start_time": "2022-09-18T18:02:19.621Z"
   },
   {
    "duration": 8,
    "start_time": "2022-09-18T18:02:19.629Z"
   },
   {
    "duration": 254,
    "start_time": "2022-09-18T18:02:19.639Z"
   },
   {
    "duration": 1555,
    "start_time": "2022-09-18T18:02:19.895Z"
   },
   {
    "duration": 1,
    "start_time": "2022-09-18T18:02:21.451Z"
   },
   {
    "duration": 0,
    "start_time": "2022-09-18T18:02:21.453Z"
   },
   {
    "duration": 0,
    "start_time": "2022-09-18T18:02:21.455Z"
   },
   {
    "duration": 0,
    "start_time": "2022-09-18T18:02:21.456Z"
   },
   {
    "duration": 1,
    "start_time": "2022-09-18T18:02:21.457Z"
   },
   {
    "duration": 0,
    "start_time": "2022-09-18T18:02:21.459Z"
   },
   {
    "duration": 0,
    "start_time": "2022-09-18T18:02:21.460Z"
   },
   {
    "duration": 0,
    "start_time": "2022-09-18T18:02:21.461Z"
   },
   {
    "duration": 0,
    "start_time": "2022-09-18T18:02:21.463Z"
   },
   {
    "duration": 0,
    "start_time": "2022-09-18T18:02:21.465Z"
   },
   {
    "duration": 0,
    "start_time": "2022-09-18T18:02:21.466Z"
   },
   {
    "duration": 228,
    "start_time": "2022-09-18T18:02:55.054Z"
   },
   {
    "duration": 8,
    "start_time": "2022-09-18T18:03:02.117Z"
   },
   {
    "duration": 11,
    "start_time": "2022-09-18T18:03:08.159Z"
   },
   {
    "duration": 13,
    "start_time": "2022-09-18T18:03:10.594Z"
   },
   {
    "duration": 3,
    "start_time": "2022-09-18T18:10:38.300Z"
   },
   {
    "duration": 34,
    "start_time": "2022-09-18T18:10:38.310Z"
   },
   {
    "duration": 10,
    "start_time": "2022-09-18T18:10:38.346Z"
   },
   {
    "duration": 10,
    "start_time": "2022-09-18T18:10:38.358Z"
   },
   {
    "duration": 75,
    "start_time": "2022-09-18T18:10:38.370Z"
   },
   {
    "duration": 19,
    "start_time": "2022-09-18T18:10:38.447Z"
   },
   {
    "duration": 49,
    "start_time": "2022-09-18T18:10:38.468Z"
   },
   {
    "duration": 12,
    "start_time": "2022-09-18T18:10:38.519Z"
   },
   {
    "duration": 5,
    "start_time": "2022-09-18T18:10:38.532Z"
   },
   {
    "duration": 6,
    "start_time": "2022-09-18T18:10:38.540Z"
   },
   {
    "duration": 3,
    "start_time": "2022-09-18T18:10:38.548Z"
   },
   {
    "duration": 43,
    "start_time": "2022-09-18T18:10:38.553Z"
   },
   {
    "duration": 10,
    "start_time": "2022-09-18T18:10:38.598Z"
   },
   {
    "duration": 474,
    "start_time": "2022-09-18T18:10:38.610Z"
   },
   {
    "duration": 277,
    "start_time": "2022-09-18T18:10:39.085Z"
   },
   {
    "duration": 68,
    "start_time": "2022-09-18T18:10:39.364Z"
   },
   {
    "duration": 27,
    "start_time": "2022-09-18T18:10:39.434Z"
   },
   {
    "duration": 53,
    "start_time": "2022-09-18T18:10:39.463Z"
   },
   {
    "duration": 6,
    "start_time": "2022-09-18T18:10:39.519Z"
   },
   {
    "duration": 93,
    "start_time": "2022-09-18T18:10:39.527Z"
   },
   {
    "duration": 139,
    "start_time": "2022-09-18T18:10:39.622Z"
   },
   {
    "duration": 40,
    "start_time": "2022-09-18T18:10:39.763Z"
   },
   {
    "duration": 24,
    "start_time": "2022-09-18T18:10:39.805Z"
   },
   {
    "duration": 45,
    "start_time": "2022-09-18T18:10:39.832Z"
   },
   {
    "duration": 10,
    "start_time": "2022-09-18T18:10:39.879Z"
   },
   {
    "duration": 12,
    "start_time": "2022-09-18T18:10:39.891Z"
   },
   {
    "duration": 17,
    "start_time": "2022-09-18T18:10:39.904Z"
   },
   {
    "duration": 12,
    "start_time": "2022-09-18T18:10:39.922Z"
   },
   {
    "duration": 5,
    "start_time": "2022-09-18T18:10:39.936Z"
   },
   {
    "duration": 8,
    "start_time": "2022-09-18T18:10:39.943Z"
   },
   {
    "duration": 252,
    "start_time": "2022-09-18T18:10:39.954Z"
   },
   {
    "duration": 10,
    "start_time": "2022-09-18T18:10:40.208Z"
   },
   {
    "duration": 12,
    "start_time": "2022-09-18T18:10:40.220Z"
   },
   {
    "duration": 15,
    "start_time": "2022-09-18T18:10:40.234Z"
   },
   {
    "duration": 11,
    "start_time": "2022-09-18T18:10:40.251Z"
   },
   {
    "duration": 540,
    "start_time": "2022-09-18T18:10:40.295Z"
   },
   {
    "duration": 8,
    "start_time": "2022-09-18T18:10:40.837Z"
   },
   {
    "duration": 4,
    "start_time": "2022-09-18T18:10:40.847Z"
   },
   {
    "duration": 6,
    "start_time": "2022-09-18T18:10:40.853Z"
   },
   {
    "duration": 13,
    "start_time": "2022-09-18T18:10:40.860Z"
   },
   {
    "duration": 0,
    "start_time": "2022-09-18T18:10:40.874Z"
   },
   {
    "duration": 0,
    "start_time": "2022-09-18T18:10:40.896Z"
   },
   {
    "duration": 0,
    "start_time": "2022-09-18T18:10:40.897Z"
   },
   {
    "duration": 13,
    "start_time": "2022-09-18T18:11:51.056Z"
   },
   {
    "duration": 6,
    "start_time": "2022-09-18T18:11:57.395Z"
   },
   {
    "duration": 187,
    "start_time": "2022-09-18T18:13:26.218Z"
   },
   {
    "duration": 9,
    "start_time": "2022-09-18T18:13:33.756Z"
   },
   {
    "duration": 21,
    "start_time": "2022-09-18T18:13:42.071Z"
   },
   {
    "duration": 9,
    "start_time": "2022-09-18T18:14:01.801Z"
   },
   {
    "duration": 32,
    "start_time": "2022-09-18T18:14:14.724Z"
   },
   {
    "duration": 5,
    "start_time": "2022-09-18T18:14:18.156Z"
   },
   {
    "duration": 7,
    "start_time": "2022-09-18T18:14:22.266Z"
   },
   {
    "duration": 6,
    "start_time": "2022-09-18T18:14:27.684Z"
   },
   {
    "duration": 10,
    "start_time": "2022-09-18T18:14:29.800Z"
   },
   {
    "duration": 190,
    "start_time": "2022-09-18T18:15:53.522Z"
   },
   {
    "duration": 232,
    "start_time": "2022-09-18T18:16:15.618Z"
   },
   {
    "duration": 4,
    "start_time": "2022-09-18T18:16:20.900Z"
   },
   {
    "duration": 41,
    "start_time": "2022-09-18T18:16:20.905Z"
   },
   {
    "duration": 11,
    "start_time": "2022-09-18T18:16:20.948Z"
   },
   {
    "duration": 8,
    "start_time": "2022-09-18T18:16:20.960Z"
   },
   {
    "duration": 75,
    "start_time": "2022-09-18T18:16:20.970Z"
   },
   {
    "duration": 20,
    "start_time": "2022-09-18T18:16:21.047Z"
   },
   {
    "duration": 60,
    "start_time": "2022-09-18T18:16:21.069Z"
   },
   {
    "duration": 18,
    "start_time": "2022-09-18T18:16:21.131Z"
   },
   {
    "duration": 7,
    "start_time": "2022-09-18T18:16:21.152Z"
   },
   {
    "duration": 37,
    "start_time": "2022-09-18T18:16:21.162Z"
   },
   {
    "duration": 140,
    "start_time": "2022-09-18T18:16:21.202Z"
   },
   {
    "duration": 13,
    "start_time": "2022-09-18T18:16:21.344Z"
   },
   {
    "duration": 477,
    "start_time": "2022-09-18T18:16:21.359Z"
   },
   {
    "duration": 287,
    "start_time": "2022-09-18T18:16:21.838Z"
   },
   {
    "duration": 74,
    "start_time": "2022-09-18T18:16:22.127Z"
   },
   {
    "duration": 34,
    "start_time": "2022-09-18T18:16:22.203Z"
   },
   {
    "duration": 63,
    "start_time": "2022-09-18T18:16:22.239Z"
   },
   {
    "duration": 6,
    "start_time": "2022-09-18T18:16:22.305Z"
   },
   {
    "duration": 98,
    "start_time": "2022-09-18T18:16:22.313Z"
   },
   {
    "duration": 138,
    "start_time": "2022-09-18T18:16:22.413Z"
   },
   {
    "duration": 24,
    "start_time": "2022-09-18T18:16:22.553Z"
   },
   {
    "duration": 24,
    "start_time": "2022-09-18T18:16:22.596Z"
   },
   {
    "duration": 45,
    "start_time": "2022-09-18T18:16:22.621Z"
   },
   {
    "duration": 10,
    "start_time": "2022-09-18T18:16:22.670Z"
   },
   {
    "duration": 17,
    "start_time": "2022-09-18T18:16:22.682Z"
   },
   {
    "duration": 15,
    "start_time": "2022-09-18T18:16:22.701Z"
   },
   {
    "duration": 13,
    "start_time": "2022-09-18T18:16:22.718Z"
   },
   {
    "duration": 7,
    "start_time": "2022-09-18T18:16:22.736Z"
   },
   {
    "duration": 13,
    "start_time": "2022-09-18T18:16:22.745Z"
   },
   {
    "duration": 70,
    "start_time": "2022-09-18T18:16:22.760Z"
   },
   {
    "duration": 7,
    "start_time": "2022-09-18T18:16:22.832Z"
   },
   {
    "duration": 29,
    "start_time": "2022-09-18T18:16:22.841Z"
   },
   {
    "duration": 10,
    "start_time": "2022-09-18T18:16:22.872Z"
   },
   {
    "duration": 16,
    "start_time": "2022-09-18T18:16:22.887Z"
   },
   {
    "duration": 258,
    "start_time": "2022-09-18T18:16:22.905Z"
   },
   {
    "duration": 12,
    "start_time": "2022-09-18T18:16:23.165Z"
   },
   {
    "duration": 575,
    "start_time": "2022-09-18T18:16:23.179Z"
   },
   {
    "duration": 7,
    "start_time": "2022-09-18T18:16:23.756Z"
   },
   {
    "duration": 5,
    "start_time": "2022-09-18T18:16:23.764Z"
   },
   {
    "duration": 25,
    "start_time": "2022-09-18T18:16:23.771Z"
   },
   {
    "duration": 9,
    "start_time": "2022-09-18T18:16:23.798Z"
   },
   {
    "duration": 0,
    "start_time": "2022-09-18T18:16:23.809Z"
   },
   {
    "duration": 0,
    "start_time": "2022-09-18T18:16:23.810Z"
   },
   {
    "duration": 0,
    "start_time": "2022-09-18T18:16:23.812Z"
   },
   {
    "duration": 223,
    "start_time": "2022-09-18T18:16:35.454Z"
   },
   {
    "duration": 3,
    "start_time": "2022-09-18T18:16:50.898Z"
   },
   {
    "duration": 36,
    "start_time": "2022-09-18T18:16:50.906Z"
   },
   {
    "duration": 10,
    "start_time": "2022-09-18T18:16:50.944Z"
   },
   {
    "duration": 8,
    "start_time": "2022-09-18T18:16:50.956Z"
   },
   {
    "duration": 71,
    "start_time": "2022-09-18T18:16:50.966Z"
   },
   {
    "duration": 21,
    "start_time": "2022-09-18T18:16:51.038Z"
   },
   {
    "duration": 60,
    "start_time": "2022-09-18T18:16:51.061Z"
   },
   {
    "duration": 16,
    "start_time": "2022-09-18T18:16:51.122Z"
   },
   {
    "duration": 6,
    "start_time": "2022-09-18T18:16:51.140Z"
   },
   {
    "duration": 10,
    "start_time": "2022-09-18T18:16:51.150Z"
   },
   {
    "duration": 41,
    "start_time": "2022-09-18T18:16:51.162Z"
   },
   {
    "duration": 15,
    "start_time": "2022-09-18T18:16:51.205Z"
   },
   {
    "duration": 463,
    "start_time": "2022-09-18T18:16:51.222Z"
   },
   {
    "duration": 275,
    "start_time": "2022-09-18T18:16:51.687Z"
   },
   {
    "duration": 70,
    "start_time": "2022-09-18T18:16:51.965Z"
   },
   {
    "duration": 28,
    "start_time": "2022-09-18T18:16:52.037Z"
   },
   {
    "duration": 55,
    "start_time": "2022-09-18T18:16:52.068Z"
   },
   {
    "duration": 6,
    "start_time": "2022-09-18T18:16:52.125Z"
   },
   {
    "duration": 96,
    "start_time": "2022-09-18T18:16:52.133Z"
   },
   {
    "duration": 155,
    "start_time": "2022-09-18T18:16:52.232Z"
   },
   {
    "duration": 28,
    "start_time": "2022-09-18T18:16:52.389Z"
   },
   {
    "duration": 26,
    "start_time": "2022-09-18T18:16:52.418Z"
   },
   {
    "duration": 50,
    "start_time": "2022-09-18T18:16:52.445Z"
   },
   {
    "duration": 14,
    "start_time": "2022-09-18T18:16:52.500Z"
   },
   {
    "duration": 13,
    "start_time": "2022-09-18T18:16:52.516Z"
   },
   {
    "duration": 14,
    "start_time": "2022-09-18T18:16:52.531Z"
   },
   {
    "duration": 17,
    "start_time": "2022-09-18T18:16:52.547Z"
   },
   {
    "duration": 34,
    "start_time": "2022-09-18T18:16:52.565Z"
   },
   {
    "duration": 10,
    "start_time": "2022-09-18T18:16:52.600Z"
   },
   {
    "duration": 39,
    "start_time": "2022-09-18T18:16:52.612Z"
   },
   {
    "duration": 6,
    "start_time": "2022-09-18T18:16:52.653Z"
   },
   {
    "duration": 36,
    "start_time": "2022-09-18T18:16:52.661Z"
   },
   {
    "duration": 6,
    "start_time": "2022-09-18T18:16:52.699Z"
   },
   {
    "duration": 11,
    "start_time": "2022-09-18T18:16:52.707Z"
   },
   {
    "duration": 222,
    "start_time": "2022-09-18T18:16:52.720Z"
   },
   {
    "duration": 10,
    "start_time": "2022-09-18T18:16:52.944Z"
   },
   {
    "duration": 568,
    "start_time": "2022-09-18T18:16:52.956Z"
   },
   {
    "duration": 7,
    "start_time": "2022-09-18T18:16:53.526Z"
   },
   {
    "duration": 6,
    "start_time": "2022-09-18T18:16:53.534Z"
   },
   {
    "duration": 6,
    "start_time": "2022-09-18T18:16:53.542Z"
   },
   {
    "duration": 11,
    "start_time": "2022-09-18T18:16:53.550Z"
   },
   {
    "duration": 0,
    "start_time": "2022-09-18T18:16:53.562Z"
   },
   {
    "duration": 0,
    "start_time": "2022-09-18T18:16:53.564Z"
   },
   {
    "duration": 0,
    "start_time": "2022-09-18T18:16:53.596Z"
   },
   {
    "duration": 18,
    "start_time": "2022-09-18T18:18:53.722Z"
   },
   {
    "duration": 39,
    "start_time": "2022-09-18T18:19:15.013Z"
   },
   {
    "duration": 12,
    "start_time": "2022-09-18T18:20:28.050Z"
   },
   {
    "duration": 13,
    "start_time": "2022-09-18T18:20:39.741Z"
   },
   {
    "duration": 3,
    "start_time": "2022-09-18T18:22:51.544Z"
   },
   {
    "duration": 34,
    "start_time": "2022-09-18T18:22:51.556Z"
   },
   {
    "duration": 11,
    "start_time": "2022-09-18T18:22:51.592Z"
   },
   {
    "duration": 9,
    "start_time": "2022-09-18T18:22:51.604Z"
   },
   {
    "duration": 81,
    "start_time": "2022-09-18T18:22:51.616Z"
   },
   {
    "duration": 18,
    "start_time": "2022-09-18T18:22:51.699Z"
   },
   {
    "duration": 35,
    "start_time": "2022-09-18T18:22:51.719Z"
   },
   {
    "duration": 43,
    "start_time": "2022-09-18T18:22:51.756Z"
   },
   {
    "duration": 6,
    "start_time": "2022-09-18T18:22:51.801Z"
   },
   {
    "duration": 5,
    "start_time": "2022-09-18T18:22:51.810Z"
   },
   {
    "duration": 14,
    "start_time": "2022-09-18T18:22:51.816Z"
   },
   {
    "duration": 14,
    "start_time": "2022-09-18T18:22:51.831Z"
   },
   {
    "duration": 495,
    "start_time": "2022-09-18T18:22:51.847Z"
   },
   {
    "duration": 294,
    "start_time": "2022-09-18T18:22:52.344Z"
   },
   {
    "duration": 65,
    "start_time": "2022-09-18T18:22:52.640Z"
   },
   {
    "duration": 27,
    "start_time": "2022-09-18T18:22:52.707Z"
   },
   {
    "duration": 31,
    "start_time": "2022-09-18T18:22:52.736Z"
   },
   {
    "duration": 26,
    "start_time": "2022-09-18T18:22:52.769Z"
   },
   {
    "duration": 116,
    "start_time": "2022-09-18T18:22:52.797Z"
   },
   {
    "duration": 144,
    "start_time": "2022-09-18T18:22:52.915Z"
   },
   {
    "duration": 23,
    "start_time": "2022-09-18T18:22:53.061Z"
   },
   {
    "duration": 31,
    "start_time": "2022-09-18T18:22:53.086Z"
   },
   {
    "duration": 44,
    "start_time": "2022-09-18T18:22:53.118Z"
   },
   {
    "duration": 11,
    "start_time": "2022-09-18T18:22:53.165Z"
   },
   {
    "duration": 17,
    "start_time": "2022-09-18T18:22:53.178Z"
   },
   {
    "duration": 16,
    "start_time": "2022-09-18T18:22:53.197Z"
   },
   {
    "duration": 13,
    "start_time": "2022-09-18T18:22:53.215Z"
   },
   {
    "duration": 5,
    "start_time": "2022-09-18T18:22:53.230Z"
   },
   {
    "duration": 8,
    "start_time": "2022-09-18T18:22:53.237Z"
   },
   {
    "duration": 68,
    "start_time": "2022-09-18T18:22:53.247Z"
   },
   {
    "duration": 6,
    "start_time": "2022-09-18T18:22:53.317Z"
   },
   {
    "duration": 8,
    "start_time": "2022-09-18T18:22:53.324Z"
   },
   {
    "duration": 6,
    "start_time": "2022-09-18T18:22:53.334Z"
   },
   {
    "duration": 12,
    "start_time": "2022-09-18T18:22:53.341Z"
   },
   {
    "duration": 219,
    "start_time": "2022-09-18T18:22:53.355Z"
   },
   {
    "duration": 20,
    "start_time": "2022-09-18T18:22:53.576Z"
   },
   {
    "duration": 10,
    "start_time": "2022-09-18T18:22:53.597Z"
   },
   {
    "duration": 572,
    "start_time": "2022-09-18T18:22:53.608Z"
   },
   {
    "duration": 14,
    "start_time": "2022-09-18T18:22:54.182Z"
   },
   {
    "duration": 2,
    "start_time": "2022-09-18T18:22:54.197Z"
   },
   {
    "duration": 6,
    "start_time": "2022-09-18T18:22:54.201Z"
   },
   {
    "duration": 12,
    "start_time": "2022-09-18T18:22:54.208Z"
   },
   {
    "duration": 0,
    "start_time": "2022-09-18T18:22:54.221Z"
   },
   {
    "duration": 0,
    "start_time": "2022-09-18T18:22:54.222Z"
   },
   {
    "duration": 0,
    "start_time": "2022-09-18T18:22:54.224Z"
   },
   {
    "duration": 232,
    "start_time": "2022-09-18T18:25:57.405Z"
   },
   {
    "duration": 37,
    "start_time": "2022-09-18T18:26:00.196Z"
   },
   {
    "duration": 367,
    "start_time": "2022-09-18T18:30:01.046Z"
   },
   {
    "duration": 306,
    "start_time": "2022-09-18T18:30:04.005Z"
   },
   {
    "duration": 4,
    "start_time": "2022-09-18T18:30:09.030Z"
   },
   {
    "duration": 35,
    "start_time": "2022-09-18T18:30:09.046Z"
   },
   {
    "duration": 11,
    "start_time": "2022-09-18T18:30:09.082Z"
   },
   {
    "duration": 7,
    "start_time": "2022-09-18T18:30:09.095Z"
   },
   {
    "duration": 72,
    "start_time": "2022-09-18T18:30:09.104Z"
   },
   {
    "duration": 26,
    "start_time": "2022-09-18T18:30:09.178Z"
   },
   {
    "duration": 37,
    "start_time": "2022-09-18T18:30:09.206Z"
   },
   {
    "duration": 12,
    "start_time": "2022-09-18T18:30:09.245Z"
   },
   {
    "duration": 37,
    "start_time": "2022-09-18T18:30:09.259Z"
   },
   {
    "duration": 4,
    "start_time": "2022-09-18T18:30:09.298Z"
   },
   {
    "duration": 12,
    "start_time": "2022-09-18T18:30:09.304Z"
   },
   {
    "duration": 15,
    "start_time": "2022-09-18T18:30:09.318Z"
   },
   {
    "duration": 494,
    "start_time": "2022-09-18T18:30:09.335Z"
   },
   {
    "duration": 309,
    "start_time": "2022-09-18T18:30:09.832Z"
   },
   {
    "duration": 70,
    "start_time": "2022-09-18T18:30:10.142Z"
   },
   {
    "duration": 27,
    "start_time": "2022-09-18T18:30:10.214Z"
   },
   {
    "duration": 54,
    "start_time": "2022-09-18T18:30:10.243Z"
   },
   {
    "duration": 7,
    "start_time": "2022-09-18T18:30:10.299Z"
   },
   {
    "duration": 96,
    "start_time": "2022-09-18T18:30:10.308Z"
   },
   {
    "duration": 142,
    "start_time": "2022-09-18T18:30:10.407Z"
   },
   {
    "duration": 25,
    "start_time": "2022-09-18T18:30:10.551Z"
   },
   {
    "duration": 37,
    "start_time": "2022-09-18T18:30:10.578Z"
   },
   {
    "duration": 49,
    "start_time": "2022-09-18T18:30:10.617Z"
   },
   {
    "duration": 12,
    "start_time": "2022-09-18T18:30:10.667Z"
   },
   {
    "duration": 24,
    "start_time": "2022-09-18T18:30:10.681Z"
   },
   {
    "duration": 23,
    "start_time": "2022-09-18T18:30:10.707Z"
   },
   {
    "duration": 16,
    "start_time": "2022-09-18T18:30:10.733Z"
   },
   {
    "duration": 10,
    "start_time": "2022-09-18T18:30:10.752Z"
   },
   {
    "duration": 76,
    "start_time": "2022-09-18T18:30:10.763Z"
   },
   {
    "duration": 9,
    "start_time": "2022-09-18T18:30:10.841Z"
   },
   {
    "duration": 20,
    "start_time": "2022-09-18T18:30:10.852Z"
   },
   {
    "duration": 10,
    "start_time": "2022-09-18T18:30:10.875Z"
   },
   {
    "duration": 11,
    "start_time": "2022-09-18T18:30:10.895Z"
   },
   {
    "duration": 197,
    "start_time": "2022-09-18T18:30:10.908Z"
   },
   {
    "duration": 13,
    "start_time": "2022-09-18T18:30:11.107Z"
   },
   {
    "duration": 11,
    "start_time": "2022-09-18T18:30:11.121Z"
   },
   {
    "duration": 589,
    "start_time": "2022-09-18T18:30:11.134Z"
   },
   {
    "duration": 71,
    "start_time": "2022-09-18T18:30:11.725Z"
   },
   {
    "duration": 3,
    "start_time": "2022-09-18T18:30:11.798Z"
   },
   {
    "duration": 10,
    "start_time": "2022-09-18T18:30:11.803Z"
   },
   {
    "duration": 14,
    "start_time": "2022-09-18T18:30:11.815Z"
   },
   {
    "duration": 0,
    "start_time": "2022-09-18T18:30:11.830Z"
   },
   {
    "duration": 0,
    "start_time": "2022-09-18T18:30:11.831Z"
   },
   {
    "duration": 0,
    "start_time": "2022-09-18T18:30:11.833Z"
   },
   {
    "duration": 59,
    "start_time": "2022-09-18T18:30:56.013Z"
   },
   {
    "duration": 58,
    "start_time": "2022-09-18T18:31:36.350Z"
   },
   {
    "duration": 4,
    "start_time": "2022-09-18T18:34:09.299Z"
   },
   {
    "duration": 36,
    "start_time": "2022-09-18T18:34:12.713Z"
   },
   {
    "duration": 40,
    "start_time": "2022-09-18T18:34:18.963Z"
   },
   {
    "duration": 14,
    "start_time": "2022-09-18T18:38:12.569Z"
   },
   {
    "duration": 4,
    "start_time": "2022-09-18T18:40:58.906Z"
   },
   {
    "duration": 34,
    "start_time": "2022-09-18T18:40:58.918Z"
   },
   {
    "duration": 10,
    "start_time": "2022-09-18T18:40:58.954Z"
   },
   {
    "duration": 10,
    "start_time": "2022-09-18T18:40:58.966Z"
   },
   {
    "duration": 80,
    "start_time": "2022-09-18T18:40:58.978Z"
   },
   {
    "duration": 18,
    "start_time": "2022-09-18T18:40:59.061Z"
   },
   {
    "duration": 47,
    "start_time": "2022-09-18T18:40:59.080Z"
   },
   {
    "duration": 12,
    "start_time": "2022-09-18T18:40:59.129Z"
   },
   {
    "duration": 5,
    "start_time": "2022-09-18T18:40:59.143Z"
   },
   {
    "duration": 7,
    "start_time": "2022-09-18T18:40:59.150Z"
   },
   {
    "duration": 44,
    "start_time": "2022-09-18T18:40:59.158Z"
   },
   {
    "duration": 12,
    "start_time": "2022-09-18T18:40:59.204Z"
   },
   {
    "duration": 449,
    "start_time": "2022-09-18T18:40:59.218Z"
   },
   {
    "duration": 258,
    "start_time": "2022-09-18T18:40:59.668Z"
   },
   {
    "duration": 69,
    "start_time": "2022-09-18T18:40:59.927Z"
   },
   {
    "duration": 28,
    "start_time": "2022-09-18T18:40:59.997Z"
   },
   {
    "duration": 37,
    "start_time": "2022-09-18T18:41:00.027Z"
   },
   {
    "duration": 32,
    "start_time": "2022-09-18T18:41:00.066Z"
   },
   {
    "duration": 84,
    "start_time": "2022-09-18T18:41:00.100Z"
   },
   {
    "duration": 134,
    "start_time": "2022-09-18T18:41:00.196Z"
   },
   {
    "duration": 24,
    "start_time": "2022-09-18T18:41:00.331Z"
   },
   {
    "duration": 45,
    "start_time": "2022-09-18T18:41:00.357Z"
   },
   {
    "duration": 54,
    "start_time": "2022-09-18T18:41:00.404Z"
   },
   {
    "duration": 10,
    "start_time": "2022-09-18T18:41:00.461Z"
   },
   {
    "duration": 17,
    "start_time": "2022-09-18T18:41:00.472Z"
   },
   {
    "duration": 27,
    "start_time": "2022-09-18T18:41:00.490Z"
   },
   {
    "duration": 15,
    "start_time": "2022-09-18T18:41:00.519Z"
   },
   {
    "duration": 20,
    "start_time": "2022-09-18T18:41:00.536Z"
   },
   {
    "duration": 40,
    "start_time": "2022-09-18T18:41:00.558Z"
   },
   {
    "duration": 6,
    "start_time": "2022-09-18T18:41:00.601Z"
   },
   {
    "duration": 20,
    "start_time": "2022-09-18T18:41:00.609Z"
   },
   {
    "duration": 16,
    "start_time": "2022-09-18T18:41:00.630Z"
   },
   {
    "duration": 20,
    "start_time": "2022-09-18T18:41:00.649Z"
   },
   {
    "duration": 25,
    "start_time": "2022-09-18T18:41:00.671Z"
   },
   {
    "duration": 15,
    "start_time": "2022-09-18T18:41:00.698Z"
   },
   {
    "duration": 614,
    "start_time": "2022-09-18T18:41:00.716Z"
   },
   {
    "duration": 16,
    "start_time": "2022-09-18T18:41:01.333Z"
   },
   {
    "duration": 0,
    "start_time": "2022-09-18T18:41:01.351Z"
   },
   {
    "duration": 0,
    "start_time": "2022-09-18T18:41:01.352Z"
   },
   {
    "duration": 0,
    "start_time": "2022-09-18T18:41:01.354Z"
   },
   {
    "duration": 0,
    "start_time": "2022-09-18T18:41:01.356Z"
   },
   {
    "duration": 0,
    "start_time": "2022-09-18T18:41:01.357Z"
   },
   {
    "duration": 0,
    "start_time": "2022-09-18T18:41:01.359Z"
   },
   {
    "duration": 20,
    "start_time": "2022-09-18T18:41:27.503Z"
   },
   {
    "duration": 3,
    "start_time": "2022-09-18T18:41:41.042Z"
   },
   {
    "duration": 19,
    "start_time": "2022-09-18T18:42:34.349Z"
   },
   {
    "duration": 1207,
    "start_time": "2022-09-18T18:43:18.650Z"
   },
   {
    "duration": 17,
    "start_time": "2022-09-18T18:43:44.251Z"
   },
   {
    "duration": 4,
    "start_time": "2022-09-18T18:43:56.714Z"
   },
   {
    "duration": 45,
    "start_time": "2022-09-18T18:43:56.727Z"
   },
   {
    "duration": 13,
    "start_time": "2022-09-18T18:43:56.775Z"
   },
   {
    "duration": 6,
    "start_time": "2022-09-18T18:43:56.790Z"
   },
   {
    "duration": 89,
    "start_time": "2022-09-18T18:43:56.799Z"
   },
   {
    "duration": 21,
    "start_time": "2022-09-18T18:43:56.896Z"
   },
   {
    "duration": 37,
    "start_time": "2022-09-18T18:43:56.919Z"
   },
   {
    "duration": 42,
    "start_time": "2022-09-18T18:43:56.959Z"
   },
   {
    "duration": 5,
    "start_time": "2022-09-18T18:43:57.004Z"
   },
   {
    "duration": 8,
    "start_time": "2022-09-18T18:43:57.011Z"
   },
   {
    "duration": 12,
    "start_time": "2022-09-18T18:43:57.020Z"
   },
   {
    "duration": 13,
    "start_time": "2022-09-18T18:43:57.034Z"
   },
   {
    "duration": 504,
    "start_time": "2022-09-18T18:43:57.049Z"
   },
   {
    "duration": 274,
    "start_time": "2022-09-18T18:43:57.555Z"
   },
   {
    "duration": 72,
    "start_time": "2022-09-18T18:43:57.831Z"
   },
   {
    "duration": 24,
    "start_time": "2022-09-18T18:43:57.907Z"
   },
   {
    "duration": 34,
    "start_time": "2022-09-18T18:43:57.933Z"
   },
   {
    "duration": 29,
    "start_time": "2022-09-18T18:43:57.969Z"
   },
   {
    "duration": 100,
    "start_time": "2022-09-18T18:43:58.000Z"
   },
   {
    "duration": 137,
    "start_time": "2022-09-18T18:43:58.102Z"
   },
   {
    "duration": 26,
    "start_time": "2022-09-18T18:43:58.240Z"
   },
   {
    "duration": 44,
    "start_time": "2022-09-18T18:43:58.267Z"
   },
   {
    "duration": 44,
    "start_time": "2022-09-18T18:43:58.313Z"
   },
   {
    "duration": 10,
    "start_time": "2022-09-18T18:43:58.359Z"
   },
   {
    "duration": 11,
    "start_time": "2022-09-18T18:43:58.371Z"
   },
   {
    "duration": 13,
    "start_time": "2022-09-18T18:43:58.395Z"
   },
   {
    "duration": 13,
    "start_time": "2022-09-18T18:43:58.410Z"
   },
   {
    "duration": 9,
    "start_time": "2022-09-18T18:43:58.424Z"
   },
   {
    "duration": 61,
    "start_time": "2022-09-18T18:43:58.435Z"
   },
   {
    "duration": 6,
    "start_time": "2022-09-18T18:43:58.498Z"
   },
   {
    "duration": 10,
    "start_time": "2022-09-18T18:43:58.505Z"
   },
   {
    "duration": 7,
    "start_time": "2022-09-18T18:43:58.516Z"
   },
   {
    "duration": 11,
    "start_time": "2022-09-18T18:43:58.525Z"
   },
   {
    "duration": 10,
    "start_time": "2022-09-18T18:43:58.538Z"
   },
   {
    "duration": 10,
    "start_time": "2022-09-18T18:43:58.550Z"
   },
   {
    "duration": 644,
    "start_time": "2022-09-18T18:43:58.561Z"
   },
   {
    "duration": 27,
    "start_time": "2022-09-18T18:43:59.208Z"
   },
   {
    "duration": 12,
    "start_time": "2022-09-18T18:43:59.237Z"
   },
   {
    "duration": 1,
    "start_time": "2022-09-18T18:43:59.251Z"
   },
   {
    "duration": 3,
    "start_time": "2022-09-18T18:43:59.256Z"
   },
   {
    "duration": 36,
    "start_time": "2022-09-18T18:43:59.260Z"
   },
   {
    "duration": 10,
    "start_time": "2022-09-18T18:43:59.298Z"
   },
   {
    "duration": 0,
    "start_time": "2022-09-18T18:43:59.309Z"
   },
   {
    "duration": 0,
    "start_time": "2022-09-18T18:43:59.311Z"
   },
   {
    "duration": 0,
    "start_time": "2022-09-18T18:43:59.312Z"
   },
   {
    "duration": 15,
    "start_time": "2022-09-18T18:44:10.561Z"
   },
   {
    "duration": 17,
    "start_time": "2022-09-18T18:44:38.913Z"
   },
   {
    "duration": 24,
    "start_time": "2022-09-18T18:44:50.478Z"
   },
   {
    "duration": 20,
    "start_time": "2022-09-18T18:46:00.411Z"
   },
   {
    "duration": 13,
    "start_time": "2022-09-18T18:48:57.393Z"
   },
   {
    "duration": 48,
    "start_time": "2022-09-18T18:50:27.707Z"
   },
   {
    "duration": 66,
    "start_time": "2022-09-18T18:51:14.297Z"
   },
   {
    "duration": 86,
    "start_time": "2022-09-18T18:51:58.195Z"
   },
   {
    "duration": 1305,
    "start_time": "2022-09-18T18:52:28.536Z"
   },
   {
    "duration": 34,
    "start_time": "2022-09-18T18:52:50.587Z"
   },
   {
    "duration": 5,
    "start_time": "2022-09-18T18:53:03.677Z"
   },
   {
    "duration": 39,
    "start_time": "2022-09-18T18:53:03.686Z"
   },
   {
    "duration": 12,
    "start_time": "2022-09-18T18:53:03.727Z"
   },
   {
    "duration": 9,
    "start_time": "2022-09-18T18:53:03.741Z"
   },
   {
    "duration": 84,
    "start_time": "2022-09-18T18:53:03.753Z"
   },
   {
    "duration": 21,
    "start_time": "2022-09-18T18:53:03.839Z"
   },
   {
    "duration": 70,
    "start_time": "2022-09-18T18:53:03.862Z"
   },
   {
    "duration": 14,
    "start_time": "2022-09-18T18:53:03.934Z"
   },
   {
    "duration": 6,
    "start_time": "2022-09-18T18:53:03.950Z"
   },
   {
    "duration": 37,
    "start_time": "2022-09-18T18:53:03.958Z"
   },
   {
    "duration": 12,
    "start_time": "2022-09-18T18:53:03.999Z"
   },
   {
    "duration": 16,
    "start_time": "2022-09-18T18:53:04.013Z"
   },
   {
    "duration": 501,
    "start_time": "2022-09-18T18:53:04.031Z"
   },
   {
    "duration": 280,
    "start_time": "2022-09-18T18:53:04.533Z"
   },
   {
    "duration": 86,
    "start_time": "2022-09-18T18:53:04.815Z"
   },
   {
    "duration": 31,
    "start_time": "2022-09-18T18:53:04.904Z"
   },
   {
    "duration": 61,
    "start_time": "2022-09-18T18:53:04.938Z"
   },
   {
    "duration": 7,
    "start_time": "2022-09-18T18:53:05.001Z"
   },
   {
    "duration": 109,
    "start_time": "2022-09-18T18:53:05.010Z"
   },
   {
    "duration": 154,
    "start_time": "2022-09-18T18:53:05.121Z"
   },
   {
    "duration": 43,
    "start_time": "2022-09-18T18:53:05.277Z"
   },
   {
    "duration": 35,
    "start_time": "2022-09-18T18:53:05.322Z"
   },
   {
    "duration": 49,
    "start_time": "2022-09-18T18:53:05.360Z"
   },
   {
    "duration": 10,
    "start_time": "2022-09-18T18:53:05.411Z"
   },
   {
    "duration": 21,
    "start_time": "2022-09-18T18:53:05.423Z"
   },
   {
    "duration": 19,
    "start_time": "2022-09-18T18:53:05.447Z"
   },
   {
    "duration": 30,
    "start_time": "2022-09-18T18:53:05.467Z"
   },
   {
    "duration": 10,
    "start_time": "2022-09-18T18:53:05.500Z"
   },
   {
    "duration": 38,
    "start_time": "2022-09-18T18:53:05.512Z"
   },
   {
    "duration": 7,
    "start_time": "2022-09-18T18:53:05.552Z"
   },
   {
    "duration": 36,
    "start_time": "2022-09-18T18:53:05.561Z"
   },
   {
    "duration": 7,
    "start_time": "2022-09-18T18:53:05.599Z"
   },
   {
    "duration": 13,
    "start_time": "2022-09-18T18:53:05.608Z"
   },
   {
    "duration": 11,
    "start_time": "2022-09-18T18:53:05.623Z"
   },
   {
    "duration": 109,
    "start_time": "2022-09-18T18:53:05.636Z"
   },
   {
    "duration": 28,
    "start_time": "2022-09-18T18:53:05.747Z"
   },
   {
    "duration": 18,
    "start_time": "2022-09-18T18:53:05.777Z"
   },
   {
    "duration": 3,
    "start_time": "2022-09-18T18:53:05.797Z"
   },
   {
    "duration": 7,
    "start_time": "2022-09-18T18:53:05.801Z"
   },
   {
    "duration": 11,
    "start_time": "2022-09-18T18:53:05.810Z"
   },
   {
    "duration": 0,
    "start_time": "2022-09-18T18:53:05.822Z"
   },
   {
    "duration": 0,
    "start_time": "2022-09-18T18:53:05.823Z"
   },
   {
    "duration": 0,
    "start_time": "2022-09-18T18:53:05.825Z"
   },
   {
    "duration": 1265,
    "start_time": "2022-09-18T18:53:41.213Z"
   },
   {
    "duration": 4,
    "start_time": "2022-09-18T18:53:59.398Z"
   },
   {
    "duration": 39,
    "start_time": "2022-09-18T18:53:59.404Z"
   },
   {
    "duration": 10,
    "start_time": "2022-09-18T18:53:59.444Z"
   },
   {
    "duration": 7,
    "start_time": "2022-09-18T18:53:59.456Z"
   },
   {
    "duration": 79,
    "start_time": "2022-09-18T18:53:59.466Z"
   },
   {
    "duration": 21,
    "start_time": "2022-09-18T18:53:59.547Z"
   },
   {
    "duration": 55,
    "start_time": "2022-09-18T18:53:59.570Z"
   },
   {
    "duration": 11,
    "start_time": "2022-09-18T18:53:59.627Z"
   },
   {
    "duration": 6,
    "start_time": "2022-09-18T18:53:59.641Z"
   },
   {
    "duration": 5,
    "start_time": "2022-09-18T18:53:59.648Z"
   },
   {
    "duration": 43,
    "start_time": "2022-09-18T18:53:59.655Z"
   },
   {
    "duration": 12,
    "start_time": "2022-09-18T18:53:59.701Z"
   },
   {
    "duration": 484,
    "start_time": "2022-09-18T18:53:59.715Z"
   },
   {
    "duration": 283,
    "start_time": "2022-09-18T18:54:00.201Z"
   },
   {
    "duration": 59,
    "start_time": "2022-09-18T18:54:00.486Z"
   },
   {
    "duration": 29,
    "start_time": "2022-09-18T18:54:00.546Z"
   },
   {
    "duration": 50,
    "start_time": "2022-09-18T18:54:00.577Z"
   },
   {
    "duration": 7,
    "start_time": "2022-09-18T18:54:00.628Z"
   },
   {
    "duration": 104,
    "start_time": "2022-09-18T18:54:00.637Z"
   },
   {
    "duration": 139,
    "start_time": "2022-09-18T18:54:00.743Z"
   },
   {
    "duration": 29,
    "start_time": "2022-09-18T18:54:00.884Z"
   },
   {
    "duration": 26,
    "start_time": "2022-09-18T18:54:00.915Z"
   },
   {
    "duration": 65,
    "start_time": "2022-09-18T18:54:00.943Z"
   },
   {
    "duration": 12,
    "start_time": "2022-09-18T18:54:01.013Z"
   },
   {
    "duration": 15,
    "start_time": "2022-09-18T18:54:01.027Z"
   },
   {
    "duration": 19,
    "start_time": "2022-09-18T18:54:01.044Z"
   },
   {
    "duration": 37,
    "start_time": "2022-09-18T18:54:01.065Z"
   },
   {
    "duration": 9,
    "start_time": "2022-09-18T18:54:01.104Z"
   },
   {
    "duration": 46,
    "start_time": "2022-09-18T18:54:01.115Z"
   },
   {
    "duration": 6,
    "start_time": "2022-09-18T18:54:01.163Z"
   },
   {
    "duration": 30,
    "start_time": "2022-09-18T18:54:01.171Z"
   },
   {
    "duration": 25,
    "start_time": "2022-09-18T18:54:01.203Z"
   },
   {
    "duration": 36,
    "start_time": "2022-09-18T18:54:01.230Z"
   },
   {
    "duration": 16,
    "start_time": "2022-09-18T18:54:01.268Z"
   },
   {
    "duration": 86,
    "start_time": "2022-09-18T18:54:01.286Z"
   },
   {
    "duration": 25,
    "start_time": "2022-09-18T18:54:01.373Z"
   },
   {
    "duration": 9,
    "start_time": "2022-09-18T18:54:01.400Z"
   },
   {
    "duration": 15,
    "start_time": "2022-09-18T18:54:01.410Z"
   },
   {
    "duration": 15,
    "start_time": "2022-09-18T18:54:01.427Z"
   },
   {
    "duration": 18,
    "start_time": "2022-09-18T18:54:01.444Z"
   },
   {
    "duration": 41,
    "start_time": "2022-09-18T18:54:01.464Z"
   },
   {
    "duration": 0,
    "start_time": "2022-09-18T18:54:01.507Z"
   },
   {
    "duration": 0,
    "start_time": "2022-09-18T18:54:01.508Z"
   },
   {
    "duration": 0,
    "start_time": "2022-09-18T18:54:01.510Z"
   },
   {
    "duration": 8,
    "start_time": "2022-09-18T18:54:28.112Z"
   },
   {
    "duration": 23,
    "start_time": "2022-09-18T18:54:35.424Z"
   },
   {
    "duration": 20,
    "start_time": "2022-09-18T18:54:56.940Z"
   },
   {
    "duration": 13,
    "start_time": "2022-09-18T18:55:26.595Z"
   },
   {
    "duration": 8,
    "start_time": "2022-09-18T18:55:43.427Z"
   },
   {
    "duration": 13,
    "start_time": "2022-09-18T18:56:58.555Z"
   },
   {
    "duration": 7,
    "start_time": "2022-09-18T18:57:43.462Z"
   },
   {
    "duration": 7,
    "start_time": "2022-09-18T18:57:45.719Z"
   },
   {
    "duration": 12,
    "start_time": "2022-09-18T19:00:02.887Z"
   },
   {
    "duration": 10,
    "start_time": "2022-09-18T19:00:26.596Z"
   },
   {
    "duration": 43,
    "start_time": "2022-09-19T03:39:03.827Z"
   },
   {
    "duration": 61,
    "start_time": "2022-09-19T03:43:28.949Z"
   },
   {
    "duration": 5,
    "start_time": "2022-09-19T03:46:19.911Z"
   },
   {
    "duration": 8,
    "start_time": "2022-09-19T03:46:26.533Z"
   },
   {
    "duration": 7,
    "start_time": "2022-09-19T03:46:30.054Z"
   },
   {
    "duration": 1260,
    "start_time": "2022-09-19T03:46:34.390Z"
   },
   {
    "duration": 77,
    "start_time": "2022-09-19T03:46:35.652Z"
   },
   {
    "duration": 9,
    "start_time": "2022-09-19T03:46:35.731Z"
   },
   {
    "duration": 68,
    "start_time": "2022-09-19T03:46:35.743Z"
   },
   {
    "duration": 0,
    "start_time": "2022-09-19T03:46:35.814Z"
   },
   {
    "duration": 0,
    "start_time": "2022-09-19T03:46:35.815Z"
   },
   {
    "duration": 0,
    "start_time": "2022-09-19T03:46:35.816Z"
   },
   {
    "duration": 0,
    "start_time": "2022-09-19T03:46:35.817Z"
   },
   {
    "duration": 0,
    "start_time": "2022-09-19T03:46:35.818Z"
   },
   {
    "duration": 0,
    "start_time": "2022-09-19T03:46:35.819Z"
   },
   {
    "duration": 0,
    "start_time": "2022-09-19T03:46:35.821Z"
   },
   {
    "duration": 0,
    "start_time": "2022-09-19T03:46:35.822Z"
   },
   {
    "duration": 0,
    "start_time": "2022-09-19T03:46:35.823Z"
   },
   {
    "duration": 0,
    "start_time": "2022-09-19T03:46:35.824Z"
   },
   {
    "duration": 0,
    "start_time": "2022-09-19T03:46:35.826Z"
   },
   {
    "duration": 0,
    "start_time": "2022-09-19T03:46:35.827Z"
   },
   {
    "duration": 0,
    "start_time": "2022-09-19T03:46:35.829Z"
   },
   {
    "duration": 0,
    "start_time": "2022-09-19T03:46:35.830Z"
   },
   {
    "duration": 0,
    "start_time": "2022-09-19T03:46:35.831Z"
   },
   {
    "duration": 0,
    "start_time": "2022-09-19T03:46:35.832Z"
   },
   {
    "duration": 0,
    "start_time": "2022-09-19T03:46:35.833Z"
   },
   {
    "duration": 0,
    "start_time": "2022-09-19T03:46:35.834Z"
   },
   {
    "duration": 0,
    "start_time": "2022-09-19T03:46:35.835Z"
   },
   {
    "duration": 0,
    "start_time": "2022-09-19T03:46:35.836Z"
   },
   {
    "duration": 0,
    "start_time": "2022-09-19T03:46:35.837Z"
   },
   {
    "duration": 0,
    "start_time": "2022-09-19T03:46:35.838Z"
   },
   {
    "duration": 0,
    "start_time": "2022-09-19T03:46:35.840Z"
   },
   {
    "duration": 0,
    "start_time": "2022-09-19T03:46:35.883Z"
   },
   {
    "duration": 0,
    "start_time": "2022-09-19T03:46:35.884Z"
   },
   {
    "duration": 0,
    "start_time": "2022-09-19T03:46:35.884Z"
   },
   {
    "duration": 0,
    "start_time": "2022-09-19T03:46:35.885Z"
   },
   {
    "duration": 0,
    "start_time": "2022-09-19T03:46:35.886Z"
   },
   {
    "duration": 0,
    "start_time": "2022-09-19T03:46:35.886Z"
   },
   {
    "duration": 0,
    "start_time": "2022-09-19T03:46:35.887Z"
   },
   {
    "duration": 0,
    "start_time": "2022-09-19T03:46:35.888Z"
   },
   {
    "duration": 0,
    "start_time": "2022-09-19T03:46:35.890Z"
   },
   {
    "duration": 0,
    "start_time": "2022-09-19T03:46:35.893Z"
   },
   {
    "duration": 0,
    "start_time": "2022-09-19T03:46:35.894Z"
   },
   {
    "duration": 0,
    "start_time": "2022-09-19T03:46:35.895Z"
   },
   {
    "duration": 0,
    "start_time": "2022-09-19T03:46:35.896Z"
   },
   {
    "duration": 5,
    "start_time": "2022-09-19T03:47:05.559Z"
   },
   {
    "duration": 4,
    "start_time": "2022-09-19T03:47:08.192Z"
   },
   {
    "duration": 44,
    "start_time": "2022-09-19T03:47:08.199Z"
   },
   {
    "duration": 9,
    "start_time": "2022-09-19T03:47:08.245Z"
   },
   {
    "duration": 7,
    "start_time": "2022-09-19T03:47:08.255Z"
   },
   {
    "duration": 200,
    "start_time": "2022-09-19T03:47:08.264Z"
   },
   {
    "duration": 24,
    "start_time": "2022-09-19T03:47:08.466Z"
   },
   {
    "duration": 64,
    "start_time": "2022-09-19T03:47:08.492Z"
   },
   {
    "duration": 13,
    "start_time": "2022-09-19T03:47:08.558Z"
   },
   {
    "duration": 44,
    "start_time": "2022-09-19T03:47:08.572Z"
   },
   {
    "duration": 32,
    "start_time": "2022-09-19T03:47:08.618Z"
   },
   {
    "duration": 18,
    "start_time": "2022-09-19T03:47:08.653Z"
   },
   {
    "duration": 35,
    "start_time": "2022-09-19T03:47:08.673Z"
   },
   {
    "duration": 672,
    "start_time": "2022-09-19T03:47:08.710Z"
   },
   {
    "duration": 271,
    "start_time": "2022-09-19T03:47:09.383Z"
   },
   {
    "duration": 62,
    "start_time": "2022-09-19T03:47:09.656Z"
   },
   {
    "duration": 29,
    "start_time": "2022-09-19T03:47:09.720Z"
   },
   {
    "duration": 52,
    "start_time": "2022-09-19T03:47:09.750Z"
   },
   {
    "duration": 8,
    "start_time": "2022-09-19T03:47:09.804Z"
   },
   {
    "duration": 98,
    "start_time": "2022-09-19T03:47:09.814Z"
   },
   {
    "duration": 141,
    "start_time": "2022-09-19T03:47:09.914Z"
   },
   {
    "duration": 35,
    "start_time": "2022-09-19T03:47:10.057Z"
   },
   {
    "duration": 28,
    "start_time": "2022-09-19T03:47:10.095Z"
   },
   {
    "duration": 103,
    "start_time": "2022-09-19T03:47:10.125Z"
   },
   {
    "duration": 10,
    "start_time": "2022-09-19T03:47:10.231Z"
   },
   {
    "duration": 11,
    "start_time": "2022-09-19T03:47:10.243Z"
   },
   {
    "duration": 13,
    "start_time": "2022-09-19T03:47:10.256Z"
   },
   {
    "duration": 17,
    "start_time": "2022-09-19T03:47:10.271Z"
   },
   {
    "duration": 10,
    "start_time": "2022-09-19T03:47:10.292Z"
   },
   {
    "duration": 32,
    "start_time": "2022-09-19T03:47:10.307Z"
   },
   {
    "duration": 6,
    "start_time": "2022-09-19T03:47:10.341Z"
   },
   {
    "duration": 10,
    "start_time": "2022-09-19T03:47:10.349Z"
   },
   {
    "duration": 10,
    "start_time": "2022-09-19T03:47:10.379Z"
   },
   {
    "duration": 16,
    "start_time": "2022-09-19T03:47:10.395Z"
   },
   {
    "duration": 0,
    "start_time": "2022-09-19T03:47:10.413Z"
   },
   {
    "duration": 0,
    "start_time": "2022-09-19T03:47:10.414Z"
   },
   {
    "duration": 0,
    "start_time": "2022-09-19T03:47:10.415Z"
   },
   {
    "duration": 0,
    "start_time": "2022-09-19T03:47:10.417Z"
   },
   {
    "duration": 0,
    "start_time": "2022-09-19T03:47:10.418Z"
   },
   {
    "duration": 0,
    "start_time": "2022-09-19T03:47:10.419Z"
   },
   {
    "duration": 0,
    "start_time": "2022-09-19T03:47:10.421Z"
   },
   {
    "duration": 6,
    "start_time": "2022-09-19T03:47:44.494Z"
   },
   {
    "duration": 52,
    "start_time": "2022-09-19T03:48:24.254Z"
   },
   {
    "duration": 49,
    "start_time": "2022-09-19T03:49:40.693Z"
   },
   {
    "duration": 3,
    "start_time": "2022-09-19T03:49:48.293Z"
   },
   {
    "duration": 7,
    "start_time": "2022-09-19T03:49:51.087Z"
   },
   {
    "duration": 22,
    "start_time": "2022-09-19T03:49:55.366Z"
   },
   {
    "duration": 274,
    "start_time": "2022-09-19T03:51:32.457Z"
   },
   {
    "duration": 256,
    "start_time": "2022-09-19T03:52:13.595Z"
   },
   {
    "duration": 6,
    "start_time": "2022-09-19T03:52:20.457Z"
   },
   {
    "duration": 296,
    "start_time": "2022-09-19T03:53:01.126Z"
   },
   {
    "duration": 38,
    "start_time": "2022-09-19T03:53:59.563Z"
   },
   {
    "duration": 43,
    "start_time": "2022-09-19T03:54:14.376Z"
   },
   {
    "duration": 38,
    "start_time": "2022-09-19T03:54:19.199Z"
   },
   {
    "duration": 278,
    "start_time": "2022-09-19T03:54:38.094Z"
   },
   {
    "duration": 52,
    "start_time": "2022-09-19T03:54:41.355Z"
   },
   {
    "duration": 300,
    "start_time": "2022-09-19T03:55:52.289Z"
   },
   {
    "duration": 287,
    "start_time": "2022-09-19T03:56:10.540Z"
   },
   {
    "duration": 59,
    "start_time": "2022-09-19T03:56:17.513Z"
   },
   {
    "duration": 36,
    "start_time": "2022-09-19T03:56:19.515Z"
   },
   {
    "duration": 268,
    "start_time": "2022-09-19T03:56:21.633Z"
   },
   {
    "duration": 229,
    "start_time": "2022-09-19T03:56:40.825Z"
   },
   {
    "duration": 69,
    "start_time": "2022-09-19T03:56:43.475Z"
   },
   {
    "duration": 40,
    "start_time": "2022-09-19T03:56:56.489Z"
   },
   {
    "duration": 289,
    "start_time": "2022-09-19T03:57:21.098Z"
   },
   {
    "duration": 7,
    "start_time": "2022-09-19T03:58:08.586Z"
   },
   {
    "duration": 42,
    "start_time": "2022-09-19T03:58:08.597Z"
   },
   {
    "duration": 11,
    "start_time": "2022-09-19T03:58:08.641Z"
   },
   {
    "duration": 12,
    "start_time": "2022-09-19T03:58:08.654Z"
   },
   {
    "duration": 138,
    "start_time": "2022-09-19T03:58:08.669Z"
   },
   {
    "duration": 17,
    "start_time": "2022-09-19T03:58:08.810Z"
   },
   {
    "duration": 54,
    "start_time": "2022-09-19T03:58:08.829Z"
   },
   {
    "duration": 17,
    "start_time": "2022-09-19T03:58:08.885Z"
   },
   {
    "duration": 15,
    "start_time": "2022-09-19T03:58:08.904Z"
   },
   {
    "duration": 14,
    "start_time": "2022-09-19T03:58:08.921Z"
   },
   {
    "duration": 17,
    "start_time": "2022-09-19T03:58:08.939Z"
   },
   {
    "duration": 25,
    "start_time": "2022-09-19T03:58:08.958Z"
   },
   {
    "duration": 538,
    "start_time": "2022-09-19T03:58:08.986Z"
   },
   {
    "duration": 275,
    "start_time": "2022-09-19T03:58:09.526Z"
   },
   {
    "duration": 78,
    "start_time": "2022-09-19T03:58:09.802Z"
   },
   {
    "duration": 29,
    "start_time": "2022-09-19T03:58:09.882Z"
   },
   {
    "duration": 31,
    "start_time": "2022-09-19T03:58:09.913Z"
   },
   {
    "duration": 6,
    "start_time": "2022-09-19T03:58:09.946Z"
   },
   {
    "duration": 117,
    "start_time": "2022-09-19T03:58:09.954Z"
   },
   {
    "duration": 155,
    "start_time": "2022-09-19T03:58:10.074Z"
   },
   {
    "duration": 25,
    "start_time": "2022-09-19T03:58:10.231Z"
   },
   {
    "duration": 50,
    "start_time": "2022-09-19T03:58:10.258Z"
   },
   {
    "duration": 44,
    "start_time": "2022-09-19T03:58:10.310Z"
   },
   {
    "duration": 11,
    "start_time": "2022-09-19T03:58:10.356Z"
   },
   {
    "duration": 22,
    "start_time": "2022-09-19T03:58:10.369Z"
   },
   {
    "duration": 30,
    "start_time": "2022-09-19T03:58:10.395Z"
   },
   {
    "duration": 13,
    "start_time": "2022-09-19T03:58:10.427Z"
   },
   {
    "duration": 8,
    "start_time": "2022-09-19T03:58:10.441Z"
   },
   {
    "duration": 45,
    "start_time": "2022-09-19T03:58:10.453Z"
   },
   {
    "duration": 7,
    "start_time": "2022-09-19T03:58:10.501Z"
   },
   {
    "duration": 11,
    "start_time": "2022-09-19T03:58:10.509Z"
   },
   {
    "duration": 14,
    "start_time": "2022-09-19T03:58:10.522Z"
   },
   {
    "duration": 308,
    "start_time": "2022-09-19T03:58:10.538Z"
   },
   {
    "duration": 65,
    "start_time": "2022-09-19T03:58:10.848Z"
   },
   {
    "duration": 9,
    "start_time": "2022-09-19T03:58:10.915Z"
   },
   {
    "duration": 0,
    "start_time": "2022-09-19T03:58:10.926Z"
   },
   {
    "duration": 0,
    "start_time": "2022-09-19T03:58:10.927Z"
   },
   {
    "duration": 0,
    "start_time": "2022-09-19T03:58:10.928Z"
   },
   {
    "duration": 0,
    "start_time": "2022-09-19T03:58:10.929Z"
   },
   {
    "duration": 0,
    "start_time": "2022-09-19T03:58:10.930Z"
   },
   {
    "duration": 0,
    "start_time": "2022-09-19T03:58:10.932Z"
   },
   {
    "duration": 265,
    "start_time": "2022-09-19T03:59:18.796Z"
   },
   {
    "duration": 285,
    "start_time": "2022-09-19T03:59:24.798Z"
   },
   {
    "duration": 226,
    "start_time": "2022-09-19T04:00:52.893Z"
   },
   {
    "duration": 238,
    "start_time": "2022-09-19T04:01:18.756Z"
   },
   {
    "duration": 42,
    "start_time": "2022-09-19T04:02:01.537Z"
   },
   {
    "duration": 39,
    "start_time": "2022-09-19T04:02:36.266Z"
   },
   {
    "duration": 19,
    "start_time": "2022-09-19T04:02:45.601Z"
   },
   {
    "duration": 4,
    "start_time": "2022-09-19T04:03:55.422Z"
   },
   {
    "duration": 25,
    "start_time": "2022-09-19T04:04:05.311Z"
   },
   {
    "duration": 28,
    "start_time": "2022-09-19T04:04:12.770Z"
   },
   {
    "duration": 27,
    "start_time": "2022-09-19T04:04:56.865Z"
   },
   {
    "duration": 23,
    "start_time": "2022-09-19T04:05:55.571Z"
   },
   {
    "duration": 26,
    "start_time": "2022-09-19T04:08:22.383Z"
   },
   {
    "duration": 24,
    "start_time": "2022-09-19T04:09:53.317Z"
   },
   {
    "duration": 51,
    "start_time": "2022-09-19T04:12:50.960Z"
   },
   {
    "duration": 385,
    "start_time": "2022-09-19T04:15:50.507Z"
   },
   {
    "duration": 75,
    "start_time": "2022-09-19T04:16:02.047Z"
   },
   {
    "duration": 5,
    "start_time": "2022-09-19T04:16:09.744Z"
   },
   {
    "duration": 4,
    "start_time": "2022-09-19T04:16:19.507Z"
   },
   {
    "duration": 33,
    "start_time": "2022-09-19T04:16:19.518Z"
   },
   {
    "duration": 8,
    "start_time": "2022-09-19T04:16:19.553Z"
   },
   {
    "duration": 6,
    "start_time": "2022-09-19T04:16:19.563Z"
   },
   {
    "duration": 84,
    "start_time": "2022-09-19T04:16:19.571Z"
   },
   {
    "duration": 15,
    "start_time": "2022-09-19T04:16:19.657Z"
   },
   {
    "duration": 32,
    "start_time": "2022-09-19T04:16:19.673Z"
   },
   {
    "duration": 10,
    "start_time": "2022-09-19T04:16:19.707Z"
   },
   {
    "duration": 4,
    "start_time": "2022-09-19T04:16:19.719Z"
   },
   {
    "duration": 7,
    "start_time": "2022-09-19T04:16:19.725Z"
   },
   {
    "duration": 10,
    "start_time": "2022-09-19T04:16:19.734Z"
   },
   {
    "duration": 40,
    "start_time": "2022-09-19T04:16:19.746Z"
   },
   {
    "duration": 435,
    "start_time": "2022-09-19T04:16:19.787Z"
   },
   {
    "duration": 235,
    "start_time": "2022-09-19T04:16:20.223Z"
   },
   {
    "duration": 67,
    "start_time": "2022-09-19T04:16:20.460Z"
   },
   {
    "duration": 24,
    "start_time": "2022-09-19T04:16:20.528Z"
   },
   {
    "duration": 57,
    "start_time": "2022-09-19T04:16:20.553Z"
   },
   {
    "duration": 5,
    "start_time": "2022-09-19T04:16:20.612Z"
   },
   {
    "duration": 95,
    "start_time": "2022-09-19T04:16:20.619Z"
   },
   {
    "duration": 130,
    "start_time": "2022-09-19T04:16:20.717Z"
   },
   {
    "duration": 45,
    "start_time": "2022-09-19T04:16:20.849Z"
   },
   {
    "duration": 10,
    "start_time": "2022-09-19T04:16:20.896Z"
   },
   {
    "duration": 11,
    "start_time": "2022-09-19T04:16:20.908Z"
   },
   {
    "duration": 11,
    "start_time": "2022-09-19T04:16:20.921Z"
   },
   {
    "duration": 68,
    "start_time": "2022-09-19T04:16:20.933Z"
   },
   {
    "duration": 4,
    "start_time": "2022-09-19T04:16:21.003Z"
   },
   {
    "duration": 15,
    "start_time": "2022-09-19T04:16:21.009Z"
   },
   {
    "duration": 227,
    "start_time": "2022-09-19T04:16:21.026Z"
   },
   {
    "duration": 43,
    "start_time": "2022-09-19T04:16:21.255Z"
   },
   {
    "duration": 14,
    "start_time": "2022-09-19T04:16:21.300Z"
   },
   {
    "duration": 8,
    "start_time": "2022-09-19T04:16:21.316Z"
   },
   {
    "duration": 0,
    "start_time": "2022-09-19T04:16:21.325Z"
   },
   {
    "duration": 0,
    "start_time": "2022-09-19T04:16:21.327Z"
   },
   {
    "duration": 0,
    "start_time": "2022-09-19T04:16:21.328Z"
   },
   {
    "duration": 0,
    "start_time": "2022-09-19T04:16:21.329Z"
   },
   {
    "duration": 0,
    "start_time": "2022-09-19T04:16:21.330Z"
   },
   {
    "duration": 0,
    "start_time": "2022-09-19T04:16:21.331Z"
   },
   {
    "duration": 6,
    "start_time": "2022-09-19T04:17:11.102Z"
   },
   {
    "duration": 18,
    "start_time": "2022-09-19T04:17:34.840Z"
   },
   {
    "duration": 17,
    "start_time": "2022-09-19T04:17:44.210Z"
   },
   {
    "duration": 9,
    "start_time": "2022-09-19T04:18:04.591Z"
   },
   {
    "duration": 15,
    "start_time": "2022-09-19T04:18:10.175Z"
   },
   {
    "duration": 36,
    "start_time": "2022-09-19T04:20:29.925Z"
   },
   {
    "duration": 42,
    "start_time": "2022-09-19T04:21:06.769Z"
   },
   {
    "duration": 13,
    "start_time": "2022-09-19T04:21:26.918Z"
   },
   {
    "duration": 19,
    "start_time": "2022-09-19T04:21:39.787Z"
   },
   {
    "duration": 30,
    "start_time": "2022-09-19T04:21:54.534Z"
   },
   {
    "duration": 3,
    "start_time": "2022-09-19T04:22:18.292Z"
   },
   {
    "duration": 3,
    "start_time": "2022-09-19T04:22:39.029Z"
   },
   {
    "duration": 38,
    "start_time": "2022-09-19T04:22:39.039Z"
   },
   {
    "duration": 13,
    "start_time": "2022-09-19T04:22:39.080Z"
   },
   {
    "duration": 7,
    "start_time": "2022-09-19T04:22:39.094Z"
   },
   {
    "duration": 64,
    "start_time": "2022-09-19T04:22:39.103Z"
   },
   {
    "duration": 27,
    "start_time": "2022-09-19T04:22:39.168Z"
   },
   {
    "duration": 28,
    "start_time": "2022-09-19T04:22:39.197Z"
   },
   {
    "duration": 11,
    "start_time": "2022-09-19T04:22:39.227Z"
   },
   {
    "duration": 5,
    "start_time": "2022-09-19T04:22:39.239Z"
   },
   {
    "duration": 39,
    "start_time": "2022-09-19T04:22:39.245Z"
   },
   {
    "duration": 10,
    "start_time": "2022-09-19T04:22:39.291Z"
   },
   {
    "duration": 13,
    "start_time": "2022-09-19T04:22:39.303Z"
   },
   {
    "duration": 420,
    "start_time": "2022-09-19T04:22:39.318Z"
   },
   {
    "duration": 252,
    "start_time": "2022-09-19T04:22:39.740Z"
   },
   {
    "duration": 52,
    "start_time": "2022-09-19T04:22:39.994Z"
   },
   {
    "duration": 44,
    "start_time": "2022-09-19T04:22:40.048Z"
   },
   {
    "duration": 30,
    "start_time": "2022-09-19T04:22:40.093Z"
   },
   {
    "duration": 5,
    "start_time": "2022-09-19T04:22:40.125Z"
   },
   {
    "duration": 93,
    "start_time": "2022-09-19T04:22:40.132Z"
   },
   {
    "duration": 125,
    "start_time": "2022-09-19T04:22:40.227Z"
   },
   {
    "duration": 47,
    "start_time": "2022-09-19T04:22:40.354Z"
   },
   {
    "duration": 8,
    "start_time": "2022-09-19T04:22:40.403Z"
   },
   {
    "duration": 10,
    "start_time": "2022-09-19T04:22:40.413Z"
   },
   {
    "duration": 13,
    "start_time": "2022-09-19T04:22:40.425Z"
   },
   {
    "duration": 70,
    "start_time": "2022-09-19T04:22:40.439Z"
   },
   {
    "duration": 10,
    "start_time": "2022-09-19T04:22:40.511Z"
   },
   {
    "duration": 9,
    "start_time": "2022-09-19T04:22:40.523Z"
   },
   {
    "duration": 231,
    "start_time": "2022-09-19T04:22:40.536Z"
   },
   {
    "duration": 42,
    "start_time": "2022-09-19T04:22:40.769Z"
   },
   {
    "duration": 17,
    "start_time": "2022-09-19T04:22:40.812Z"
   },
   {
    "duration": 10,
    "start_time": "2022-09-19T04:22:40.831Z"
   },
   {
    "duration": 63,
    "start_time": "2022-09-19T04:22:40.843Z"
   },
   {
    "duration": 6,
    "start_time": "2022-09-19T04:22:40.907Z"
   },
   {
    "duration": 4,
    "start_time": "2022-09-19T04:22:40.914Z"
   },
   {
    "duration": 7,
    "start_time": "2022-09-19T04:22:40.919Z"
   },
   {
    "duration": 10,
    "start_time": "2022-09-19T04:22:40.928Z"
   },
   {
    "duration": 13,
    "start_time": "2022-09-19T04:22:40.940Z"
   },
   {
    "duration": 35,
    "start_time": "2022-09-19T04:22:40.955Z"
   },
   {
    "duration": 18,
    "start_time": "2022-09-19T04:23:03.770Z"
   },
   {
    "duration": 92,
    "start_time": "2022-09-19T04:23:16.947Z"
   },
   {
    "duration": 77,
    "start_time": "2022-09-19T04:23:59.998Z"
   },
   {
    "duration": 3,
    "start_time": "2022-09-19T04:24:09.593Z"
   },
   {
    "duration": 33,
    "start_time": "2022-09-19T04:24:09.606Z"
   },
   {
    "duration": 9,
    "start_time": "2022-09-19T04:24:09.641Z"
   },
   {
    "duration": 15,
    "start_time": "2022-09-19T04:24:09.652Z"
   },
   {
    "duration": 91,
    "start_time": "2022-09-19T04:24:09.669Z"
   },
   {
    "duration": 19,
    "start_time": "2022-09-19T04:24:09.761Z"
   },
   {
    "duration": 46,
    "start_time": "2022-09-19T04:24:09.781Z"
   },
   {
    "duration": 12,
    "start_time": "2022-09-19T04:24:09.828Z"
   },
   {
    "duration": 5,
    "start_time": "2022-09-19T04:24:09.841Z"
   },
   {
    "duration": 10,
    "start_time": "2022-09-19T04:24:09.848Z"
   },
   {
    "duration": 23,
    "start_time": "2022-09-19T04:24:09.860Z"
   },
   {
    "duration": 23,
    "start_time": "2022-09-19T04:24:09.885Z"
   },
   {
    "duration": 489,
    "start_time": "2022-09-19T04:24:09.910Z"
   },
   {
    "duration": 253,
    "start_time": "2022-09-19T04:24:10.400Z"
   },
   {
    "duration": 67,
    "start_time": "2022-09-19T04:24:10.654Z"
   },
   {
    "duration": 25,
    "start_time": "2022-09-19T04:24:10.722Z"
   },
   {
    "duration": 56,
    "start_time": "2022-09-19T04:24:10.748Z"
   },
   {
    "duration": 6,
    "start_time": "2022-09-19T04:24:10.806Z"
   },
   {
    "duration": 119,
    "start_time": "2022-09-19T04:24:10.814Z"
   },
   {
    "duration": 159,
    "start_time": "2022-09-19T04:24:10.935Z"
   },
   {
    "duration": 42,
    "start_time": "2022-09-19T04:24:11.096Z"
   },
   {
    "duration": 10,
    "start_time": "2022-09-19T04:24:11.140Z"
   },
   {
    "duration": 12,
    "start_time": "2022-09-19T04:24:11.151Z"
   },
   {
    "duration": 24,
    "start_time": "2022-09-19T04:24:11.166Z"
   },
   {
    "duration": 45,
    "start_time": "2022-09-19T04:24:11.196Z"
   },
   {
    "duration": 5,
    "start_time": "2022-09-19T04:24:11.243Z"
   },
   {
    "duration": 7,
    "start_time": "2022-09-19T04:24:11.250Z"
   },
   {
    "duration": 276,
    "start_time": "2022-09-19T04:24:11.259Z"
   },
   {
    "duration": 63,
    "start_time": "2022-09-19T04:24:11.536Z"
   },
   {
    "duration": 25,
    "start_time": "2022-09-19T04:24:11.602Z"
   },
   {
    "duration": 12,
    "start_time": "2022-09-19T04:24:11.629Z"
   },
   {
    "duration": 147,
    "start_time": "2022-09-19T04:24:11.643Z"
   },
   {
    "duration": 3,
    "start_time": "2022-09-19T04:24:11.795Z"
   },
   {
    "duration": 8,
    "start_time": "2022-09-19T04:24:11.799Z"
   },
   {
    "duration": 11,
    "start_time": "2022-09-19T04:24:11.809Z"
   },
   {
    "duration": 13,
    "start_time": "2022-09-19T04:24:11.822Z"
   },
   {
    "duration": 63,
    "start_time": "2022-09-19T04:24:41.689Z"
   },
   {
    "duration": 20,
    "start_time": "2022-09-19T04:24:55.549Z"
   },
   {
    "duration": 10,
    "start_time": "2022-09-19T04:25:07.127Z"
   },
   {
    "duration": 109,
    "start_time": "2022-09-19T04:25:14.090Z"
   },
   {
    "duration": 3,
    "start_time": "2022-09-19T04:25:35.525Z"
   },
   {
    "duration": 33,
    "start_time": "2022-09-19T04:25:35.536Z"
   },
   {
    "duration": 12,
    "start_time": "2022-09-19T04:25:35.570Z"
   },
   {
    "duration": 15,
    "start_time": "2022-09-19T04:25:35.584Z"
   },
   {
    "duration": 71,
    "start_time": "2022-09-19T04:25:35.601Z"
   },
   {
    "duration": 22,
    "start_time": "2022-09-19T04:25:35.674Z"
   },
   {
    "duration": 32,
    "start_time": "2022-09-19T04:25:35.697Z"
   },
   {
    "duration": 11,
    "start_time": "2022-09-19T04:25:35.731Z"
   },
   {
    "duration": 5,
    "start_time": "2022-09-19T04:25:35.743Z"
   },
   {
    "duration": 9,
    "start_time": "2022-09-19T04:25:35.749Z"
   },
   {
    "duration": 16,
    "start_time": "2022-09-19T04:25:35.779Z"
   },
   {
    "duration": 12,
    "start_time": "2022-09-19T04:25:35.797Z"
   },
   {
    "duration": 428,
    "start_time": "2022-09-19T04:25:35.812Z"
   },
   {
    "duration": 232,
    "start_time": "2022-09-19T04:25:36.241Z"
   },
   {
    "duration": 57,
    "start_time": "2022-09-19T04:25:36.474Z"
   },
   {
    "duration": 23,
    "start_time": "2022-09-19T04:25:36.533Z"
   },
   {
    "duration": 57,
    "start_time": "2022-09-19T04:25:36.557Z"
   },
   {
    "duration": 6,
    "start_time": "2022-09-19T04:25:36.616Z"
   },
   {
    "duration": 93,
    "start_time": "2022-09-19T04:25:36.624Z"
   },
   {
    "duration": 129,
    "start_time": "2022-09-19T04:25:36.719Z"
   },
   {
    "duration": 45,
    "start_time": "2022-09-19T04:25:36.850Z"
   },
   {
    "duration": 8,
    "start_time": "2022-09-19T04:25:36.897Z"
   },
   {
    "duration": 12,
    "start_time": "2022-09-19T04:25:36.907Z"
   },
   {
    "duration": 14,
    "start_time": "2022-09-19T04:25:36.921Z"
   },
   {
    "duration": 88,
    "start_time": "2022-09-19T04:25:36.937Z"
   },
   {
    "duration": 5,
    "start_time": "2022-09-19T04:25:37.028Z"
   },
   {
    "duration": 12,
    "start_time": "2022-09-19T04:25:37.035Z"
   },
   {
    "duration": 253,
    "start_time": "2022-09-19T04:25:37.049Z"
   },
   {
    "duration": 31,
    "start_time": "2022-09-19T04:25:37.304Z"
   },
   {
    "duration": 16,
    "start_time": "2022-09-19T04:25:37.337Z"
   },
   {
    "duration": 32,
    "start_time": "2022-09-19T04:25:37.355Z"
   },
   {
    "duration": 50,
    "start_time": "2022-09-19T04:25:37.393Z"
   },
   {
    "duration": 80,
    "start_time": "2022-09-19T04:25:37.445Z"
   },
   {
    "duration": 21,
    "start_time": "2022-09-19T04:25:37.527Z"
   },
   {
    "duration": 5,
    "start_time": "2022-09-19T04:25:37.550Z"
   },
   {
    "duration": 28,
    "start_time": "2022-09-19T04:25:37.557Z"
   },
   {
    "duration": 30,
    "start_time": "2022-09-19T04:25:37.590Z"
   },
   {
    "duration": 81,
    "start_time": "2022-09-19T04:26:29.872Z"
   },
   {
    "duration": 4,
    "start_time": "2022-09-19T04:26:32.994Z"
   },
   {
    "duration": 32,
    "start_time": "2022-09-19T04:26:33.008Z"
   },
   {
    "duration": 9,
    "start_time": "2022-09-19T04:26:33.042Z"
   },
   {
    "duration": 11,
    "start_time": "2022-09-19T04:26:33.052Z"
   },
   {
    "duration": 71,
    "start_time": "2022-09-19T04:26:33.065Z"
   },
   {
    "duration": 15,
    "start_time": "2022-09-19T04:26:33.138Z"
   },
   {
    "duration": 39,
    "start_time": "2022-09-19T04:26:33.155Z"
   },
   {
    "duration": 12,
    "start_time": "2022-09-19T04:26:33.196Z"
   },
   {
    "duration": 4,
    "start_time": "2022-09-19T04:26:33.211Z"
   },
   {
    "duration": 8,
    "start_time": "2022-09-19T04:26:33.217Z"
   },
   {
    "duration": 11,
    "start_time": "2022-09-19T04:26:33.227Z"
   },
   {
    "duration": 43,
    "start_time": "2022-09-19T04:26:33.239Z"
   },
   {
    "duration": 449,
    "start_time": "2022-09-19T04:26:33.283Z"
   },
   {
    "duration": 263,
    "start_time": "2022-09-19T04:26:33.734Z"
   },
   {
    "duration": 54,
    "start_time": "2022-09-19T04:26:33.999Z"
   },
   {
    "duration": 40,
    "start_time": "2022-09-19T04:26:34.055Z"
   },
   {
    "duration": 42,
    "start_time": "2022-09-19T04:26:34.097Z"
   },
   {
    "duration": 7,
    "start_time": "2022-09-19T04:26:34.141Z"
   },
   {
    "duration": 115,
    "start_time": "2022-09-19T04:26:34.149Z"
   },
   {
    "duration": 153,
    "start_time": "2022-09-19T04:26:34.268Z"
   },
   {
    "duration": 43,
    "start_time": "2022-09-19T04:26:34.423Z"
   },
   {
    "duration": 16,
    "start_time": "2022-09-19T04:26:34.468Z"
   },
   {
    "duration": 16,
    "start_time": "2022-09-19T04:26:34.488Z"
   },
   {
    "duration": 15,
    "start_time": "2022-09-19T04:26:34.506Z"
   },
   {
    "duration": 43,
    "start_time": "2022-09-19T04:26:34.522Z"
   },
   {
    "duration": 11,
    "start_time": "2022-09-19T04:26:34.567Z"
   },
   {
    "duration": 34,
    "start_time": "2022-09-19T04:26:34.581Z"
   },
   {
    "duration": 244,
    "start_time": "2022-09-19T04:26:34.616Z"
   },
   {
    "duration": 53,
    "start_time": "2022-09-19T04:26:34.862Z"
   },
   {
    "duration": 24,
    "start_time": "2022-09-19T04:26:34.917Z"
   },
   {
    "duration": 14,
    "start_time": "2022-09-19T04:26:34.943Z"
   },
   {
    "duration": 44,
    "start_time": "2022-09-19T04:26:34.976Z"
   },
   {
    "duration": 93,
    "start_time": "2022-09-19T04:26:35.022Z"
   },
   {
    "duration": 13,
    "start_time": "2022-09-19T04:26:35.116Z"
   },
   {
    "duration": 14,
    "start_time": "2022-09-19T04:26:58.096Z"
   },
   {
    "duration": 23,
    "start_time": "2022-09-19T04:27:37.905Z"
   },
   {
    "duration": 8,
    "start_time": "2022-09-19T04:28:05.671Z"
   },
   {
    "duration": 9,
    "start_time": "2022-09-19T04:28:21.556Z"
   },
   {
    "duration": 18,
    "start_time": "2022-09-19T04:29:10.275Z"
   },
   {
    "duration": 15,
    "start_time": "2022-09-19T04:29:20.790Z"
   },
   {
    "duration": 5,
    "start_time": "2022-09-19T04:29:34.423Z"
   },
   {
    "duration": 33,
    "start_time": "2022-09-19T04:31:01.506Z"
   },
   {
    "duration": 13,
    "start_time": "2022-09-19T04:31:51.272Z"
   },
   {
    "duration": 7,
    "start_time": "2022-09-19T04:32:19.318Z"
   },
   {
    "duration": 30,
    "start_time": "2022-09-19T04:35:54.362Z"
   },
   {
    "duration": 8,
    "start_time": "2022-09-19T04:36:12.692Z"
   },
   {
    "duration": 11,
    "start_time": "2022-09-19T04:37:22.610Z"
   },
   {
    "duration": 41,
    "start_time": "2022-09-19T04:37:56.745Z"
   },
   {
    "duration": 33,
    "start_time": "2022-09-19T04:38:13.911Z"
   },
   {
    "duration": 38,
    "start_time": "2022-09-19T04:38:29.160Z"
   },
   {
    "duration": 26,
    "start_time": "2022-09-19T04:38:37.438Z"
   },
   {
    "duration": 53,
    "start_time": "2022-09-19T04:39:40.237Z"
   },
   {
    "duration": 28,
    "start_time": "2022-09-19T04:39:49.598Z"
   },
   {
    "duration": 16,
    "start_time": "2022-09-19T04:43:53.986Z"
   },
   {
    "duration": 9,
    "start_time": "2022-09-19T04:44:17.335Z"
   },
   {
    "duration": 545,
    "start_time": "2022-09-19T04:46:20.453Z"
   },
   {
    "duration": 383,
    "start_time": "2022-09-19T04:47:37.652Z"
   },
   {
    "duration": 414,
    "start_time": "2022-09-19T04:48:03.027Z"
   },
   {
    "duration": 496,
    "start_time": "2022-09-19T04:48:28.790Z"
   },
   {
    "duration": 401,
    "start_time": "2022-09-19T04:48:31.896Z"
   },
   {
    "duration": 409,
    "start_time": "2022-09-19T04:48:36.342Z"
   },
   {
    "duration": 519,
    "start_time": "2022-09-19T04:48:46.926Z"
   },
   {
    "duration": 400,
    "start_time": "2022-09-19T04:49:29.293Z"
   },
   {
    "duration": 24,
    "start_time": "2022-09-19T04:50:53.552Z"
   },
   {
    "duration": 20,
    "start_time": "2022-09-19T04:52:17.034Z"
   },
   {
    "duration": 14,
    "start_time": "2022-09-19T04:52:37.308Z"
   },
   {
    "duration": 19,
    "start_time": "2022-09-19T04:52:44.265Z"
   },
   {
    "duration": 13,
    "start_time": "2022-09-19T04:52:51.735Z"
   },
   {
    "duration": 21,
    "start_time": "2022-09-19T04:52:58.174Z"
   },
   {
    "duration": 25,
    "start_time": "2022-09-19T04:53:17.602Z"
   },
   {
    "duration": 911,
    "start_time": "2022-09-19T04:53:47.999Z"
   },
   {
    "duration": 23,
    "start_time": "2022-09-19T04:54:01.210Z"
   },
   {
    "duration": 25,
    "start_time": "2022-09-19T04:54:45.150Z"
   },
   {
    "duration": 3,
    "start_time": "2022-09-19T04:54:53.807Z"
   },
   {
    "duration": 35,
    "start_time": "2022-09-19T04:54:53.820Z"
   },
   {
    "duration": 11,
    "start_time": "2022-09-19T04:54:53.857Z"
   },
   {
    "duration": 8,
    "start_time": "2022-09-19T04:54:53.870Z"
   },
   {
    "duration": 76,
    "start_time": "2022-09-19T04:54:53.882Z"
   },
   {
    "duration": 15,
    "start_time": "2022-09-19T04:54:53.960Z"
   },
   {
    "duration": 35,
    "start_time": "2022-09-19T04:54:53.979Z"
   },
   {
    "duration": 17,
    "start_time": "2022-09-19T04:54:54.016Z"
   },
   {
    "duration": 6,
    "start_time": "2022-09-19T04:54:54.036Z"
   },
   {
    "duration": 5,
    "start_time": "2022-09-19T04:54:54.044Z"
   },
   {
    "duration": 44,
    "start_time": "2022-09-19T04:54:54.050Z"
   },
   {
    "duration": 9,
    "start_time": "2022-09-19T04:54:54.096Z"
   },
   {
    "duration": 441,
    "start_time": "2022-09-19T04:54:54.107Z"
   },
   {
    "duration": 244,
    "start_time": "2022-09-19T04:54:54.550Z"
   },
   {
    "duration": 52,
    "start_time": "2022-09-19T04:54:54.796Z"
   },
   {
    "duration": 46,
    "start_time": "2022-09-19T04:54:54.850Z"
   },
   {
    "duration": 32,
    "start_time": "2022-09-19T04:54:54.898Z"
   },
   {
    "duration": 5,
    "start_time": "2022-09-19T04:54:54.931Z"
   },
   {
    "duration": 103,
    "start_time": "2022-09-19T04:54:54.938Z"
   },
   {
    "duration": 153,
    "start_time": "2022-09-19T04:54:55.044Z"
   },
   {
    "duration": 45,
    "start_time": "2022-09-19T04:54:55.199Z"
   },
   {
    "duration": 12,
    "start_time": "2022-09-19T04:54:55.245Z"
   },
   {
    "duration": 13,
    "start_time": "2022-09-19T04:54:55.260Z"
   },
   {
    "duration": 38,
    "start_time": "2022-09-19T04:54:55.275Z"
   },
   {
    "duration": 57,
    "start_time": "2022-09-19T04:54:55.315Z"
   },
   {
    "duration": 9,
    "start_time": "2022-09-19T04:54:55.374Z"
   },
   {
    "duration": 28,
    "start_time": "2022-09-19T04:54:55.388Z"
   },
   {
    "duration": 226,
    "start_time": "2022-09-19T04:54:55.419Z"
   },
   {
    "duration": 40,
    "start_time": "2022-09-19T04:54:55.647Z"
   },
   {
    "duration": 16,
    "start_time": "2022-09-19T04:54:55.691Z"
   },
   {
    "duration": 10,
    "start_time": "2022-09-19T04:54:55.708Z"
   },
   {
    "duration": 42,
    "start_time": "2022-09-19T04:54:55.720Z"
   },
   {
    "duration": 35,
    "start_time": "2022-09-19T04:54:55.778Z"
   },
   {
    "duration": 7,
    "start_time": "2022-09-19T04:54:55.814Z"
   },
   {
    "duration": 13,
    "start_time": "2022-09-19T04:54:55.822Z"
   },
   {
    "duration": 53,
    "start_time": "2022-09-19T04:54:55.837Z"
   },
   {
    "duration": 11,
    "start_time": "2022-09-19T04:54:55.892Z"
   },
   {
    "duration": 8,
    "start_time": "2022-09-19T04:54:55.905Z"
   },
   {
    "duration": 485,
    "start_time": "2022-09-19T04:54:55.914Z"
   },
   {
    "duration": 30,
    "start_time": "2022-09-19T04:54:56.401Z"
   },
   {
    "duration": 198,
    "start_time": "2022-09-19T04:57:54.703Z"
   },
   {
    "duration": 18,
    "start_time": "2022-09-19T04:58:20.972Z"
   },
   {
    "duration": 40,
    "start_time": "2022-09-19T04:59:50.523Z"
   },
   {
    "duration": 15,
    "start_time": "2022-09-19T04:59:59.414Z"
   },
   {
    "duration": 12,
    "start_time": "2022-09-19T05:00:16.422Z"
   },
   {
    "duration": 12,
    "start_time": "2022-09-19T05:00:38.302Z"
   },
   {
    "duration": 12,
    "start_time": "2022-09-19T05:00:49.989Z"
   },
   {
    "duration": 26,
    "start_time": "2022-09-19T05:03:11.074Z"
   },
   {
    "duration": 12,
    "start_time": "2022-09-19T05:03:18.458Z"
   },
   {
    "duration": 4,
    "start_time": "2022-09-19T05:03:27.554Z"
   },
   {
    "duration": 92,
    "start_time": "2022-09-19T05:07:40.449Z"
   },
   {
    "duration": 9,
    "start_time": "2022-09-19T05:12:07.207Z"
   },
   {
    "duration": 14,
    "start_time": "2022-09-19T05:13:10.501Z"
   },
   {
    "duration": 12,
    "start_time": "2022-09-19T05:13:16.748Z"
   },
   {
    "duration": 12,
    "start_time": "2022-09-19T05:13:35.501Z"
   },
   {
    "duration": 9,
    "start_time": "2022-09-19T05:14:14.746Z"
   },
   {
    "duration": 13,
    "start_time": "2022-09-19T05:14:16.954Z"
   },
   {
    "duration": 19,
    "start_time": "2022-09-19T05:14:30.068Z"
   },
   {
    "duration": 12,
    "start_time": "2022-09-19T05:14:32.525Z"
   },
   {
    "duration": 12,
    "start_time": "2022-09-19T05:14:34.616Z"
   },
   {
    "duration": 5,
    "start_time": "2022-09-19T05:15:18.219Z"
   },
   {
    "duration": 8,
    "start_time": "2022-09-19T05:17:15.610Z"
   },
   {
    "duration": 3,
    "start_time": "2022-09-19T05:17:43.665Z"
   },
   {
    "duration": 8,
    "start_time": "2022-09-19T05:17:45.700Z"
   },
   {
    "duration": 8,
    "start_time": "2022-09-19T05:17:49.889Z"
   },
   {
    "duration": 6,
    "start_time": "2022-09-19T05:17:54.710Z"
   },
   {
    "duration": 6,
    "start_time": "2022-09-19T05:18:38.449Z"
   },
   {
    "duration": 13,
    "start_time": "2022-09-19T05:18:47.312Z"
   },
   {
    "duration": 13,
    "start_time": "2022-09-19T05:19:01.088Z"
   },
   {
    "duration": 5,
    "start_time": "2022-09-19T05:19:16.318Z"
   },
   {
    "duration": 13,
    "start_time": "2022-09-19T05:19:18.377Z"
   },
   {
    "duration": 12,
    "start_time": "2022-09-19T05:19:20.798Z"
   },
   {
    "duration": 12,
    "start_time": "2022-09-19T05:22:39.085Z"
   },
   {
    "duration": 1255,
    "start_time": "2022-09-19T10:26:10.632Z"
   },
   {
    "duration": 70,
    "start_time": "2022-09-19T10:26:11.889Z"
   },
   {
    "duration": 10,
    "start_time": "2022-09-19T10:26:11.960Z"
   },
   {
    "duration": 16,
    "start_time": "2022-09-19T10:26:11.972Z"
   },
   {
    "duration": 200,
    "start_time": "2022-09-19T10:26:11.990Z"
   },
   {
    "duration": 14,
    "start_time": "2022-09-19T10:26:12.191Z"
   },
   {
    "duration": 39,
    "start_time": "2022-09-19T10:26:12.207Z"
   },
   {
    "duration": 13,
    "start_time": "2022-09-19T10:26:12.247Z"
   },
   {
    "duration": 9,
    "start_time": "2022-09-19T10:26:12.262Z"
   },
   {
    "duration": 15,
    "start_time": "2022-09-19T10:26:12.273Z"
   },
   {
    "duration": 18,
    "start_time": "2022-09-19T10:26:12.290Z"
   },
   {
    "duration": 19,
    "start_time": "2022-09-19T10:26:12.310Z"
   },
   {
    "duration": 561,
    "start_time": "2022-09-19T10:26:12.331Z"
   },
   {
    "duration": 220,
    "start_time": "2022-09-19T10:26:12.894Z"
   },
   {
    "duration": 49,
    "start_time": "2022-09-19T10:26:13.116Z"
   },
   {
    "duration": 23,
    "start_time": "2022-09-19T10:26:13.166Z"
   },
   {
    "duration": 30,
    "start_time": "2022-09-19T10:26:13.201Z"
   },
   {
    "duration": 7,
    "start_time": "2022-09-19T10:26:13.232Z"
   },
   {
    "duration": 93,
    "start_time": "2022-09-19T10:26:13.241Z"
   },
   {
    "duration": 128,
    "start_time": "2022-09-19T10:26:13.335Z"
   },
   {
    "duration": 75,
    "start_time": "2022-09-19T10:26:13.464Z"
   },
   {
    "duration": 8,
    "start_time": "2022-09-19T10:26:13.541Z"
   },
   {
    "duration": 22,
    "start_time": "2022-09-19T10:26:13.551Z"
   },
   {
    "duration": 13,
    "start_time": "2022-09-19T10:26:13.575Z"
   },
   {
    "duration": 38,
    "start_time": "2022-09-19T10:26:13.590Z"
   },
   {
    "duration": 4,
    "start_time": "2022-09-19T10:26:13.630Z"
   },
   {
    "duration": 8,
    "start_time": "2022-09-19T10:26:13.636Z"
   },
   {
    "duration": 228,
    "start_time": "2022-09-19T10:26:13.647Z"
   },
   {
    "duration": 33,
    "start_time": "2022-09-19T10:26:13.876Z"
   },
   {
    "duration": 14,
    "start_time": "2022-09-19T10:26:13.910Z"
   },
   {
    "duration": 8,
    "start_time": "2022-09-19T10:26:13.926Z"
   },
   {
    "duration": 35,
    "start_time": "2022-09-19T10:26:13.936Z"
   },
   {
    "duration": 53,
    "start_time": "2022-09-19T10:26:13.973Z"
   },
   {
    "duration": 7,
    "start_time": "2022-09-19T10:26:14.028Z"
   },
   {
    "duration": 11,
    "start_time": "2022-09-19T10:26:14.037Z"
   },
   {
    "duration": 29,
    "start_time": "2022-09-19T10:26:14.050Z"
   },
   {
    "duration": 11,
    "start_time": "2022-09-19T10:26:14.101Z"
   },
   {
    "duration": 8,
    "start_time": "2022-09-19T10:26:14.114Z"
   },
   {
    "duration": 532,
    "start_time": "2022-09-19T10:26:14.124Z"
   },
   {
    "duration": 25,
    "start_time": "2022-09-19T10:26:14.658Z"
   },
   {
    "duration": 1037,
    "start_time": "2022-09-19T10:26:14.685Z"
   },
   {
    "duration": 6,
    "start_time": "2022-09-19T10:26:15.724Z"
   },
   {
    "duration": 7,
    "start_time": "2022-09-19T10:26:15.732Z"
   },
   {
    "duration": 8,
    "start_time": "2022-09-19T10:52:48.245Z"
   },
   {
    "duration": 11,
    "start_time": "2022-09-19T10:53:28.800Z"
   },
   {
    "duration": 4,
    "start_time": "2022-09-19T10:53:53.661Z"
   },
   {
    "duration": 104,
    "start_time": "2022-09-19T10:54:00.641Z"
   },
   {
    "duration": 5,
    "start_time": "2022-09-19T10:54:42.252Z"
   },
   {
    "duration": 11,
    "start_time": "2022-09-19T10:54:47.343Z"
   },
   {
    "duration": 17,
    "start_time": "2022-09-19T10:55:18.316Z"
   },
   {
    "duration": 7,
    "start_time": "2022-09-19T10:55:25.999Z"
   },
   {
    "duration": 17,
    "start_time": "2022-09-19T10:55:28.011Z"
   },
   {
    "duration": 7,
    "start_time": "2022-09-19T10:55:48.765Z"
   },
   {
    "duration": 16,
    "start_time": "2022-09-19T10:55:50.310Z"
   },
   {
    "duration": 5,
    "start_time": "2022-09-19T10:56:07.318Z"
   },
   {
    "duration": 8,
    "start_time": "2022-09-19T10:56:09.047Z"
   },
   {
    "duration": 1085,
    "start_time": "2022-09-19T14:07:37.105Z"
   },
   {
    "duration": 78,
    "start_time": "2022-09-19T14:07:38.191Z"
   },
   {
    "duration": 9,
    "start_time": "2022-09-19T14:07:38.270Z"
   },
   {
    "duration": 10,
    "start_time": "2022-09-19T14:07:38.281Z"
   },
   {
    "duration": 182,
    "start_time": "2022-09-19T14:07:38.292Z"
   },
   {
    "duration": 15,
    "start_time": "2022-09-19T14:07:38.475Z"
   },
   {
    "duration": 37,
    "start_time": "2022-09-19T14:07:38.491Z"
   },
   {
    "duration": 12,
    "start_time": "2022-09-19T14:07:38.530Z"
   },
   {
    "duration": 4,
    "start_time": "2022-09-19T14:07:38.544Z"
   },
   {
    "duration": 8,
    "start_time": "2022-09-19T14:07:38.550Z"
   },
   {
    "duration": 13,
    "start_time": "2022-09-19T14:07:38.560Z"
   },
   {
    "duration": 18,
    "start_time": "2022-09-19T14:07:38.574Z"
   },
   {
    "duration": 573,
    "start_time": "2022-09-19T14:07:38.594Z"
   },
   {
    "duration": 232,
    "start_time": "2022-09-19T14:07:39.169Z"
   },
   {
    "duration": 52,
    "start_time": "2022-09-19T14:07:39.402Z"
   },
   {
    "duration": 27,
    "start_time": "2022-09-19T14:07:39.455Z"
   },
   {
    "duration": 47,
    "start_time": "2022-09-19T14:07:39.484Z"
   },
   {
    "duration": 8,
    "start_time": "2022-09-19T14:07:39.532Z"
   },
   {
    "duration": 105,
    "start_time": "2022-09-19T14:07:39.541Z"
   },
   {
    "duration": 118,
    "start_time": "2022-09-19T14:07:39.648Z"
   },
   {
    "duration": 80,
    "start_time": "2022-09-19T14:07:39.768Z"
   },
   {
    "duration": 8,
    "start_time": "2022-09-19T14:07:39.849Z"
   },
   {
    "duration": 12,
    "start_time": "2022-09-19T14:07:39.859Z"
   },
   {
    "duration": 14,
    "start_time": "2022-09-19T14:07:39.872Z"
   },
   {
    "duration": 46,
    "start_time": "2022-09-19T14:07:39.888Z"
   },
   {
    "duration": 4,
    "start_time": "2022-09-19T14:07:39.935Z"
   },
   {
    "duration": 13,
    "start_time": "2022-09-19T14:07:39.941Z"
   },
   {
    "duration": 221,
    "start_time": "2022-09-19T14:07:39.957Z"
   },
   {
    "duration": 33,
    "start_time": "2022-09-19T14:07:40.179Z"
   },
   {
    "duration": 16,
    "start_time": "2022-09-19T14:07:40.214Z"
   },
   {
    "duration": 9,
    "start_time": "2022-09-19T14:07:40.231Z"
   },
   {
    "duration": 46,
    "start_time": "2022-09-19T14:07:40.241Z"
   },
   {
    "duration": 42,
    "start_time": "2022-09-19T14:07:40.289Z"
   },
   {
    "duration": 6,
    "start_time": "2022-09-19T14:07:40.333Z"
   },
   {
    "duration": 13,
    "start_time": "2022-09-19T14:07:40.340Z"
   },
   {
    "duration": 24,
    "start_time": "2022-09-19T14:07:40.355Z"
   },
   {
    "duration": 32,
    "start_time": "2022-09-19T14:07:40.380Z"
   },
   {
    "duration": 8,
    "start_time": "2022-09-19T14:07:40.413Z"
   },
   {
    "duration": 427,
    "start_time": "2022-09-19T14:07:40.422Z"
   },
   {
    "duration": 22,
    "start_time": "2022-09-19T14:07:40.850Z"
   },
   {
    "duration": 355,
    "start_time": "2022-09-19T14:07:40.873Z"
   },
   {
    "duration": 8,
    "start_time": "2022-09-19T14:07:41.230Z"
   },
   {
    "duration": 19,
    "start_time": "2022-09-19T14:07:41.239Z"
   },
   {
    "duration": 5,
    "start_time": "2022-09-19T14:07:41.260Z"
   },
   {
    "duration": 47,
    "start_time": "2022-09-19T14:07:41.267Z"
   },
   {
    "duration": 1354,
    "start_time": "2022-09-20T09:30:54.456Z"
   },
   {
    "duration": 80,
    "start_time": "2022-09-20T09:30:55.812Z"
   },
   {
    "duration": 13,
    "start_time": "2022-09-20T09:30:55.894Z"
   },
   {
    "duration": 31,
    "start_time": "2022-09-20T09:30:55.911Z"
   },
   {
    "duration": 209,
    "start_time": "2022-09-20T09:30:55.944Z"
   },
   {
    "duration": 18,
    "start_time": "2022-09-20T09:30:56.154Z"
   },
   {
    "duration": 47,
    "start_time": "2022-09-20T09:30:56.174Z"
   },
   {
    "duration": 14,
    "start_time": "2022-09-20T09:30:56.223Z"
   },
   {
    "duration": 15,
    "start_time": "2022-09-20T09:30:56.239Z"
   },
   {
    "duration": 29,
    "start_time": "2022-09-20T09:30:56.257Z"
   },
   {
    "duration": 24,
    "start_time": "2022-09-20T09:30:56.287Z"
   },
   {
    "duration": 33,
    "start_time": "2022-09-20T09:30:56.313Z"
   },
   {
    "duration": 646,
    "start_time": "2022-09-20T09:30:56.347Z"
   },
   {
    "duration": 284,
    "start_time": "2022-09-20T09:30:56.995Z"
   },
   {
    "duration": 63,
    "start_time": "2022-09-20T09:30:57.281Z"
   },
   {
    "duration": 58,
    "start_time": "2022-09-20T09:30:57.346Z"
   },
   {
    "duration": 36,
    "start_time": "2022-09-20T09:30:57.406Z"
   },
   {
    "duration": 9,
    "start_time": "2022-09-20T09:30:57.443Z"
   },
   {
    "duration": 109,
    "start_time": "2022-09-20T09:30:57.454Z"
   },
   {
    "duration": 141,
    "start_time": "2022-09-20T09:30:57.565Z"
   },
   {
    "duration": 82,
    "start_time": "2022-09-20T09:30:57.707Z"
   },
   {
    "duration": 10,
    "start_time": "2022-09-20T09:30:57.790Z"
   },
   {
    "duration": 45,
    "start_time": "2022-09-20T09:30:57.802Z"
   },
   {
    "duration": 47,
    "start_time": "2022-09-20T09:30:57.849Z"
   },
   {
    "duration": 64,
    "start_time": "2022-09-20T09:30:57.898Z"
   },
   {
    "duration": 5,
    "start_time": "2022-09-20T09:30:57.964Z"
   },
   {
    "duration": 25,
    "start_time": "2022-09-20T09:30:57.970Z"
   },
   {
    "duration": 272,
    "start_time": "2022-09-20T09:30:57.999Z"
   },
   {
    "duration": 34,
    "start_time": "2022-09-20T09:30:58.273Z"
   },
   {
    "duration": 10,
    "start_time": "2022-09-20T09:30:58.321Z"
   },
   {
    "duration": 41,
    "start_time": "2022-09-20T09:30:58.333Z"
   },
   {
    "duration": 55,
    "start_time": "2022-09-20T09:30:58.376Z"
   },
   {
    "duration": 8,
    "start_time": "2022-09-20T09:30:58.433Z"
   },
   {
    "duration": 11,
    "start_time": "2022-09-20T09:30:58.443Z"
   },
   {
    "duration": 28,
    "start_time": "2022-09-20T09:30:58.456Z"
   },
   {
    "duration": 38,
    "start_time": "2022-09-20T09:30:58.485Z"
   },
   {
    "duration": 9,
    "start_time": "2022-09-20T09:30:58.525Z"
   },
   {
    "duration": 574,
    "start_time": "2022-09-20T09:30:58.536Z"
   },
   {
    "duration": 37,
    "start_time": "2022-09-20T09:30:59.112Z"
   },
   {
    "duration": 196,
    "start_time": "2022-09-20T09:30:59.151Z"
   },
   {
    "duration": 11,
    "start_time": "2022-09-20T09:30:59.349Z"
   },
   {
    "duration": 21,
    "start_time": "2022-09-20T09:30:59.361Z"
   },
   {
    "duration": 6,
    "start_time": "2022-09-20T09:30:59.384Z"
   },
   {
    "duration": 10,
    "start_time": "2022-09-20T09:30:59.423Z"
   },
   {
    "duration": 108,
    "start_time": "2022-09-20T09:34:02.855Z"
   },
   {
    "duration": 3,
    "start_time": "2022-09-20T09:34:11.080Z"
   },
   {
    "duration": 33,
    "start_time": "2022-09-20T09:34:11.095Z"
   },
   {
    "duration": 11,
    "start_time": "2022-09-20T09:34:11.130Z"
   },
   {
    "duration": 15,
    "start_time": "2022-09-20T09:34:11.143Z"
   },
   {
    "duration": 163,
    "start_time": "2022-09-20T09:34:11.160Z"
   },
   {
    "duration": 19,
    "start_time": "2022-09-20T09:34:11.324Z"
   },
   {
    "duration": 50,
    "start_time": "2022-09-20T09:34:11.344Z"
   },
   {
    "duration": 28,
    "start_time": "2022-09-20T09:34:11.395Z"
   },
   {
    "duration": 4,
    "start_time": "2022-09-20T09:34:11.426Z"
   },
   {
    "duration": 8,
    "start_time": "2022-09-20T09:34:11.432Z"
   },
   {
    "duration": 20,
    "start_time": "2022-09-20T09:34:11.442Z"
   },
   {
    "duration": 15,
    "start_time": "2022-09-20T09:34:11.464Z"
   },
   {
    "duration": 510,
    "start_time": "2022-09-20T09:34:11.481Z"
   },
   {
    "duration": 304,
    "start_time": "2022-09-20T09:34:11.993Z"
   },
   {
    "duration": 60,
    "start_time": "2022-09-20T09:34:12.299Z"
   },
   {
    "duration": 26,
    "start_time": "2022-09-20T09:34:12.360Z"
   },
   {
    "duration": 56,
    "start_time": "2022-09-20T09:34:12.388Z"
   },
   {
    "duration": 5,
    "start_time": "2022-09-20T09:34:12.446Z"
   },
   {
    "duration": 95,
    "start_time": "2022-09-20T09:34:12.453Z"
   },
   {
    "duration": 145,
    "start_time": "2022-09-20T09:34:12.553Z"
   },
   {
    "duration": 45,
    "start_time": "2022-09-20T09:34:12.701Z"
   },
   {
    "duration": 12,
    "start_time": "2022-09-20T09:34:12.748Z"
   },
   {
    "duration": 12,
    "start_time": "2022-09-20T09:34:12.762Z"
   },
   {
    "duration": 17,
    "start_time": "2022-09-20T09:34:12.777Z"
   },
   {
    "duration": 80,
    "start_time": "2022-09-20T09:34:12.796Z"
   },
   {
    "duration": 5,
    "start_time": "2022-09-20T09:34:12.878Z"
   },
   {
    "duration": 11,
    "start_time": "2022-09-20T09:34:12.885Z"
   },
   {
    "duration": 282,
    "start_time": "2022-09-20T09:34:12.897Z"
   },
   {
    "duration": 48,
    "start_time": "2022-09-20T09:34:13.181Z"
   },
   {
    "duration": 8,
    "start_time": "2022-09-20T09:34:13.231Z"
   },
   {
    "duration": 13,
    "start_time": "2022-09-20T09:34:13.241Z"
   },
   {
    "duration": 44,
    "start_time": "2022-09-20T09:34:13.255Z"
   },
   {
    "duration": 54,
    "start_time": "2022-09-20T09:34:13.301Z"
   },
   {
    "duration": 10,
    "start_time": "2022-09-20T09:34:13.356Z"
   },
   {
    "duration": 12,
    "start_time": "2022-09-20T09:34:13.367Z"
   },
   {
    "duration": 58,
    "start_time": "2022-09-20T09:34:13.380Z"
   },
   {
    "duration": 12,
    "start_time": "2022-09-20T09:34:13.440Z"
   },
   {
    "duration": 28,
    "start_time": "2022-09-20T09:34:13.454Z"
   },
   {
    "duration": 458,
    "start_time": "2022-09-20T09:34:13.484Z"
   },
   {
    "duration": 28,
    "start_time": "2022-09-20T09:34:13.943Z"
   },
   {
    "duration": 13,
    "start_time": "2022-09-20T09:34:13.973Z"
   },
   {
    "duration": 38,
    "start_time": "2022-09-20T09:34:13.988Z"
   },
   {
    "duration": 17,
    "start_time": "2022-09-20T09:34:14.029Z"
   },
   {
    "duration": 8,
    "start_time": "2022-09-20T09:34:14.048Z"
   },
   {
    "duration": 19,
    "start_time": "2022-09-20T09:34:14.058Z"
   },
   {
    "duration": 10,
    "start_time": "2022-09-20T09:34:26.654Z"
   },
   {
    "duration": 40,
    "start_time": "2022-09-20T09:35:29.619Z"
   },
   {
    "duration": 35,
    "start_time": "2022-09-20T09:36:38.640Z"
   },
   {
    "duration": 52,
    "start_time": "2022-09-20T09:36:54.999Z"
   },
   {
    "duration": 43,
    "start_time": "2022-09-20T09:37:13.307Z"
   },
   {
    "duration": 41,
    "start_time": "2022-09-20T09:37:43.865Z"
   },
   {
    "duration": 73,
    "start_time": "2022-09-20T09:44:38.229Z"
   },
   {
    "duration": 70,
    "start_time": "2022-09-20T09:45:08.403Z"
   },
   {
    "duration": 4,
    "start_time": "2022-09-20T09:45:22.686Z"
   },
   {
    "duration": 47,
    "start_time": "2022-09-20T09:45:22.701Z"
   },
   {
    "duration": 10,
    "start_time": "2022-09-20T09:45:22.750Z"
   },
   {
    "duration": 7,
    "start_time": "2022-09-20T09:45:22.762Z"
   },
   {
    "duration": 85,
    "start_time": "2022-09-20T09:45:22.772Z"
   },
   {
    "duration": 21,
    "start_time": "2022-09-20T09:45:22.859Z"
   },
   {
    "duration": 57,
    "start_time": "2022-09-20T09:45:22.882Z"
   },
   {
    "duration": 12,
    "start_time": "2022-09-20T09:45:22.941Z"
   },
   {
    "duration": 5,
    "start_time": "2022-09-20T09:45:22.955Z"
   },
   {
    "duration": 5,
    "start_time": "2022-09-20T09:45:22.963Z"
   },
   {
    "duration": 12,
    "start_time": "2022-09-20T09:45:22.970Z"
   },
   {
    "duration": 49,
    "start_time": "2022-09-20T09:45:22.984Z"
   },
   {
    "duration": 530,
    "start_time": "2022-09-20T09:45:23.036Z"
   },
   {
    "duration": 275,
    "start_time": "2022-09-20T09:45:23.568Z"
   },
   {
    "duration": 110,
    "start_time": "2022-09-20T09:45:23.845Z"
   },
   {
    "duration": 26,
    "start_time": "2022-09-20T09:45:23.957Z"
   },
   {
    "duration": 60,
    "start_time": "2022-09-20T09:45:23.985Z"
   },
   {
    "duration": 6,
    "start_time": "2022-09-20T09:45:24.047Z"
   },
   {
    "duration": 132,
    "start_time": "2022-09-20T09:45:24.055Z"
   },
   {
    "duration": 185,
    "start_time": "2022-09-20T09:45:24.189Z"
   },
   {
    "duration": 45,
    "start_time": "2022-09-20T09:45:24.376Z"
   },
   {
    "duration": 17,
    "start_time": "2022-09-20T09:45:24.423Z"
   },
   {
    "duration": 26,
    "start_time": "2022-09-20T09:45:24.443Z"
   },
   {
    "duration": 19,
    "start_time": "2022-09-20T09:45:24.475Z"
   },
   {
    "duration": 77,
    "start_time": "2022-09-20T09:45:24.497Z"
   },
   {
    "duration": 6,
    "start_time": "2022-09-20T09:45:24.576Z"
   },
   {
    "duration": 7,
    "start_time": "2022-09-20T09:45:24.585Z"
   },
   {
    "duration": 323,
    "start_time": "2022-09-20T09:45:24.594Z"
   },
   {
    "duration": 47,
    "start_time": "2022-09-20T09:45:24.920Z"
   },
   {
    "duration": 84,
    "start_time": "2022-09-20T09:45:24.970Z"
   },
   {
    "duration": 12,
    "start_time": "2022-09-20T09:45:25.055Z"
   },
   {
    "duration": 88,
    "start_time": "2022-09-20T09:45:25.069Z"
   },
   {
    "duration": 35,
    "start_time": "2022-09-20T09:45:25.159Z"
   },
   {
    "duration": 8,
    "start_time": "2022-09-20T09:45:25.197Z"
   },
   {
    "duration": 39,
    "start_time": "2022-09-20T09:45:25.207Z"
   },
   {
    "duration": 33,
    "start_time": "2022-09-20T09:45:25.248Z"
   },
   {
    "duration": 18,
    "start_time": "2022-09-20T09:45:25.282Z"
   },
   {
    "duration": 17,
    "start_time": "2022-09-20T09:45:25.302Z"
   },
   {
    "duration": 449,
    "start_time": "2022-09-20T09:45:25.321Z"
   },
   {
    "duration": 25,
    "start_time": "2022-09-20T09:45:25.772Z"
   },
   {
    "duration": 32,
    "start_time": "2022-09-20T09:45:25.799Z"
   },
   {
    "duration": 44,
    "start_time": "2022-09-20T09:45:25.833Z"
   },
   {
    "duration": 32,
    "start_time": "2022-09-20T09:45:25.879Z"
   },
   {
    "duration": 8,
    "start_time": "2022-09-20T09:45:25.913Z"
   },
   {
    "duration": 64,
    "start_time": "2022-09-20T09:45:25.923Z"
   },
   {
    "duration": 71695,
    "start_time": "2022-09-20T09:50:12.139Z"
   },
   {
    "duration": 21,
    "start_time": "2022-09-20T09:55:14.552Z"
   },
   {
    "duration": 4,
    "start_time": "2022-09-20T09:56:09.715Z"
   },
   {
    "duration": 12,
    "start_time": "2022-09-20T09:56:18.137Z"
   },
   {
    "duration": 18,
    "start_time": "2022-09-20T09:56:27.333Z"
   },
   {
    "duration": 3,
    "start_time": "2022-09-20T09:56:52.605Z"
   },
   {
    "duration": 16,
    "start_time": "2022-09-20T09:57:01.589Z"
   },
   {
    "duration": 13,
    "start_time": "2022-09-20T09:57:26.974Z"
   },
   {
    "duration": 14,
    "start_time": "2022-09-20T09:57:37.174Z"
   },
   {
    "duration": 10,
    "start_time": "2022-09-20T09:58:02.447Z"
   },
   {
    "duration": 14,
    "start_time": "2022-09-20T09:58:08.395Z"
   },
   {
    "duration": 385,
    "start_time": "2022-09-20T09:58:38.210Z"
   },
   {
    "duration": 249,
    "start_time": "2022-09-20T09:58:48.693Z"
   },
   {
    "duration": 234,
    "start_time": "2022-09-20T09:59:12.349Z"
   },
   {
    "duration": 535,
    "start_time": "2022-09-20T09:59:43.497Z"
   },
   {
    "duration": 519,
    "start_time": "2022-09-20T09:59:58.856Z"
   },
   {
    "duration": 389,
    "start_time": "2022-09-20T10:00:08.173Z"
   },
   {
    "duration": 289,
    "start_time": "2022-09-20T10:00:15.116Z"
   },
   {
    "duration": 314,
    "start_time": "2022-09-20T10:01:15.776Z"
   },
   {
    "duration": 167,
    "start_time": "2022-09-20T10:01:19.766Z"
   },
   {
    "duration": 145,
    "start_time": "2022-09-20T10:01:26.221Z"
   },
   {
    "duration": 364,
    "start_time": "2022-09-20T10:44:55.231Z"
   },
   {
    "duration": 381,
    "start_time": "2022-09-20T10:45:21.117Z"
   },
   {
    "duration": 476,
    "start_time": "2022-09-20T10:45:32.619Z"
   },
   {
    "duration": 223,
    "start_time": "2022-09-20T10:45:45.547Z"
   },
   {
    "duration": 228,
    "start_time": "2022-09-20T10:45:56.132Z"
   },
   {
    "duration": 496,
    "start_time": "2022-09-20T10:46:12.718Z"
   },
   {
    "duration": 234,
    "start_time": "2022-09-20T10:46:21.155Z"
   },
   {
    "duration": 489,
    "start_time": "2022-09-20T10:46:29.077Z"
   },
   {
    "duration": 226,
    "start_time": "2022-09-20T10:46:31.959Z"
   },
   {
    "duration": 463,
    "start_time": "2022-09-20T10:46:35.033Z"
   },
   {
    "duration": 1419,
    "start_time": "2022-09-20T10:46:42.858Z"
   },
   {
    "duration": 454,
    "start_time": "2022-09-20T10:46:50.235Z"
   },
   {
    "duration": 322,
    "start_time": "2022-09-20T10:47:38.834Z"
   },
   {
    "duration": 458,
    "start_time": "2022-09-20T10:48:10.186Z"
   },
   {
    "duration": 467,
    "start_time": "2022-09-20T10:53:43.742Z"
   },
   {
    "duration": 122,
    "start_time": "2022-09-20T10:54:06.714Z"
   },
   {
    "duration": 198,
    "start_time": "2022-09-20T10:54:18.354Z"
   },
   {
    "duration": 187,
    "start_time": "2022-09-20T10:55:05.131Z"
   },
   {
    "duration": 218,
    "start_time": "2022-09-20T10:55:32.592Z"
   },
   {
    "duration": 433,
    "start_time": "2022-09-20T10:57:29.577Z"
   },
   {
    "duration": 229,
    "start_time": "2022-09-20T10:57:45.183Z"
   },
   {
    "duration": 248,
    "start_time": "2022-09-20T10:57:48.200Z"
   },
   {
    "duration": 239,
    "start_time": "2022-09-20T10:57:51.081Z"
   },
   {
    "duration": 243,
    "start_time": "2022-09-20T10:57:58.163Z"
   },
   {
    "duration": 291,
    "start_time": "2022-09-20T10:58:01.668Z"
   },
   {
    "duration": 331,
    "start_time": "2022-09-20T10:58:08.909Z"
   },
   {
    "duration": 266,
    "start_time": "2022-09-20T10:59:03.162Z"
   },
   {
    "duration": 271,
    "start_time": "2022-09-20T10:59:09.677Z"
   },
   {
    "duration": 280,
    "start_time": "2022-09-20T10:59:25.544Z"
   },
   {
    "duration": 464,
    "start_time": "2022-09-20T10:59:29.184Z"
   },
   {
    "duration": 330,
    "start_time": "2022-09-20T10:59:38.628Z"
   },
   {
    "duration": 302,
    "start_time": "2022-09-20T10:59:44.877Z"
   },
   {
    "duration": 257,
    "start_time": "2022-09-20T10:59:53.994Z"
   },
   {
    "duration": 261,
    "start_time": "2022-09-20T10:59:58.495Z"
   },
   {
    "duration": 284,
    "start_time": "2022-09-20T11:00:04.804Z"
   },
   {
    "duration": 266,
    "start_time": "2022-09-20T11:00:20.615Z"
   },
   {
    "duration": 286,
    "start_time": "2022-09-20T11:00:28.553Z"
   }
  ],
  "kernelspec": {
   "display_name": "Python 3 (ipykernel)",
   "language": "python",
   "name": "python3"
  },
  "language_info": {
   "codemirror_mode": {
    "name": "ipython",
    "version": 3
   },
   "file_extension": ".py",
   "mimetype": "text/x-python",
   "name": "python",
   "nbconvert_exporter": "python",
   "pygments_lexer": "ipython3",
   "version": "3.9.7"
  },
  "toc": {
   "base_numbering": 1,
   "nav_menu": {},
   "number_sections": true,
   "sideBar": true,
   "skip_h1_title": true,
   "title_cell": "Table of Contents",
   "title_sidebar": "Contents",
   "toc_cell": false,
   "toc_position": {},
   "toc_section_display": true,
   "toc_window_display": false
  }
 },
 "nbformat": 4,
 "nbformat_minor": 2
}
